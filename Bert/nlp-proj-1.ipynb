{
 "cells": [
  {
   "cell_type": "code",
   "execution_count": 1,
   "metadata": {
    "execution": {
     "iopub.execute_input": "2020-10-24T13:05:00.852898Z",
     "iopub.status.busy": "2020-10-24T13:05:00.852086Z",
     "iopub.status.idle": "2020-10-24T13:05:18.875892Z",
     "shell.execute_reply": "2020-10-24T13:05:18.874504Z"
    },
    "id": "iLoeOFPPldnP",
    "outputId": "883f2c7d-214e-4cf7-b23e-374b0524566e",
    "papermill": {
     "duration": 18.111594,
     "end_time": "2020-10-24T13:05:18.876039",
     "exception": false,
     "start_time": "2020-10-24T13:05:00.764445",
     "status": "completed"
    },
    "tags": []
   },
   "outputs": [
    {
     "name": "stdout",
     "output_type": "stream",
     "text": [
      "Collecting indic-nlp-library\r\n",
      "  Downloading indic_nlp_library-0.71-py3-none-any.whl (38 kB)\r\n",
      "Requirement already satisfied: pandas in /opt/conda/lib/python3.7/site-packages (from indic-nlp-library) (1.1.3)\r\n",
      "Collecting morfessor\r\n",
      "  Downloading Morfessor-2.0.6-py3-none-any.whl (35 kB)\r\n",
      "Requirement already satisfied: numpy in /opt/conda/lib/python3.7/site-packages (from indic-nlp-library) (1.18.5)\r\n",
      "Requirement already satisfied: pytz>=2017.2 in /opt/conda/lib/python3.7/site-packages (from pandas->indic-nlp-library) (2019.3)\r\n",
      "Requirement already satisfied: python-dateutil>=2.7.3 in /opt/conda/lib/python3.7/site-packages (from pandas->indic-nlp-library) (2.8.1)\r\n",
      "Requirement already satisfied: six>=1.5 in /opt/conda/lib/python3.7/site-packages (from python-dateutil>=2.7.3->pandas->indic-nlp-library) (1.14.0)\r\n",
      "Installing collected packages: morfessor, indic-nlp-library\r\n",
      "Successfully installed indic-nlp-library-0.71 morfessor-2.0.6\r\n",
      "Requirement already satisfied: scikit-multilearn in /opt/conda/lib/python3.7/site-packages (0.2.0)\r\n"
     ]
    }
   ],
   "source": [
    "!pip install indic-nlp-library\n",
    "!pip install scikit-multilearn"
   ]
  },
  {
   "cell_type": "code",
   "execution_count": 2,
   "metadata": {
    "execution": {
     "iopub.execute_input": "2020-10-24T13:05:19.059138Z",
     "iopub.status.busy": "2020-10-24T13:05:19.055949Z",
     "iopub.status.idle": "2020-10-24T13:05:26.266499Z",
     "shell.execute_reply": "2020-10-24T13:05:26.265568Z"
    },
    "id": "rXOobmQ2mIDf",
    "outputId": "6cd7088d-f0a1-45cf-81b4-8bf6271070e4",
    "papermill": {
     "duration": 7.303503,
     "end_time": "2020-10-24T13:05:26.266672",
     "exception": false,
     "start_time": "2020-10-24T13:05:18.963169",
     "status": "completed"
    },
    "tags": []
   },
   "outputs": [
    {
     "name": "stdout",
     "output_type": "stream",
     "text": [
      "Cloning into 'indic_nlp_resources'...\r\n",
      "remote: Enumerating objects: 7, done.\u001b[K\r\n",
      "remote: Counting objects: 100% (7/7), done.\u001b[K\r\n",
      "remote: Compressing objects: 100% (7/7), done.\u001b[K\r\n",
      "remote: Total 133 (delta 0), reused 2 (delta 0), pack-reused 126\u001b[K\r\n",
      "Receiving objects: 100% (133/133), 149.77 MiB | 36.25 MiB/s, done.\r\n",
      "Resolving deltas: 100% (51/51), done.\r\n"
     ]
    }
   ],
   "source": [
    "!git clone https://github.com/anoopkunchukuttan/indic_nlp_resources.git"
   ]
  },
  {
   "cell_type": "code",
   "execution_count": 3,
   "metadata": {
    "execution": {
     "iopub.execute_input": "2020-10-24T13:05:26.576031Z",
     "iopub.status.busy": "2020-10-24T13:05:26.574915Z",
     "iopub.status.idle": "2020-10-24T13:05:26.583077Z",
     "shell.execute_reply": "2020-10-24T13:05:26.583870Z"
    },
    "id": "O7maoduMmP5i",
    "papermill": {
     "duration": 0.15623,
     "end_time": "2020-10-24T13:05:26.584057",
     "exception": false,
     "start_time": "2020-10-24T13:05:26.427827",
     "status": "completed"
    },
    "tags": []
   },
   "outputs": [],
   "source": [
    "import sys\n",
    "from indicnlp import common\n",
    "\n",
    "# The path to the local git repo for Indic NLP library\n",
    "INDIC_NLP_LIB_HOME=r\"indic_nlp_library\"\n",
    "\n",
    "# The path to the local git repo for Indic NLP Resources\n",
    "INDIC_NLP_RESOURCES=r\"indic_nlp_resources\"\n",
    "\n",
    "# Add library to Python path\n",
    "sys.path.append(r'{}\\src'.format(INDIC_NLP_LIB_HOME))\n",
    "\n",
    "# Set environment variable for resources folder\n",
    "common.set_resources_path(INDIC_NLP_RESOURCES)"
   ]
  },
  {
   "cell_type": "code",
   "execution_count": 4,
   "metadata": {
    "execution": {
     "iopub.execute_input": "2020-10-24T13:05:26.889762Z",
     "iopub.status.busy": "2020-10-24T13:05:26.889004Z",
     "iopub.status.idle": "2020-10-24T13:05:28.086163Z",
     "shell.execute_reply": "2020-10-24T13:05:28.084885Z"
    },
    "id": "jyDODoaWC6KI",
    "papermill": {
     "duration": 1.361025,
     "end_time": "2020-10-24T13:05:28.086292",
     "exception": false,
     "start_time": "2020-10-24T13:05:26.725267",
     "status": "completed"
    },
    "tags": []
   },
   "outputs": [],
   "source": [
    "import numpy as np\n",
    "import pandas as pd\n",
    "import csv\n",
    "from indicnlp.tokenize import sentence_tokenize, indic_tokenize\n",
    "from collections import defaultdict\n",
    "from sklearn.metrics import accuracy_score\n",
    "from sklearn.metrics import classification_report"
   ]
  },
  {
   "cell_type": "code",
   "execution_count": 5,
   "metadata": {
    "execution": {
     "iopub.execute_input": "2020-10-24T13:05:28.290481Z",
     "iopub.status.busy": "2020-10-24T13:05:28.288633Z",
     "iopub.status.idle": "2020-10-24T13:05:28.291163Z",
     "shell.execute_reply": "2020-10-24T13:05:28.291674Z"
    },
    "papermill": {
     "duration": 0.104107,
     "end_time": "2020-10-24T13:05:28.291794",
     "exception": false,
     "start_time": "2020-10-24T13:05:28.187687",
     "status": "completed"
    },
    "tags": []
   },
   "outputs": [],
   "source": [
    "train_file = '../input/nlp-project-hindi/train.csv'\n",
    "val_file = '../input/nlp-project-hindi/val.csv'"
   ]
  },
  {
   "cell_type": "code",
   "execution_count": 6,
   "metadata": {
    "execution": {
     "iopub.execute_input": "2020-10-24T13:05:28.500314Z",
     "iopub.status.busy": "2020-10-24T13:05:28.499652Z",
     "iopub.status.idle": "2020-10-24T13:05:28.704807Z",
     "shell.execute_reply": "2020-10-24T13:05:28.704250Z"
    },
    "id": "5pid1-pEcq32",
    "papermill": {
     "duration": 0.316168,
     "end_time": "2020-10-24T13:05:28.704918",
     "exception": false,
     "start_time": "2020-10-24T13:05:28.388750",
     "status": "completed"
    },
    "tags": []
   },
   "outputs": [],
   "source": [
    "train_data = pd.read_csv(train_file, header=0, index_col=0)\n",
    "val_data = pd.read_csv(val_file, header=0, index_col=0)"
   ]
  },
  {
   "cell_type": "code",
   "execution_count": 7,
   "metadata": {
    "execution": {
     "iopub.execute_input": "2020-10-24T13:05:28.901771Z",
     "iopub.status.busy": "2020-10-24T13:05:28.901037Z",
     "iopub.status.idle": "2020-10-24T13:05:28.928318Z",
     "shell.execute_reply": "2020-10-24T13:05:28.928873Z"
    },
    "id": "DFAe-Z4geoFw",
    "outputId": "4f41880a-30a9-4014-e1fc-b20f5efbdd33",
    "papermill": {
     "duration": 0.12809,
     "end_time": "2020-10-24T13:05:28.929014",
     "exception": false,
     "start_time": "2020-10-24T13:05:28.800924",
     "status": "completed"
    },
    "tags": []
   },
   "outputs": [
    {
     "name": "stdout",
     "output_type": "stream",
     "text": [
      "(5727, 10)\n"
     ]
    },
    {
     "data": {
      "text/html": [
       "<div>\n",
       "<style scoped>\n",
       "    .dataframe tbody tr th:only-of-type {\n",
       "        vertical-align: middle;\n",
       "    }\n",
       "\n",
       "    .dataframe tbody tr th {\n",
       "        vertical-align: top;\n",
       "    }\n",
       "\n",
       "    .dataframe thead th {\n",
       "        text-align: right;\n",
       "    }\n",
       "</style>\n",
       "<table border=\"1\" class=\"dataframe\">\n",
       "  <thead>\n",
       "    <tr style=\"text-align: right;\">\n",
       "      <th></th>\n",
       "      <th>Post</th>\n",
       "      <th>Labels Set</th>\n",
       "      <th>emails</th>\n",
       "      <th>urls</th>\n",
       "      <th>mentions</th>\n",
       "      <th>hashtags</th>\n",
       "      <th>emojis</th>\n",
       "      <th>emoticons</th>\n",
       "      <th>reserved_words</th>\n",
       "      <th>Filtered_Post</th>\n",
       "    </tr>\n",
       "    <tr>\n",
       "      <th>Unique ID</th>\n",
       "      <th></th>\n",
       "      <th></th>\n",
       "      <th></th>\n",
       "      <th></th>\n",
       "      <th></th>\n",
       "      <th></th>\n",
       "      <th></th>\n",
       "      <th></th>\n",
       "      <th></th>\n",
       "      <th></th>\n",
       "    </tr>\n",
       "  </thead>\n",
       "  <tbody>\n",
       "    <tr>\n",
       "      <th>1</th>\n",
       "      <td>मेरे देश के हिन्दु बहुत निराले है। कुछ तो पक्क...</td>\n",
       "      <td>hate,offensive</td>\n",
       "      <td>[]</td>\n",
       "      <td>[]</td>\n",
       "      <td>[]</td>\n",
       "      <td>[]</td>\n",
       "      <td>['🙏', '🙏']</td>\n",
       "      <td>[]</td>\n",
       "      <td>[]</td>\n",
       "      <td>मेरे देश के हिन्दु बहुत निराले है। कुछ तो पक्क...</td>\n",
       "    </tr>\n",
       "    <tr>\n",
       "      <th>2</th>\n",
       "      <td>सरकार हमेशा से किसानों की कमाई को बढ़ाने के लि...</td>\n",
       "      <td>non-hostile</td>\n",
       "      <td>[]</td>\n",
       "      <td>['https://t.co/8iy2MJSBAs']</td>\n",
       "      <td>[]</td>\n",
       "      <td>[]</td>\n",
       "      <td>[]</td>\n",
       "      <td>[]</td>\n",
       "      <td>[]</td>\n",
       "      <td>सरकार हमेशा से किसानों की कमाई को बढ़ाने के लि...</td>\n",
       "    </tr>\n",
       "    <tr>\n",
       "      <th>3</th>\n",
       "      <td>सुशांत ने जो बिजनेस डील 9 जून को की थी, वो डील...</td>\n",
       "      <td>non-hostile</td>\n",
       "      <td>[]</td>\n",
       "      <td>['https://t.co/G945HvzM0Z', 'https://t.co/KfH7...</td>\n",
       "      <td>[]</td>\n",
       "      <td>['LIVE']</td>\n",
       "      <td>[]</td>\n",
       "      <td>[]</td>\n",
       "      <td>[]</td>\n",
       "      <td>सुशांत ने जो बिजनेस डील 9 जून को की थी, वो डील...</td>\n",
       "    </tr>\n",
       "    <tr>\n",
       "      <th>4</th>\n",
       "      <td>@prabhav218 साले जेएनयू छाप कमिने लोग हिन्दुओं...</td>\n",
       "      <td>defamation,offensive</td>\n",
       "      <td>[]</td>\n",
       "      <td>[]</td>\n",
       "      <td>['@prabhav218']</td>\n",
       "      <td>[]</td>\n",
       "      <td>[]</td>\n",
       "      <td>[]</td>\n",
       "      <td>[]</td>\n",
       "      <td>साले जेएनयू छाप कमिने लोग हिन्दुओं को यह कहते...</td>\n",
       "    </tr>\n",
       "    <tr>\n",
       "      <th>5</th>\n",
       "      <td>#unlock4guidelines - अनलॉक-4 के लिए गाइडलाइन्स...</td>\n",
       "      <td>non-hostile</td>\n",
       "      <td>[]</td>\n",
       "      <td>['https://t.co/4e6lysg0VR']</td>\n",
       "      <td>[]</td>\n",
       "      <td>['unlock4guidelines']</td>\n",
       "      <td>[]</td>\n",
       "      <td>[]</td>\n",
       "      <td>[]</td>\n",
       "      <td>- अनलॉक-4 के लिए गाइडलाइन्स जारी\\n\\n- 7 सितंब...</td>\n",
       "    </tr>\n",
       "  </tbody>\n",
       "</table>\n",
       "</div>"
      ],
      "text/plain": [
       "                                                        Post  \\\n",
       "Unique ID                                                      \n",
       "1          मेरे देश के हिन्दु बहुत निराले है। कुछ तो पक्क...   \n",
       "2          सरकार हमेशा से किसानों की कमाई को बढ़ाने के लि...   \n",
       "3          सुशांत ने जो बिजनेस डील 9 जून को की थी, वो डील...   \n",
       "4          @prabhav218 साले जेएनयू छाप कमिने लोग हिन्दुओं...   \n",
       "5          #unlock4guidelines - अनलॉक-4 के लिए गाइडलाइन्स...   \n",
       "\n",
       "                     Labels Set emails  \\\n",
       "Unique ID                                \n",
       "1                hate,offensive     []   \n",
       "2                   non-hostile     []   \n",
       "3                   non-hostile     []   \n",
       "4          defamation,offensive     []   \n",
       "5                   non-hostile     []   \n",
       "\n",
       "                                                        urls         mentions  \\\n",
       "Unique ID                                                                       \n",
       "1                                                         []               []   \n",
       "2                                ['https://t.co/8iy2MJSBAs']               []   \n",
       "3          ['https://t.co/G945HvzM0Z', 'https://t.co/KfH7...               []   \n",
       "4                                                         []  ['@prabhav218']   \n",
       "5                                ['https://t.co/4e6lysg0VR']               []   \n",
       "\n",
       "                        hashtags      emojis emoticons reserved_words  \\\n",
       "Unique ID                                                               \n",
       "1                             []  ['🙏', '🙏']        []             []   \n",
       "2                             []          []        []             []   \n",
       "3                       ['LIVE']          []        []             []   \n",
       "4                             []          []        []             []   \n",
       "5          ['unlock4guidelines']          []        []             []   \n",
       "\n",
       "                                               Filtered_Post  \n",
       "Unique ID                                                     \n",
       "1          मेरे देश के हिन्दु बहुत निराले है। कुछ तो पक्क...  \n",
       "2          सरकार हमेशा से किसानों की कमाई को बढ़ाने के लि...  \n",
       "3          सुशांत ने जो बिजनेस डील 9 जून को की थी, वो डील...  \n",
       "4           साले जेएनयू छाप कमिने लोग हिन्दुओं को यह कहते...  \n",
       "5           - अनलॉक-4 के लिए गाइडलाइन्स जारी\\n\\n- 7 सितंब...  "
      ]
     },
     "execution_count": 7,
     "metadata": {},
     "output_type": "execute_result"
    }
   ],
   "source": [
    "print(train_data.shape)\n",
    "train_data.head()"
   ]
  },
  {
   "cell_type": "code",
   "execution_count": 8,
   "metadata": {
    "execution": {
     "iopub.execute_input": "2020-10-24T13:05:29.145208Z",
     "iopub.status.busy": "2020-10-24T13:05:29.144324Z",
     "iopub.status.idle": "2020-10-24T13:05:29.150680Z",
     "shell.execute_reply": "2020-10-24T13:05:29.151351Z"
    },
    "id": "yDG5NtJqhTWg",
    "outputId": "90569738-e571-4587-ce95-44708d45e861",
    "papermill": {
     "duration": 0.121825,
     "end_time": "2020-10-24T13:05:29.151506",
     "exception": false,
     "start_time": "2020-10-24T13:05:29.029681",
     "status": "completed"
    },
    "tags": []
   },
   "outputs": [
    {
     "name": "stdout",
     "output_type": "stream",
     "text": [
      "(811, 10)\n"
     ]
    },
    {
     "data": {
      "text/html": [
       "<div>\n",
       "<style scoped>\n",
       "    .dataframe tbody tr th:only-of-type {\n",
       "        vertical-align: middle;\n",
       "    }\n",
       "\n",
       "    .dataframe tbody tr th {\n",
       "        vertical-align: top;\n",
       "    }\n",
       "\n",
       "    .dataframe thead th {\n",
       "        text-align: right;\n",
       "    }\n",
       "</style>\n",
       "<table border=\"1\" class=\"dataframe\">\n",
       "  <thead>\n",
       "    <tr style=\"text-align: right;\">\n",
       "      <th></th>\n",
       "      <th>Post</th>\n",
       "      <th>Labels Set</th>\n",
       "      <th>emails</th>\n",
       "      <th>urls</th>\n",
       "      <th>mentions</th>\n",
       "      <th>hashtags</th>\n",
       "      <th>emojis</th>\n",
       "      <th>emoticons</th>\n",
       "      <th>reserved_words</th>\n",
       "      <th>Filtered_Post</th>\n",
       "    </tr>\n",
       "    <tr>\n",
       "      <th>Unique ID</th>\n",
       "      <th></th>\n",
       "      <th></th>\n",
       "      <th></th>\n",
       "      <th></th>\n",
       "      <th></th>\n",
       "      <th></th>\n",
       "      <th></th>\n",
       "      <th></th>\n",
       "      <th></th>\n",
       "      <th></th>\n",
       "    </tr>\n",
       "  </thead>\n",
       "  <tbody>\n",
       "    <tr>\n",
       "      <th>1</th>\n",
       "      <td>दृढ़ इच्छा शक्ति से परिपूर्ण प्रणबदा के लिए दे...</td>\n",
       "      <td>non-hostile</td>\n",
       "      <td>[]</td>\n",
       "      <td>[]</td>\n",
       "      <td>[]</td>\n",
       "      <td>[]</td>\n",
       "      <td>[]</td>\n",
       "      <td>[]</td>\n",
       "      <td>[]</td>\n",
       "      <td>दृढ़ इच्छा शक्ति से परिपूर्ण प्रणबदा के लिए दे...</td>\n",
       "    </tr>\n",
       "    <tr>\n",
       "      <th>2</th>\n",
       "      <td>भारतीय जनता पार्टी rss वाले इतने गिरे हुए हैं ...</td>\n",
       "      <td>defamation</td>\n",
       "      <td>[]</td>\n",
       "      <td>[]</td>\n",
       "      <td>[]</td>\n",
       "      <td>[]</td>\n",
       "      <td>[]</td>\n",
       "      <td>[]</td>\n",
       "      <td>[]</td>\n",
       "      <td>भारतीय जनता पार्टी rss वाले इतने गिरे हुए हैं ...</td>\n",
       "    </tr>\n",
       "    <tr>\n",
       "      <th>3</th>\n",
       "      <td>कोरोना से निपटने की तैयारी / दिल्ली में 10 हजा...</td>\n",
       "      <td>non-hostile</td>\n",
       "      <td>[]</td>\n",
       "      <td>['https://t.co/9rlQowAsFh']</td>\n",
       "      <td>['@ArvindKejriwal', '@rajnathsingh', '@AmitSha...</td>\n",
       "      <td>['Delhi']</td>\n",
       "      <td>[]</td>\n",
       "      <td>[]</td>\n",
       "      <td>[]</td>\n",
       "      <td>कोरोना से निपटने की तैयारी / दिल्ली में 10 हजा...</td>\n",
       "    </tr>\n",
       "    <tr>\n",
       "      <th>4</th>\n",
       "      <td>गवर्नर कॉन्फ्रेंस में PM मोदी बोले- शिक्षा नीत...</td>\n",
       "      <td>non-hostile</td>\n",
       "      <td>[]</td>\n",
       "      <td>['https://t.co/ZvKgxk6dbd']</td>\n",
       "      <td>[]</td>\n",
       "      <td>[]</td>\n",
       "      <td>[]</td>\n",
       "      <td>[]</td>\n",
       "      <td>[]</td>\n",
       "      <td>गवर्नर कॉन्फ्रेंस में PM मोदी बोले- शिक्षा नीत...</td>\n",
       "    </tr>\n",
       "    <tr>\n",
       "      <th>5</th>\n",
       "      <td>यूपी: गाजीपुर में Toilet घोटाला, प्रधान व सचिव...</td>\n",
       "      <td>non-hostile</td>\n",
       "      <td>[]</td>\n",
       "      <td>['https://t.co/hxM1uNNmX2']</td>\n",
       "      <td>[]</td>\n",
       "      <td>['UP']</td>\n",
       "      <td>[]</td>\n",
       "      <td>[]</td>\n",
       "      <td>[]</td>\n",
       "      <td>यूपी: गाजीपुर में Toilet घोटाला, प्रधान व सचिव...</td>\n",
       "    </tr>\n",
       "  </tbody>\n",
       "</table>\n",
       "</div>"
      ],
      "text/plain": [
       "                                                        Post   Labels Set  \\\n",
       "Unique ID                                                                   \n",
       "1          दृढ़ इच्छा शक्ति से परिपूर्ण प्रणबदा के लिए दे...  non-hostile   \n",
       "2          भारतीय जनता पार्टी rss वाले इतने गिरे हुए हैं ...   defamation   \n",
       "3          कोरोना से निपटने की तैयारी / दिल्ली में 10 हजा...  non-hostile   \n",
       "4          गवर्नर कॉन्फ्रेंस में PM मोदी बोले- शिक्षा नीत...  non-hostile   \n",
       "5          यूपी: गाजीपुर में Toilet घोटाला, प्रधान व सचिव...  non-hostile   \n",
       "\n",
       "          emails                         urls  \\\n",
       "Unique ID                                       \n",
       "1             []                           []   \n",
       "2             []                           []   \n",
       "3             []  ['https://t.co/9rlQowAsFh']   \n",
       "4             []  ['https://t.co/ZvKgxk6dbd']   \n",
       "5             []  ['https://t.co/hxM1uNNmX2']   \n",
       "\n",
       "                                                    mentions   hashtags  \\\n",
       "Unique ID                                                                 \n",
       "1                                                         []         []   \n",
       "2                                                         []         []   \n",
       "3          ['@ArvindKejriwal', '@rajnathsingh', '@AmitSha...  ['Delhi']   \n",
       "4                                                         []         []   \n",
       "5                                                         []     ['UP']   \n",
       "\n",
       "          emojis emoticons reserved_words  \\\n",
       "Unique ID                                   \n",
       "1             []        []             []   \n",
       "2             []        []             []   \n",
       "3             []        []             []   \n",
       "4             []        []             []   \n",
       "5             []        []             []   \n",
       "\n",
       "                                               Filtered_Post  \n",
       "Unique ID                                                     \n",
       "1          दृढ़ इच्छा शक्ति से परिपूर्ण प्रणबदा के लिए दे...  \n",
       "2          भारतीय जनता पार्टी rss वाले इतने गिरे हुए हैं ...  \n",
       "3          कोरोना से निपटने की तैयारी / दिल्ली में 10 हजा...  \n",
       "4          गवर्नर कॉन्फ्रेंस में PM मोदी बोले- शिक्षा नीत...  \n",
       "5          यूपी: गाजीपुर में Toilet घोटाला, प्रधान व सचिव...  "
      ]
     },
     "execution_count": 8,
     "metadata": {},
     "output_type": "execute_result"
    }
   ],
   "source": [
    "print(val_data.shape)\n",
    "val_data.head()"
   ]
  },
  {
   "cell_type": "code",
   "execution_count": 9,
   "metadata": {
    "execution": {
     "iopub.execute_input": "2020-10-24T13:05:29.355212Z",
     "iopub.status.busy": "2020-10-24T13:05:29.353461Z",
     "iopub.status.idle": "2020-10-24T13:05:29.355916Z",
     "shell.execute_reply": "2020-10-24T13:05:29.356375Z"
    },
    "id": "avnStOCX1LYw",
    "papermill": {
     "duration": 0.106365,
     "end_time": "2020-10-24T13:05:29.356494",
     "exception": false,
     "start_time": "2020-10-24T13:05:29.250129",
     "status": "completed"
    },
    "tags": []
   },
   "outputs": [],
   "source": [
    "import ast\n",
    "\n",
    "labels_set = {'defamation',\n",
    " 'fake',\n",
    " 'hate',\n",
    " 'non-hostile',\n",
    " 'offensive'}\n"
   ]
  },
  {
   "cell_type": "markdown",
   "metadata": {
    "id": "7UzE4LSl1M47",
    "papermill": {
     "duration": 0.101374,
     "end_time": "2020-10-24T13:05:29.557778",
     "exception": false,
     "start_time": "2020-10-24T13:05:29.456404",
     "status": "completed"
    },
    "tags": []
   },
   "source": [
    "## **Using one hot vectors of Emojis, Mentions and Hashtags**"
   ]
  },
  {
   "cell_type": "code",
   "execution_count": 10,
   "metadata": {
    "execution": {
     "iopub.execute_input": "2020-10-24T13:05:29.763651Z",
     "iopub.status.busy": "2020-10-24T13:05:29.762964Z",
     "iopub.status.idle": "2020-10-24T13:05:29.765824Z",
     "shell.execute_reply": "2020-10-24T13:05:29.766255Z"
    },
    "id": "agaMrJw2hnF5",
    "papermill": {
     "duration": 0.105672,
     "end_time": "2020-10-24T13:05:29.766379",
     "exception": false,
     "start_time": "2020-10-24T13:05:29.660707",
     "status": "completed"
    },
    "tags": []
   },
   "outputs": [],
   "source": [
    "# hashtags_set = defaultdict(int)\n",
    "\n",
    "# ct=1\n",
    "# for index, row in train_data.iterrows():\n",
    "#   ht_list = ast.literal_eval(row['hashtags']) \n",
    "#   for ht in ht_list:\n",
    "#     if hashtags_set.get(ht, 0)==0:\n",
    "#       hashtags_set[ht] = ct\n",
    "#       ct+=1\n",
    "\n",
    "# emojis_set = defaultdict(int)\n",
    "# ct=1\n",
    "# for index, row in train_data.iterrows():\n",
    "#   em_list = ast.literal_eval(row['emojis']) \n",
    "#   for em in em_list:\n",
    "#     if emojis_set.get(em, 0)==0:\n",
    "#       emojis_set[em] = ct\n",
    "#       ct+=1\n",
    "\n",
    "# mentions_set = defaultdict(int)\n",
    "# ct=1\n",
    "# for index, row in train_data.iterrows():\n",
    "#   mn_list = ast.literal_eval(row['mentions']) \n",
    "#   for mn in mn_list:\n",
    "#     if mentions_set.get(mn, 0)==0:\n",
    "#       mentions_set[mn] = ct\n",
    "#       ct+=1\n"
   ]
  },
  {
   "cell_type": "markdown",
   "metadata": {
    "id": "xdBlXNn41CHX",
    "papermill": {
     "duration": 0.099064,
     "end_time": "2020-10-24T13:05:29.966272",
     "exception": false,
     "start_time": "2020-10-24T13:05:29.867208",
     "status": "completed"
    },
    "tags": []
   },
   "source": [
    "## **Using per class counts for Emojis, Mentions and Hashtags**"
   ]
  },
  {
   "cell_type": "code",
   "execution_count": 11,
   "metadata": {
    "execution": {
     "iopub.execute_input": "2020-10-24T13:05:30.212367Z",
     "iopub.status.busy": "2020-10-24T13:05:30.196931Z",
     "iopub.status.idle": "2020-10-24T13:05:31.013907Z",
     "shell.execute_reply": "2020-10-24T13:05:31.013363Z"
    },
    "id": "tDAW1YEg1AxI",
    "papermill": {
     "duration": 0.944797,
     "end_time": "2020-10-24T13:05:31.014031",
     "exception": false,
     "start_time": "2020-10-24T13:05:30.069234",
     "status": "completed"
    },
    "tags": []
   },
   "outputs": [],
   "source": [
    "hashtags_set = defaultdict(int)\n",
    "emojis_set = defaultdict(int)\n",
    "mentions_set = defaultdict(int)\n",
    "\n",
    "for index, row in train_data.iterrows():\n",
    "  ht_list = ast.literal_eval(row['hashtags'])\n",
    "  em_list = ast.literal_eval(row['emojis'])\n",
    "  mn_list = ast.literal_eval(row['mentions']) \n",
    "\n",
    "  for label in [x.strip() for x in row['Labels Set'].split(',')]:\n",
    "    for ht in ht_list:\n",
    "      hashtags_set[ht, label] +=1\n",
    "    for em in em_list:\n",
    "      emojis_set[em, label]+=1\n",
    "    for mn in mn_list:\n",
    "      mentions_set[mn, label]+=1"
   ]
  },
  {
   "cell_type": "code",
   "execution_count": 12,
   "metadata": {
    "execution": {
     "iopub.execute_input": "2020-10-24T13:05:31.221128Z",
     "iopub.status.busy": "2020-10-24T13:05:31.219095Z",
     "iopub.status.idle": "2020-10-24T13:05:31.221866Z",
     "shell.execute_reply": "2020-10-24T13:05:31.222363Z"
    },
    "id": "VHlYmRrnpO0o",
    "papermill": {
     "duration": 0.110163,
     "end_time": "2020-10-24T13:05:31.222541",
     "exception": false,
     "start_time": "2020-10-24T13:05:31.112378",
     "status": "completed"
    },
    "tags": []
   },
   "outputs": [],
   "source": [
    "# print(len(emojis_set))\n",
    "# print(len(hashtags_set))\n",
    "# print(len(mentions_set))"
   ]
  },
  {
   "cell_type": "code",
   "execution_count": 13,
   "metadata": {
    "execution": {
     "iopub.execute_input": "2020-10-24T13:05:31.479821Z",
     "iopub.status.busy": "2020-10-24T13:05:31.459372Z",
     "iopub.status.idle": "2020-10-24T13:05:33.825326Z",
     "shell.execute_reply": "2020-10-24T13:05:33.825827Z"
    },
    "id": "YQKuRKkJomZg",
    "outputId": "133f0f08-1982-4bfb-c070-89db6f1f67c3",
    "papermill": {
     "duration": 2.504013,
     "end_time": "2020-10-24T13:05:33.825963",
     "exception": false,
     "start_time": "2020-10-24T13:05:31.321950",
     "status": "completed"
    },
    "tags": []
   },
   "outputs": [
    {
     "data": {
      "text/plain": [
       "35502"
      ]
     },
     "execution_count": 13,
     "metadata": {},
     "output_type": "execute_result"
    }
   ],
   "source": [
    "# Creating Frequency Dictionary\n",
    "\n",
    "vocab = defaultdict(int)\n",
    "freqs = defaultdict(int)\n",
    "\n",
    "for index, row in train_data.iterrows():\n",
    "  for word in indic_tokenize.trivial_tokenize(row['Filtered_Post'], lang='hi'):\n",
    "    vocab[word]+=1\n",
    "    for label in [x.strip() for x in row['Labels Set'].split(',')]:\n",
    "      freqs[word, label] +=1\n",
    "\n",
    "len(freqs.keys())"
   ]
  },
  {
   "cell_type": "markdown",
   "metadata": {
    "id": "IMqYc8wwzlfk",
    "papermill": {
     "duration": 0.096859,
     "end_time": "2020-10-24T13:05:34.018941",
     "exception": false,
     "start_time": "2020-10-24T13:05:33.922082",
     "status": "completed"
    },
    "tags": []
   },
   "source": [
    "## **Using five class frequencies and other features as one hot vectors**"
   ]
  },
  {
   "cell_type": "code",
   "execution_count": 14,
   "metadata": {
    "execution": {
     "iopub.execute_input": "2020-10-24T13:05:34.214829Z",
     "iopub.status.busy": "2020-10-24T13:05:34.214020Z",
     "iopub.status.idle": "2020-10-24T13:05:34.217144Z",
     "shell.execute_reply": "2020-10-24T13:05:34.216680Z"
    },
    "id": "KO1eh_ooJEow",
    "papermill": {
     "duration": 0.103013,
     "end_time": "2020-10-24T13:05:34.217244",
     "exception": false,
     "start_time": "2020-10-24T13:05:34.114231",
     "status": "completed"
    },
    "tags": []
   },
   "outputs": [],
   "source": [
    "# def generate_train_matrix(train_data):\n",
    "#   train_X = np.empty((0, 3350))\n",
    "\n",
    "#   for index, row in train_data.iterrows():\n",
    "#     x = np.zeros((1, 6))\n",
    "#     x[0, 0] = 1  # Bias Unit\n",
    "#     word_l = indic_tokenize.trivial_tokenize(row['Filtered_Post'], lang='hi')\n",
    "    \n",
    "#     for word in word_l:\n",
    "#         x[0,1] += freqs.get((word,'defamation'),0)\n",
    "#         x[0,2] += freqs.get((word, 'fake'),0)\n",
    "#         x[0,3] += freqs.get((word,'hate'),0)\n",
    "#         x[0,4] += freqs.get((word,'non-hostile'),0)\n",
    "#         x[0,5] += freqs.get((word,'offensive'),0)\n",
    "\n",
    "#     ht_list = ast.literal_eval(row['hashtags'])\n",
    "#     hash_x = np.zeros((1, 1905))\n",
    "#     for ht in ht_list:\n",
    "#       idx = hashtags_set.get(ht, 0)\n",
    "#       if idx!=0:\n",
    "#         hash_x[0, idx-1] = 1\n",
    "\n",
    "#     em_list = ast.literal_eval(row['emojis'])\n",
    "#     emojis_x = np.zeros((1, 162))\n",
    "#     for em in em_list:\n",
    "#       idx = emojis_set.get(em, 0)\n",
    "#       if idx!=0:\n",
    "#         emojis_x[0, idx-1] = 1\n",
    "\n",
    "#     mn_list = ast.literal_eval(row['mentions'])\n",
    "#     mentions_x = np.zeros((1, 1277)) \n",
    "#     for mn in mn_list:\n",
    "#         idx = mentions_set.get(mn, 0)\n",
    "#         if idx!=0:\n",
    "#           mentions_x[0, idx-1] = 1\n",
    "\n",
    "#     x = np.hstack((x, hash_x, emojis_x, mentions_x))\n",
    "    \n",
    "#     train_X = np.vstack((train_X, x))\n",
    "\n",
    "#   return train_X"
   ]
  },
  {
   "cell_type": "markdown",
   "metadata": {
    "id": "iqClWiaLze3h",
    "papermill": {
     "duration": 0.095119,
     "end_time": "2020-10-24T13:05:34.441620",
     "exception": false,
     "start_time": "2020-10-24T13:05:34.346501",
     "status": "completed"
    },
    "tags": []
   },
   "source": [
    "## **Using only 5 class frequencies added up**"
   ]
  },
  {
   "cell_type": "code",
   "execution_count": 15,
   "metadata": {
    "execution": {
     "iopub.execute_input": "2020-10-24T13:05:34.661249Z",
     "iopub.status.busy": "2020-10-24T13:05:34.660397Z",
     "iopub.status.idle": "2020-10-24T13:05:34.663318Z",
     "shell.execute_reply": "2020-10-24T13:05:34.662841Z"
    },
    "id": "SzYIsaEqwj4C",
    "papermill": {
     "duration": 0.127253,
     "end_time": "2020-10-24T13:05:34.663416",
     "exception": false,
     "start_time": "2020-10-24T13:05:34.536163",
     "status": "completed"
    },
    "tags": []
   },
   "outputs": [],
   "source": [
    "def generate_train_matrix(train_data):\n",
    "  train_X = np.empty((0, 6))\n",
    "\n",
    "  for index, row in train_data.iterrows():\n",
    "    x = np.zeros((1, 6))\n",
    "    x[0, 0] = 1  # Bias Unit\n",
    "    word_l = indic_tokenize.trivial_tokenize(row['Filtered_Post'], lang='hi')\n",
    "    \n",
    "    for word in word_l:\n",
    "        x[0,1] += freqs.get((word,'defamation'),0)\n",
    "        x[0,2] += freqs.get((word, 'fake'),0)\n",
    "        x[0,3] += freqs.get((word,'hate'),0)\n",
    "        x[0,4] += freqs.get((word,'non-hostile'),0)\n",
    "        x[0,5] += freqs.get((word,'offensive'),0)\n",
    "\n",
    "    ht_list = ast.literal_eval(row['hashtags'])\n",
    "    for ht in ht_list:\n",
    "      x[0,1] += hashtags_set.get((ht,'defamation'),0)\n",
    "      x[0,2] += hashtags_set.get((ht, 'fake'),0)\n",
    "      x[0,3] += hashtags_set.get((ht,'hate'),0)\n",
    "      x[0,4] += hashtags_set.get((ht,'non-hostile'),0)\n",
    "      x[0,5] += hashtags_set.get((ht,'offensive'),0)\n",
    "\n",
    "    em_list = ast.literal_eval(row['emojis'])\n",
    "    for em in em_list:\n",
    "      x[0,1] += emojis_set.get((em,'defamation'),0)\n",
    "      x[0,2] += emojis_set.get((em, 'fake'),0)\n",
    "      x[0,3] += emojis_set.get((em,'hate'),0)\n",
    "      x[0,4] += emojis_set.get((em,'non-hostile'),0)\n",
    "      x[0,5] += emojis_set.get((em,'offensive'),0)\n",
    "\n",
    "    mn_list = ast.literal_eval(row['mentions'])\n",
    "    for mn in mn_list:\n",
    "      x[0,1] += mentions_set.get((mn,'defamation'),0)\n",
    "      x[0,2] += mentions_set.get((mn, 'fake'),0)\n",
    "      x[0,3] += mentions_set.get((mn,'hate'),0)\n",
    "      x[0,4] += mentions_set.get((mn,'non-hostile'),0)\n",
    "      x[0,5] += mentions_set.get((mn,'offensive'),0)\n",
    "  \n",
    "    train_X = np.vstack((train_X, x))\n",
    "\n",
    "  return train_X"
   ]
  },
  {
   "cell_type": "code",
   "execution_count": 16,
   "metadata": {
    "execution": {
     "iopub.execute_input": "2020-10-24T13:05:35.986625Z",
     "iopub.status.busy": "2020-10-24T13:05:35.551503Z",
     "iopub.status.idle": "2020-10-24T13:05:38.661858Z",
     "shell.execute_reply": "2020-10-24T13:05:38.661253Z"
    },
    "id": "XEbwJhTiyo_t",
    "papermill": {
     "duration": 3.903244,
     "end_time": "2020-10-24T13:05:38.661978",
     "exception": false,
     "start_time": "2020-10-24T13:05:34.758734",
     "status": "completed"
    },
    "tags": []
   },
   "outputs": [],
   "source": [
    "train_X = generate_train_matrix(train_data)\n",
    "val_X = generate_train_matrix(val_data)"
   ]
  },
  {
   "cell_type": "code",
   "execution_count": 17,
   "metadata": {
    "execution": {
     "iopub.execute_input": "2020-10-24T13:05:38.860924Z",
     "iopub.status.busy": "2020-10-24T13:05:38.860268Z",
     "iopub.status.idle": "2020-10-24T13:05:38.864654Z",
     "shell.execute_reply": "2020-10-24T13:05:38.864159Z"
    },
    "id": "2xq5iTsVQLS3",
    "papermill": {
     "duration": 0.104113,
     "end_time": "2020-10-24T13:05:38.864760",
     "exception": false,
     "start_time": "2020-10-24T13:05:38.760647",
     "status": "completed"
    },
    "tags": []
   },
   "outputs": [],
   "source": [
    "# Label Mapping\n",
    "labels_mapping = {'defamation':0,\n",
    " 'fake':1,\n",
    " 'hate':2,\n",
    " 'non-hostile':3,\n",
    " 'offensive':4}\n"
   ]
  },
  {
   "cell_type": "code",
   "execution_count": 18,
   "metadata": {
    "execution": {
     "iopub.execute_input": "2020-10-24T13:05:39.069030Z",
     "iopub.status.busy": "2020-10-24T13:05:39.067604Z",
     "iopub.status.idle": "2020-10-24T13:05:39.071792Z",
     "shell.execute_reply": "2020-10-24T13:05:39.072272Z"
    },
    "id": "eG6v5Su0UcM9",
    "outputId": "62cb3ea4-1833-4564-f3af-0b46e3e208b3",
    "papermill": {
     "duration": 0.108095,
     "end_time": "2020-10-24T13:05:39.072390",
     "exception": false,
     "start_time": "2020-10-24T13:05:38.964295",
     "status": "completed"
    },
    "tags": []
   },
   "outputs": [
    {
     "name": "stdout",
     "output_type": "stream",
     "text": [
      "(5727, 6)\n",
      "(811, 6)\n"
     ]
    }
   ],
   "source": [
    "print(train_X.shape)\n",
    "print(val_X.shape)"
   ]
  },
  {
   "cell_type": "code",
   "execution_count": 19,
   "metadata": {
    "execution": {
     "iopub.execute_input": "2020-10-24T13:05:39.273860Z",
     "iopub.status.busy": "2020-10-24T13:05:39.273209Z",
     "iopub.status.idle": "2020-10-24T13:05:39.279408Z",
     "shell.execute_reply": "2020-10-24T13:05:39.278911Z"
    },
    "papermill": {
     "duration": 0.110195,
     "end_time": "2020-10-24T13:05:39.279521",
     "exception": false,
     "start_time": "2020-10-24T13:05:39.169326",
     "status": "completed"
    },
    "tags": []
   },
   "outputs": [
    {
     "data": {
      "text/plain": [
       "array([[1.0000e+00, 3.9710e+03, 9.8850e+03, 6.1590e+03, 1.3608e+04,\n",
       "        5.1190e+03],\n",
       "       [1.0000e+00, 3.4880e+03, 8.2910e+03, 5.1970e+03, 1.6329e+04,\n",
       "        4.0890e+03],\n",
       "       [1.0000e+00, 4.3880e+03, 1.0814e+04, 6.8800e+03, 2.3133e+04,\n",
       "        5.2940e+03],\n",
       "       ...,\n",
       "       [1.0000e+00, 3.4030e+03, 9.0420e+03, 5.4710e+03, 2.0386e+04,\n",
       "        4.0690e+03],\n",
       "       [1.0000e+00, 7.9800e+02, 2.0140e+03, 1.2810e+03, 3.0960e+03,\n",
       "        9.5000e+02],\n",
       "       [1.0000e+00, 8.4400e+02, 2.3740e+03, 1.2590e+03, 6.5550e+03,\n",
       "        9.3300e+02]])"
      ]
     },
     "execution_count": 19,
     "metadata": {},
     "output_type": "execute_result"
    }
   ],
   "source": [
    "train_X"
   ]
  },
  {
   "cell_type": "code",
   "execution_count": 20,
   "metadata": {
    "execution": {
     "iopub.execute_input": "2020-10-24T13:05:39.736615Z",
     "iopub.status.busy": "2020-10-24T13:05:39.675673Z",
     "iopub.status.idle": "2020-10-24T13:05:40.266517Z",
     "shell.execute_reply": "2020-10-24T13:05:40.265627Z"
    },
    "id": "WhJSn8IpyUsn",
    "papermill": {
     "duration": 0.886129,
     "end_time": "2020-10-24T13:05:40.266664",
     "exception": false,
     "start_time": "2020-10-24T13:05:39.380535",
     "status": "completed"
    },
    "tags": []
   },
   "outputs": [],
   "source": [
    "train_y = np.empty((0, 5))\n",
    "for index, row in train_data.iterrows():\n",
    "  y = np.zeros((1, 5))\n",
    "  for label in row['Labels Set'].split(','):\n",
    "    y[0, labels_mapping[label]] = 1\n",
    "\n",
    "  train_y = np.vstack((train_y, y))\n",
    "\n",
    "\n",
    "val_y = np.empty((0, 5))\n",
    "for index, row in val_data.iterrows():\n",
    "  y = np.zeros((1, 5))\n",
    "  for label in row['Labels Set'].split(','):\n",
    "    y[0, labels_mapping[label]] = 1\n",
    "\n",
    "  val_y = np.vstack((val_y, y))\n",
    "\n",
    "\n"
   ]
  },
  {
   "cell_type": "code",
   "execution_count": 21,
   "metadata": {
    "execution": {
     "iopub.execute_input": "2020-10-24T13:05:40.472045Z",
     "iopub.status.busy": "2020-10-24T13:05:40.471271Z",
     "iopub.status.idle": "2020-10-24T13:05:40.476100Z",
     "shell.execute_reply": "2020-10-24T13:05:40.476750Z"
    },
    "id": "bswUa1CJUXH0",
    "outputId": "858fa26b-2779-4fdc-fdae-b654b1016567",
    "papermill": {
     "duration": 0.107902,
     "end_time": "2020-10-24T13:05:40.476906",
     "exception": false,
     "start_time": "2020-10-24T13:05:40.369004",
     "status": "completed"
    },
    "tags": []
   },
   "outputs": [
    {
     "name": "stdout",
     "output_type": "stream",
     "text": [
      "(5727, 5)\n",
      "(811, 5)\n"
     ]
    }
   ],
   "source": [
    "print(train_y.shape)\n",
    "print(val_y.shape)"
   ]
  },
  {
   "cell_type": "code",
   "execution_count": 22,
   "metadata": {
    "execution": {
     "iopub.execute_input": "2020-10-24T13:05:40.686155Z",
     "iopub.status.busy": "2020-10-24T13:05:40.685339Z",
     "iopub.status.idle": "2020-10-24T13:05:40.690541Z",
     "shell.execute_reply": "2020-10-24T13:05:40.689976Z"
    },
    "papermill": {
     "duration": 0.111952,
     "end_time": "2020-10-24T13:05:40.690677",
     "exception": false,
     "start_time": "2020-10-24T13:05:40.578725",
     "status": "completed"
    },
    "tags": []
   },
   "outputs": [
    {
     "data": {
      "text/plain": [
       "array([[0., 0., 1., 0., 1.],\n",
       "       [0., 0., 0., 1., 0.],\n",
       "       [0., 0., 0., 1., 0.],\n",
       "       ...,\n",
       "       [0., 0., 0., 1., 0.],\n",
       "       [0., 1., 0., 0., 0.],\n",
       "       [0., 0., 0., 1., 0.]])"
      ]
     },
     "execution_count": 22,
     "metadata": {},
     "output_type": "execute_result"
    }
   ],
   "source": [
    "train_y"
   ]
  },
  {
   "cell_type": "markdown",
   "metadata": {
    "id": "_fcQCKsxUok8",
    "papermill": {
     "duration": 0.10134,
     "end_time": "2020-10-24T13:05:40.895070",
     "exception": false,
     "start_time": "2020-10-24T13:05:40.793730",
     "status": "completed"
    },
    "tags": []
   },
   "source": [
    "## **Binary Relevance Model**"
   ]
  },
  {
   "cell_type": "code",
   "execution_count": 23,
   "metadata": {
    "execution": {
     "iopub.execute_input": "2020-10-24T13:05:41.097944Z",
     "iopub.status.busy": "2020-10-24T13:05:41.097170Z",
     "iopub.status.idle": "2020-10-24T13:05:41.671486Z",
     "shell.execute_reply": "2020-10-24T13:05:41.670438Z"
    },
    "id": "CUo-OT5-Un4z",
    "outputId": "10f94815-7a73-48bc-fcfb-0d40c0e34bed",
    "papermill": {
     "duration": 0.678698,
     "end_time": "2020-10-24T13:05:41.671628",
     "exception": false,
     "start_time": "2020-10-24T13:05:40.992930",
     "status": "completed"
    },
    "tags": []
   },
   "outputs": [
    {
     "data": {
      "text/plain": [
       "BinaryRelevance(classifier=LogisticRegression(max_iter=150),\n",
       "                require_dense=[True, True])"
      ]
     },
     "execution_count": 23,
     "metadata": {},
     "output_type": "execute_result"
    }
   ],
   "source": [
    "from skmultilearn.problem_transform import BinaryRelevance\n",
    "from sklearn.linear_model import LogisticRegression\n",
    "from sklearn.svm import SVC\n",
    "from sklearn.naive_bayes import GaussianNB\n",
    "from sklearn.tree import DecisionTreeClassifier\n",
    "\n",
    "classifier = BinaryRelevance(LogisticRegression(max_iter=150))\n",
    "classifier.fit(train_X, train_y)"
   ]
  },
  {
   "cell_type": "code",
   "execution_count": 24,
   "metadata": {
    "execution": {
     "iopub.execute_input": "2020-10-24T13:05:41.877926Z",
     "iopub.status.busy": "2020-10-24T13:05:41.876945Z",
     "iopub.status.idle": "2020-10-24T13:05:41.884224Z",
     "shell.execute_reply": "2020-10-24T13:05:41.883629Z"
    },
    "id": "1J-3b1S_U8Ld",
    "papermill": {
     "duration": 0.111695,
     "end_time": "2020-10-24T13:05:41.884340",
     "exception": false,
     "start_time": "2020-10-24T13:05:41.772645",
     "status": "completed"
    },
    "tags": []
   },
   "outputs": [],
   "source": [
    "predictions = classifier.predict(val_X)"
   ]
  },
  {
   "cell_type": "code",
   "execution_count": 25,
   "metadata": {
    "execution": {
     "iopub.execute_input": "2020-10-24T13:05:42.096535Z",
     "iopub.status.busy": "2020-10-24T13:05:42.095749Z",
     "iopub.status.idle": "2020-10-24T13:05:42.099639Z",
     "shell.execute_reply": "2020-10-24T13:05:42.099107Z"
    },
    "papermill": {
     "duration": 0.107995,
     "end_time": "2020-10-24T13:05:42.099748",
     "exception": false,
     "start_time": "2020-10-24T13:05:41.991753",
     "status": "completed"
    },
    "tags": []
   },
   "outputs": [
    {
     "data": {
      "text/plain": [
       "(811, 5)"
      ]
     },
     "execution_count": 25,
     "metadata": {},
     "output_type": "execute_result"
    }
   ],
   "source": [
    "predictions.shape"
   ]
  },
  {
   "cell_type": "code",
   "execution_count": 26,
   "metadata": {
    "execution": {
     "iopub.execute_input": "2020-10-24T13:05:42.316970Z",
     "iopub.status.busy": "2020-10-24T13:05:42.316140Z",
     "iopub.status.idle": "2020-10-24T13:05:42.320010Z",
     "shell.execute_reply": "2020-10-24T13:05:42.319477Z"
    },
    "papermill": {
     "duration": 0.112074,
     "end_time": "2020-10-24T13:05:42.320110",
     "exception": false,
     "start_time": "2020-10-24T13:05:42.208036",
     "status": "completed"
    },
    "tags": []
   },
   "outputs": [
    {
     "data": {
      "text/plain": [
       "(811, 5)"
      ]
     },
     "execution_count": 26,
     "metadata": {},
     "output_type": "execute_result"
    }
   ],
   "source": [
    "val_y.shape"
   ]
  },
  {
   "cell_type": "code",
   "execution_count": 27,
   "metadata": {
    "execution": {
     "iopub.execute_input": "2020-10-24T13:05:42.539438Z",
     "iopub.status.busy": "2020-10-24T13:05:42.538539Z",
     "iopub.status.idle": "2020-10-24T13:05:42.541183Z",
     "shell.execute_reply": "2020-10-24T13:05:42.541701Z"
    },
    "id": "atQIjBLfVoz5",
    "papermill": {
     "duration": 0.114525,
     "end_time": "2020-10-24T13:05:42.541848",
     "exception": false,
     "start_time": "2020-10-24T13:05:42.427323",
     "status": "completed"
    },
    "tags": []
   },
   "outputs": [],
   "source": [
    "def evaluation(y_true, y_pred):\n",
    "  print(\"Fine Grained Accuracy = {}\".format(accuracy_score(y_true, y_pred)))\n",
    "  print(\"\\n\\nFine Grained Metrics\\n\")\n",
    "  print(classification_report(y_true, y_pred))\n",
    "\n",
    "  # y_true_coarse = np.zeros((y_true.shape[0], 2))\n",
    "  # y_pred_coarse = np.zeros((y_true.shape[0], 2))\n",
    "\n",
    "  # y_true_coarse_1 = y_true[:,3] \n",
    "  # y_true_coarse_0 = 1 - y_true_coarse[:,1]\n",
    "  # y_true_coarse = np.hstack((y_true_coarse_0, y_true_coarse_1))\n",
    "  \n",
    "  # y_pred_coarse_1 = y_pred[:,3]\n",
    "  # y_pred_coarse_0 = 1- y_pred_coarse[:,1]\n",
    "  # y_pred_coarse = np.hstack((y_pred_coarse_0, y_pred_coarse_1))\n",
    "\n",
    "  # print(\"Coarse Grained Accuracy = {}\".format(accuracy_score(y_true_coarse, y_pred_coarse)))\n",
    "  # print(\"\\n\\nCoarse Grained Metrics\\n\")\n",
    "  # print(classification_report(y_true_coarse, y_pred_coarse))\n",
    "\n"
   ]
  },
  {
   "cell_type": "code",
   "execution_count": 28,
   "metadata": {
    "execution": {
     "iopub.execute_input": "2020-10-24T13:05:42.766808Z",
     "iopub.status.busy": "2020-10-24T13:05:42.765872Z",
     "iopub.status.idle": "2020-10-24T13:05:42.795064Z",
     "shell.execute_reply": "2020-10-24T13:05:42.794239Z"
    },
    "id": "1my9tQz-6xCB",
    "outputId": "a1ae4716-aee5-435f-918b-f9f4a01a08ae",
    "papermill": {
     "duration": 0.141855,
     "end_time": "2020-10-24T13:05:42.795201",
     "exception": false,
     "start_time": "2020-10-24T13:05:42.653346",
     "status": "completed"
    },
    "tags": []
   },
   "outputs": [
    {
     "name": "stdout",
     "output_type": "stream",
     "text": [
      "Fine Grained Accuracy = 0.45499383477188654\n",
      "\n",
      "\n",
      "Fine Grained Metrics\n",
      "\n",
      "              precision    recall  f1-score   support\n",
      "\n",
      "           0       0.10      0.01      0.02        77\n",
      "           1       0.50      0.14      0.22       160\n",
      "           2       0.36      0.11      0.17       110\n",
      "           3       0.73      0.80      0.77       435\n",
      "           4       0.39      0.11      0.17       103\n",
      "\n",
      "   micro avg       0.67      0.45      0.54       885\n",
      "   macro avg       0.42      0.23      0.27       885\n",
      "weighted avg       0.55      0.45      0.46       885\n",
      " samples avg       0.47      0.48      0.47       885\n",
      "\n"
     ]
    },
    {
     "name": "stderr",
     "output_type": "stream",
     "text": [
      "/opt/conda/lib/python3.7/site-packages/sklearn/metrics/_classification.py:1221: UndefinedMetricWarning: Precision and F-score are ill-defined and being set to 0.0 in samples with no predicted labels. Use `zero_division` parameter to control this behavior.\n",
      "  _warn_prf(average, modifier, msg_start, len(result))\n"
     ]
    }
   ],
   "source": [
    "evaluation(val_y, predictions)"
   ]
  },
  {
   "cell_type": "code",
   "execution_count": null,
   "metadata": {
    "papermill": {
     "duration": 0.108524,
     "end_time": "2020-10-24T13:05:43.015144",
     "exception": false,
     "start_time": "2020-10-24T13:05:42.906620",
     "status": "completed"
    },
    "tags": []
   },
   "outputs": [],
   "source": []
  },
  {
   "cell_type": "markdown",
   "metadata": {
    "papermill": {
     "duration": 0.10583,
     "end_time": "2020-10-24T13:05:43.234709",
     "exception": false,
     "start_time": "2020-10-24T13:05:43.128879",
     "status": "completed"
    },
    "tags": []
   },
   "source": [
    "## Indic Bert"
   ]
  },
  {
   "cell_type": "code",
   "execution_count": 29,
   "metadata": {
    "execution": {
     "iopub.execute_input": "2020-10-24T13:05:43.470730Z",
     "iopub.status.busy": "2020-10-24T13:05:43.470110Z",
     "iopub.status.idle": "2020-10-24T13:05:51.983440Z",
     "shell.execute_reply": "2020-10-24T13:05:51.982742Z"
    },
    "papermill": {
     "duration": 8.642782,
     "end_time": "2020-10-24T13:05:51.983576",
     "exception": false,
     "start_time": "2020-10-24T13:05:43.340794",
     "status": "completed"
    },
    "tags": []
   },
   "outputs": [
    {
     "name": "stderr",
     "output_type": "stream",
     "text": [
      "\u001b[34m\u001b[1mwandb\u001b[0m: \u001b[33mWARNING\u001b[0m W&B installed but not logged in.  Run `wandb login` or set the WANDB_API_KEY env variable.\n"
     ]
    }
   ],
   "source": [
    "import random\n",
    "import torch\n",
    "import numpy as np\n",
    "import pandas as pd\n",
    "from tqdm import tqdm\n",
    "from torch.utils.data import TensorDataset, DataLoader, RandomSampler, SequentialSampler\n",
    "from transformers import AutoTokenizer, AutoModelForSequenceClassification, AdamW\n",
    "from transformers import BertForSequenceClassification, AdamW, BertConfig\n",
    "from transformers import BertTokenizer\n",
    "\n",
    "\n",
    "from torch.utils.data import TensorDataset, random_split\n",
    "from torch.utils.data import DataLoader, RandomSampler, SequentialSampler\n",
    "\n",
    "import matplotlib.pyplot as plt\n",
    "%matplotlib inline\n",
    "import seaborn as sns"
   ]
  },
  {
   "cell_type": "code",
   "execution_count": 30,
   "metadata": {
    "execution": {
     "iopub.execute_input": "2020-10-24T13:05:52.205673Z",
     "iopub.status.busy": "2020-10-24T13:05:52.204731Z",
     "iopub.status.idle": "2020-10-24T13:05:52.206604Z",
     "shell.execute_reply": "2020-10-24T13:05:52.207319Z"
    },
    "papermill": {
     "duration": 0.120626,
     "end_time": "2020-10-24T13:05:52.207500",
     "exception": false,
     "start_time": "2020-10-24T13:05:52.086874",
     "status": "completed"
    },
    "tags": []
   },
   "outputs": [],
   "source": [
    "# MODEL_NAME = 'ai4bharat/indic-bert'\n",
    "# MODEL_NAME = 'monsoon-nlp/hindi-bert'\n",
    "\n",
    "# MODEL_NAME = 'mrm8488/HindiBERTa'"
   ]
  },
  {
   "cell_type": "code",
   "execution_count": 31,
   "metadata": {
    "execution": {
     "iopub.execute_input": "2020-10-24T13:05:52.427780Z",
     "iopub.status.busy": "2020-10-24T13:05:52.426924Z",
     "iopub.status.idle": "2020-10-24T13:05:52.429982Z",
     "shell.execute_reply": "2020-10-24T13:05:52.429496Z"
    },
    "papermill": {
     "duration": 0.107886,
     "end_time": "2020-10-24T13:05:52.430091",
     "exception": false,
     "start_time": "2020-10-24T13:05:52.322205",
     "status": "completed"
    },
    "tags": []
   },
   "outputs": [],
   "source": [
    "# MODEL_NAME = 'meghanabhange/hinglish-indic-bert' #not working\n",
    "# MODEL_NAME = 'meghanabhange/Hinglish-Bert-Class' \n",
    "# MODEL_NAME = 'meghanabhange/Hinglish-Bert'\n",
    "# MODEL_NAME = 'meghanabhange/Hinglish-DistilBert-Class'\n",
    "# MODEL_NAME = 'meghanabhange/Hinglish-DistilBert'\n",
    "# MODEL_NAME = 'meghanabhange/hinglish-indic-bert' #not wokring\n",
    "# MODEL_NAME = 'verloop/Hinglish-Bert-Class' # 0.58\n",
    "MODEL_NAME = 'verloop/Hinglish-Bert' # 0.63\n",
    "# MODEL_NAME = 'verloop/Hinglish-DistilBert-Class' # 0.41"
   ]
  },
  {
   "cell_type": "code",
   "execution_count": 32,
   "metadata": {
    "execution": {
     "iopub.execute_input": "2020-10-24T13:05:53.004672Z",
     "iopub.status.busy": "2020-10-24T13:05:53.003944Z",
     "iopub.status.idle": "2020-10-24T13:07:18.152910Z",
     "shell.execute_reply": "2020-10-24T13:07:18.151900Z"
    },
    "papermill": {
     "duration": 85.621348,
     "end_time": "2020-10-24T13:07:18.153045",
     "exception": false,
     "start_time": "2020-10-24T13:05:52.531697",
     "status": "completed"
    },
    "tags": []
   },
   "outputs": [
    {
     "data": {
      "application/vnd.jupyter.widget-view+json": {
       "model_id": "692de3c30faf495392784d01c1b341a4",
       "version_major": 2,
       "version_minor": 0
      },
      "text/plain": [
       "HBox(children=(FloatProgress(value=0.0, description='Downloading', max=1215.0, style=ProgressStyle(description…"
      ]
     },
     "metadata": {},
     "output_type": "display_data"
    },
    {
     "name": "stdout",
     "output_type": "stream",
     "text": [
      "\n"
     ]
    },
    {
     "data": {
      "application/vnd.jupyter.widget-view+json": {
       "model_id": "718ca8a8ea904adcabb6b6ae096734b5",
       "version_major": 2,
       "version_minor": 0
      },
      "text/plain": [
       "HBox(children=(FloatProgress(value=0.0, description='Downloading', max=995526.0, style=ProgressStyle(descripti…"
      ]
     },
     "metadata": {},
     "output_type": "display_data"
    },
    {
     "name": "stdout",
     "output_type": "stream",
     "text": [
      "\n"
     ]
    },
    {
     "data": {
      "application/vnd.jupyter.widget-view+json": {
       "model_id": "522722eb76f6460e9907b9a8011d0596",
       "version_major": 2,
       "version_minor": 0
      },
      "text/plain": [
       "HBox(children=(FloatProgress(value=0.0, description='Downloading', max=112.0, style=ProgressStyle(description_…"
      ]
     },
     "metadata": {},
     "output_type": "display_data"
    },
    {
     "name": "stdout",
     "output_type": "stream",
     "text": [
      "\n"
     ]
    },
    {
     "data": {
      "application/vnd.jupyter.widget-view+json": {
       "model_id": "7617fd0809a5406f839bc8fcf83168be",
       "version_major": 2,
       "version_minor": 0
      },
      "text/plain": [
       "HBox(children=(FloatProgress(value=0.0, description='Downloading', max=152.0, style=ProgressStyle(description_…"
      ]
     },
     "metadata": {},
     "output_type": "display_data"
    },
    {
     "name": "stdout",
     "output_type": "stream",
     "text": [
      "\n"
     ]
    },
    {
     "data": {
      "application/vnd.jupyter.widget-view+json": {
       "model_id": "896ddb6d87964e179d6f08d3deae26de",
       "version_major": 2,
       "version_minor": 0
      },
      "text/plain": [
       "HBox(children=(FloatProgress(value=0.0, description='Downloading', max=714309763.0, style=ProgressStyle(descri…"
      ]
     },
     "metadata": {},
     "output_type": "display_data"
    },
    {
     "name": "stdout",
     "output_type": "stream",
     "text": [
      "\n"
     ]
    },
    {
     "data": {
      "text/plain": [
       "BertForSequenceClassification(\n",
       "  (bert): BertModel(\n",
       "    (embeddings): BertEmbeddings(\n",
       "      (word_embeddings): Embedding(119547, 768)\n",
       "      (position_embeddings): Embedding(512, 768)\n",
       "      (token_type_embeddings): Embedding(2, 768)\n",
       "      (LayerNorm): LayerNorm((768,), eps=1e-12, elementwise_affine=True)\n",
       "      (dropout): Dropout(p=0.1, inplace=False)\n",
       "    )\n",
       "    (encoder): BertEncoder(\n",
       "      (layer): ModuleList(\n",
       "        (0): BertLayer(\n",
       "          (attention): BertAttention(\n",
       "            (self): BertSelfAttention(\n",
       "              (query): Linear(in_features=768, out_features=768, bias=True)\n",
       "              (key): Linear(in_features=768, out_features=768, bias=True)\n",
       "              (value): Linear(in_features=768, out_features=768, bias=True)\n",
       "              (dropout): Dropout(p=0.1, inplace=False)\n",
       "            )\n",
       "            (output): BertSelfOutput(\n",
       "              (dense): Linear(in_features=768, out_features=768, bias=True)\n",
       "              (LayerNorm): LayerNorm((768,), eps=1e-12, elementwise_affine=True)\n",
       "              (dropout): Dropout(p=0.1, inplace=False)\n",
       "            )\n",
       "          )\n",
       "          (intermediate): BertIntermediate(\n",
       "            (dense): Linear(in_features=768, out_features=3072, bias=True)\n",
       "          )\n",
       "          (output): BertOutput(\n",
       "            (dense): Linear(in_features=3072, out_features=768, bias=True)\n",
       "            (LayerNorm): LayerNorm((768,), eps=1e-12, elementwise_affine=True)\n",
       "            (dropout): Dropout(p=0.1, inplace=False)\n",
       "          )\n",
       "        )\n",
       "        (1): BertLayer(\n",
       "          (attention): BertAttention(\n",
       "            (self): BertSelfAttention(\n",
       "              (query): Linear(in_features=768, out_features=768, bias=True)\n",
       "              (key): Linear(in_features=768, out_features=768, bias=True)\n",
       "              (value): Linear(in_features=768, out_features=768, bias=True)\n",
       "              (dropout): Dropout(p=0.1, inplace=False)\n",
       "            )\n",
       "            (output): BertSelfOutput(\n",
       "              (dense): Linear(in_features=768, out_features=768, bias=True)\n",
       "              (LayerNorm): LayerNorm((768,), eps=1e-12, elementwise_affine=True)\n",
       "              (dropout): Dropout(p=0.1, inplace=False)\n",
       "            )\n",
       "          )\n",
       "          (intermediate): BertIntermediate(\n",
       "            (dense): Linear(in_features=768, out_features=3072, bias=True)\n",
       "          )\n",
       "          (output): BertOutput(\n",
       "            (dense): Linear(in_features=3072, out_features=768, bias=True)\n",
       "            (LayerNorm): LayerNorm((768,), eps=1e-12, elementwise_affine=True)\n",
       "            (dropout): Dropout(p=0.1, inplace=False)\n",
       "          )\n",
       "        )\n",
       "        (2): BertLayer(\n",
       "          (attention): BertAttention(\n",
       "            (self): BertSelfAttention(\n",
       "              (query): Linear(in_features=768, out_features=768, bias=True)\n",
       "              (key): Linear(in_features=768, out_features=768, bias=True)\n",
       "              (value): Linear(in_features=768, out_features=768, bias=True)\n",
       "              (dropout): Dropout(p=0.1, inplace=False)\n",
       "            )\n",
       "            (output): BertSelfOutput(\n",
       "              (dense): Linear(in_features=768, out_features=768, bias=True)\n",
       "              (LayerNorm): LayerNorm((768,), eps=1e-12, elementwise_affine=True)\n",
       "              (dropout): Dropout(p=0.1, inplace=False)\n",
       "            )\n",
       "          )\n",
       "          (intermediate): BertIntermediate(\n",
       "            (dense): Linear(in_features=768, out_features=3072, bias=True)\n",
       "          )\n",
       "          (output): BertOutput(\n",
       "            (dense): Linear(in_features=3072, out_features=768, bias=True)\n",
       "            (LayerNorm): LayerNorm((768,), eps=1e-12, elementwise_affine=True)\n",
       "            (dropout): Dropout(p=0.1, inplace=False)\n",
       "          )\n",
       "        )\n",
       "        (3): BertLayer(\n",
       "          (attention): BertAttention(\n",
       "            (self): BertSelfAttention(\n",
       "              (query): Linear(in_features=768, out_features=768, bias=True)\n",
       "              (key): Linear(in_features=768, out_features=768, bias=True)\n",
       "              (value): Linear(in_features=768, out_features=768, bias=True)\n",
       "              (dropout): Dropout(p=0.1, inplace=False)\n",
       "            )\n",
       "            (output): BertSelfOutput(\n",
       "              (dense): Linear(in_features=768, out_features=768, bias=True)\n",
       "              (LayerNorm): LayerNorm((768,), eps=1e-12, elementwise_affine=True)\n",
       "              (dropout): Dropout(p=0.1, inplace=False)\n",
       "            )\n",
       "          )\n",
       "          (intermediate): BertIntermediate(\n",
       "            (dense): Linear(in_features=768, out_features=3072, bias=True)\n",
       "          )\n",
       "          (output): BertOutput(\n",
       "            (dense): Linear(in_features=3072, out_features=768, bias=True)\n",
       "            (LayerNorm): LayerNorm((768,), eps=1e-12, elementwise_affine=True)\n",
       "            (dropout): Dropout(p=0.1, inplace=False)\n",
       "          )\n",
       "        )\n",
       "        (4): BertLayer(\n",
       "          (attention): BertAttention(\n",
       "            (self): BertSelfAttention(\n",
       "              (query): Linear(in_features=768, out_features=768, bias=True)\n",
       "              (key): Linear(in_features=768, out_features=768, bias=True)\n",
       "              (value): Linear(in_features=768, out_features=768, bias=True)\n",
       "              (dropout): Dropout(p=0.1, inplace=False)\n",
       "            )\n",
       "            (output): BertSelfOutput(\n",
       "              (dense): Linear(in_features=768, out_features=768, bias=True)\n",
       "              (LayerNorm): LayerNorm((768,), eps=1e-12, elementwise_affine=True)\n",
       "              (dropout): Dropout(p=0.1, inplace=False)\n",
       "            )\n",
       "          )\n",
       "          (intermediate): BertIntermediate(\n",
       "            (dense): Linear(in_features=768, out_features=3072, bias=True)\n",
       "          )\n",
       "          (output): BertOutput(\n",
       "            (dense): Linear(in_features=3072, out_features=768, bias=True)\n",
       "            (LayerNorm): LayerNorm((768,), eps=1e-12, elementwise_affine=True)\n",
       "            (dropout): Dropout(p=0.1, inplace=False)\n",
       "          )\n",
       "        )\n",
       "        (5): BertLayer(\n",
       "          (attention): BertAttention(\n",
       "            (self): BertSelfAttention(\n",
       "              (query): Linear(in_features=768, out_features=768, bias=True)\n",
       "              (key): Linear(in_features=768, out_features=768, bias=True)\n",
       "              (value): Linear(in_features=768, out_features=768, bias=True)\n",
       "              (dropout): Dropout(p=0.1, inplace=False)\n",
       "            )\n",
       "            (output): BertSelfOutput(\n",
       "              (dense): Linear(in_features=768, out_features=768, bias=True)\n",
       "              (LayerNorm): LayerNorm((768,), eps=1e-12, elementwise_affine=True)\n",
       "              (dropout): Dropout(p=0.1, inplace=False)\n",
       "            )\n",
       "          )\n",
       "          (intermediate): BertIntermediate(\n",
       "            (dense): Linear(in_features=768, out_features=3072, bias=True)\n",
       "          )\n",
       "          (output): BertOutput(\n",
       "            (dense): Linear(in_features=3072, out_features=768, bias=True)\n",
       "            (LayerNorm): LayerNorm((768,), eps=1e-12, elementwise_affine=True)\n",
       "            (dropout): Dropout(p=0.1, inplace=False)\n",
       "          )\n",
       "        )\n",
       "        (6): BertLayer(\n",
       "          (attention): BertAttention(\n",
       "            (self): BertSelfAttention(\n",
       "              (query): Linear(in_features=768, out_features=768, bias=True)\n",
       "              (key): Linear(in_features=768, out_features=768, bias=True)\n",
       "              (value): Linear(in_features=768, out_features=768, bias=True)\n",
       "              (dropout): Dropout(p=0.1, inplace=False)\n",
       "            )\n",
       "            (output): BertSelfOutput(\n",
       "              (dense): Linear(in_features=768, out_features=768, bias=True)\n",
       "              (LayerNorm): LayerNorm((768,), eps=1e-12, elementwise_affine=True)\n",
       "              (dropout): Dropout(p=0.1, inplace=False)\n",
       "            )\n",
       "          )\n",
       "          (intermediate): BertIntermediate(\n",
       "            (dense): Linear(in_features=768, out_features=3072, bias=True)\n",
       "          )\n",
       "          (output): BertOutput(\n",
       "            (dense): Linear(in_features=3072, out_features=768, bias=True)\n",
       "            (LayerNorm): LayerNorm((768,), eps=1e-12, elementwise_affine=True)\n",
       "            (dropout): Dropout(p=0.1, inplace=False)\n",
       "          )\n",
       "        )\n",
       "        (7): BertLayer(\n",
       "          (attention): BertAttention(\n",
       "            (self): BertSelfAttention(\n",
       "              (query): Linear(in_features=768, out_features=768, bias=True)\n",
       "              (key): Linear(in_features=768, out_features=768, bias=True)\n",
       "              (value): Linear(in_features=768, out_features=768, bias=True)\n",
       "              (dropout): Dropout(p=0.1, inplace=False)\n",
       "            )\n",
       "            (output): BertSelfOutput(\n",
       "              (dense): Linear(in_features=768, out_features=768, bias=True)\n",
       "              (LayerNorm): LayerNorm((768,), eps=1e-12, elementwise_affine=True)\n",
       "              (dropout): Dropout(p=0.1, inplace=False)\n",
       "            )\n",
       "          )\n",
       "          (intermediate): BertIntermediate(\n",
       "            (dense): Linear(in_features=768, out_features=3072, bias=True)\n",
       "          )\n",
       "          (output): BertOutput(\n",
       "            (dense): Linear(in_features=3072, out_features=768, bias=True)\n",
       "            (LayerNorm): LayerNorm((768,), eps=1e-12, elementwise_affine=True)\n",
       "            (dropout): Dropout(p=0.1, inplace=False)\n",
       "          )\n",
       "        )\n",
       "        (8): BertLayer(\n",
       "          (attention): BertAttention(\n",
       "            (self): BertSelfAttention(\n",
       "              (query): Linear(in_features=768, out_features=768, bias=True)\n",
       "              (key): Linear(in_features=768, out_features=768, bias=True)\n",
       "              (value): Linear(in_features=768, out_features=768, bias=True)\n",
       "              (dropout): Dropout(p=0.1, inplace=False)\n",
       "            )\n",
       "            (output): BertSelfOutput(\n",
       "              (dense): Linear(in_features=768, out_features=768, bias=True)\n",
       "              (LayerNorm): LayerNorm((768,), eps=1e-12, elementwise_affine=True)\n",
       "              (dropout): Dropout(p=0.1, inplace=False)\n",
       "            )\n",
       "          )\n",
       "          (intermediate): BertIntermediate(\n",
       "            (dense): Linear(in_features=768, out_features=3072, bias=True)\n",
       "          )\n",
       "          (output): BertOutput(\n",
       "            (dense): Linear(in_features=3072, out_features=768, bias=True)\n",
       "            (LayerNorm): LayerNorm((768,), eps=1e-12, elementwise_affine=True)\n",
       "            (dropout): Dropout(p=0.1, inplace=False)\n",
       "          )\n",
       "        )\n",
       "        (9): BertLayer(\n",
       "          (attention): BertAttention(\n",
       "            (self): BertSelfAttention(\n",
       "              (query): Linear(in_features=768, out_features=768, bias=True)\n",
       "              (key): Linear(in_features=768, out_features=768, bias=True)\n",
       "              (value): Linear(in_features=768, out_features=768, bias=True)\n",
       "              (dropout): Dropout(p=0.1, inplace=False)\n",
       "            )\n",
       "            (output): BertSelfOutput(\n",
       "              (dense): Linear(in_features=768, out_features=768, bias=True)\n",
       "              (LayerNorm): LayerNorm((768,), eps=1e-12, elementwise_affine=True)\n",
       "              (dropout): Dropout(p=0.1, inplace=False)\n",
       "            )\n",
       "          )\n",
       "          (intermediate): BertIntermediate(\n",
       "            (dense): Linear(in_features=768, out_features=3072, bias=True)\n",
       "          )\n",
       "          (output): BertOutput(\n",
       "            (dense): Linear(in_features=3072, out_features=768, bias=True)\n",
       "            (LayerNorm): LayerNorm((768,), eps=1e-12, elementwise_affine=True)\n",
       "            (dropout): Dropout(p=0.1, inplace=False)\n",
       "          )\n",
       "        )\n",
       "        (10): BertLayer(\n",
       "          (attention): BertAttention(\n",
       "            (self): BertSelfAttention(\n",
       "              (query): Linear(in_features=768, out_features=768, bias=True)\n",
       "              (key): Linear(in_features=768, out_features=768, bias=True)\n",
       "              (value): Linear(in_features=768, out_features=768, bias=True)\n",
       "              (dropout): Dropout(p=0.1, inplace=False)\n",
       "            )\n",
       "            (output): BertSelfOutput(\n",
       "              (dense): Linear(in_features=768, out_features=768, bias=True)\n",
       "              (LayerNorm): LayerNorm((768,), eps=1e-12, elementwise_affine=True)\n",
       "              (dropout): Dropout(p=0.1, inplace=False)\n",
       "            )\n",
       "          )\n",
       "          (intermediate): BertIntermediate(\n",
       "            (dense): Linear(in_features=768, out_features=3072, bias=True)\n",
       "          )\n",
       "          (output): BertOutput(\n",
       "            (dense): Linear(in_features=3072, out_features=768, bias=True)\n",
       "            (LayerNorm): LayerNorm((768,), eps=1e-12, elementwise_affine=True)\n",
       "            (dropout): Dropout(p=0.1, inplace=False)\n",
       "          )\n",
       "        )\n",
       "        (11): BertLayer(\n",
       "          (attention): BertAttention(\n",
       "            (self): BertSelfAttention(\n",
       "              (query): Linear(in_features=768, out_features=768, bias=True)\n",
       "              (key): Linear(in_features=768, out_features=768, bias=True)\n",
       "              (value): Linear(in_features=768, out_features=768, bias=True)\n",
       "              (dropout): Dropout(p=0.1, inplace=False)\n",
       "            )\n",
       "            (output): BertSelfOutput(\n",
       "              (dense): Linear(in_features=768, out_features=768, bias=True)\n",
       "              (LayerNorm): LayerNorm((768,), eps=1e-12, elementwise_affine=True)\n",
       "              (dropout): Dropout(p=0.1, inplace=False)\n",
       "            )\n",
       "          )\n",
       "          (intermediate): BertIntermediate(\n",
       "            (dense): Linear(in_features=768, out_features=3072, bias=True)\n",
       "          )\n",
       "          (output): BertOutput(\n",
       "            (dense): Linear(in_features=3072, out_features=768, bias=True)\n",
       "            (LayerNorm): LayerNorm((768,), eps=1e-12, elementwise_affine=True)\n",
       "            (dropout): Dropout(p=0.1, inplace=False)\n",
       "          )\n",
       "        )\n",
       "      )\n",
       "    )\n",
       "    (pooler): BertPooler(\n",
       "      (dense): Linear(in_features=768, out_features=768, bias=True)\n",
       "      (activation): Tanh()\n",
       "    )\n",
       "  )\n",
       "  (dropout): Dropout(p=0.1, inplace=False)\n",
       "  (classifier): Linear(in_features=768, out_features=2, bias=True)\n",
       ")"
      ]
     },
     "execution_count": 32,
     "metadata": {},
     "output_type": "execute_result"
    }
   ],
   "source": [
    "# Use a GPU if you have one available (Runtime -> Change runtime type -> GPU)\n",
    "device = torch.device(\"cuda\" if torch.cuda.is_available() else \"cpu\")\n",
    "\n",
    "# Set seeds for reproducibility\n",
    "random.seed(26)\n",
    "np.random.seed(26)\n",
    "torch.manual_seed(26)\n",
    "tokenizer = AutoTokenizer.from_pretrained(MODEL_NAME) \n",
    "\n",
    "model = AutoModelForSequenceClassification.from_pretrained(MODEL_NAME)\n",
    "model.to(device) # Send the model to the GPU if we have one\n",
    "\n",
    "\n",
    "# model = BertForSequenceClassification.from_pretrained(\n",
    "#     MODEL_NAME, # Use the 12-layer BERT model, with an uncased vocab.\n",
    "#     num_labels = 2, # The number of output labels--2 for binary classification.\n",
    "#                     # You can increase this for multi-class tasks.   \n",
    "#     output_attentions = False, # Whether the model returns attentions weights.\n",
    "#     output_hidden_states = False, # Whether the model returns all hidden-states.\n",
    "# )\n",
    "\n",
    "\n",
    "# learning_rate = 1e-5\n",
    "# optimizer = AdamW(model.parameters(), lr=learning_rate, eps=1e-8)\n",
    "\n"
   ]
  },
  {
   "cell_type": "code",
   "execution_count": 33,
   "metadata": {
    "execution": {
     "iopub.execute_input": "2020-10-24T13:07:18.378473Z",
     "iopub.status.busy": "2020-10-24T13:07:18.377144Z",
     "iopub.status.idle": "2020-10-24T13:07:18.381264Z",
     "shell.execute_reply": "2020-10-24T13:07:18.380770Z"
    },
    "papermill": {
     "duration": 0.119679,
     "end_time": "2020-10-24T13:07:18.381356",
     "exception": false,
     "start_time": "2020-10-24T13:07:18.261677",
     "status": "completed"
    },
    "tags": []
   },
   "outputs": [
    {
     "data": {
      "text/plain": [
       "'verloop/Hinglish-Bert'"
      ]
     },
     "execution_count": 33,
     "metadata": {},
     "output_type": "execute_result"
    }
   ],
   "source": [
    "MODEL_NAME"
   ]
  },
  {
   "cell_type": "code",
   "execution_count": 34,
   "metadata": {
    "execution": {
     "iopub.execute_input": "2020-10-24T13:07:18.606079Z",
     "iopub.status.busy": "2020-10-24T13:07:18.604207Z",
     "iopub.status.idle": "2020-10-24T13:07:18.606788Z",
     "shell.execute_reply": "2020-10-24T13:07:18.607259Z"
    },
    "papermill": {
     "duration": 0.116714,
     "end_time": "2020-10-24T13:07:18.607375",
     "exception": false,
     "start_time": "2020-10-24T13:07:18.490661",
     "status": "completed"
    },
    "tags": []
   },
   "outputs": [],
   "source": [
    "# tokenizer = BertTokenizer.from_pretrained(MODEL_NAME)#, do_lower_case=True)\n",
    "# model = BertForSequenceClassification.from_pretrained(\n",
    "#     MODEL_NAME, # Use the 12-layer BERT model, with an uncased vocab.\n",
    "#     num_labels = 2, # The number of output labels--2 for binary classification.\n",
    "#                     # You can increase this for multi-class tasks.   \n",
    "#     output_attentions = False, # Whether the model returns attentions weights.\n",
    "#     output_hidden_states = False, # Whether the model returns all hidden-states.\n",
    "# )\n",
    "# model.cuda()"
   ]
  },
  {
   "cell_type": "code",
   "execution_count": 35,
   "metadata": {
    "execution": {
     "iopub.execute_input": "2020-10-24T13:07:18.834700Z",
     "iopub.status.busy": "2020-10-24T13:07:18.832681Z",
     "iopub.status.idle": "2020-10-24T13:07:18.835409Z",
     "shell.execute_reply": "2020-10-24T13:07:18.835928Z"
    },
    "papermill": {
     "duration": 0.119011,
     "end_time": "2020-10-24T13:07:18.836051",
     "exception": false,
     "start_time": "2020-10-24T13:07:18.717040",
     "status": "completed"
    },
    "tags": []
   },
   "outputs": [],
   "source": [
    "optimizer = AdamW(model.parameters(),\n",
    "                  lr = 2e-5, # args.learning_rate - default is 5e-5, our notebook had 2e-5\n",
    "                  eps = 1e-8 # args.adam_epsilon  - default is 1e-8.\n",
    "                )"
   ]
  },
  {
   "cell_type": "code",
   "execution_count": 36,
   "metadata": {
    "execution": {
     "iopub.execute_input": "2020-10-24T13:07:19.063121Z",
     "iopub.status.busy": "2020-10-24T13:07:19.062239Z",
     "iopub.status.idle": "2020-10-24T13:07:19.064536Z",
     "shell.execute_reply": "2020-10-24T13:07:19.065031Z"
    },
    "papermill": {
     "duration": 0.119064,
     "end_time": "2020-10-24T13:07:19.065162",
     "exception": false,
     "start_time": "2020-10-24T13:07:18.946098",
     "status": "completed"
    },
    "tags": []
   },
   "outputs": [],
   "source": [
    "batch_size = 32\n",
    "max_length = 256"
   ]
  },
  {
   "cell_type": "code",
   "execution_count": 37,
   "metadata": {
    "execution": {
     "iopub.execute_input": "2020-10-24T13:07:19.290217Z",
     "iopub.status.busy": "2020-10-24T13:07:19.288749Z",
     "iopub.status.idle": "2020-10-24T13:07:19.291284Z",
     "shell.execute_reply": "2020-10-24T13:07:19.291773Z"
    },
    "papermill": {
     "duration": 0.117187,
     "end_time": "2020-10-24T13:07:19.291894",
     "exception": false,
     "start_time": "2020-10-24T13:07:19.174707",
     "status": "completed"
    },
    "tags": []
   },
   "outputs": [],
   "source": [
    "import numpy as np\n",
    "\n",
    "# Function to calculate the accuracy of our predictions vs labels\n",
    "def flat_accuracy(preds, labels):\n",
    "    pred_flat = np.argmax(preds, axis=1).flatten()\n",
    "    labels_flat = labels.flatten()\n",
    "    return np.sum(pred_flat == labels_flat) / len(labels_flat)\n"
   ]
  },
  {
   "cell_type": "code",
   "execution_count": 38,
   "metadata": {
    "execution": {
     "iopub.execute_input": "2020-10-24T13:07:19.519042Z",
     "iopub.status.busy": "2020-10-24T13:07:19.517226Z",
     "iopub.status.idle": "2020-10-24T13:07:19.519734Z",
     "shell.execute_reply": "2020-10-24T13:07:19.520214Z"
    },
    "papermill": {
     "duration": 0.117647,
     "end_time": "2020-10-24T13:07:19.520332",
     "exception": false,
     "start_time": "2020-10-24T13:07:19.402685",
     "status": "completed"
    },
    "tags": []
   },
   "outputs": [],
   "source": [
    "import time\n",
    "import datetime\n",
    "\n",
    "def format_time(elapsed):\n",
    "    '''\n",
    "    Takes a time in seconds and returns a string hh:mm:ss\n",
    "    '''\n",
    "    # Round to the nearest second.\n",
    "    elapsed_rounded = int(round((elapsed)))\n",
    "    \n",
    "    # Format as hh:mm:ss\n",
    "    return str(datetime.timedelta(seconds=elapsed_rounded))\n"
   ]
  },
  {
   "cell_type": "code",
   "execution_count": null,
   "metadata": {
    "papermill": {
     "duration": 0.112984,
     "end_time": "2020-10-24T13:07:19.746121",
     "exception": false,
     "start_time": "2020-10-24T13:07:19.633137",
     "status": "completed"
    },
    "tags": []
   },
   "outputs": [],
   "source": []
  },
  {
   "cell_type": "markdown",
   "metadata": {
    "papermill": {
     "duration": 0.108316,
     "end_time": "2020-10-24T13:07:19.962165",
     "exception": false,
     "start_time": "2020-10-24T13:07:19.853849",
     "status": "completed"
    },
    "tags": []
   },
   "source": [
    "### y_true and y_val"
   ]
  },
  {
   "cell_type": "code",
   "execution_count": 39,
   "metadata": {
    "execution": {
     "iopub.execute_input": "2020-10-24T13:07:20.184223Z",
     "iopub.status.busy": "2020-10-24T13:07:20.183385Z",
     "iopub.status.idle": "2020-10-24T13:07:20.186472Z",
     "shell.execute_reply": "2020-10-24T13:07:20.185921Z"
    },
    "papermill": {
     "duration": 0.114834,
     "end_time": "2020-10-24T13:07:20.186595",
     "exception": false,
     "start_time": "2020-10-24T13:07:20.071761",
     "status": "completed"
    },
    "tags": []
   },
   "outputs": [],
   "source": [
    "# # Label Mapping\n",
    "# # labels_mapping = {'defamation':0,\n",
    "# #  'fake':1,\n",
    "# #  'hate':2,\n",
    "# #  'non-hostile':3,\n",
    "# #  'offensive':4}\n",
    "\n",
    "\n",
    "# y_train_defamation = train_y[:,0].astype(int)\n",
    "# y_train_fake = train_y[:,1].astype(int)\n",
    "# y_train_hate = train_y[:,2].astype(int)\n",
    "# y_train_non_hostile = train_y[:,3].astype(int)\n",
    "# y_train_offensive = train_y[:,4].astype(int)\n",
    "\n",
    "# y_val_defamation = val_y[:,0].astype(int)\n",
    "# y_val_fake = val_y[:,1].astype(int)\n",
    "# y_val_hate = val_y[:,2].astype(int)\n",
    "# y_val_non_hostile = val_y[:,3].astype(int)\n",
    "# y_val_offensive = val_y[:,4].astype(int)"
   ]
  },
  {
   "cell_type": "code",
   "execution_count": 40,
   "metadata": {
    "execution": {
     "iopub.execute_input": "2020-10-24T13:07:20.407898Z",
     "iopub.status.busy": "2020-10-24T13:07:20.407282Z",
     "iopub.status.idle": "2020-10-24T13:07:20.411349Z",
     "shell.execute_reply": "2020-10-24T13:07:20.410880Z"
    },
    "papermill": {
     "duration": 0.11705,
     "end_time": "2020-10-24T13:07:20.411449",
     "exception": false,
     "start_time": "2020-10-24T13:07:20.294399",
     "status": "completed"
    },
    "tags": []
   },
   "outputs": [],
   "source": [
    "# y_val_defamation[:4]"
   ]
  },
  {
   "cell_type": "code",
   "execution_count": 41,
   "metadata": {
    "execution": {
     "iopub.execute_input": "2020-10-24T13:07:20.637782Z",
     "iopub.status.busy": "2020-10-24T13:07:20.637141Z",
     "iopub.status.idle": "2020-10-24T13:07:20.641320Z",
     "shell.execute_reply": "2020-10-24T13:07:20.640752Z"
    },
    "papermill": {
     "duration": 0.118986,
     "end_time": "2020-10-24T13:07:20.641429",
     "exception": false,
     "start_time": "2020-10-24T13:07:20.522443",
     "status": "completed"
    },
    "tags": []
   },
   "outputs": [],
   "source": [
    "# train_sentences = train_data['Filtered_Post'].values\n",
    "# train_labels = y_train_defamation"
   ]
  },
  {
   "cell_type": "code",
   "execution_count": 42,
   "metadata": {
    "execution": {
     "iopub.execute_input": "2020-10-24T13:07:20.866673Z",
     "iopub.status.busy": "2020-10-24T13:07:20.866021Z",
     "iopub.status.idle": "2020-10-24T13:07:20.870498Z",
     "shell.execute_reply": "2020-10-24T13:07:20.869926Z"
    },
    "papermill": {
     "duration": 0.118572,
     "end_time": "2020-10-24T13:07:20.870624",
     "exception": false,
     "start_time": "2020-10-24T13:07:20.752052",
     "status": "completed"
    },
    "tags": []
   },
   "outputs": [],
   "source": [
    "# val_sentences = val_data['Filtered_Post'].values\n",
    "# val_labels = y_val_defamation"
   ]
  },
  {
   "cell_type": "code",
   "execution_count": null,
   "metadata": {
    "papermill": {
     "duration": 0.11189,
     "end_time": "2020-10-24T13:07:21.093961",
     "exception": false,
     "start_time": "2020-10-24T13:07:20.982071",
     "status": "completed"
    },
    "tags": []
   },
   "outputs": [],
   "source": []
  },
  {
   "cell_type": "markdown",
   "metadata": {
    "papermill": {
     "duration": 0.109274,
     "end_time": "2020-10-24T13:07:21.313073",
     "exception": false,
     "start_time": "2020-10-24T13:07:21.203799",
     "status": "completed"
    },
    "tags": []
   },
   "source": [
    "### Train data loading"
   ]
  },
  {
   "cell_type": "code",
   "execution_count": 43,
   "metadata": {
    "execution": {
     "iopub.execute_input": "2020-10-24T13:07:21.542057Z",
     "iopub.status.busy": "2020-10-24T13:07:21.541061Z",
     "iopub.status.idle": "2020-10-24T13:07:21.550470Z",
     "shell.execute_reply": "2020-10-24T13:07:21.549945Z"
    },
    "papermill": {
     "duration": 0.126837,
     "end_time": "2020-10-24T13:07:21.550570",
     "exception": false,
     "start_time": "2020-10-24T13:07:21.423733",
     "status": "completed"
    },
    "tags": []
   },
   "outputs": [],
   "source": [
    "def X_process(sentences):\n",
    "    input_ids = []\n",
    "    attention_masks = []\n",
    "\n",
    "    # For every sentence...\n",
    "    for sent in sentences:\n",
    "        # `encode_plus` will:\n",
    "        #   (1) Tokenize the sentence.\n",
    "        #   (2) Prepend the `[CLS]` token to the start.\n",
    "        #   (3) Append the `[SEP]` token to the end.\n",
    "        #   (4) Map tokens to their IDs.\n",
    "        #   (5) Pad or truncate the sentence to `max_length`\n",
    "        #   (6) Create attention masks for [PAD] tokens.\n",
    "        encoded_dict = tokenizer.encode_plus(\n",
    "                            sent,                      # Sentence to encode.\n",
    "                            add_special_tokens = True, # Add '[CLS]' and '[SEP]'\n",
    "                            max_length = max_length,           # Pad & truncate all sentences.\n",
    "                            pad_to_max_length = True,\n",
    "                            return_attention_mask = True,   # Construct attn. masks.\n",
    "                            return_tensors = 'pt',     # Return pytorch tensors.\n",
    "                       )\n",
    "\n",
    "        # Add the encoded sentence to the list.    \n",
    "        input_ids.append(encoded_dict['input_ids'])\n",
    "\n",
    "        # And its attention mask (simply differentiates padding from non-padding).\n",
    "        attention_masks.append(encoded_dict['attention_mask'])\n",
    "    return input_ids, attention_masks\n"
   ]
  },
  {
   "cell_type": "code",
   "execution_count": 44,
   "metadata": {
    "execution": {
     "iopub.execute_input": "2020-10-24T13:07:21.778978Z",
     "iopub.status.busy": "2020-10-24T13:07:21.778168Z",
     "iopub.status.idle": "2020-10-24T13:07:21.781233Z",
     "shell.execute_reply": "2020-10-24T13:07:21.780728Z"
    },
    "papermill": {
     "duration": 0.12038,
     "end_time": "2020-10-24T13:07:21.781341",
     "exception": false,
     "start_time": "2020-10-24T13:07:21.660961",
     "status": "completed"
    },
    "tags": []
   },
   "outputs": [],
   "source": [
    "def train_load(input_ids, attention_masks, labels):\n",
    "    input_ids = torch.cat(input_ids, dim=0)\n",
    "    attention_masks = torch.cat(attention_masks, dim=0)\n",
    "    labels = torch.tensor(labels)\n",
    "\n",
    "    train_dataset = TensorDataset(input_ids, attention_masks, labels)\n",
    "    train_dataloader = DataLoader(\n",
    "                train_dataset,  # The training samples.\n",
    "                sampler = RandomSampler(train_dataset), # Select batches randomly\n",
    "                batch_size = batch_size # Trains with this batch size.\n",
    "            )\n",
    "    return train_dataloader"
   ]
  },
  {
   "cell_type": "code",
   "execution_count": 45,
   "metadata": {
    "execution": {
     "iopub.execute_input": "2020-10-24T13:07:22.015784Z",
     "iopub.status.busy": "2020-10-24T13:07:22.014875Z",
     "iopub.status.idle": "2020-10-24T13:07:22.017852Z",
     "shell.execute_reply": "2020-10-24T13:07:22.017345Z"
    },
    "papermill": {
     "duration": 0.123928,
     "end_time": "2020-10-24T13:07:22.017957",
     "exception": false,
     "start_time": "2020-10-24T13:07:21.894029",
     "status": "completed"
    },
    "tags": []
   },
   "outputs": [],
   "source": [
    "def val_load(input_ids, attention_masks, labels):\n",
    "    input_ids = torch.cat(input_ids, dim=0)\n",
    "    attention_masks = torch.cat(attention_masks, dim=0)\n",
    "    labels = torch.tensor(labels)\n",
    "\n",
    "    val_dataset = TensorDataset(input_ids, attention_masks, labels)\n",
    "    validation_dataloader = DataLoader(\n",
    "                val_dataset, # The validation samples.\n",
    "                sampler = SequentialSampler(val_dataset), # Pull out batches sequentially.\n",
    "                batch_size = batch_size # Evaluate with this batch size.\n",
    "            )\n",
    "    \n",
    "    return validation_dataloader"
   ]
  },
  {
   "cell_type": "code",
   "execution_count": 46,
   "metadata": {
    "execution": {
     "iopub.execute_input": "2020-10-24T13:07:22.274207Z",
     "iopub.status.busy": "2020-10-24T13:07:22.273202Z",
     "iopub.status.idle": "2020-10-24T13:07:22.324026Z",
     "shell.execute_reply": "2020-10-24T13:07:22.323474Z"
    },
    "papermill": {
     "duration": 0.192632,
     "end_time": "2020-10-24T13:07:22.324145",
     "exception": false,
     "start_time": "2020-10-24T13:07:22.131513",
     "status": "completed"
    },
    "tags": []
   },
   "outputs": [],
   "source": [
    "def train_fn(train_dataloader, validation_dataloader):\n",
    "    \n",
    "    seed_val = 42\n",
    "\n",
    "    random.seed(seed_val)\n",
    "    np.random.seed(seed_val)\n",
    "    torch.manual_seed(seed_val)\n",
    "    torch.cuda.manual_seed_all(seed_val)\n",
    "\n",
    "    # We'll store a number of quantities such as training and validation loss, \n",
    "    # validation accuracy, and timings.\n",
    "    training_stats = []\n",
    "\n",
    "    # Measure the total training time for the whole run.\n",
    "    total_t0 = time.time()\n",
    "    # For each epoch...\n",
    "    for epoch_i in range(0, epochs):\n",
    "\n",
    "        # ========================================\n",
    "        #               Training\n",
    "        # ========================================\n",
    "\n",
    "        # Perform one full pass over the training set.\n",
    "\n",
    "        print(\"\")\n",
    "        print('======== Epoch {:} / {:} ========'.format(epoch_i + 1, epochs))\n",
    "        print('Training...')\n",
    "\n",
    "        # Measure how long the training epoch takes.\n",
    "        t0 = time.time()\n",
    "\n",
    "        # Reset the total loss for this epoch.\n",
    "        total_train_loss = 0\n",
    "\n",
    "        # Put the model into training mode. Don't be mislead--the call to \n",
    "        # `train` just changes the *mode*, it doesn't *perform* the training.\n",
    "        # `dropout` and `batchnorm` layers behave differently during training\n",
    "        # vs. test (source: https://stackoverflow.com/questions/51433378/what-does-model-train-do-in-pytorch)\n",
    "        model.train()\n",
    "\n",
    "        # For each batch of training data...\n",
    "        for step, batch in enumerate(train_dataloader):\n",
    "\n",
    "            # Progress update every 40 batches.\n",
    "            if step % 40 == 0 and not step == 0:\n",
    "                # Calculate elapsed time in minutes.\n",
    "                elapsed = format_time(time.time() - t0)\n",
    "\n",
    "                # Report progress.\n",
    "                print('  Batch {:>5,}  of  {:>5,}.    Elapsed: {:}.'.format(step, len(train_dataloader), elapsed))\n",
    "\n",
    "            # Unpack this training batch from our dataloader. \n",
    "            #\n",
    "            # As we unpack the batch, we'll also copy each tensor to the GPU using the \n",
    "            # `to` method.\n",
    "            #\n",
    "            # `batch` contains three pytorch tensors:\n",
    "            #   [0]: input ids \n",
    "            #   [1]: attention masks\n",
    "            #   [2]: labels \n",
    "            b_input_ids = batch[0].to(device)\n",
    "            b_input_mask = batch[1].to(device)\n",
    "            b_labels = batch[2].to(device)\n",
    "\n",
    "            # Always clear any previously calculated gradients before performing a\n",
    "            # backward pass. PyTorch doesn't do this automatically because \n",
    "            # accumulating the gradients is \"convenient while training RNNs\". \n",
    "            # (source: https://stackoverflow.com/questions/48001598/why-do-we-need-to-call-zero-grad-in-pytorch)\n",
    "            model.zero_grad()        \n",
    "\n",
    "            # Perform a forward pass (evaluate the model on this training batch).\n",
    "            # The documentation for this `model` function is here: \n",
    "            # https://huggingface.co/transformers/v2.2.0/model_doc/bert.html#transformers.BertForSequenceClassification\n",
    "            # It returns different numbers of parameters depending on what arguments\n",
    "            # arge given and what flags are set. For our useage here, it returns\n",
    "            # the loss (because we provided labels) and the \"logits\"--the model\n",
    "            # outputs prior to activation.\n",
    "            loss, logits = model(b_input_ids, \n",
    "                                 token_type_ids=None, \n",
    "                                 attention_mask=b_input_mask, \n",
    "                                 labels=b_labels)\n",
    "\n",
    "            # Accumulate the training loss over all of the batches so that we can\n",
    "            # calculate the average loss at the end. `loss` is a Tensor containing a\n",
    "            # single value; the `.item()` function just returns the Python value \n",
    "            # from the tensor.\n",
    "            total_train_loss += loss.item()\n",
    "\n",
    "            # Perform a backward pass to calculate the gradients.\n",
    "            loss.backward()\n",
    "\n",
    "            # Clip the norm of the gradients to 1.0.\n",
    "            # This is to help prevent the \"exploding gradients\" problem.\n",
    "            torch.nn.utils.clip_grad_norm_(model.parameters(), 1.0)\n",
    "\n",
    "            # Update parameters and take a step using the computed gradient.\n",
    "            # The optimizer dictates the \"update rule\"--how the parameters are\n",
    "            # modified based on their gradients, the learning rate, etc.\n",
    "            optimizer.step()\n",
    "\n",
    "            # Update the learning rate.\n",
    "            scheduler.step()\n",
    "\n",
    "        # Calculate the average loss over all of the batches.\n",
    "        avg_train_loss = total_train_loss / len(train_dataloader)            \n",
    "\n",
    "        # Measure how long this epoch took.\n",
    "        training_time = format_time(time.time() - t0)\n",
    "\n",
    "        print(\"\")\n",
    "        print(\"  Average training loss: {0:.2f}\".format(avg_train_loss))\n",
    "        print(\"  Training epcoh took: {:}\".format(training_time))\n",
    "\n",
    "        # ========================================\n",
    "        #               Validation\n",
    "        # ========================================\n",
    "        # After the completion of each training epoch, measure our performance on\n",
    "        # our validation set.\n",
    "\n",
    "        print(\"\")\n",
    "        print(\"Running Validation...\")\n",
    "\n",
    "        t0 = time.time()\n",
    "\n",
    "        # Put the model in evaluation mode--the dropout layers behave differently\n",
    "        # during evaluation.\n",
    "        model.eval()\n",
    "\n",
    "        # Tracking variables \n",
    "        total_eval_accuracy = 0\n",
    "        total_eval_loss = 0\n",
    "        nb_eval_steps = 0\n",
    "        \n",
    "        y_pred = []\n",
    "\n",
    "        # Evaluate data for one epoch\n",
    "        for batch in validation_dataloader:\n",
    "\n",
    "            # Unpack this training batch from our dataloader. \n",
    "            #\n",
    "            # As we unpack the batch, we'll also copy each tensor to the GPU using \n",
    "            # the `to` method.\n",
    "            #\n",
    "            # `batch` contains three pytorch tensors:\n",
    "            #   [0]: input ids \n",
    "            #   [1]: attention masks\n",
    "            #   [2]: labels \n",
    "            b_input_ids = batch[0].to(device)\n",
    "            b_input_mask = batch[1].to(device)\n",
    "            b_labels = batch[2].to(device)\n",
    "\n",
    "            # Tell pytorch not to bother with constructing the compute graph during\n",
    "            # the forward pass, since this is only needed for backprop (training).\n",
    "            with torch.no_grad():        \n",
    "\n",
    "                # Forward pass, calculate logit predictions.\n",
    "                # token_type_ids is the same as the \"segment ids\", which \n",
    "                # differentiates sentence 1 and 2 in 2-sentence tasks.\n",
    "                # The documentation for this `model` function is here: \n",
    "                # https://huggingface.co/transformers/v2.2.0/model_doc/bert.html#transformers.BertForSequenceClassification\n",
    "                # Get the \"logits\" output by the model. The \"logits\" are the output\n",
    "                # values prior to applying an activation function like the softmax.\n",
    "                (loss, logits) = model(b_input_ids, \n",
    "                                       token_type_ids=None, \n",
    "                                       attention_mask=b_input_mask,\n",
    "                                       labels=b_labels)\n",
    "\n",
    "            # Accumulate the validation loss.\n",
    "            total_eval_loss += loss.item()\n",
    "\n",
    "            # Move logits and labels to CPU\n",
    "            logits = logits.detach().cpu().numpy()\n",
    "            label_ids = b_labels.to('cpu').numpy()\n",
    "\n",
    "            # Calculate the accuracy for this batch of test sentences, and\n",
    "            # accumulate it over all batches.\n",
    "            total_eval_accuracy += flat_accuracy(logits, label_ids)\n",
    "            \n",
    "#             labels = label_ids\n",
    "            preds = logits\n",
    "            pred_flat = np.argmax(preds, axis=1).flatten()\n",
    "#             labels_flat = labels.flatten()\n",
    "#             y_true.extend(labels_flat)\n",
    "            y_pred.extend(pred_flat)\n",
    "\n",
    "\n",
    "        # Report the final accuracy for this validation run.\n",
    "        avg_val_accuracy = total_eval_accuracy / len(validation_dataloader)\n",
    "        print(\"  Accuracy: {0:.2f}\".format(avg_val_accuracy))\n",
    "\n",
    "        # Calculate the average loss over all of the batches.\n",
    "        avg_val_loss = total_eval_loss / len(validation_dataloader)\n",
    "\n",
    "        # Measure how long the validation run took.\n",
    "        validation_time = format_time(time.time() - t0)\n",
    "\n",
    "        print(\"  Validation Loss: {0:.2f}\".format(avg_val_loss))\n",
    "        print(\"  Validation took: {:}\".format(validation_time))\n",
    "\n",
    "        # Record all statistics from this epoch.\n",
    "        training_stats.append(\n",
    "            {\n",
    "                'epoch': epoch_i + 1,\n",
    "                'Training Loss': avg_train_loss,\n",
    "                'Valid. Loss': avg_val_loss,\n",
    "                'Valid. Accur.': avg_val_accuracy,\n",
    "                'Training Time': training_time,\n",
    "                'Validation Time': validation_time\n",
    "            }\n",
    "        )\n",
    "        print(training_stats)\n",
    "        \n",
    "    return training_stats, y_pred\n"
   ]
  },
  {
   "cell_type": "code",
   "execution_count": 47,
   "metadata": {
    "execution": {
     "iopub.execute_input": "2020-10-24T13:07:22.556323Z",
     "iopub.status.busy": "2020-10-24T13:07:22.555329Z",
     "iopub.status.idle": "2020-10-24T13:07:22.558781Z",
     "shell.execute_reply": "2020-10-24T13:07:22.558228Z"
    },
    "papermill": {
     "duration": 0.124574,
     "end_time": "2020-10-24T13:07:22.558880",
     "exception": false,
     "start_time": "2020-10-24T13:07:22.434306",
     "status": "completed"
    },
    "tags": []
   },
   "outputs": [],
   "source": [
    "# def train_fn(train_dataloader, validation_dataloader):\n",
    "\n",
    "#     # This training code is based on the `run_glue.py` script here:\n",
    "#     # https://github.com/huggingface/transformers/blob/5bfcd0485ece086ebcbed2d008813037968a9e58/examples/run_glue.py#L128\n",
    "\n",
    "#     # Set the seed value all over the place to make this reproducible.\n",
    "#     seed_val = 42\n",
    "\n",
    "#     random.seed(seed_val)\n",
    "#     np.random.seed(seed_val)\n",
    "#     torch.manual_seed(seed_val)\n",
    "#     torch.cuda.manual_seed_all(seed_val)\n",
    "\n",
    "#     # We'll store a number of quantities such as training and validation loss, \n",
    "#     # validation accuracy, and timings.\n",
    "#     training_stats = []\n",
    "\n",
    "#     # Measure the total training time for the whole run.\n",
    "#     total_t0 = time.time()\n",
    "\n",
    "#     # For each epoch...\n",
    "#     for epoch_i in range(0, epochs):\n",
    "\n",
    "#         # ========================================\n",
    "#         #               Training\n",
    "#         # ========================================\n",
    "\n",
    "#         # Perform one full pass over the training set.\n",
    "\n",
    "#         print(\"\")\n",
    "#         print('======== Epoch {:} / {:} ========'.format(epoch_i + 1, epochs))\n",
    "#         print('Training...')\n",
    "\n",
    "#         # Measure how long the training epoch takes.\n",
    "#         t0 = time.time()\n",
    "\n",
    "#         # Reset the total loss for this epoch.\n",
    "#         total_train_loss = 0\n",
    "\n",
    "#         # Put the model into training mode. Don't be mislead--the call to \n",
    "#         # `train` just changes the *mode*, it doesn't *perform* the training.\n",
    "#         # `dropout` and `batchnorm` layers behave differently during training\n",
    "#         # vs. test (source: https://stackoverflow.com/questions/51433378/what-does-model-train-do-in-pytorch)\n",
    "#         model.train()\n",
    "\n",
    "#         # For each batch of training data...\n",
    "#         for step, batch in enumerate(train_dataloader):\n",
    "\n",
    "#             # Progress update every 40 batches.\n",
    "#             if step % 40 == 0 and not step == 0:\n",
    "#                 # Calculate elapsed time in minutes.\n",
    "#                 elapsed = format_time(time.time() - t0)\n",
    "\n",
    "#                 # Report progress.\n",
    "#                 print('  Batch {:>5,}  of  {:>5,}.    Elapsed: {:}.'.format(step, len(train_dataloader), elapsed))\n",
    "\n",
    "#             # Unpack this training batch from our dataloader. \n",
    "#             #\n",
    "#             # As we unpack the batch, we'll also copy each tensor to the GPU using the \n",
    "#             # `to` method.\n",
    "#             #\n",
    "#             # `batch` contains three pytorch tensors:\n",
    "#             #   [0]: input ids \n",
    "#             #   [1]: attention masks\n",
    "#             #   [2]: labels \n",
    "#             b_input_ids = batch[0].to(device)\n",
    "#             b_input_mask = batch[1].to(device)\n",
    "#             b_labels = batch[2].to(device)\n",
    "\n",
    "#             # Always clear any previously calculated gradients before performing a\n",
    "#             # backward pass. PyTorch doesn't do this automatically because \n",
    "#             # accumulating the gradients is \"convenient while training RNNs\". \n",
    "#             # (source: https://stackoverflow.com/questions/48001598/why-do-we-need-to-call-zero-grad-in-pytorch)\n",
    "#             model.zero_grad()        \n",
    "\n",
    "#             # Perform a forward pass (evaluate the model on this training batch).\n",
    "#             # The documentation for this `model` function is here: \n",
    "#             # https://huggingface.co/transformers/v2.2.0/model_doc/bert.html#transformers.BertForSequenceClassification\n",
    "#             # It returns different numbers of parameters depending on what arguments\n",
    "#             # arge given and what flags are set. For our useage here, it returns\n",
    "#             # the loss (because we provided labels) and the \"logits\"--the model\n",
    "#             # outputs prior to activation.\n",
    "#             loss, logits = model(b_input_ids, \n",
    "#                                  token_type_ids=None, \n",
    "#                                  attention_mask=b_input_mask, \n",
    "#                                  labels=b_labels)\n",
    "\n",
    "#             # Accumulate the training loss over all of the batches so that we can\n",
    "#             # calculate the average loss at the end. `loss` is a Tensor containing a\n",
    "#             # single value; the `.item()` function just returns the Python value \n",
    "#             # from the tensor.\n",
    "#             total_train_loss += loss.item()\n",
    "\n",
    "#             # Perform a backward pass to calculate the gradients.\n",
    "#             loss.backward()\n",
    "\n",
    "#             # Clip the norm of the gradients to 1.0.\n",
    "#             # This is to help prevent the \"exploding gradients\" problem.\n",
    "#             torch.nn.utils.clip_grad_norm_(model.parameters(), 1.0)\n",
    "\n",
    "#             # Update parameters and take a step using the computed gradient.\n",
    "#             # The optimizer dictates the \"update rule\"--how the parameters are\n",
    "#             # modified based on their gradients, the learning rate, etc.\n",
    "#             optimizer.step()\n",
    "\n",
    "#             # Update the learning rate.\n",
    "#             scheduler.step()\n",
    "\n",
    "#         # Calculate the average loss over all of the batches.\n",
    "#         avg_train_loss = total_train_loss / len(train_dataloader)            \n",
    "\n",
    "#         # Measure how long this epoch took.\n",
    "#         training_time = format_time(time.time() - t0)\n",
    "\n",
    "#         print(\"\")\n",
    "#         print(\"  Average training loss: {0:.2f}\".format(avg_train_loss))\n",
    "#         print(\"  Training epcoh took: {:}\".format(training_time))\n",
    "\n",
    "#         # ========================================\n",
    "#         #               Validation\n",
    "#         # ========================================\n",
    "#         # After the completion of each training epoch, measure our performance on\n",
    "#         # our validation set.\n",
    "\n",
    "#         print(\"\")\n",
    "#         print(\"Running Validation...\")\n",
    "\n",
    "#         t0 = time.time()\n",
    "\n",
    "#         # Put the model in evaluation mode--the dropout layers behave differently\n",
    "#         # during evaluation.\n",
    "#         model.eval()\n",
    "\n",
    "#         # Tracking variables \n",
    "#         total_eval_accuracy = 0\n",
    "#         total_eval_loss = 0\n",
    "#         nb_eval_steps = 0\n",
    "\n",
    "#         # Evaluate data for one epoch\n",
    "#         for batch in validation_dataloader:\n",
    "\n",
    "#             # Unpack this training batch from our dataloader. \n",
    "#             #\n",
    "#             # As we unpack the batch, we'll also copy each tensor to the GPU using \n",
    "#             # the `to` method.\n",
    "#             #\n",
    "#             # `batch` contains three pytorch tensors:\n",
    "#             #   [0]: input ids \n",
    "#             #   [1]: attention masks\n",
    "#             #   [2]: labels \n",
    "#             b_input_ids = batch[0].to(device)\n",
    "#             b_input_mask = batch[1].to(device)\n",
    "#             b_labels = batch[2].to(device)\n",
    "\n",
    "#             # Tell pytorch not to bother with constructing the compute graph during\n",
    "#             # the forward pass, since this is only needed for backprop (training).\n",
    "#             with torch.no_grad():        \n",
    "\n",
    "#                 # Forward pass, calculate logit predictions.\n",
    "#                 # token_type_ids is the same as the \"segment ids\", which \n",
    "#                 # differentiates sentence 1 and 2 in 2-sentence tasks.\n",
    "#                 # The documentation for this `model` function is here: \n",
    "#                 # https://huggingface.co/transformers/v2.2.0/model_doc/bert.html#transformers.BertForSequenceClassification\n",
    "#                 # Get the \"logits\" output by the model. The \"logits\" are the output\n",
    "#                 # values prior to applying an activation function like the softmax.\n",
    "#                 (loss, logits) = model(b_input_ids, \n",
    "#                                        token_type_ids=None, \n",
    "#                                        attention_mask=b_input_mask,\n",
    "#                                        labels=b_labels)\n",
    "\n",
    "#             # Accumulate the validation loss.\n",
    "#             total_eval_loss += loss.item()\n",
    "\n",
    "#             # Move logits and labels to CPU\n",
    "#             logits = logits.detach().cpu().numpy()\n",
    "#             label_ids = b_labels.to('cpu').numpy()\n",
    "\n",
    "#             # Calculate the accuracy for this batch of test sentences, and\n",
    "#             # accumulate it over all batches.\n",
    "#             total_eval_accuracy += flat_accuracy(logits, label_ids)\n",
    "\n",
    "\n",
    "#         # Report the final accuracy for this validation run.\n",
    "#         avg_val_accuracy = total_eval_accuracy / len(validation_dataloader)\n",
    "#         print(\"  Accuracy: {0:.2f}\".format(avg_val_accuracy))\n",
    "\n",
    "#         # Calculate the average loss over all of the batches.\n",
    "#         avg_val_loss = total_eval_loss / len(validation_dataloader)\n",
    "\n",
    "#         # Measure how long the validation run took.\n",
    "#         validation_time = format_time(time.time() - t0)\n",
    "\n",
    "#         print(\"  Validation Loss: {0:.2f}\".format(avg_val_loss))\n",
    "#         print(\"  Validation took: {:}\".format(validation_time))\n",
    "\n",
    "#         # Record all statistics from this epoch.\n",
    "#         training_stats.append(\n",
    "#             {\n",
    "#                 'epoch': epoch_i + 1,\n",
    "#                 'Training Loss': avg_train_loss,\n",
    "#                 'Valid. Loss': avg_val_loss,\n",
    "#                 'Valid. Accur.': avg_val_accuracy,\n",
    "#                 'Training Time': training_time,\n",
    "#                 'Validation Time': validation_time\n",
    "#             }\n",
    "#         )\n",
    "#         print(training_stats)\n",
    "\n",
    "#     return training_stats\n"
   ]
  },
  {
   "cell_type": "code",
   "execution_count": 48,
   "metadata": {
    "execution": {
     "iopub.execute_input": "2020-10-24T13:07:22.793503Z",
     "iopub.status.busy": "2020-10-24T13:07:22.791639Z",
     "iopub.status.idle": "2020-10-24T13:07:22.794220Z",
     "shell.execute_reply": "2020-10-24T13:07:22.794722Z"
    },
    "papermill": {
     "duration": 0.123739,
     "end_time": "2020-10-24T13:07:22.794844",
     "exception": false,
     "start_time": "2020-10-24T13:07:22.671105",
     "status": "completed"
    },
    "tags": []
   },
   "outputs": [],
   "source": [
    "def stats(training_stats):\n",
    "    pd.set_option('precision', 2)\n",
    "\n",
    "    # Create a DataFrame from our training statistics.\n",
    "    df_stats = pd.DataFrame(data=training_stats)\n",
    "\n",
    "    # Use the 'epoch' as the row index.\n",
    "    df_stats = df_stats.set_index('epoch')\n",
    "\n",
    "    # A hack to force the column headers to wrap.\n",
    "    #df = df.style.set_table_styles([dict(selector=\"th\",props=[('max-width', '70px')])])\n",
    "\n",
    "    # Display the table.\n",
    "    return df_stats\n"
   ]
  },
  {
   "cell_type": "code",
   "execution_count": 49,
   "metadata": {
    "execution": {
     "iopub.execute_input": "2020-10-24T13:07:23.038829Z",
     "iopub.status.busy": "2020-10-24T13:07:23.038037Z",
     "iopub.status.idle": "2020-10-24T13:07:23.041689Z",
     "shell.execute_reply": "2020-10-24T13:07:23.041100Z"
    },
    "papermill": {
     "duration": 0.131062,
     "end_time": "2020-10-24T13:07:23.041812",
     "exception": false,
     "start_time": "2020-10-24T13:07:22.910750",
     "status": "completed"
    },
    "tags": []
   },
   "outputs": [],
   "source": [
    "def plot_stats(df_stats):\n",
    "    sns.set(style='darkgrid')\n",
    "\n",
    "# Increase the plot size and font size.\n",
    "    sns.set(font_scale=1.5)\n",
    "    plt.rcParams[\"figure.figsize\"] = (12,6)\n",
    "\n",
    "    # Plot the learning curve.\n",
    "    plt.plot(df_stats['Training Loss'], 'b-o', label=\"Training\")\n",
    "    plt.plot(df_stats['Valid. Loss'], 'g-o', label=\"Validation\")\n",
    "\n",
    "    # Label the plot.\n",
    "    plt.title(\"Training & Validation Loss\")\n",
    "    plt.xlabel(\"Epoch\")\n",
    "    plt.ylabel(\"Loss\")\n",
    "    plt.legend()\n",
    "    plt.xticks([1, 2, 3, 4])\n",
    "\n",
    "    plt.show()\n"
   ]
  },
  {
   "cell_type": "code",
   "execution_count": 50,
   "metadata": {
    "execution": {
     "iopub.execute_input": "2020-10-24T13:07:23.287833Z",
     "iopub.status.busy": "2020-10-24T13:07:23.286653Z",
     "iopub.status.idle": "2020-10-24T13:07:23.289803Z",
     "shell.execute_reply": "2020-10-24T13:07:23.288908Z"
    },
    "papermill": {
     "duration": 0.135872,
     "end_time": "2020-10-24T13:07:23.289967",
     "exception": false,
     "start_time": "2020-10-24T13:07:23.154095",
     "status": "completed"
    },
    "tags": []
   },
   "outputs": [],
   "source": [
    "# input_ids, attention_masks = X_process(train_sentences)\n",
    "# train_dataloader = train_load(input_ids, attention_masks, train_labels)\n",
    "\n",
    "# input_ids, attention_masks = X_process(val_sentences)\n",
    "# validation_dataloader = val_load(input_ids, attention_masks, val_labels)"
   ]
  },
  {
   "cell_type": "code",
   "execution_count": 51,
   "metadata": {
    "execution": {
     "iopub.execute_input": "2020-10-24T13:07:23.531409Z",
     "iopub.status.busy": "2020-10-24T13:07:23.530486Z",
     "iopub.status.idle": "2020-10-24T13:07:23.533712Z",
     "shell.execute_reply": "2020-10-24T13:07:23.533179Z"
    },
    "papermill": {
     "duration": 0.121183,
     "end_time": "2020-10-24T13:07:23.533822",
     "exception": false,
     "start_time": "2020-10-24T13:07:23.412639",
     "status": "completed"
    },
    "tags": []
   },
   "outputs": [],
   "source": [
    "# from transformers import get_linear_schedule_with_warmup\n",
    "\n",
    "# # Number of training epochs. The BERT authors recommend between 2 and 4. \n",
    "# # We chose to run for 4, but we'll see later that this may be over-fitting the\n",
    "# # training data.\n",
    "# epochs = 4\n",
    "\n",
    "# # Total number of training steps is [number of batches] x [number of epochs]. \n",
    "# # (Note that this is not the same as the number of training samples).\n",
    "# total_steps = len(train_dataloader) * epochs\n",
    "\n",
    "# # Create the learning rate scheduler.\n",
    "# scheduler = get_linear_schedule_with_warmup(optimizer, \n",
    "#                                             num_warmup_steps = 0, # Default value in run_glue.py\n",
    "#                                             num_training_steps = total_steps)\n"
   ]
  },
  {
   "cell_type": "code",
   "execution_count": 52,
   "metadata": {
    "execution": {
     "iopub.execute_input": "2020-10-24T13:07:23.767495Z",
     "iopub.status.busy": "2020-10-24T13:07:23.766475Z",
     "iopub.status.idle": "2020-10-24T13:07:23.769654Z",
     "shell.execute_reply": "2020-10-24T13:07:23.769096Z"
    },
    "papermill": {
     "duration": 0.121048,
     "end_time": "2020-10-24T13:07:23.769772",
     "exception": false,
     "start_time": "2020-10-24T13:07:23.648724",
     "status": "completed"
    },
    "tags": []
   },
   "outputs": [],
   "source": [
    "# training_stats, y_pred_defamation = train_fn(train_dataloader, validation_dataloader)"
   ]
  },
  {
   "cell_type": "code",
   "execution_count": 53,
   "metadata": {
    "execution": {
     "iopub.execute_input": "2020-10-24T13:07:24.007409Z",
     "iopub.status.busy": "2020-10-24T13:07:24.006743Z",
     "iopub.status.idle": "2020-10-24T13:07:24.011437Z",
     "shell.execute_reply": "2020-10-24T13:07:24.010558Z"
    },
    "papermill": {
     "duration": 0.126829,
     "end_time": "2020-10-24T13:07:24.011552",
     "exception": false,
     "start_time": "2020-10-24T13:07:23.884723",
     "status": "completed"
    },
    "tags": []
   },
   "outputs": [],
   "source": [
    "# df_stats  = stats(training_stats)\n",
    "# plot_stats(df_stats)"
   ]
  },
  {
   "cell_type": "code",
   "execution_count": 54,
   "metadata": {
    "execution": {
     "iopub.execute_input": "2020-10-24T13:07:24.249277Z",
     "iopub.status.busy": "2020-10-24T13:07:24.248465Z",
     "iopub.status.idle": "2020-10-24T13:07:24.251498Z",
     "shell.execute_reply": "2020-10-24T13:07:24.250995Z"
    },
    "papermill": {
     "duration": 0.120209,
     "end_time": "2020-10-24T13:07:24.251612",
     "exception": false,
     "start_time": "2020-10-24T13:07:24.131403",
     "status": "completed"
    },
    "tags": []
   },
   "outputs": [],
   "source": [
    "# df_stats"
   ]
  },
  {
   "cell_type": "code",
   "execution_count": 55,
   "metadata": {
    "execution": {
     "iopub.execute_input": "2020-10-24T13:07:24.480122Z",
     "iopub.status.busy": "2020-10-24T13:07:24.479262Z",
     "iopub.status.idle": "2020-10-24T13:07:24.481603Z",
     "shell.execute_reply": "2020-10-24T13:07:24.482076Z"
    },
    "papermill": {
     "duration": 0.118683,
     "end_time": "2020-10-24T13:07:24.482236",
     "exception": false,
     "start_time": "2020-10-24T13:07:24.363553",
     "status": "completed"
    },
    "tags": []
   },
   "outputs": [],
   "source": [
    "# len(y_pred_defamation)"
   ]
  },
  {
   "cell_type": "code",
   "execution_count": 56,
   "metadata": {
    "execution": {
     "iopub.execute_input": "2020-10-24T13:07:24.714869Z",
     "iopub.status.busy": "2020-10-24T13:07:24.713988Z",
     "iopub.status.idle": "2020-10-24T13:07:24.716930Z",
     "shell.execute_reply": "2020-10-24T13:07:24.716444Z"
    },
    "papermill": {
     "duration": 0.120947,
     "end_time": "2020-10-24T13:07:24.717030",
     "exception": false,
     "start_time": "2020-10-24T13:07:24.596083",
     "status": "completed"
    },
    "tags": []
   },
   "outputs": [],
   "source": [
    "# len(val_labels)"
   ]
  },
  {
   "cell_type": "code",
   "execution_count": 57,
   "metadata": {
    "execution": {
     "iopub.execute_input": "2020-10-24T13:07:24.945374Z",
     "iopub.status.busy": "2020-10-24T13:07:24.944497Z",
     "iopub.status.idle": "2020-10-24T13:07:24.947657Z",
     "shell.execute_reply": "2020-10-24T13:07:24.947166Z"
    },
    "papermill": {
     "duration": 0.119846,
     "end_time": "2020-10-24T13:07:24.947759",
     "exception": false,
     "start_time": "2020-10-24T13:07:24.827913",
     "status": "completed"
    },
    "tags": []
   },
   "outputs": [],
   "source": [
    "# Label Mapping\n",
    "# labels_mapping = {'defamation':0,\n",
    "#  'fake':1,\n",
    "#  'hate':2,\n",
    "#  'non-hostile':3,\n",
    "#  'offensive':4}\n",
    "\n"
   ]
  },
  {
   "cell_type": "code",
   "execution_count": 58,
   "metadata": {
    "execution": {
     "iopub.execute_input": "2020-10-24T13:07:25.189211Z",
     "iopub.status.busy": "2020-10-24T13:07:25.188342Z",
     "iopub.status.idle": "2020-10-24T13:07:25.192458Z",
     "shell.execute_reply": "2020-10-24T13:07:25.191962Z"
    },
    "papermill": {
     "duration": 0.12606,
     "end_time": "2020-10-24T13:07:25.192562",
     "exception": false,
     "start_time": "2020-10-24T13:07:25.066502",
     "status": "completed"
    },
    "tags": []
   },
   "outputs": [],
   "source": [
    "# Label Mapping\n",
    "# labels_mapping = {'defamation':0,\n",
    "#  'fake':1,\n",
    "#  'hate':2,\n",
    "#  'non-hostile':3,\n",
    "#  'offensive':4}\n",
    "\n",
    "\n",
    "y_train_defamation = train_y[:,0].astype(int)\n",
    "y_train_fake = train_y[:,1].astype(int)\n",
    "y_train_hate = train_y[:,2].astype(int)\n",
    "y_train_non_hostile = train_y[:,3].astype(int)\n",
    "y_train_offensive = train_y[:,4].astype(int)\n",
    "\n",
    "y_val_defamation = val_y[:,0].astype(int)\n",
    "y_val_fake = val_y[:,1].astype(int)\n",
    "y_val_hate = val_y[:,2].astype(int)\n",
    "y_val_non_hostile = val_y[:,3].astype(int)\n",
    "y_val_offensive = val_y[:,4].astype(int)"
   ]
  },
  {
   "cell_type": "code",
   "execution_count": 59,
   "metadata": {
    "execution": {
     "iopub.execute_input": "2020-10-24T13:07:25.421205Z",
     "iopub.status.busy": "2020-10-24T13:07:25.420422Z",
     "iopub.status.idle": "2020-10-24T13:07:25.423004Z",
     "shell.execute_reply": "2020-10-24T13:07:25.423435Z"
    },
    "papermill": {
     "duration": 0.119883,
     "end_time": "2020-10-24T13:07:25.423554",
     "exception": false,
     "start_time": "2020-10-24T13:07:25.303671",
     "status": "completed"
    },
    "tags": []
   },
   "outputs": [],
   "source": [
    "# train_sentences = train_data['Filtered_Post'].values\n",
    "# val_sentences = val_data['Filtered_Post'].values\n",
    "\n",
    "\n",
    "train_sentences = train_data['Post'].values\n",
    "val_sentences = val_data['Post'].values"
   ]
  },
  {
   "cell_type": "markdown",
   "metadata": {
    "papermill": {
     "duration": 0.112231,
     "end_time": "2020-10-24T13:07:25.647245",
     "exception": false,
     "start_time": "2020-10-24T13:07:25.535014",
     "status": "completed"
    },
    "tags": []
   },
   "source": [
    "### Defamation"
   ]
  },
  {
   "cell_type": "code",
   "execution_count": 60,
   "metadata": {
    "execution": {
     "iopub.execute_input": "2020-10-24T13:07:25.925955Z",
     "iopub.status.busy": "2020-10-24T13:07:25.924840Z",
     "iopub.status.idle": "2020-10-24T13:07:25.927566Z",
     "shell.execute_reply": "2020-10-24T13:07:25.926796Z"
    },
    "papermill": {
     "duration": 0.16774,
     "end_time": "2020-10-24T13:07:25.927736",
     "exception": false,
     "start_time": "2020-10-24T13:07:25.759996",
     "status": "completed"
    },
    "tags": []
   },
   "outputs": [],
   "source": [
    "train_labels_defamation = y_train_defamation"
   ]
  },
  {
   "cell_type": "code",
   "execution_count": 61,
   "metadata": {
    "execution": {
     "iopub.execute_input": "2020-10-24T13:07:26.277020Z",
     "iopub.status.busy": "2020-10-24T13:07:26.273134Z",
     "iopub.status.idle": "2020-10-24T13:07:26.278119Z",
     "shell.execute_reply": "2020-10-24T13:07:26.278850Z"
    },
    "papermill": {
     "duration": 0.184568,
     "end_time": "2020-10-24T13:07:26.279026",
     "exception": false,
     "start_time": "2020-10-24T13:07:26.094458",
     "status": "completed"
    },
    "tags": []
   },
   "outputs": [],
   "source": [
    "\n",
    "val_labels_defamation = y_val_defamation"
   ]
  },
  {
   "cell_type": "code",
   "execution_count": 62,
   "metadata": {
    "execution": {
     "iopub.execute_input": "2020-10-24T13:07:26.633763Z",
     "iopub.status.busy": "2020-10-24T13:07:26.630778Z",
     "iopub.status.idle": "2020-10-24T13:07:35.029381Z",
     "shell.execute_reply": "2020-10-24T13:07:35.028524Z"
    },
    "papermill": {
     "duration": 8.581183,
     "end_time": "2020-10-24T13:07:35.029494",
     "exception": false,
     "start_time": "2020-10-24T13:07:26.448311",
     "status": "completed"
    },
    "tags": []
   },
   "outputs": [],
   "source": [
    "input_ids, attention_masks = X_process(train_sentences)\n",
    "train_dataloader = train_load(input_ids, attention_masks, train_labels_defamation)\n",
    "\n",
    "input_ids, attention_masks = X_process(val_sentences)\n",
    "validation_dataloader = val_load(input_ids, attention_masks, val_labels_defamation)"
   ]
  },
  {
   "cell_type": "code",
   "execution_count": 63,
   "metadata": {
    "execution": {
     "iopub.execute_input": "2020-10-24T13:07:35.261401Z",
     "iopub.status.busy": "2020-10-24T13:07:35.260569Z",
     "iopub.status.idle": "2020-10-24T13:07:35.263733Z",
     "shell.execute_reply": "2020-10-24T13:07:35.263178Z"
    },
    "papermill": {
     "duration": 0.121752,
     "end_time": "2020-10-24T13:07:35.263836",
     "exception": false,
     "start_time": "2020-10-24T13:07:35.142084",
     "status": "completed"
    },
    "tags": []
   },
   "outputs": [],
   "source": [
    "from transformers import get_linear_schedule_with_warmup\n",
    "\n",
    "# Number of training epochs. The BERT authors recommend between 2 and 4. \n",
    "# We chose to run for 4, but we'll see later that this may be over-fitting the\n",
    "# training data.\n",
    "epochs = 4\n",
    "\n",
    "# Total number of training steps is [number of batches] x [number of epochs]. \n",
    "# (Note that this is not the same as the number of training samples).\n",
    "total_steps = len(train_dataloader) * epochs\n",
    "\n",
    "# Create the learning rate scheduler.\n",
    "scheduler = get_linear_schedule_with_warmup(optimizer, \n",
    "                                            num_warmup_steps = 0, # Default value in run_glue.py\n",
    "                                            num_training_steps = total_steps)\n"
   ]
  },
  {
   "cell_type": "code",
   "execution_count": 64,
   "metadata": {
    "execution": {
     "iopub.execute_input": "2020-10-24T13:07:35.499502Z",
     "iopub.status.busy": "2020-10-24T13:07:35.495056Z",
     "iopub.status.idle": "2020-10-24T13:17:21.915563Z",
     "shell.execute_reply": "2020-10-24T13:17:21.916052Z"
    },
    "papermill": {
     "duration": 586.539774,
     "end_time": "2020-10-24T13:17:21.916209",
     "exception": false,
     "start_time": "2020-10-24T13:07:35.376435",
     "status": "completed"
    },
    "tags": []
   },
   "outputs": [
    {
     "name": "stdout",
     "output_type": "stream",
     "text": [
      "\n",
      "======== Epoch 1 / 4 ========\n",
      "Training...\n",
      "  Batch    40  of    179.    Elapsed: 0:00:32.\n",
      "  Batch    80  of    179.    Elapsed: 0:01:03.\n",
      "  Batch   120  of    179.    Elapsed: 0:01:35.\n",
      "  Batch   160  of    179.    Elapsed: 0:02:06.\n",
      "\n",
      "  Average training loss: 0.28\n",
      "  Training epcoh took: 0:02:21\n",
      "\n",
      "Running Validation...\n",
      "  Accuracy: 0.90\n",
      "  Validation Loss: 0.27\n",
      "  Validation took: 0:00:06\n",
      "[{'epoch': 1, 'Training Loss': 0.2807468667043654, 'Valid. Loss': 0.26671773195266724, 'Valid. Accur.': 0.9028627622377622, 'Training Time': '0:02:21', 'Validation Time': '0:00:06'}]\n",
      "\n",
      "======== Epoch 2 / 4 ========\n",
      "Training...\n",
      "  Batch    40  of    179.    Elapsed: 0:00:31.\n",
      "  Batch    80  of    179.    Elapsed: 0:01:02.\n",
      "  Batch   120  of    179.    Elapsed: 0:01:34.\n",
      "  Batch   160  of    179.    Elapsed: 0:02:05.\n",
      "\n",
      "  Average training loss: 0.22\n",
      "  Training epcoh took: 0:02:20\n",
      "\n",
      "Running Validation...\n",
      "  Accuracy: 0.91\n",
      "  Validation Loss: 0.25\n",
      "  Validation took: 0:00:06\n",
      "[{'epoch': 1, 'Training Loss': 0.2807468667043654, 'Valid. Loss': 0.26671773195266724, 'Valid. Accur.': 0.9028627622377622, 'Training Time': '0:02:21', 'Validation Time': '0:00:06'}, {'epoch': 2, 'Training Loss': 0.22084680399415213, 'Valid. Loss': 0.2458699832742031, 'Valid. Accur.': 0.9052666083916083, 'Training Time': '0:02:20', 'Validation Time': '0:00:06'}]\n",
      "\n",
      "======== Epoch 3 / 4 ========\n",
      "Training...\n",
      "  Batch    40  of    179.    Elapsed: 0:00:31.\n",
      "  Batch    80  of    179.    Elapsed: 0:01:03.\n",
      "  Batch   120  of    179.    Elapsed: 0:01:34.\n",
      "  Batch   160  of    179.    Elapsed: 0:02:05.\n",
      "\n",
      "  Average training loss: 0.18\n",
      "  Training epcoh took: 0:02:20\n",
      "\n",
      "Running Validation...\n",
      "  Accuracy: 0.89\n",
      "  Validation Loss: 0.27\n",
      "  Validation took: 0:00:06\n",
      "[{'epoch': 1, 'Training Loss': 0.2807468667043654, 'Valid. Loss': 0.26671773195266724, 'Valid. Accur.': 0.9028627622377622, 'Training Time': '0:02:21', 'Validation Time': '0:00:06'}, {'epoch': 2, 'Training Loss': 0.22084680399415213, 'Valid. Loss': 0.2458699832742031, 'Valid. Accur.': 0.9052666083916083, 'Training Time': '0:02:20', 'Validation Time': '0:00:06'}, {'epoch': 3, 'Training Loss': 0.17893040538167154, 'Valid. Loss': 0.27335120737552643, 'Valid. Accur.': 0.8861451048951049, 'Training Time': '0:02:20', 'Validation Time': '0:00:06'}]\n",
      "\n",
      "======== Epoch 4 / 4 ========\n",
      "Training...\n",
      "  Batch    40  of    179.    Elapsed: 0:00:31.\n",
      "  Batch    80  of    179.    Elapsed: 0:01:03.\n",
      "  Batch   120  of    179.    Elapsed: 0:01:34.\n",
      "  Batch   160  of    179.    Elapsed: 0:02:05.\n",
      "\n",
      "  Average training loss: 0.13\n",
      "  Training epcoh took: 0:02:20\n",
      "\n",
      "Running Validation...\n",
      "  Accuracy: 0.90\n",
      "  Validation Loss: 0.32\n",
      "  Validation took: 0:00:06\n",
      "[{'epoch': 1, 'Training Loss': 0.2807468667043654, 'Valid. Loss': 0.26671773195266724, 'Valid. Accur.': 0.9028627622377622, 'Training Time': '0:02:21', 'Validation Time': '0:00:06'}, {'epoch': 2, 'Training Loss': 0.22084680399415213, 'Valid. Loss': 0.2458699832742031, 'Valid. Accur.': 0.9052666083916083, 'Training Time': '0:02:20', 'Validation Time': '0:00:06'}, {'epoch': 3, 'Training Loss': 0.17893040538167154, 'Valid. Loss': 0.27335120737552643, 'Valid. Accur.': 0.8861451048951049, 'Training Time': '0:02:20', 'Validation Time': '0:00:06'}, {'epoch': 4, 'Training Loss': 0.1287869648518842, 'Valid. Loss': 0.32103511547813046, 'Valid. Accur.': 0.8957604895104895, 'Training Time': '0:02:20', 'Validation Time': '0:00:06'}]\n"
     ]
    }
   ],
   "source": [
    "training_stats, y_pred_defamation = train_fn(train_dataloader, validation_dataloader)"
   ]
  },
  {
   "cell_type": "code",
   "execution_count": 65,
   "metadata": {
    "execution": {
     "iopub.execute_input": "2020-10-24T13:17:22.183427Z",
     "iopub.status.busy": "2020-10-24T13:17:22.182817Z",
     "iopub.status.idle": "2020-10-24T13:17:22.445834Z",
     "shell.execute_reply": "2020-10-24T13:17:22.445330Z"
    },
    "papermill": {
     "duration": 0.394942,
     "end_time": "2020-10-24T13:17:22.445946",
     "exception": false,
     "start_time": "2020-10-24T13:17:22.051004",
     "status": "completed"
    },
    "tags": []
   },
   "outputs": [
    {
     "data": {
      "image/png": "[encoded data removed]",
      "text/plain": [
       "<Figure size 864x432 with 1 Axes>"
      ]
     },
     "metadata": {},
     "output_type": "display_data"
    }
   ],
   "source": [
    "df_stats  = stats(training_stats)\n",
    "plot_stats(df_stats)"
   ]
  },
  {
   "cell_type": "code",
   "execution_count": 66,
   "metadata": {
    "execution": {
     "iopub.execute_input": "2020-10-24T13:17:22.714052Z",
     "iopub.status.busy": "2020-10-24T13:17:22.713060Z",
     "iopub.status.idle": "2020-10-24T13:17:22.717120Z",
     "shell.execute_reply": "2020-10-24T13:17:22.717609Z"
    },
    "papermill": {
     "duration": 0.140482,
     "end_time": "2020-10-24T13:17:22.717760",
     "exception": false,
     "start_time": "2020-10-24T13:17:22.577278",
     "status": "completed"
    },
    "tags": []
   },
   "outputs": [
    {
     "data": {
      "text/html": [
       "<div>\n",
       "<style scoped>\n",
       "    .dataframe tbody tr th:only-of-type {\n",
       "        vertical-align: middle;\n",
       "    }\n",
       "\n",
       "    .dataframe tbody tr th {\n",
       "        vertical-align: top;\n",
       "    }\n",
       "\n",
       "    .dataframe thead th {\n",
       "        text-align: right;\n",
       "    }\n",
       "</style>\n",
       "<table border=\"1\" class=\"dataframe\">\n",
       "  <thead>\n",
       "    <tr style=\"text-align: right;\">\n",
       "      <th></th>\n",
       "      <th>Training Loss</th>\n",
       "      <th>Valid. Loss</th>\n",
       "      <th>Valid. Accur.</th>\n",
       "      <th>Training Time</th>\n",
       "      <th>Validation Time</th>\n",
       "    </tr>\n",
       "    <tr>\n",
       "      <th>epoch</th>\n",
       "      <th></th>\n",
       "      <th></th>\n",
       "      <th></th>\n",
       "      <th></th>\n",
       "      <th></th>\n",
       "    </tr>\n",
       "  </thead>\n",
       "  <tbody>\n",
       "    <tr>\n",
       "      <th>1</th>\n",
       "      <td>0.28</td>\n",
       "      <td>0.27</td>\n",
       "      <td>0.90</td>\n",
       "      <td>0:02:21</td>\n",
       "      <td>0:00:06</td>\n",
       "    </tr>\n",
       "    <tr>\n",
       "      <th>2</th>\n",
       "      <td>0.22</td>\n",
       "      <td>0.25</td>\n",
       "      <td>0.91</td>\n",
       "      <td>0:02:20</td>\n",
       "      <td>0:00:06</td>\n",
       "    </tr>\n",
       "    <tr>\n",
       "      <th>3</th>\n",
       "      <td>0.18</td>\n",
       "      <td>0.27</td>\n",
       "      <td>0.89</td>\n",
       "      <td>0:02:20</td>\n",
       "      <td>0:00:06</td>\n",
       "    </tr>\n",
       "    <tr>\n",
       "      <th>4</th>\n",
       "      <td>0.13</td>\n",
       "      <td>0.32</td>\n",
       "      <td>0.90</td>\n",
       "      <td>0:02:20</td>\n",
       "      <td>0:00:06</td>\n",
       "    </tr>\n",
       "  </tbody>\n",
       "</table>\n",
       "</div>"
      ],
      "text/plain": [
       "       Training Loss  Valid. Loss  Valid. Accur. Training Time Validation Time\n",
       "epoch                                                                         \n",
       "1               0.28         0.27           0.90       0:02:21         0:00:06\n",
       "2               0.22         0.25           0.91       0:02:20         0:00:06\n",
       "3               0.18         0.27           0.89       0:02:20         0:00:06\n",
       "4               0.13         0.32           0.90       0:02:20         0:00:06"
      ]
     },
     "execution_count": 66,
     "metadata": {},
     "output_type": "execute_result"
    }
   ],
   "source": [
    "df_stats"
   ]
  },
  {
   "cell_type": "code",
   "execution_count": 67,
   "metadata": {
    "execution": {
     "iopub.execute_input": "2020-10-24T13:17:22.979905Z",
     "iopub.status.busy": "2020-10-24T13:17:22.978593Z",
     "iopub.status.idle": "2020-10-24T13:17:22.990665Z",
     "shell.execute_reply": "2020-10-24T13:17:22.990145Z"
    },
    "papermill": {
     "duration": 0.142686,
     "end_time": "2020-10-24T13:17:22.990775",
     "exception": false,
     "start_time": "2020-10-24T13:17:22.848089",
     "status": "completed"
    },
    "tags": []
   },
   "outputs": [
    {
     "name": "stdout",
     "output_type": "stream",
     "text": [
      "Fine Grained Accuracy = 0.9001233045622689\n",
      "\n",
      "\n",
      "Fine Grained Metrics\n",
      "\n",
      "              precision    recall  f1-score   support\n",
      "\n",
      "           0       0.93      0.96      0.95       734\n",
      "           1       0.46      0.32      0.38        77\n",
      "\n",
      "    accuracy                           0.90       811\n",
      "   macro avg       0.70      0.64      0.66       811\n",
      "weighted avg       0.89      0.90      0.89       811\n",
      "\n"
     ]
    }
   ],
   "source": [
    "evaluation(y_val_defamation, y_pred_defamation)"
   ]
  },
  {
   "cell_type": "code",
   "execution_count": null,
   "metadata": {
    "papermill": {
     "duration": 0.125114,
     "end_time": "2020-10-24T13:17:23.243225",
     "exception": false,
     "start_time": "2020-10-24T13:17:23.118111",
     "status": "completed"
    },
    "tags": []
   },
   "outputs": [],
   "source": []
  },
  {
   "cell_type": "code",
   "execution_count": null,
   "metadata": {
    "papermill": {
     "duration": 0.123821,
     "end_time": "2020-10-24T13:17:23.491723",
     "exception": false,
     "start_time": "2020-10-24T13:17:23.367902",
     "status": "completed"
    },
    "tags": []
   },
   "outputs": [],
   "source": []
  },
  {
   "cell_type": "markdown",
   "metadata": {
    "papermill": {
     "duration": 0.127019,
     "end_time": "2020-10-24T13:17:23.747111",
     "exception": false,
     "start_time": "2020-10-24T13:17:23.620092",
     "status": "completed"
    },
    "tags": []
   },
   "source": [
    "### Fake"
   ]
  },
  {
   "cell_type": "code",
   "execution_count": 68,
   "metadata": {
    "execution": {
     "iopub.execute_input": "2020-10-24T13:17:24.000615Z",
     "iopub.status.busy": "2020-10-24T13:17:23.999985Z",
     "iopub.status.idle": "2020-10-24T13:17:24.004423Z",
     "shell.execute_reply": "2020-10-24T13:17:24.003853Z"
    },
    "papermill": {
     "duration": 0.133917,
     "end_time": "2020-10-24T13:17:24.004545",
     "exception": false,
     "start_time": "2020-10-24T13:17:23.870628",
     "status": "completed"
    },
    "tags": []
   },
   "outputs": [],
   "source": [
    "train_labels_fake = y_train_fake"
   ]
  },
  {
   "cell_type": "code",
   "execution_count": 69,
   "metadata": {
    "execution": {
     "iopub.execute_input": "2020-10-24T13:17:24.265052Z",
     "iopub.status.busy": "2020-10-24T13:17:24.264111Z",
     "iopub.status.idle": "2020-10-24T13:17:24.266133Z",
     "shell.execute_reply": "2020-10-24T13:17:24.266627Z"
    },
    "papermill": {
     "duration": 0.132481,
     "end_time": "2020-10-24T13:17:24.266759",
     "exception": false,
     "start_time": "2020-10-24T13:17:24.134278",
     "status": "completed"
    },
    "tags": []
   },
   "outputs": [],
   "source": [
    "\n",
    "val_labels_fake = y_val_fake"
   ]
  },
  {
   "cell_type": "code",
   "execution_count": 70,
   "metadata": {
    "execution": {
     "iopub.execute_input": "2020-10-24T13:17:24.537866Z",
     "iopub.status.busy": "2020-10-24T13:17:24.523790Z",
     "iopub.status.idle": "2020-10-24T13:17:32.531688Z",
     "shell.execute_reply": "2020-10-24T13:17:32.532921Z"
    },
    "papermill": {
     "duration": 8.141443,
     "end_time": "2020-10-24T13:17:32.533106",
     "exception": false,
     "start_time": "2020-10-24T13:17:24.391663",
     "status": "completed"
    },
    "tags": []
   },
   "outputs": [],
   "source": [
    "input_ids, attention_masks = X_process(train_sentences)\n",
    "train_dataloader = train_load(input_ids, attention_masks, train_labels_fake)\n",
    "\n",
    "input_ids, attention_masks = X_process(val_sentences)\n",
    "validation_dataloader = val_load(input_ids, attention_masks, val_labels_fake)"
   ]
  },
  {
   "cell_type": "code",
   "execution_count": 71,
   "metadata": {
    "execution": {
     "iopub.execute_input": "2020-10-24T13:17:32.889355Z",
     "iopub.status.busy": "2020-10-24T13:17:32.888576Z",
     "iopub.status.idle": "2020-10-24T13:17:32.892474Z",
     "shell.execute_reply": "2020-10-24T13:17:32.891972Z"
    },
    "papermill": {
     "duration": 0.167119,
     "end_time": "2020-10-24T13:17:32.892607",
     "exception": false,
     "start_time": "2020-10-24T13:17:32.725488",
     "status": "completed"
    },
    "tags": []
   },
   "outputs": [],
   "source": [
    "from transformers import get_linear_schedule_with_warmup\n",
    "\n",
    "# Number of training epochs. The BERT authors recommend between 2 and 4. \n",
    "# We chose to run for 4, but we'll see later that this may be over-fitting the\n",
    "# training data.\n",
    "epochs = 4\n",
    "\n",
    "# Total number of training steps is [number of batches] x [number of epochs]. \n",
    "# (Note that this is not the same as the number of training samples).\n",
    "total_steps = len(train_dataloader) * epochs\n",
    "\n",
    "# Create the learning rate scheduler.\n",
    "scheduler = get_linear_schedule_with_warmup(optimizer, \n",
    "                                            num_warmup_steps = 0, # Default value in run_glue.py\n",
    "                                            num_training_steps = total_steps)\n"
   ]
  },
  {
   "cell_type": "code",
   "execution_count": 72,
   "metadata": {
    "execution": {
     "iopub.execute_input": "2020-10-24T13:17:33.157836Z",
     "iopub.status.busy": "2020-10-24T13:17:33.156857Z",
     "iopub.status.idle": "2020-10-24T13:27:19.538168Z",
     "shell.execute_reply": "2020-10-24T13:27:19.539490Z"
    },
    "papermill": {
     "duration": 586.514185,
     "end_time": "2020-10-24T13:27:19.539670",
     "exception": false,
     "start_time": "2020-10-24T13:17:33.025485",
     "status": "completed"
    },
    "tags": []
   },
   "outputs": [
    {
     "name": "stdout",
     "output_type": "stream",
     "text": [
      "\n",
      "======== Epoch 1 / 4 ========\n",
      "Training...\n",
      "  Batch    40  of    179.    Elapsed: 0:00:31.\n",
      "  Batch    80  of    179.    Elapsed: 0:01:03.\n",
      "  Batch   120  of    179.    Elapsed: 0:01:34.\n",
      "  Batch   160  of    179.    Elapsed: 0:02:05.\n",
      "\n",
      "  Average training loss: 0.33\n",
      "  Training epcoh took: 0:02:20\n",
      "\n",
      "Running Validation...\n",
      "  Accuracy: 0.90\n",
      "  Validation Loss: 0.23\n",
      "  Validation took: 0:00:06\n",
      "[{'epoch': 1, 'Training Loss': 0.3323803229788162, 'Valid. Loss': 0.22668124541926843, 'Valid. Accur.': 0.9014423076923077, 'Training Time': '0:02:20', 'Validation Time': '0:00:06'}]\n",
      "\n",
      "======== Epoch 2 / 4 ========\n",
      "Training...\n",
      "  Batch    40  of    179.    Elapsed: 0:00:31.\n",
      "  Batch    80  of    179.    Elapsed: 0:01:03.\n",
      "  Batch   120  of    179.    Elapsed: 0:01:34.\n",
      "  Batch   160  of    179.    Elapsed: 0:02:05.\n",
      "\n",
      "  Average training loss: 0.20\n",
      "  Training epcoh took: 0:02:20\n",
      "\n",
      "Running Validation...\n",
      "  Accuracy: 0.92\n",
      "  Validation Loss: 0.20\n",
      "  Validation took: 0:00:06\n",
      "[{'epoch': 1, 'Training Loss': 0.3323803229788162, 'Valid. Loss': 0.22668124541926843, 'Valid. Accur.': 0.9014423076923077, 'Training Time': '0:02:20', 'Validation Time': '0:00:06'}, {'epoch': 2, 'Training Loss': 0.19651491629927517, 'Valid. Loss': 0.20337920163113338, 'Valid. Accur.': 0.921875, 'Training Time': '0:02:20', 'Validation Time': '0:00:06'}]\n",
      "\n",
      "======== Epoch 3 / 4 ========\n",
      "Training...\n",
      "  Batch    40  of    179.    Elapsed: 0:00:31.\n",
      "  Batch    80  of    179.    Elapsed: 0:01:03.\n",
      "  Batch   120  of    179.    Elapsed: 0:01:34.\n",
      "  Batch   160  of    179.    Elapsed: 0:02:05.\n",
      "\n",
      "  Average training loss: 0.16\n",
      "  Training epcoh took: 0:02:20\n",
      "\n",
      "Running Validation...\n",
      "  Accuracy: 0.93\n",
      "  Validation Loss: 0.20\n",
      "  Validation took: 0:00:06\n",
      "[{'epoch': 1, 'Training Loss': 0.3323803229788162, 'Valid. Loss': 0.22668124541926843, 'Valid. Accur.': 0.9014423076923077, 'Training Time': '0:02:20', 'Validation Time': '0:00:06'}, {'epoch': 2, 'Training Loss': 0.19651491629927517, 'Valid. Loss': 0.20337920163113338, 'Valid. Accur.': 0.921875, 'Training Time': '0:02:20', 'Validation Time': '0:00:06'}, {'epoch': 3, 'Training Loss': 0.1574804821785269, 'Valid. Loss': 0.20165300824177954, 'Valid. Accur.': 0.9290865384615384, 'Training Time': '0:02:20', 'Validation Time': '0:00:06'}]\n",
      "\n",
      "======== Epoch 4 / 4 ========\n",
      "Training...\n",
      "  Batch    40  of    179.    Elapsed: 0:00:31.\n",
      "  Batch    80  of    179.    Elapsed: 0:01:03.\n",
      "  Batch   120  of    179.    Elapsed: 0:01:34.\n",
      "  Batch   160  of    179.    Elapsed: 0:02:05.\n",
      "\n",
      "  Average training loss: 0.11\n",
      "  Training epcoh took: 0:02:20\n",
      "\n",
      "Running Validation...\n",
      "  Accuracy: 0.93\n",
      "  Validation Loss: 0.23\n",
      "  Validation took: 0:00:06\n",
      "[{'epoch': 1, 'Training Loss': 0.3323803229788162, 'Valid. Loss': 0.22668124541926843, 'Valid. Accur.': 0.9014423076923077, 'Training Time': '0:02:20', 'Validation Time': '0:00:06'}, {'epoch': 2, 'Training Loss': 0.19651491629927517, 'Valid. Loss': 0.20337920163113338, 'Valid. Accur.': 0.921875, 'Training Time': '0:02:20', 'Validation Time': '0:00:06'}, {'epoch': 3, 'Training Loss': 0.1574804821785269, 'Valid. Loss': 0.20165300824177954, 'Valid. Accur.': 0.9290865384615384, 'Training Time': '0:02:20', 'Validation Time': '0:00:06'}, {'epoch': 4, 'Training Loss': 0.1139021359446495, 'Valid. Loss': 0.22544193717364508, 'Valid. Accur.': 0.9314903846153846, 'Training Time': '0:02:20', 'Validation Time': '0:00:06'}]\n"
     ]
    }
   ],
   "source": [
    "training_stats, y_pred_fake = train_fn(train_dataloader, validation_dataloader)"
   ]
  },
  {
   "cell_type": "code",
   "execution_count": 73,
   "metadata": {
    "execution": {
     "iopub.execute_input": "2020-10-24T13:27:19.832792Z",
     "iopub.status.busy": "2020-10-24T13:27:19.831432Z",
     "iopub.status.idle": "2020-10-24T13:27:20.011512Z",
     "shell.execute_reply": "2020-10-24T13:27:20.012035Z"
    },
    "papermill": {
     "duration": 0.33611,
     "end_time": "2020-10-24T13:27:20.012192",
     "exception": false,
     "start_time": "2020-10-24T13:27:19.676082",
     "status": "completed"
    },
    "tags": []
   },
   "outputs": [
    {
     "data": {
      "image/png": "[encoded data removed]",
      "text/plain": [
       "<Figure size 864x432 with 1 Axes>"
      ]
     },
     "metadata": {},
     "output_type": "display_data"
    }
   ],
   "source": [
    "df_stats  = stats(training_stats)\n",
    "plot_stats(df_stats)"
   ]
  },
  {
   "cell_type": "code",
   "execution_count": 74,
   "metadata": {
    "execution": {
     "iopub.execute_input": "2020-10-24T13:27:20.309829Z",
     "iopub.status.busy": "2020-10-24T13:27:20.308978Z",
     "iopub.status.idle": "2020-10-24T13:27:20.312428Z",
     "shell.execute_reply": "2020-10-24T13:27:20.312931Z"
    },
    "papermill": {
     "duration": 0.152166,
     "end_time": "2020-10-24T13:27:20.313063",
     "exception": false,
     "start_time": "2020-10-24T13:27:20.160897",
     "status": "completed"
    },
    "tags": []
   },
   "outputs": [
    {
     "data": {
      "text/html": [
       "<div>\n",
       "<style scoped>\n",
       "    .dataframe tbody tr th:only-of-type {\n",
       "        vertical-align: middle;\n",
       "    }\n",
       "\n",
       "    .dataframe tbody tr th {\n",
       "        vertical-align: top;\n",
       "    }\n",
       "\n",
       "    .dataframe thead th {\n",
       "        text-align: right;\n",
       "    }\n",
       "</style>\n",
       "<table border=\"1\" class=\"dataframe\">\n",
       "  <thead>\n",
       "    <tr style=\"text-align: right;\">\n",
       "      <th></th>\n",
       "      <th>Training Loss</th>\n",
       "      <th>Valid. Loss</th>\n",
       "      <th>Valid. Accur.</th>\n",
       "      <th>Training Time</th>\n",
       "      <th>Validation Time</th>\n",
       "    </tr>\n",
       "    <tr>\n",
       "      <th>epoch</th>\n",
       "      <th></th>\n",
       "      <th></th>\n",
       "      <th></th>\n",
       "      <th></th>\n",
       "      <th></th>\n",
       "    </tr>\n",
       "  </thead>\n",
       "  <tbody>\n",
       "    <tr>\n",
       "      <th>1</th>\n",
       "      <td>0.33</td>\n",
       "      <td>0.23</td>\n",
       "      <td>0.90</td>\n",
       "      <td>0:02:20</td>\n",
       "      <td>0:00:06</td>\n",
       "    </tr>\n",
       "    <tr>\n",
       "      <th>2</th>\n",
       "      <td>0.20</td>\n",
       "      <td>0.20</td>\n",
       "      <td>0.92</td>\n",
       "      <td>0:02:20</td>\n",
       "      <td>0:00:06</td>\n",
       "    </tr>\n",
       "    <tr>\n",
       "      <th>3</th>\n",
       "      <td>0.16</td>\n",
       "      <td>0.20</td>\n",
       "      <td>0.93</td>\n",
       "      <td>0:02:20</td>\n",
       "      <td>0:00:06</td>\n",
       "    </tr>\n",
       "    <tr>\n",
       "      <th>4</th>\n",
       "      <td>0.11</td>\n",
       "      <td>0.23</td>\n",
       "      <td>0.93</td>\n",
       "      <td>0:02:20</td>\n",
       "      <td>0:00:06</td>\n",
       "    </tr>\n",
       "  </tbody>\n",
       "</table>\n",
       "</div>"
      ],
      "text/plain": [
       "       Training Loss  Valid. Loss  Valid. Accur. Training Time Validation Time\n",
       "epoch                                                                         \n",
       "1               0.33         0.23           0.90       0:02:20         0:00:06\n",
       "2               0.20         0.20           0.92       0:02:20         0:00:06\n",
       "3               0.16         0.20           0.93       0:02:20         0:00:06\n",
       "4               0.11         0.23           0.93       0:02:20         0:00:06"
      ]
     },
     "execution_count": 74,
     "metadata": {},
     "output_type": "execute_result"
    }
   ],
   "source": [
    "df_stats"
   ]
  },
  {
   "cell_type": "code",
   "execution_count": 75,
   "metadata": {
    "execution": {
     "iopub.execute_input": "2020-10-24T13:27:20.597462Z",
     "iopub.status.busy": "2020-10-24T13:27:20.596503Z",
     "iopub.status.idle": "2020-10-24T13:27:20.608710Z",
     "shell.execute_reply": "2020-10-24T13:27:20.609148Z"
    },
    "papermill": {
     "duration": 0.155307,
     "end_time": "2020-10-24T13:27:20.609287",
     "exception": false,
     "start_time": "2020-10-24T13:27:20.453980",
     "status": "completed"
    },
    "tags": []
   },
   "outputs": [
    {
     "name": "stdout",
     "output_type": "stream",
     "text": [
      "Fine Grained Accuracy = 0.9297163995067818\n",
      "\n",
      "\n",
      "Fine Grained Metrics\n",
      "\n",
      "              precision    recall  f1-score   support\n",
      "\n",
      "           0       0.95      0.96      0.96       651\n",
      "           1       0.83      0.81      0.82       160\n",
      "\n",
      "    accuracy                           0.93       811\n",
      "   macro avg       0.89      0.88      0.89       811\n",
      "weighted avg       0.93      0.93      0.93       811\n",
      "\n"
     ]
    }
   ],
   "source": [
    "evaluation(y_val_fake, y_pred_fake)"
   ]
  },
  {
   "cell_type": "code",
   "execution_count": null,
   "metadata": {
    "papermill": {
     "duration": 0.135139,
     "end_time": "2020-10-24T13:27:20.887685",
     "exception": false,
     "start_time": "2020-10-24T13:27:20.752546",
     "status": "completed"
    },
    "tags": []
   },
   "outputs": [],
   "source": []
  },
  {
   "cell_type": "code",
   "execution_count": null,
   "metadata": {
    "papermill": {
     "duration": 0.134805,
     "end_time": "2020-10-24T13:27:21.158315",
     "exception": false,
     "start_time": "2020-10-24T13:27:21.023510",
     "status": "completed"
    },
    "tags": []
   },
   "outputs": [],
   "source": []
  },
  {
   "cell_type": "markdown",
   "metadata": {
    "papermill": {
     "duration": 0.136002,
     "end_time": "2020-10-24T13:27:21.430006",
     "exception": false,
     "start_time": "2020-10-24T13:27:21.294004",
     "status": "completed"
    },
    "tags": []
   },
   "source": [
    "### Hate"
   ]
  },
  {
   "cell_type": "code",
   "execution_count": 76,
   "metadata": {
    "execution": {
     "iopub.execute_input": "2020-10-24T13:27:21.723750Z",
     "iopub.status.busy": "2020-10-24T13:27:21.722800Z",
     "iopub.status.idle": "2020-10-24T13:27:21.725329Z",
     "shell.execute_reply": "2020-10-24T13:27:21.725838Z"
    },
    "papermill": {
     "duration": 0.153071,
     "end_time": "2020-10-24T13:27:21.725966",
     "exception": false,
     "start_time": "2020-10-24T13:27:21.572895",
     "status": "completed"
    },
    "tags": []
   },
   "outputs": [],
   "source": [
    "train_labels_hate = y_train_hate"
   ]
  },
  {
   "cell_type": "code",
   "execution_count": 77,
   "metadata": {
    "execution": {
     "iopub.execute_input": "2020-10-24T13:27:22.004388Z",
     "iopub.status.busy": "2020-10-24T13:27:22.003487Z",
     "iopub.status.idle": "2020-10-24T13:27:22.005957Z",
     "shell.execute_reply": "2020-10-24T13:27:22.006493Z"
    },
    "papermill": {
     "duration": 0.1431,
     "end_time": "2020-10-24T13:27:22.006637",
     "exception": false,
     "start_time": "2020-10-24T13:27:21.863537",
     "status": "completed"
    },
    "tags": []
   },
   "outputs": [],
   "source": [
    "\n",
    "val_labels_hate = y_val_hate"
   ]
  },
  {
   "cell_type": "code",
   "execution_count": 78,
   "metadata": {
    "execution": {
     "iopub.execute_input": "2020-10-24T13:27:22.322368Z",
     "iopub.status.busy": "2020-10-24T13:27:22.316074Z",
     "iopub.status.idle": "2020-10-24T13:27:30.539404Z",
     "shell.execute_reply": "2020-10-24T13:27:30.538326Z"
    },
    "papermill": {
     "duration": 8.396363,
     "end_time": "2020-10-24T13:27:30.539545",
     "exception": false,
     "start_time": "2020-10-24T13:27:22.143182",
     "status": "completed"
    },
    "tags": []
   },
   "outputs": [],
   "source": [
    "input_ids, attention_masks = X_process(train_sentences)\n",
    "train_dataloader = train_load(input_ids, attention_masks, train_labels_hate)\n",
    "\n",
    "input_ids, attention_masks = X_process(val_sentences)\n",
    "validation_dataloader = val_load(input_ids, attention_masks, val_labels_hate)"
   ]
  },
  {
   "cell_type": "code",
   "execution_count": 79,
   "metadata": {
    "execution": {
     "iopub.execute_input": "2020-10-24T13:27:30.824735Z",
     "iopub.status.busy": "2020-10-24T13:27:30.823836Z",
     "iopub.status.idle": "2020-10-24T13:27:30.826662Z",
     "shell.execute_reply": "2020-10-24T13:27:30.826182Z"
    },
    "papermill": {
     "duration": 0.145917,
     "end_time": "2020-10-24T13:27:30.826775",
     "exception": false,
     "start_time": "2020-10-24T13:27:30.680858",
     "status": "completed"
    },
    "tags": []
   },
   "outputs": [],
   "source": [
    "from transformers import get_linear_schedule_with_warmup\n",
    "\n",
    "# Number of training epochs. The BERT authors recommend between 2 and 4. \n",
    "# We chose to run for 4, but we'll see later that this may be over-fitting the\n",
    "# training data.\n",
    "epochs = 4\n",
    "\n",
    "# Total number of training steps is [number of batches] x [number of epochs]. \n",
    "# (Note that this is not the same as the number of training samples).\n",
    "total_steps = len(train_dataloader) * epochs\n",
    "\n",
    "# Create the learning rate scheduler.\n",
    "scheduler = get_linear_schedule_with_warmup(optimizer, \n",
    "                                            num_warmup_steps = 0, # Default value in run_glue.py\n",
    "                                            num_training_steps = total_steps)\n"
   ]
  },
  {
   "cell_type": "code",
   "execution_count": 80,
   "metadata": {
    "execution": {
     "iopub.execute_input": "2020-10-24T13:27:31.107168Z",
     "iopub.status.busy": "2020-10-24T13:27:31.106253Z",
     "iopub.status.idle": "2020-10-24T13:37:18.844712Z",
     "shell.execute_reply": "2020-10-24T13:37:18.845381Z"
    },
    "papermill": {
     "duration": 587.882804,
     "end_time": "2020-10-24T13:37:18.845541",
     "exception": false,
     "start_time": "2020-10-24T13:27:30.962737",
     "status": "completed"
    },
    "tags": []
   },
   "outputs": [
    {
     "name": "stdout",
     "output_type": "stream",
     "text": [
      "\n",
      "======== Epoch 1 / 4 ========\n",
      "Training...\n",
      "  Batch    40  of    179.    Elapsed: 0:00:31.\n",
      "  Batch    80  of    179.    Elapsed: 0:01:03.\n",
      "  Batch   120  of    179.    Elapsed: 0:01:34.\n",
      "  Batch   160  of    179.    Elapsed: 0:02:06.\n",
      "\n",
      "  Average training loss: 0.33\n",
      "  Training epcoh took: 0:02:20\n",
      "\n",
      "Running Validation...\n",
      "  Accuracy: 0.87\n",
      "  Validation Loss: 0.34\n",
      "  Validation took: 0:00:06\n",
      "[{'epoch': 1, 'Training Loss': 0.3321803235058678, 'Valid. Loss': 0.34339962613124114, 'Valid. Accur.': 0.8654938811188811, 'Training Time': '0:02:20', 'Validation Time': '0:00:06'}]\n",
      "\n",
      "======== Epoch 2 / 4 ========\n",
      "Training...\n",
      "  Batch    40  of    179.    Elapsed: 0:00:31.\n",
      "  Batch    80  of    179.    Elapsed: 0:01:03.\n",
      "  Batch   120  of    179.    Elapsed: 0:01:34.\n",
      "  Batch   160  of    179.    Elapsed: 0:02:06.\n",
      "\n",
      "  Average training loss: 0.26\n",
      "  Training epcoh took: 0:02:21\n",
      "\n",
      "Running Validation...\n",
      "  Accuracy: 0.84\n",
      "  Validation Loss: 0.27\n",
      "  Validation took: 0:00:06\n",
      "[{'epoch': 1, 'Training Loss': 0.3321803235058678, 'Valid. Loss': 0.34339962613124114, 'Valid. Accur.': 0.8654938811188811, 'Training Time': '0:02:20', 'Validation Time': '0:00:06'}, {'epoch': 2, 'Training Loss': 0.25684752843899433, 'Valid. Loss': 0.2675015012232157, 'Valid. Accur.': 0.8414554195804196, 'Training Time': '0:02:21', 'Validation Time': '0:00:06'}]\n",
      "\n",
      "======== Epoch 3 / 4 ========\n",
      "Training...\n",
      "  Batch    40  of    179.    Elapsed: 0:00:31.\n",
      "  Batch    80  of    179.    Elapsed: 0:01:03.\n",
      "  Batch   120  of    179.    Elapsed: 0:01:34.\n",
      "  Batch   160  of    179.    Elapsed: 0:02:06.\n",
      "\n",
      "  Average training loss: 0.22\n",
      "  Training epcoh took: 0:02:21\n",
      "\n",
      "Running Validation...\n",
      "  Accuracy: 0.85\n",
      "  Validation Loss: 0.30\n",
      "  Validation took: 0:00:06\n",
      "[{'epoch': 1, 'Training Loss': 0.3321803235058678, 'Valid. Loss': 0.34339962613124114, 'Valid. Accur.': 0.8654938811188811, 'Training Time': '0:02:20', 'Validation Time': '0:00:06'}, {'epoch': 2, 'Training Loss': 0.25684752843899433, 'Valid. Loss': 0.2675015012232157, 'Valid. Accur.': 0.8414554195804196, 'Training Time': '0:02:21', 'Validation Time': '0:00:06'}, {'epoch': 3, 'Training Loss': 0.215869052783071, 'Valid. Loss': 0.3007756614914307, 'Valid. Accur.': 0.8534746503496504, 'Training Time': '0:02:21', 'Validation Time': '0:00:06'}]\n",
      "\n",
      "======== Epoch 4 / 4 ========\n",
      "Training...\n",
      "  Batch    40  of    179.    Elapsed: 0:00:31.\n",
      "  Batch    80  of    179.    Elapsed: 0:01:03.\n",
      "  Batch   120  of    179.    Elapsed: 0:01:34.\n",
      "  Batch   160  of    179.    Elapsed: 0:02:06.\n",
      "\n",
      "  Average training loss: 0.19\n",
      "  Training epcoh took: 0:02:20\n",
      "\n",
      "Running Validation...\n",
      "  Accuracy: 0.83\n",
      "  Validation Loss: 0.31\n",
      "  Validation took: 0:00:06\n",
      "[{'epoch': 1, 'Training Loss': 0.3321803235058678, 'Valid. Loss': 0.34339962613124114, 'Valid. Accur.': 0.8654938811188811, 'Training Time': '0:02:20', 'Validation Time': '0:00:06'}, {'epoch': 2, 'Training Loss': 0.25684752843899433, 'Valid. Loss': 0.2675015012232157, 'Valid. Accur.': 0.8414554195804196, 'Training Time': '0:02:21', 'Validation Time': '0:00:06'}, {'epoch': 3, 'Training Loss': 0.215869052783071, 'Valid. Loss': 0.3007756614914307, 'Valid. Accur.': 0.8534746503496504, 'Training Time': '0:02:21', 'Validation Time': '0:00:06'}, {'epoch': 4, 'Training Loss': 0.19320392138298664, 'Valid. Loss': 0.3096203079017309, 'Valid. Accur.': 0.8330419580419581, 'Training Time': '0:02:20', 'Validation Time': '0:00:06'}]\n"
     ]
    }
   ],
   "source": [
    "training_stats, y_pred_hate = train_fn(train_dataloader, validation_dataloader)"
   ]
  },
  {
   "cell_type": "code",
   "execution_count": 81,
   "metadata": {
    "execution": {
     "iopub.execute_input": "2020-10-24T13:37:19.151439Z",
     "iopub.status.busy": "2020-10-24T13:37:19.150473Z",
     "iopub.status.idle": "2020-10-24T13:37:19.358768Z",
     "shell.execute_reply": "2020-10-24T13:37:19.359243Z"
    },
    "papermill": {
     "duration": 0.367204,
     "end_time": "2020-10-24T13:37:19.359368",
     "exception": false,
     "start_time": "2020-10-24T13:37:18.992164",
     "status": "completed"
    },
    "tags": []
   },
   "outputs": [
    {
     "data": {
      "image/png": "[encoded data removed]",
      "text/plain": [
       "<Figure size 864x432 with 1 Axes>"
      ]
     },
     "metadata": {},
     "output_type": "display_data"
    }
   ],
   "source": [
    "df_stats  = stats(training_stats)\n",
    "plot_stats(df_stats)"
   ]
  },
  {
   "cell_type": "code",
   "execution_count": 82,
   "metadata": {
    "execution": {
     "iopub.execute_input": "2020-10-24T13:37:19.679843Z",
     "iopub.status.busy": "2020-10-24T13:37:19.678735Z",
     "iopub.status.idle": "2020-10-24T13:37:19.684071Z",
     "shell.execute_reply": "2020-10-24T13:37:19.683457Z"
    },
    "papermill": {
     "duration": 0.166137,
     "end_time": "2020-10-24T13:37:19.684198",
     "exception": false,
     "start_time": "2020-10-24T13:37:19.518061",
     "status": "completed"
    },
    "tags": []
   },
   "outputs": [
    {
     "data": {
      "text/html": [
       "<div>\n",
       "<style scoped>\n",
       "    .dataframe tbody tr th:only-of-type {\n",
       "        vertical-align: middle;\n",
       "    }\n",
       "\n",
       "    .dataframe tbody tr th {\n",
       "        vertical-align: top;\n",
       "    }\n",
       "\n",
       "    .dataframe thead th {\n",
       "        text-align: right;\n",
       "    }\n",
       "</style>\n",
       "<table border=\"1\" class=\"dataframe\">\n",
       "  <thead>\n",
       "    <tr style=\"text-align: right;\">\n",
       "      <th></th>\n",
       "      <th>Training Loss</th>\n",
       "      <th>Valid. Loss</th>\n",
       "      <th>Valid. Accur.</th>\n",
       "      <th>Training Time</th>\n",
       "      <th>Validation Time</th>\n",
       "    </tr>\n",
       "    <tr>\n",
       "      <th>epoch</th>\n",
       "      <th></th>\n",
       "      <th></th>\n",
       "      <th></th>\n",
       "      <th></th>\n",
       "      <th></th>\n",
       "    </tr>\n",
       "  </thead>\n",
       "  <tbody>\n",
       "    <tr>\n",
       "      <th>1</th>\n",
       "      <td>0.33</td>\n",
       "      <td>0.34</td>\n",
       "      <td>0.87</td>\n",
       "      <td>0:02:20</td>\n",
       "      <td>0:00:06</td>\n",
       "    </tr>\n",
       "    <tr>\n",
       "      <th>2</th>\n",
       "      <td>0.26</td>\n",
       "      <td>0.27</td>\n",
       "      <td>0.84</td>\n",
       "      <td>0:02:21</td>\n",
       "      <td>0:00:06</td>\n",
       "    </tr>\n",
       "    <tr>\n",
       "      <th>3</th>\n",
       "      <td>0.22</td>\n",
       "      <td>0.30</td>\n",
       "      <td>0.85</td>\n",
       "      <td>0:02:21</td>\n",
       "      <td>0:00:06</td>\n",
       "    </tr>\n",
       "    <tr>\n",
       "      <th>4</th>\n",
       "      <td>0.19</td>\n",
       "      <td>0.31</td>\n",
       "      <td>0.83</td>\n",
       "      <td>0:02:20</td>\n",
       "      <td>0:00:06</td>\n",
       "    </tr>\n",
       "  </tbody>\n",
       "</table>\n",
       "</div>"
      ],
      "text/plain": [
       "       Training Loss  Valid. Loss  Valid. Accur. Training Time Validation Time\n",
       "epoch                                                                         \n",
       "1               0.33         0.34           0.87       0:02:20         0:00:06\n",
       "2               0.26         0.27           0.84       0:02:21         0:00:06\n",
       "3               0.22         0.30           0.85       0:02:21         0:00:06\n",
       "4               0.19         0.31           0.83       0:02:20         0:00:06"
      ]
     },
     "execution_count": 82,
     "metadata": {},
     "output_type": "execute_result"
    }
   ],
   "source": [
    "df_stats"
   ]
  },
  {
   "cell_type": "code",
   "execution_count": 83,
   "metadata": {
    "execution": {
     "iopub.execute_input": "2020-10-24T13:37:20.054497Z",
     "iopub.status.busy": "2020-10-24T13:37:20.053772Z",
     "iopub.status.idle": "2020-10-24T13:37:20.067670Z",
     "shell.execute_reply": "2020-10-24T13:37:20.066906Z"
    },
    "papermill": {
     "duration": 0.200801,
     "end_time": "2020-10-24T13:37:20.067796",
     "exception": false,
     "start_time": "2020-10-24T13:37:19.866995",
     "status": "completed"
    },
    "tags": []
   },
   "outputs": [
    {
     "name": "stdout",
     "output_type": "stream",
     "text": [
      "Fine Grained Accuracy = 0.8310727496917386\n",
      "\n",
      "\n",
      "Fine Grained Metrics\n",
      "\n",
      "              precision    recall  f1-score   support\n",
      "\n",
      "           0       0.92      0.88      0.90       701\n",
      "           1       0.40      0.51      0.45       110\n",
      "\n",
      "    accuracy                           0.83       811\n",
      "   macro avg       0.66      0.70      0.68       811\n",
      "weighted avg       0.85      0.83      0.84       811\n",
      "\n"
     ]
    }
   ],
   "source": [
    "evaluation(y_val_hate, y_pred_hate)"
   ]
  },
  {
   "cell_type": "code",
   "execution_count": null,
   "metadata": {
    "papermill": {
     "duration": 0.23781,
     "end_time": "2020-10-24T13:37:20.497490",
     "exception": false,
     "start_time": "2020-10-24T13:37:20.259680",
     "status": "completed"
    },
    "tags": []
   },
   "outputs": [],
   "source": []
  },
  {
   "cell_type": "code",
   "execution_count": null,
   "metadata": {
    "papermill": {
     "duration": 0.203011,
     "end_time": "2020-10-24T13:37:20.923438",
     "exception": false,
     "start_time": "2020-10-24T13:37:20.720427",
     "status": "completed"
    },
    "tags": []
   },
   "outputs": [],
   "source": []
  },
  {
   "cell_type": "markdown",
   "metadata": {
    "papermill": {
     "duration": 0.152647,
     "end_time": "2020-10-24T13:37:21.245065",
     "exception": false,
     "start_time": "2020-10-24T13:37:21.092418",
     "status": "completed"
    },
    "tags": []
   },
   "source": [
    "### Non-Hostile"
   ]
  },
  {
   "cell_type": "code",
   "execution_count": 84,
   "metadata": {
    "execution": {
     "iopub.execute_input": "2020-10-24T13:37:21.550307Z",
     "iopub.status.busy": "2020-10-24T13:37:21.549425Z",
     "iopub.status.idle": "2020-10-24T13:37:21.552408Z",
     "shell.execute_reply": "2020-10-24T13:37:21.551930Z"
    },
    "papermill": {
     "duration": 0.158327,
     "end_time": "2020-10-24T13:37:21.552510",
     "exception": false,
     "start_time": "2020-10-24T13:37:21.394183",
     "status": "completed"
    },
    "tags": []
   },
   "outputs": [],
   "source": [
    "train_labels_non_hostile = y_train_non_hostile"
   ]
  },
  {
   "cell_type": "code",
   "execution_count": 85,
   "metadata": {
    "execution": {
     "iopub.execute_input": "2020-10-24T13:37:21.871031Z",
     "iopub.status.busy": "2020-10-24T13:37:21.870069Z",
     "iopub.status.idle": "2020-10-24T13:37:21.873210Z",
     "shell.execute_reply": "2020-10-24T13:37:21.872699Z"
    },
    "papermill": {
     "duration": 0.171523,
     "end_time": "2020-10-24T13:37:21.873316",
     "exception": false,
     "start_time": "2020-10-24T13:37:21.701793",
     "status": "completed"
    },
    "tags": []
   },
   "outputs": [],
   "source": [
    "\n",
    "val_labels_non_hostile = y_val_non_hostile"
   ]
  },
  {
   "cell_type": "code",
   "execution_count": 86,
   "metadata": {
    "execution": {
     "iopub.execute_input": "2020-10-24T13:37:22.199614Z",
     "iopub.status.busy": "2020-10-24T13:37:22.189343Z",
     "iopub.status.idle": "2020-10-24T13:37:31.132598Z",
     "shell.execute_reply": "2020-10-24T13:37:31.131722Z"
    },
    "papermill": {
     "duration": 9.107639,
     "end_time": "2020-10-24T13:37:31.132735",
     "exception": false,
     "start_time": "2020-10-24T13:37:22.025096",
     "status": "completed"
    },
    "tags": []
   },
   "outputs": [],
   "source": [
    "input_ids, attention_masks = X_process(train_sentences)\n",
    "train_dataloader = train_load(input_ids, attention_masks, train_labels_non_hostile)\n",
    "\n",
    "input_ids, attention_masks = X_process(val_sentences)\n",
    "validation_dataloader = val_load(input_ids, attention_masks, val_labels_non_hostile)"
   ]
  },
  {
   "cell_type": "code",
   "execution_count": 87,
   "metadata": {
    "execution": {
     "iopub.execute_input": "2020-10-24T13:37:31.621719Z",
     "iopub.status.busy": "2020-10-24T13:37:31.620605Z",
     "iopub.status.idle": "2020-10-24T13:37:31.623323Z",
     "shell.execute_reply": "2020-10-24T13:37:31.624314Z"
    },
    "papermill": {
     "duration": 0.269111,
     "end_time": "2020-10-24T13:37:31.624504",
     "exception": false,
     "start_time": "2020-10-24T13:37:31.355393",
     "status": "completed"
    },
    "tags": []
   },
   "outputs": [],
   "source": [
    "from transformers import get_linear_schedule_with_warmup\n",
    "\n",
    "# Number of training epochs. The BERT authors recommend between 2 and 4. \n",
    "# We chose to run for 4, but we'll see later that this may be over-fitting the\n",
    "# training data.\n",
    "epochs = 4\n",
    "\n",
    "# Total number of training steps is [number of batches] x [number of epochs]. \n",
    "# (Note that this is not the same as the number of training samples).\n",
    "total_steps = len(train_dataloader) * epochs\n",
    "\n",
    "# Create the learning rate scheduler.\n",
    "scheduler = get_linear_schedule_with_warmup(optimizer, \n",
    "                                            num_warmup_steps = 0, # Default value in run_glue.py\n",
    "                                            num_training_steps = total_steps)\n"
   ]
  },
  {
   "cell_type": "code",
   "execution_count": 88,
   "metadata": {
    "execution": {
     "iopub.execute_input": "2020-10-24T13:37:32.078513Z",
     "iopub.status.busy": "2020-10-24T13:37:32.077546Z",
     "iopub.status.idle": "2020-10-24T13:47:19.267144Z",
     "shell.execute_reply": "2020-10-24T13:47:19.266627Z"
    },
    "papermill": {
     "duration": 587.398661,
     "end_time": "2020-10-24T13:47:19.267261",
     "exception": false,
     "start_time": "2020-10-24T13:37:31.868600",
     "status": "completed"
    },
    "tags": []
   },
   "outputs": [
    {
     "name": "stdout",
     "output_type": "stream",
     "text": [
      "\n",
      "======== Epoch 1 / 4 ========\n",
      "Training...\n",
      "  Batch    40  of    179.    Elapsed: 0:00:31.\n",
      "  Batch    80  of    179.    Elapsed: 0:01:03.\n",
      "  Batch   120  of    179.    Elapsed: 0:01:34.\n",
      "  Batch   160  of    179.    Elapsed: 0:02:06.\n",
      "\n",
      "  Average training loss: 0.36\n",
      "  Training epcoh took: 0:02:21\n",
      "\n",
      "Running Validation...\n",
      "  Accuracy: 0.94\n",
      "  Validation Loss: 0.20\n",
      "  Validation took: 0:00:06\n",
      "[{'epoch': 1, 'Training Loss': 0.3581488943976147, 'Valid. Loss': 0.1982122603803873, 'Valid. Accur.': 0.9436188811188811, 'Training Time': '0:02:21', 'Validation Time': '0:00:06'}]\n",
      "\n",
      "======== Epoch 2 / 4 ========\n",
      "Training...\n",
      "  Batch    40  of    179.    Elapsed: 0:00:31.\n",
      "  Batch    80  of    179.    Elapsed: 0:01:03.\n",
      "  Batch   120  of    179.    Elapsed: 0:01:34.\n",
      "  Batch   160  of    179.    Elapsed: 0:02:06.\n",
      "\n",
      "  Average training loss: 0.10\n",
      "  Training epcoh took: 0:02:20\n",
      "\n",
      "Running Validation...\n",
      "  Accuracy: 0.96\n",
      "  Validation Loss: 0.15\n",
      "  Validation took: 0:00:06\n",
      "[{'epoch': 1, 'Training Loss': 0.3581488943976147, 'Valid. Loss': 0.1982122603803873, 'Valid. Accur.': 0.9436188811188811, 'Training Time': '0:02:21', 'Validation Time': '0:00:06'}, {'epoch': 2, 'Training Loss': 0.09971737095763564, 'Valid. Loss': 0.14974651131062552, 'Valid. Accur.': 0.9580419580419581, 'Training Time': '0:02:20', 'Validation Time': '0:00:06'}]\n",
      "\n",
      "======== Epoch 3 / 4 ========\n",
      "Training...\n",
      "  Batch    40  of    179.    Elapsed: 0:00:31.\n",
      "  Batch    80  of    179.    Elapsed: 0:01:03.\n",
      "  Batch   120  of    179.    Elapsed: 0:01:34.\n",
      "  Batch   160  of    179.    Elapsed: 0:02:05.\n",
      "\n",
      "  Average training loss: 0.06\n",
      "  Training epcoh took: 0:02:20\n",
      "\n",
      "Running Validation...\n",
      "  Accuracy: 0.96\n",
      "  Validation Loss: 0.17\n",
      "  Validation took: 0:00:06\n",
      "[{'epoch': 1, 'Training Loss': 0.3581488943976147, 'Valid. Loss': 0.1982122603803873, 'Valid. Accur.': 0.9436188811188811, 'Training Time': '0:02:21', 'Validation Time': '0:00:06'}, {'epoch': 2, 'Training Loss': 0.09971737095763564, 'Valid. Loss': 0.14974651131062552, 'Valid. Accur.': 0.9580419580419581, 'Training Time': '0:02:20', 'Validation Time': '0:00:06'}, {'epoch': 3, 'Training Loss': 0.05946120427005701, 'Valid. Loss': 0.17181763998590982, 'Valid. Accur.': 0.9604458041958043, 'Training Time': '0:02:20', 'Validation Time': '0:00:06'}]\n",
      "\n",
      "======== Epoch 4 / 4 ========\n",
      "Training...\n",
      "  Batch    40  of    179.    Elapsed: 0:00:31.\n",
      "  Batch    80  of    179.    Elapsed: 0:01:03.\n",
      "  Batch   120  of    179.    Elapsed: 0:01:34.\n",
      "  Batch   160  of    179.    Elapsed: 0:02:05.\n",
      "\n",
      "  Average training loss: 0.03\n",
      "  Training epcoh took: 0:02:20\n",
      "\n",
      "Running Validation...\n",
      "  Accuracy: 0.96\n",
      "  Validation Loss: 0.16\n",
      "  Validation took: 0:00:06\n",
      "[{'epoch': 1, 'Training Loss': 0.3581488943976147, 'Valid. Loss': 0.1982122603803873, 'Valid. Accur.': 0.9436188811188811, 'Training Time': '0:02:21', 'Validation Time': '0:00:06'}, {'epoch': 2, 'Training Loss': 0.09971737095763564, 'Valid. Loss': 0.14974651131062552, 'Valid. Accur.': 0.9580419580419581, 'Training Time': '0:02:20', 'Validation Time': '0:00:06'}, {'epoch': 3, 'Training Loss': 0.05946120427005701, 'Valid. Loss': 0.17181763998590982, 'Valid. Accur.': 0.9604458041958043, 'Training Time': '0:02:20', 'Validation Time': '0:00:06'}, {'epoch': 4, 'Training Loss': 0.03481882210175751, 'Valid. Loss': 0.1557896242593415, 'Valid. Accur.': 0.9604458041958043, 'Training Time': '0:02:20', 'Validation Time': '0:00:06'}]\n"
     ]
    }
   ],
   "source": [
    "training_stats, y_pred_non_hostile = train_fn(train_dataloader, validation_dataloader)"
   ]
  },
  {
   "cell_type": "code",
   "execution_count": 89,
   "metadata": {
    "execution": {
     "iopub.execute_input": "2020-10-24T13:47:19.608299Z",
     "iopub.status.busy": "2020-10-24T13:47:19.607374Z",
     "iopub.status.idle": "2020-10-24T13:47:19.823029Z",
     "shell.execute_reply": "2020-10-24T13:47:19.823769Z"
    },
    "papermill": {
     "duration": 0.389842,
     "end_time": "2020-10-24T13:47:19.823977",
     "exception": false,
     "start_time": "2020-10-24T13:47:19.434135",
     "status": "completed"
    },
    "tags": []
   },
   "outputs": [
    {
     "data": {
      "image/png": "[encoded data removed]",
      "text/plain": [
       "<Figure size 864x432 with 1 Axes>"
      ]
     },
     "metadata": {},
     "output_type": "display_data"
    }
   ],
   "source": [
    "df_stats  = stats(training_stats)\n",
    "plot_stats(df_stats)"
   ]
  },
  {
   "cell_type": "code",
   "execution_count": 90,
   "metadata": {
    "execution": {
     "iopub.execute_input": "2020-10-24T13:47:20.187155Z",
     "iopub.status.busy": "2020-10-24T13:47:20.186025Z",
     "iopub.status.idle": "2020-10-24T13:47:20.189864Z",
     "shell.execute_reply": "2020-10-24T13:47:20.190447Z"
    },
    "papermill": {
     "duration": 0.185234,
     "end_time": "2020-10-24T13:47:20.190596",
     "exception": false,
     "start_time": "2020-10-24T13:47:20.005362",
     "status": "completed"
    },
    "tags": []
   },
   "outputs": [
    {
     "data": {
      "text/html": [
       "<div>\n",
       "<style scoped>\n",
       "    .dataframe tbody tr th:only-of-type {\n",
       "        vertical-align: middle;\n",
       "    }\n",
       "\n",
       "    .dataframe tbody tr th {\n",
       "        vertical-align: top;\n",
       "    }\n",
       "\n",
       "    .dataframe thead th {\n",
       "        text-align: right;\n",
       "    }\n",
       "</style>\n",
       "<table border=\"1\" class=\"dataframe\">\n",
       "  <thead>\n",
       "    <tr style=\"text-align: right;\">\n",
       "      <th></th>\n",
       "      <th>Training Loss</th>\n",
       "      <th>Valid. Loss</th>\n",
       "      <th>Valid. Accur.</th>\n",
       "      <th>Training Time</th>\n",
       "      <th>Validation Time</th>\n",
       "    </tr>\n",
       "    <tr>\n",
       "      <th>epoch</th>\n",
       "      <th></th>\n",
       "      <th></th>\n",
       "      <th></th>\n",
       "      <th></th>\n",
       "      <th></th>\n",
       "    </tr>\n",
       "  </thead>\n",
       "  <tbody>\n",
       "    <tr>\n",
       "      <th>1</th>\n",
       "      <td>0.36</td>\n",
       "      <td>0.20</td>\n",
       "      <td>0.94</td>\n",
       "      <td>0:02:21</td>\n",
       "      <td>0:00:06</td>\n",
       "    </tr>\n",
       "    <tr>\n",
       "      <th>2</th>\n",
       "      <td>0.10</td>\n",
       "      <td>0.15</td>\n",
       "      <td>0.96</td>\n",
       "      <td>0:02:20</td>\n",
       "      <td>0:00:06</td>\n",
       "    </tr>\n",
       "    <tr>\n",
       "      <th>3</th>\n",
       "      <td>0.06</td>\n",
       "      <td>0.17</td>\n",
       "      <td>0.96</td>\n",
       "      <td>0:02:20</td>\n",
       "      <td>0:00:06</td>\n",
       "    </tr>\n",
       "    <tr>\n",
       "      <th>4</th>\n",
       "      <td>0.03</td>\n",
       "      <td>0.16</td>\n",
       "      <td>0.96</td>\n",
       "      <td>0:02:20</td>\n",
       "      <td>0:00:06</td>\n",
       "    </tr>\n",
       "  </tbody>\n",
       "</table>\n",
       "</div>"
      ],
      "text/plain": [
       "       Training Loss  Valid. Loss  Valid. Accur. Training Time Validation Time\n",
       "epoch                                                                         \n",
       "1               0.36         0.20           0.94       0:02:21         0:00:06\n",
       "2               0.10         0.15           0.96       0:02:20         0:00:06\n",
       "3               0.06         0.17           0.96       0:02:20         0:00:06\n",
       "4               0.03         0.16           0.96       0:02:20         0:00:06"
      ]
     },
     "execution_count": 90,
     "metadata": {},
     "output_type": "execute_result"
    }
   ],
   "source": [
    "df_stats"
   ]
  },
  {
   "cell_type": "code",
   "execution_count": 91,
   "metadata": {
    "execution": {
     "iopub.execute_input": "2020-10-24T13:47:20.544151Z",
     "iopub.status.busy": "2020-10-24T13:47:20.543210Z",
     "iopub.status.idle": "2020-10-24T13:47:20.556862Z",
     "shell.execute_reply": "2020-10-24T13:47:20.556278Z"
    },
    "papermill": {
     "duration": 0.184218,
     "end_time": "2020-10-24T13:47:20.556964",
     "exception": false,
     "start_time": "2020-10-24T13:47:20.372746",
     "status": "completed"
    },
    "tags": []
   },
   "outputs": [
    {
     "name": "stdout",
     "output_type": "stream",
     "text": [
      "Fine Grained Accuracy = 0.9617755856966708\n",
      "\n",
      "\n",
      "Fine Grained Metrics\n",
      "\n",
      "              precision    recall  f1-score   support\n",
      "\n",
      "           0       0.95      0.97      0.96       376\n",
      "           1       0.97      0.96      0.96       435\n",
      "\n",
      "    accuracy                           0.96       811\n",
      "   macro avg       0.96      0.96      0.96       811\n",
      "weighted avg       0.96      0.96      0.96       811\n",
      "\n"
     ]
    }
   ],
   "source": [
    "evaluation(y_val_non_hostile, y_pred_non_hostile)"
   ]
  },
  {
   "cell_type": "code",
   "execution_count": null,
   "metadata": {
    "papermill": {
     "duration": 0.174889,
     "end_time": "2020-10-24T13:47:20.900597",
     "exception": false,
     "start_time": "2020-10-24T13:47:20.725708",
     "status": "completed"
    },
    "tags": []
   },
   "outputs": [],
   "source": []
  },
  {
   "cell_type": "code",
   "execution_count": null,
   "metadata": {
    "papermill": {
     "duration": 0.170154,
     "end_time": "2020-10-24T13:47:21.240215",
     "exception": false,
     "start_time": "2020-10-24T13:47:21.070061",
     "status": "completed"
    },
    "tags": []
   },
   "outputs": [],
   "source": []
  },
  {
   "cell_type": "markdown",
   "metadata": {
    "papermill": {
     "duration": 0.167703,
     "end_time": "2020-10-24T13:47:21.581362",
     "exception": false,
     "start_time": "2020-10-24T13:47:21.413659",
     "status": "completed"
    },
    "tags": []
   },
   "source": [
    "### Offensive"
   ]
  },
  {
   "cell_type": "code",
   "execution_count": 92,
   "metadata": {
    "execution": {
     "iopub.execute_input": "2020-10-24T13:47:21.922319Z",
     "iopub.status.busy": "2020-10-24T13:47:21.921321Z",
     "iopub.status.idle": "2020-10-24T13:47:21.928257Z",
     "shell.execute_reply": "2020-10-24T13:47:21.927770Z"
    },
    "papermill": {
     "duration": 0.179258,
     "end_time": "2020-10-24T13:47:21.928362",
     "exception": false,
     "start_time": "2020-10-24T13:47:21.749104",
     "status": "completed"
    },
    "tags": []
   },
   "outputs": [],
   "source": [
    "train_labels_offensive = y_train_offensive"
   ]
  },
  {
   "cell_type": "code",
   "execution_count": 93,
   "metadata": {
    "execution": {
     "iopub.execute_input": "2020-10-24T13:47:22.303934Z",
     "iopub.status.busy": "2020-10-24T13:47:22.302885Z",
     "iopub.status.idle": "2020-10-24T13:47:22.306426Z",
     "shell.execute_reply": "2020-10-24T13:47:22.305862Z"
    },
    "papermill": {
     "duration": 0.208051,
     "end_time": "2020-10-24T13:47:22.306547",
     "exception": false,
     "start_time": "2020-10-24T13:47:22.098496",
     "status": "completed"
    },
    "tags": []
   },
   "outputs": [],
   "source": [
    "\n",
    "val_labels_offensive = y_val_offensive"
   ]
  },
  {
   "cell_type": "code",
   "execution_count": 94,
   "metadata": {
    "execution": {
     "iopub.execute_input": "2020-10-24T13:47:22.659648Z",
     "iopub.status.busy": "2020-10-24T13:47:22.656455Z",
     "iopub.status.idle": "2020-10-24T13:47:31.188445Z",
     "shell.execute_reply": "2020-10-24T13:47:31.187822Z"
    },
    "papermill": {
     "duration": 8.705124,
     "end_time": "2020-10-24T13:47:31.188555",
     "exception": false,
     "start_time": "2020-10-24T13:47:22.483431",
     "status": "completed"
    },
    "tags": []
   },
   "outputs": [],
   "source": [
    "input_ids, attention_masks = X_process(train_sentences)\n",
    "train_dataloader = train_load(input_ids, attention_masks, train_labels_offensive)\n",
    "\n",
    "input_ids, attention_masks = X_process(val_sentences)\n",
    "validation_dataloader = val_load(input_ids, attention_masks, val_labels_offensive)"
   ]
  },
  {
   "cell_type": "code",
   "execution_count": 95,
   "metadata": {
    "execution": {
     "iopub.execute_input": "2020-10-24T13:47:31.527568Z",
     "iopub.status.busy": "2020-10-24T13:47:31.526653Z",
     "iopub.status.idle": "2020-10-24T13:47:31.529503Z",
     "shell.execute_reply": "2020-10-24T13:47:31.529030Z"
    },
    "papermill": {
     "duration": 0.174835,
     "end_time": "2020-10-24T13:47:31.529622",
     "exception": false,
     "start_time": "2020-10-24T13:47:31.354787",
     "status": "completed"
    },
    "tags": []
   },
   "outputs": [],
   "source": [
    "from transformers import get_linear_schedule_with_warmup\n",
    "\n",
    "# Number of training epochs. The BERT authors recommend between 2 and 4. \n",
    "# We chose to run for 4, but we'll see later that this may be over-fitting the\n",
    "# training data.\n",
    "epochs = 4\n",
    "\n",
    "# Total number of training steps is [number of batches] x [number of epochs]. \n",
    "# (Note that this is not the same as the number of training samples).\n",
    "total_steps = len(train_dataloader) * epochs\n",
    "\n",
    "# Create the learning rate scheduler.\n",
    "scheduler = get_linear_schedule_with_warmup(optimizer, \n",
    "                                            num_warmup_steps = 0, # Default value in run_glue.py\n",
    "                                            num_training_steps = total_steps)\n"
   ]
  },
  {
   "cell_type": "code",
   "execution_count": 96,
   "metadata": {
    "execution": {
     "iopub.execute_input": "2020-10-24T13:47:31.879032Z",
     "iopub.status.busy": "2020-10-24T13:47:31.878183Z",
     "iopub.status.idle": "2020-10-24T13:57:20.532651Z",
     "shell.execute_reply": "2020-10-24T13:57:20.533416Z"
    },
    "papermill": {
     "duration": 588.83261,
     "end_time": "2020-10-24T13:57:20.533632",
     "exception": false,
     "start_time": "2020-10-24T13:47:31.701022",
     "status": "completed"
    },
    "tags": []
   },
   "outputs": [
    {
     "name": "stdout",
     "output_type": "stream",
     "text": [
      "\n",
      "======== Epoch 1 / 4 ========\n",
      "Training...\n",
      "  Batch    40  of    179.    Elapsed: 0:00:32.\n",
      "  Batch    80  of    179.    Elapsed: 0:01:03.\n",
      "  Batch   120  of    179.    Elapsed: 0:01:34.\n",
      "  Batch   160  of    179.    Elapsed: 0:02:06.\n",
      "\n",
      "  Average training loss: 0.39\n",
      "  Training epcoh took: 0:02:21\n",
      "\n",
      "Running Validation...\n",
      "  Accuracy: 0.88\n",
      "  Validation Loss: 0.24\n",
      "  Validation took: 0:00:06\n",
      "[{'epoch': 1, 'Training Loss': 0.3868245437491539, 'Valid. Loss': 0.23638457231796706, 'Valid. Accur.': 0.8836319930069929, 'Training Time': '0:02:21', 'Validation Time': '0:00:06'}]\n",
      "\n",
      "======== Epoch 2 / 4 ========\n",
      "Training...\n",
      "  Batch    40  of    179.    Elapsed: 0:00:31.\n",
      "  Batch    80  of    179.    Elapsed: 0:01:03.\n",
      "  Batch   120  of    179.    Elapsed: 0:01:34.\n",
      "  Batch   160  of    179.    Elapsed: 0:02:06.\n",
      "\n",
      "  Average training loss: 0.21\n",
      "  Training epcoh took: 0:02:21\n",
      "\n",
      "Running Validation...\n",
      "  Accuracy: 0.90\n",
      "  Validation Loss: 0.22\n",
      "  Validation took: 0:00:06\n",
      "[{'epoch': 1, 'Training Loss': 0.3868245437491539, 'Valid. Loss': 0.23638457231796706, 'Valid. Accur.': 0.8836319930069929, 'Training Time': '0:02:21', 'Validation Time': '0:00:06'}, {'epoch': 2, 'Training Loss': 0.21096996548871755, 'Valid. Loss': 0.2217159799944896, 'Valid. Accur.': 0.8956512237762237, 'Training Time': '0:02:21', 'Validation Time': '0:00:06'}]\n",
      "\n",
      "======== Epoch 3 / 4 ========\n",
      "Training...\n",
      "  Batch    40  of    179.    Elapsed: 0:00:31.\n",
      "  Batch    80  of    179.    Elapsed: 0:01:03.\n",
      "  Batch   120  of    179.    Elapsed: 0:01:34.\n",
      "  Batch   160  of    179.    Elapsed: 0:02:06.\n",
      "\n",
      "  Average training loss: 0.17\n",
      "  Training epcoh took: 0:02:21\n",
      "\n",
      "Running Validation...\n",
      "  Accuracy: 0.89\n",
      "  Validation Loss: 0.26\n",
      "  Validation took: 0:00:06\n",
      "[{'epoch': 1, 'Training Loss': 0.3868245437491539, 'Valid. Loss': 0.23638457231796706, 'Valid. Accur.': 0.8836319930069929, 'Training Time': '0:02:21', 'Validation Time': '0:00:06'}, {'epoch': 2, 'Training Loss': 0.21096996548871755, 'Valid. Loss': 0.2217159799944896, 'Valid. Accur.': 0.8956512237762237, 'Training Time': '0:02:21', 'Validation Time': '0:00:06'}, {'epoch': 3, 'Training Loss': 0.17259991821421924, 'Valid. Loss': 0.2580548440321134, 'Valid. Accur.': 0.8932473776223776, 'Training Time': '0:02:21', 'Validation Time': '0:00:06'}]\n",
      "\n",
      "======== Epoch 4 / 4 ========\n",
      "Training...\n",
      "  Batch    40  of    179.    Elapsed: 0:00:32.\n",
      "  Batch    80  of    179.    Elapsed: 0:01:03.\n",
      "  Batch   120  of    179.    Elapsed: 0:01:35.\n",
      "  Batch   160  of    179.    Elapsed: 0:02:06.\n",
      "\n",
      "  Average training loss: 0.13\n",
      "  Training epcoh took: 0:02:21\n",
      "\n",
      "Running Validation...\n",
      "  Accuracy: 0.89\n",
      "  Validation Loss: 0.31\n",
      "  Validation took: 0:00:06\n",
      "[{'epoch': 1, 'Training Loss': 0.3868245437491539, 'Valid. Loss': 0.23638457231796706, 'Valid. Accur.': 0.8836319930069929, 'Training Time': '0:02:21', 'Validation Time': '0:00:06'}, {'epoch': 2, 'Training Loss': 0.21096996548871755, 'Valid. Loss': 0.2217159799944896, 'Valid. Accur.': 0.8956512237762237, 'Training Time': '0:02:21', 'Validation Time': '0:00:06'}, {'epoch': 3, 'Training Loss': 0.17259991821421924, 'Valid. Loss': 0.2580548440321134, 'Valid. Accur.': 0.8932473776223776, 'Training Time': '0:02:21', 'Validation Time': '0:00:06'}, {'epoch': 4, 'Training Loss': 0.1337398602289028, 'Valid. Loss': 0.30944500469531006, 'Valid. Accur.': 0.8932473776223776, 'Training Time': '0:02:21', 'Validation Time': '0:00:06'}]\n"
     ]
    }
   ],
   "source": [
    "training_stats, y_pred_offensive = train_fn(train_dataloader, validation_dataloader)"
   ]
  },
  {
   "cell_type": "code",
   "execution_count": 97,
   "metadata": {
    "execution": {
     "iopub.execute_input": "2020-10-24T13:57:20.971663Z",
     "iopub.status.busy": "2020-10-24T13:57:20.970476Z",
     "iopub.status.idle": "2020-10-24T13:57:21.179906Z",
     "shell.execute_reply": "2020-10-24T13:57:21.180414Z"
    },
    "papermill": {
     "duration": 0.402018,
     "end_time": "2020-10-24T13:57:21.180568",
     "exception": false,
     "start_time": "2020-10-24T13:57:20.778550",
     "status": "completed"
    },
    "tags": []
   },
   "outputs": [
    {
     "data": {
      "image/png": "[encoded data removed]",
      "text/plain": [
       "<Figure size 864x432 with 1 Axes>"
      ]
     },
     "metadata": {},
     "output_type": "display_data"
    }
   ],
   "source": [
    "df_stats  = stats(training_stats)\n",
    "plot_stats(df_stats)"
   ]
  },
  {
   "cell_type": "code",
   "execution_count": 98,
   "metadata": {
    "execution": {
     "iopub.execute_input": "2020-10-24T13:57:21.584085Z",
     "iopub.status.busy": "2020-10-24T13:57:21.583011Z",
     "iopub.status.idle": "2020-10-24T13:57:21.587648Z",
     "shell.execute_reply": "2020-10-24T13:57:21.588226Z"
    },
    "papermill": {
     "duration": 0.209511,
     "end_time": "2020-10-24T13:57:21.588412",
     "exception": false,
     "start_time": "2020-10-24T13:57:21.378901",
     "status": "completed"
    },
    "tags": []
   },
   "outputs": [
    {
     "data": {
      "text/html": [
       "<div>\n",
       "<style scoped>\n",
       "    .dataframe tbody tr th:only-of-type {\n",
       "        vertical-align: middle;\n",
       "    }\n",
       "\n",
       "    .dataframe tbody tr th {\n",
       "        vertical-align: top;\n",
       "    }\n",
       "\n",
       "    .dataframe thead th {\n",
       "        text-align: right;\n",
       "    }\n",
       "</style>\n",
       "<table border=\"1\" class=\"dataframe\">\n",
       "  <thead>\n",
       "    <tr style=\"text-align: right;\">\n",
       "      <th></th>\n",
       "      <th>Training Loss</th>\n",
       "      <th>Valid. Loss</th>\n",
       "      <th>Valid. Accur.</th>\n",
       "      <th>Training Time</th>\n",
       "      <th>Validation Time</th>\n",
       "    </tr>\n",
       "    <tr>\n",
       "      <th>epoch</th>\n",
       "      <th></th>\n",
       "      <th></th>\n",
       "      <th></th>\n",
       "      <th></th>\n",
       "      <th></th>\n",
       "    </tr>\n",
       "  </thead>\n",
       "  <tbody>\n",
       "    <tr>\n",
       "      <th>1</th>\n",
       "      <td>0.39</td>\n",
       "      <td>0.24</td>\n",
       "      <td>0.88</td>\n",
       "      <td>0:02:21</td>\n",
       "      <td>0:00:06</td>\n",
       "    </tr>\n",
       "    <tr>\n",
       "      <th>2</th>\n",
       "      <td>0.21</td>\n",
       "      <td>0.22</td>\n",
       "      <td>0.90</td>\n",
       "      <td>0:02:21</td>\n",
       "      <td>0:00:06</td>\n",
       "    </tr>\n",
       "    <tr>\n",
       "      <th>3</th>\n",
       "      <td>0.17</td>\n",
       "      <td>0.26</td>\n",
       "      <td>0.89</td>\n",
       "      <td>0:02:21</td>\n",
       "      <td>0:00:06</td>\n",
       "    </tr>\n",
       "    <tr>\n",
       "      <th>4</th>\n",
       "      <td>0.13</td>\n",
       "      <td>0.31</td>\n",
       "      <td>0.89</td>\n",
       "      <td>0:02:21</td>\n",
       "      <td>0:00:06</td>\n",
       "    </tr>\n",
       "  </tbody>\n",
       "</table>\n",
       "</div>"
      ],
      "text/plain": [
       "       Training Loss  Valid. Loss  Valid. Accur. Training Time Validation Time\n",
       "epoch                                                                         \n",
       "1               0.39         0.24           0.88       0:02:21         0:00:06\n",
       "2               0.21         0.22           0.90       0:02:21         0:00:06\n",
       "3               0.17         0.26           0.89       0:02:21         0:00:06\n",
       "4               0.13         0.31           0.89       0:02:21         0:00:06"
      ]
     },
     "execution_count": 98,
     "metadata": {},
     "output_type": "execute_result"
    }
   ],
   "source": [
    "df_stats"
   ]
  },
  {
   "cell_type": "code",
   "execution_count": 99,
   "metadata": {
    "execution": {
     "iopub.execute_input": "2020-10-24T13:57:22.021495Z",
     "iopub.status.busy": "2020-10-24T13:57:22.020361Z",
     "iopub.status.idle": "2020-10-24T13:57:22.035552Z",
     "shell.execute_reply": "2020-10-24T13:57:22.034879Z"
    },
    "papermill": {
     "duration": 0.244613,
     "end_time": "2020-10-24T13:57:22.035704",
     "exception": false,
     "start_time": "2020-10-24T13:57:21.791091",
     "status": "completed"
    },
    "tags": []
   },
   "outputs": [
    {
     "name": "stdout",
     "output_type": "stream",
     "text": [
      "Fine Grained Accuracy = 0.8951911220715166\n",
      "\n",
      "\n",
      "Fine Grained Metrics\n",
      "\n",
      "              precision    recall  f1-score   support\n",
      "\n",
      "           0       0.93      0.95      0.94       708\n",
      "           1       0.60      0.53      0.56       103\n",
      "\n",
      "    accuracy                           0.90       811\n",
      "   macro avg       0.77      0.74      0.75       811\n",
      "weighted avg       0.89      0.90      0.89       811\n",
      "\n"
     ]
    }
   ],
   "source": [
    "evaluation(y_val_offensive, y_pred_offensive)"
   ]
  },
  {
   "cell_type": "code",
   "execution_count": null,
   "metadata": {
    "papermill": {
     "duration": 0.198162,
     "end_time": "2020-10-24T13:57:22.443535",
     "exception": false,
     "start_time": "2020-10-24T13:57:22.245373",
     "status": "completed"
    },
    "tags": []
   },
   "outputs": [],
   "source": []
  },
  {
   "cell_type": "markdown",
   "metadata": {
    "papermill": {
     "duration": 0.184519,
     "end_time": "2020-10-24T13:57:22.810856",
     "exception": false,
     "start_time": "2020-10-24T13:57:22.626337",
     "status": "completed"
    },
    "tags": []
   },
   "source": []
  },
  {
   "cell_type": "code",
   "execution_count": null,
   "metadata": {
    "papermill": {
     "duration": 0.188514,
     "end_time": "2020-10-24T13:57:23.189424",
     "exception": false,
     "start_time": "2020-10-24T13:57:23.000910",
     "status": "completed"
    },
    "tags": []
   },
   "outputs": [],
   "source": []
  },
  {
   "cell_type": "markdown",
   "metadata": {
    "papermill": {
     "duration": 0.186386,
     "end_time": "2020-10-24T13:57:23.560295",
     "exception": false,
     "start_time": "2020-10-24T13:57:23.373909",
     "status": "completed"
    },
    "tags": []
   },
   "source": [
    "### Combine all "
   ]
  },
  {
   "cell_type": "code",
   "execution_count": 100,
   "metadata": {
    "execution": {
     "iopub.execute_input": "2020-10-24T13:57:23.935182Z",
     "iopub.status.busy": "2020-10-24T13:57:23.933239Z",
     "iopub.status.idle": "2020-10-24T13:57:23.935891Z",
     "shell.execute_reply": "2020-10-24T13:57:23.936403Z"
    },
    "papermill": {
     "duration": 0.196765,
     "end_time": "2020-10-24T13:57:23.936537",
     "exception": false,
     "start_time": "2020-10-24T13:57:23.739772",
     "status": "completed"
    },
    "tags": []
   },
   "outputs": [],
   "source": [
    "# {'defamation':0,\n",
    "#  'fake':1,\n",
    "#  'hate':2,\n",
    "#  'non-hostile':3,\n",
    "#  'offensive':4}"
   ]
  },
  {
   "cell_type": "code",
   "execution_count": 101,
   "metadata": {
    "execution": {
     "iopub.execute_input": "2020-10-24T13:57:24.313607Z",
     "iopub.status.busy": "2020-10-24T13:57:24.311660Z",
     "iopub.status.idle": "2020-10-24T13:57:24.314274Z",
     "shell.execute_reply": "2020-10-24T13:57:24.314757Z"
    },
    "papermill": {
     "duration": 0.191085,
     "end_time": "2020-10-24T13:57:24.314886",
     "exception": false,
     "start_time": "2020-10-24T13:57:24.123801",
     "status": "completed"
    },
    "tags": []
   },
   "outputs": [],
   "source": [
    "y_pred = np.array((y_pred_defamation, y_pred_fake, y_pred_hate, y_pred_non_hostile, y_pred_offensive), dtype=int)"
   ]
  },
  {
   "cell_type": "code",
   "execution_count": 102,
   "metadata": {
    "execution": {
     "iopub.execute_input": "2020-10-24T13:57:24.700008Z",
     "iopub.status.busy": "2020-10-24T13:57:24.697949Z",
     "iopub.status.idle": "2020-10-24T13:57:24.700766Z",
     "shell.execute_reply": "2020-10-24T13:57:24.701314Z"
    },
    "papermill": {
     "duration": 0.196241,
     "end_time": "2020-10-24T13:57:24.701442",
     "exception": false,
     "start_time": "2020-10-24T13:57:24.505201",
     "status": "completed"
    },
    "tags": []
   },
   "outputs": [],
   "source": [
    "y_pred = y_pred.transpose()"
   ]
  },
  {
   "cell_type": "code",
   "execution_count": 103,
   "metadata": {
    "execution": {
     "iopub.execute_input": "2020-10-24T13:57:25.090105Z",
     "iopub.status.busy": "2020-10-24T13:57:25.089044Z",
     "iopub.status.idle": "2020-10-24T13:57:25.114266Z",
     "shell.execute_reply": "2020-10-24T13:57:25.113334Z"
    },
    "papermill": {
     "duration": 0.222678,
     "end_time": "2020-10-24T13:57:25.114425",
     "exception": false,
     "start_time": "2020-10-24T13:57:24.891747",
     "status": "completed"
    },
    "tags": []
   },
   "outputs": [
    {
     "name": "stdout",
     "output_type": "stream",
     "text": [
      "Fine Grained Accuracy = 0.6929716399506781\n",
      "\n",
      "\n",
      "Fine Grained Metrics\n",
      "\n",
      "              precision    recall  f1-score   support\n",
      "\n",
      "           0       0.46      0.32      0.38        77\n",
      "           1       0.83      0.81      0.82       160\n",
      "           2       0.40      0.51      0.45       110\n",
      "           3       0.97      0.96      0.96       435\n",
      "           4       0.60      0.53      0.56       103\n",
      "\n",
      "   micro avg       0.78      0.77      0.78       885\n",
      "   macro avg       0.65      0.63      0.64       885\n",
      "weighted avg       0.79      0.77      0.78       885\n",
      " samples avg       0.77      0.80      0.78       885\n",
      "\n"
     ]
    },
    {
     "name": "stderr",
     "output_type": "stream",
     "text": [
      "/opt/conda/lib/python3.7/site-packages/sklearn/metrics/_classification.py:1221: UndefinedMetricWarning: Precision and F-score are ill-defined and being set to 0.0 in samples with no predicted labels. Use `zero_division` parameter to control this behavior.\n",
      "  _warn_prf(average, modifier, msg_start, len(result))\n"
     ]
    }
   ],
   "source": [
    "evaluation(val_y, y_pred)"
   ]
  },
  {
   "cell_type": "code",
   "execution_count": 104,
   "metadata": {
    "execution": {
     "iopub.execute_input": "2020-10-24T13:57:25.492834Z",
     "iopub.status.busy": "2020-10-24T13:57:25.492124Z",
     "iopub.status.idle": "2020-10-24T13:57:25.496013Z",
     "shell.execute_reply": "2020-10-24T13:57:25.495486Z"
    },
    "papermill": {
     "duration": 0.190485,
     "end_time": "2020-10-24T13:57:25.496124",
     "exception": false,
     "start_time": "2020-10-24T13:57:25.305639",
     "status": "completed"
    },
    "tags": []
   },
   "outputs": [],
   "source": [
    "y = []"
   ]
  },
  {
   "cell_type": "code",
   "execution_count": 105,
   "metadata": {
    "execution": {
     "iopub.execute_input": "2020-10-24T13:57:25.885348Z",
     "iopub.status.busy": "2020-10-24T13:57:25.884345Z",
     "iopub.status.idle": "2020-10-24T13:57:25.888147Z",
     "shell.execute_reply": "2020-10-24T13:57:25.887361Z"
    },
    "papermill": {
     "duration": 0.210165,
     "end_time": "2020-10-24T13:57:25.888317",
     "exception": false,
     "start_time": "2020-10-24T13:57:25.678152",
     "status": "completed"
    },
    "tags": []
   },
   "outputs": [],
   "source": [
    "for i in range(len(y_pred_defamation)):\n",
    "    t = []\n",
    "    t.append(y_pred_defamation[i])\n",
    "    t.append(y_pred_fake[i])\n",
    "    t.append(y_pred_hate[i])\n",
    "    t.append(y_pred_non_hostile[i])\n",
    "    t.append(y_pred_offensive[i])\n",
    "    y.append(t)"
   ]
  },
  {
   "cell_type": "code",
   "execution_count": 106,
   "metadata": {
    "execution": {
     "iopub.execute_input": "2020-10-24T13:57:26.267857Z",
     "iopub.status.busy": "2020-10-24T13:57:26.266523Z",
     "iopub.status.idle": "2020-10-24T13:57:26.291050Z",
     "shell.execute_reply": "2020-10-24T13:57:26.291880Z"
    },
    "papermill": {
     "duration": 0.212301,
     "end_time": "2020-10-24T13:57:26.292111",
     "exception": false,
     "start_time": "2020-10-24T13:57:26.079810",
     "status": "completed"
    },
    "tags": []
   },
   "outputs": [
    {
     "name": "stdout",
     "output_type": "stream",
     "text": [
      "Fine Grained Accuracy = 0.6929716399506781\n",
      "\n",
      "\n",
      "Fine Grained Metrics\n",
      "\n",
      "              precision    recall  f1-score   support\n",
      "\n",
      "           0       0.46      0.32      0.38        77\n",
      "           1       0.83      0.81      0.82       160\n",
      "           2       0.40      0.51      0.45       110\n",
      "           3       0.97      0.96      0.96       435\n",
      "           4       0.60      0.53      0.56       103\n",
      "\n",
      "   micro avg       0.78      0.77      0.78       885\n",
      "   macro avg       0.65      0.63      0.64       885\n",
      "weighted avg       0.79      0.77      0.78       885\n",
      " samples avg       0.77      0.80      0.78       885\n",
      "\n"
     ]
    }
   ],
   "source": [
    "evaluation(val_y, y)"
   ]
  },
  {
   "cell_type": "code",
   "execution_count": null,
   "metadata": {
    "papermill": {
     "duration": 0.186482,
     "end_time": "2020-10-24T13:57:26.663387",
     "exception": false,
     "start_time": "2020-10-24T13:57:26.476905",
     "status": "completed"
    },
    "tags": []
   },
   "outputs": [],
   "source": []
  }
 ],
 "metadata": {
  "kernelspec": {
   "display_name": "Python 3",
   "language": "python",
   "name": "python3"
  },
  "language_info": {
   "codemirror_mode": {
    "name": "ipython",
    "version": 3
   },
   "file_extension": ".py",
   "mimetype": "text/x-python",
   "name": "python",
   "nbconvert_exporter": "python",
   "pygments_lexer": "ipython3",
   "version": "3.7.6"
  },
  "papermill": {
   "duration": 3152.497957,
   "end_time": "2020-10-24T13:57:28.627255",
   "environment_variables": {},
   "exception": null,
   "input_path": "__notebook__.ipynb",
   "output_path": "__notebook__.ipynb",
   "parameters": {},
   "start_time": "2020-10-24T13:04:56.129298",
   "version": "2.1.0"
  },
  "widgets": {
   "application/vnd.jupyter.widget-state+json": {
    "state": {
     "03c5c3cdc7034828917bcad08446d707": {
      "model_module": "@jupyter-widgets/controls",
      "model_module_version": "1.5.0",
      "model_name": "DescriptionStyleModel",
      "state": {
       "_model_module": "@jupyter-widgets/controls",
       "_model_module_version": "1.5.0",
       "_model_name": "DescriptionStyleModel",
       "_view_count": null,
       "_view_module": "@jupyter-widgets/base",
       "_view_module_version": "1.2.0",
       "_view_name": "StyleView",
       "description_width": ""
      }
     },
     "0c8f2dbdbf4641a292281d58fef1431b": {
      "model_module": "@jupyter-widgets/base",
      "model_module_version": "1.2.0",
      "model_name": "LayoutModel",
      "state": {
       "_model_module": "@jupyter-widgets/base",
       "_model_module_version": "1.2.0",
       "_model_name": "LayoutModel",
       "_view_count": null,
       "_view_module": "@jupyter-widgets/base",
       "_view_module_version": "1.2.0",
       "_view_name": "LayoutView",
       "align_content": null,
       "align_items": null,
       "align_self": null,
       "border": null,
       "bottom": null,
       "display": null,
       "flex": null,
       "flex_flow": null,
       "grid_area": null,
       "grid_auto_columns": null,
       "grid_auto_flow": null,
       "grid_auto_rows": null,
       "grid_column": null,
       "grid_gap": null,
       "grid_row": null,
       "grid_template_areas": null,
       "grid_template_columns": null,
       "grid_template_rows": null,
       "height": null,
       "justify_content": null,
       "justify_items": null,
       "left": null,
       "margin": null,
       "max_height": null,
       "max_width": null,
       "min_height": null,
       "min_width": null,
       "object_fit": null,
       "object_position": null,
       "order": null,
       "overflow": null,
       "overflow_x": null,
       "overflow_y": null,
       "padding": null,
       "right": null,
       "top": null,
       "visibility": null,
       "width": null
      }
     },
     "0eac5e89d3464d7bb842f67534817d9e": {
      "model_module": "@jupyter-widgets/base",
      "model_module_version": "1.2.0",
      "model_name": "LayoutModel",
      "state": {
       "_model_module": "@jupyter-widgets/base",
       "_model_module_version": "1.2.0",
       "_model_name": "LayoutModel",
       "_view_count": null,
       "_view_module": "@jupyter-widgets/base",
       "_view_module_version": "1.2.0",
       "_view_name": "LayoutView",
       "align_content": null,
       "align_items": null,
       "align_self": null,
       "border": null,
       "bottom": null,
       "display": null,
       "flex": null,
       "flex_flow": null,
       "grid_area": null,
       "grid_auto_columns": null,
       "grid_auto_flow": null,
       "grid_auto_rows": null,
       "grid_column": null,
       "grid_gap": null,
       "grid_row": null,
       "grid_template_areas": null,
       "grid_template_columns": null,
       "grid_template_rows": null,
       "height": null,
       "justify_content": null,
       "justify_items": null,
       "left": null,
       "margin": null,
       "max_height": null,
       "max_width": null,
       "min_height": null,
       "min_width": null,
       "object_fit": null,
       "object_position": null,
       "order": null,
       "overflow": null,
       "overflow_x": null,
       "overflow_y": null,
       "padding": null,
       "right": null,
       "top": null,
       "visibility": null,
       "width": null
      }
     },
     "0ef1b2a3792b4565b14c733e1e157fd4": {
      "model_module": "@jupyter-widgets/base",
      "model_module_version": "1.2.0",
      "model_name": "LayoutModel",
      "state": {
       "_model_module": "@jupyter-widgets/base",
       "_model_module_version": "1.2.0",
       "_model_name": "LayoutModel",
       "_view_count": null,
       "_view_module": "@jupyter-widgets/base",
       "_view_module_version": "1.2.0",
       "_view_name": "LayoutView",
       "align_content": null,
       "align_items": null,
       "align_self": null,
       "border": null,
       "bottom": null,
       "display": null,
       "flex": null,
       "flex_flow": null,
       "grid_area": null,
       "grid_auto_columns": null,
       "grid_auto_flow": null,
       "grid_auto_rows": null,
       "grid_column": null,
       "grid_gap": null,
       "grid_row": null,
       "grid_template_areas": null,
       "grid_template_columns": null,
       "grid_template_rows": null,
       "height": null,
       "justify_content": null,
       "justify_items": null,
       "left": null,
       "margin": null,
       "max_height": null,
       "max_width": null,
       "min_height": null,
       "min_width": null,
       "object_fit": null,
       "object_position": null,
       "order": null,
       "overflow": null,
       "overflow_x": null,
       "overflow_y": null,
       "padding": null,
       "right": null,
       "top": null,
       "visibility": null,
       "width": null
      }
     },
     "13edcf965f5342bfb78c91cc863aeb9b": {
      "model_module": "@jupyter-widgets/controls",
      "model_module_version": "1.5.0",
      "model_name": "HTMLModel",
      "state": {
       "_dom_classes": [],
       "_model_module": "@jupyter-widgets/controls",
       "_model_module_version": "1.5.0",
       "_model_name": "HTMLModel",
       "_view_count": null,
       "_view_module": "@jupyter-widgets/controls",
       "_view_module_version": "1.5.0",
       "_view_name": "HTMLView",
       "description": "",
       "description_tooltip": null,
       "layout": "IPY_MODEL_0ef1b2a3792b4565b14c733e1e157fd4",
       "placeholder": "​",
       "style": "IPY_MODEL_5cf0b8d4afb24798b7e742452a6f54b5",
       "value": " 1.22k/1.22k [00:00&lt;00:00, 4.25kB/s]"
      }
     },
     "1c42b9f89e094d01919fec2b1251818d": {
      "model_module": "@jupyter-widgets/base",
      "model_module_version": "1.2.0",
      "model_name": "LayoutModel",
      "state": {
       "_model_module": "@jupyter-widgets/base",
       "_model_module_version": "1.2.0",
       "_model_name": "LayoutModel",
       "_view_count": null,
       "_view_module": "@jupyter-widgets/base",
       "_view_module_version": "1.2.0",
       "_view_name": "LayoutView",
       "align_content": null,
       "align_items": null,
       "align_self": null,
       "border": null,
       "bottom": null,
       "display": null,
       "flex": null,
       "flex_flow": null,
       "grid_area": null,
       "grid_auto_columns": null,
       "grid_auto_flow": null,
       "grid_auto_rows": null,
       "grid_column": null,
       "grid_gap": null,
       "grid_row": null,
       "grid_template_areas": null,
       "grid_template_columns": null,
       "grid_template_rows": null,
       "height": null,
       "justify_content": null,
       "justify_items": null,
       "left": null,
       "margin": null,
       "max_height": null,
       "max_width": null,
       "min_height": null,
       "min_width": null,
       "object_fit": null,
       "object_position": null,
       "order": null,
       "overflow": null,
       "overflow_x": null,
       "overflow_y": null,
       "padding": null,
       "right": null,
       "top": null,
       "visibility": null,
       "width": null
      }
     },
     "3fb58c1236ec419f80c9090b4fe22363": {
      "model_module": "@jupyter-widgets/controls",
      "model_module_version": "1.5.0",
      "model_name": "FloatProgressModel",
      "state": {
       "_dom_classes": [],
       "_model_module": "@jupyter-widgets/controls",
       "_model_module_version": "1.5.0",
       "_model_name": "FloatProgressModel",
       "_view_count": null,
       "_view_module": "@jupyter-widgets/controls",
       "_view_module_version": "1.5.0",
       "_view_name": "ProgressView",
       "bar_style": "success",
       "description": "Downloading: 100%",
       "description_tooltip": null,
       "layout": "IPY_MODEL_5b0aaf48cf3e479db99fd63302fc44fd",
       "max": 1215.0,
       "min": 0.0,
       "orientation": "horizontal",
       "style": "IPY_MODEL_cbf07bc82f824acc9203d246eb760e5e",
       "value": 1215.0
      }
     },
     "43d4428a0fb241c89db074136037b5b1": {
      "model_module": "@jupyter-widgets/controls",
      "model_module_version": "1.5.0",
      "model_name": "FloatProgressModel",
      "state": {
       "_dom_classes": [],
       "_model_module": "@jupyter-widgets/controls",
       "_model_module_version": "1.5.0",
       "_model_name": "FloatProgressModel",
       "_view_count": null,
       "_view_module": "@jupyter-widgets/controls",
       "_view_module_version": "1.5.0",
       "_view_name": "ProgressView",
       "bar_style": "success",
       "description": "Downloading: 100%",
       "description_tooltip": null,
       "layout": "IPY_MODEL_70e12074954a46289a70dd5fcf07ff76",
       "max": 112.0,
       "min": 0.0,
       "orientation": "horizontal",
       "style": "IPY_MODEL_76396a8d856a40029490ef9b815a017e",
       "value": 112.0
      }
     },
     "46045406834c454f979308346ab6924c": {
      "model_module": "@jupyter-widgets/controls",
      "model_module_version": "1.5.0",
      "model_name": "ProgressStyleModel",
      "state": {
       "_model_module": "@jupyter-widgets/controls",
       "_model_module_version": "1.5.0",
       "_model_name": "ProgressStyleModel",
       "_view_count": null,
       "_view_module": "@jupyter-widgets/base",
       "_view_module_version": "1.2.0",
       "_view_name": "StyleView",
       "bar_color": null,
       "description_width": "initial"
      }
     },
     "517d5d79a83b454a84f3aef40f1aa7db": {
      "model_module": "@jupyter-widgets/base",
      "model_module_version": "1.2.0",
      "model_name": "LayoutModel",
      "state": {
       "_model_module": "@jupyter-widgets/base",
       "_model_module_version": "1.2.0",
       "_model_name": "LayoutModel",
       "_view_count": null,
       "_view_module": "@jupyter-widgets/base",
       "_view_module_version": "1.2.0",
       "_view_name": "LayoutView",
       "align_content": null,
       "align_items": null,
       "align_self": null,
       "border": null,
       "bottom": null,
       "display": null,
       "flex": null,
       "flex_flow": null,
       "grid_area": null,
       "grid_auto_columns": null,
       "grid_auto_flow": null,
       "grid_auto_rows": null,
       "grid_column": null,
       "grid_gap": null,
       "grid_row": null,
       "grid_template_areas": null,
       "grid_template_columns": null,
       "grid_template_rows": null,
       "height": null,
       "justify_content": null,
       "justify_items": null,
       "left": null,
       "margin": null,
       "max_height": null,
       "max_width": null,
       "min_height": null,
       "min_width": null,
       "object_fit": null,
       "object_position": null,
       "order": null,
       "overflow": null,
       "overflow_x": null,
       "overflow_y": null,
       "padding": null,
       "right": null,
       "top": null,
       "visibility": null,
       "width": null
      }
     },
     "522722eb76f6460e9907b9a8011d0596": {
      "model_module": "@jupyter-widgets/controls",
      "model_module_version": "1.5.0",
      "model_name": "HBoxModel",
      "state": {
       "_dom_classes": [],
       "_model_module": "@jupyter-widgets/controls",
       "_model_module_version": "1.5.0",
       "_model_name": "HBoxModel",
       "_view_count": null,
       "_view_module": "@jupyter-widgets/controls",
       "_view_module_version": "1.5.0",
       "_view_name": "HBoxView",
       "box_style": "",
       "children": [
        "IPY_MODEL_43d4428a0fb241c89db074136037b5b1",
        "IPY_MODEL_f3996244fd5946abbf0a259f3fb1cada"
       ],
       "layout": "IPY_MODEL_0eac5e89d3464d7bb842f67534817d9e"
      }
     },
     "524028806cb949b9aeb7429aab0da988": {
      "model_module": "@jupyter-widgets/controls",
      "model_module_version": "1.5.0",
      "model_name": "DescriptionStyleModel",
      "state": {
       "_model_module": "@jupyter-widgets/controls",
       "_model_module_version": "1.5.0",
       "_model_name": "DescriptionStyleModel",
       "_view_count": null,
       "_view_module": "@jupyter-widgets/base",
       "_view_module_version": "1.2.0",
       "_view_name": "StyleView",
       "description_width": ""
      }
     },
     "527f8165428542ada9bfa42ac5ee23b2": {
      "model_module": "@jupyter-widgets/base",
      "model_module_version": "1.2.0",
      "model_name": "LayoutModel",
      "state": {
       "_model_module": "@jupyter-widgets/base",
       "_model_module_version": "1.2.0",
       "_model_name": "LayoutModel",
       "_view_count": null,
       "_view_module": "@jupyter-widgets/base",
       "_view_module_version": "1.2.0",
       "_view_name": "LayoutView",
       "align_content": null,
       "align_items": null,
       "align_self": null,
       "border": null,
       "bottom": null,
       "display": null,
       "flex": null,
       "flex_flow": null,
       "grid_area": null,
       "grid_auto_columns": null,
       "grid_auto_flow": null,
       "grid_auto_rows": null,
       "grid_column": null,
       "grid_gap": null,
       "grid_row": null,
       "grid_template_areas": null,
       "grid_template_columns": null,
       "grid_template_rows": null,
       "height": null,
       "justify_content": null,
       "justify_items": null,
       "left": null,
       "margin": null,
       "max_height": null,
       "max_width": null,
       "min_height": null,
       "min_width": null,
       "object_fit": null,
       "object_position": null,
       "order": null,
       "overflow": null,
       "overflow_x": null,
       "overflow_y": null,
       "padding": null,
       "right": null,
       "top": null,
       "visibility": null,
       "width": null
      }
     },
     "5872451d16734a1181ea783db05479c4": {
      "model_module": "@jupyter-widgets/controls",
      "model_module_version": "1.5.0",
      "model_name": "FloatProgressModel",
      "state": {
       "_dom_classes": [],
       "_model_module": "@jupyter-widgets/controls",
       "_model_module_version": "1.5.0",
       "_model_name": "FloatProgressModel",
       "_view_count": null,
       "_view_module": "@jupyter-widgets/controls",
       "_view_module_version": "1.5.0",
       "_view_name": "ProgressView",
       "bar_style": "success",
       "description": "Downloading: 100%",
       "description_tooltip": null,
       "layout": "IPY_MODEL_517d5d79a83b454a84f3aef40f1aa7db",
       "max": 152.0,
       "min": 0.0,
       "orientation": "horizontal",
       "style": "IPY_MODEL_65729c515bc4406085fadd62e583000f",
       "value": 152.0
      }
     },
     "58919b1add8f41efa0a52e9a4079d117": {
      "model_module": "@jupyter-widgets/controls",
      "model_module_version": "1.5.0",
      "model_name": "DescriptionStyleModel",
      "state": {
       "_model_module": "@jupyter-widgets/controls",
       "_model_module_version": "1.5.0",
       "_model_name": "DescriptionStyleModel",
       "_view_count": null,
       "_view_module": "@jupyter-widgets/base",
       "_view_module_version": "1.2.0",
       "_view_name": "StyleView",
       "description_width": ""
      }
     },
     "5b0aaf48cf3e479db99fd63302fc44fd": {
      "model_module": "@jupyter-widgets/base",
      "model_module_version": "1.2.0",
      "model_name": "LayoutModel",
      "state": {
       "_model_module": "@jupyter-widgets/base",
       "_model_module_version": "1.2.0",
       "_model_name": "LayoutModel",
       "_view_count": null,
       "_view_module": "@jupyter-widgets/base",
       "_view_module_version": "1.2.0",
       "_view_name": "LayoutView",
       "align_content": null,
       "align_items": null,
       "align_self": null,
       "border": null,
       "bottom": null,
       "display": null,
       "flex": null,
       "flex_flow": null,
       "grid_area": null,
       "grid_auto_columns": null,
       "grid_auto_flow": null,
       "grid_auto_rows": null,
       "grid_column": null,
       "grid_gap": null,
       "grid_row": null,
       "grid_template_areas": null,
       "grid_template_columns": null,
       "grid_template_rows": null,
       "height": null,
       "justify_content": null,
       "justify_items": null,
       "left": null,
       "margin": null,
       "max_height": null,
       "max_width": null,
       "min_height": null,
       "min_width": null,
       "object_fit": null,
       "object_position": null,
       "order": null,
       "overflow": null,
       "overflow_x": null,
       "overflow_y": null,
       "padding": null,
       "right": null,
       "top": null,
       "visibility": null,
       "width": null
      }
     },
     "5cf0b8d4afb24798b7e742452a6f54b5": {
      "model_module": "@jupyter-widgets/controls",
      "model_module_version": "1.5.0",
      "model_name": "DescriptionStyleModel",
      "state": {
       "_model_module": "@jupyter-widgets/controls",
       "_model_module_version": "1.5.0",
       "_model_name": "DescriptionStyleModel",
       "_view_count": null,
       "_view_module": "@jupyter-widgets/base",
       "_view_module_version": "1.2.0",
       "_view_name": "StyleView",
       "description_width": ""
      }
     },
     "65729c515bc4406085fadd62e583000f": {
      "model_module": "@jupyter-widgets/controls",
      "model_module_version": "1.5.0",
      "model_name": "ProgressStyleModel",
      "state": {
       "_model_module": "@jupyter-widgets/controls",
       "_model_module_version": "1.5.0",
       "_model_name": "ProgressStyleModel",
       "_view_count": null,
       "_view_module": "@jupyter-widgets/base",
       "_view_module_version": "1.2.0",
       "_view_name": "StyleView",
       "bar_color": null,
       "description_width": "initial"
      }
     },
     "692de3c30faf495392784d01c1b341a4": {
      "model_module": "@jupyter-widgets/controls",
      "model_module_version": "1.5.0",
      "model_name": "HBoxModel",
      "state": {
       "_dom_classes": [],
       "_model_module": "@jupyter-widgets/controls",
       "_model_module_version": "1.5.0",
       "_model_name": "HBoxModel",
       "_view_count": null,
       "_view_module": "@jupyter-widgets/controls",
       "_view_module_version": "1.5.0",
       "_view_name": "HBoxView",
       "box_style": "",
       "children": [
        "IPY_MODEL_3fb58c1236ec419f80c9090b4fe22363",
        "IPY_MODEL_13edcf965f5342bfb78c91cc863aeb9b"
       ],
       "layout": "IPY_MODEL_c8dcdda20f0242ab9aba5f6bcde164b3"
      }
     },
     "6a300f1ece2e46149c042233a8793518": {
      "model_module": "@jupyter-widgets/base",
      "model_module_version": "1.2.0",
      "model_name": "LayoutModel",
      "state": {
       "_model_module": "@jupyter-widgets/base",
       "_model_module_version": "1.2.0",
       "_model_name": "LayoutModel",
       "_view_count": null,
       "_view_module": "@jupyter-widgets/base",
       "_view_module_version": "1.2.0",
       "_view_name": "LayoutView",
       "align_content": null,
       "align_items": null,
       "align_self": null,
       "border": null,
       "bottom": null,
       "display": null,
       "flex": null,
       "flex_flow": null,
       "grid_area": null,
       "grid_auto_columns": null,
       "grid_auto_flow": null,
       "grid_auto_rows": null,
       "grid_column": null,
       "grid_gap": null,
       "grid_row": null,
       "grid_template_areas": null,
       "grid_template_columns": null,
       "grid_template_rows": null,
       "height": null,
       "justify_content": null,
       "justify_items": null,
       "left": null,
       "margin": null,
       "max_height": null,
       "max_width": null,
       "min_height": null,
       "min_width": null,
       "object_fit": null,
       "object_position": null,
       "order": null,
       "overflow": null,
       "overflow_x": null,
       "overflow_y": null,
       "padding": null,
       "right": null,
       "top": null,
       "visibility": null,
       "width": null
      }
     },
     "6c1b93183b8e49918d4ce6df667bbb4c": {
      "model_module": "@jupyter-widgets/base",
      "model_module_version": "1.2.0",
      "model_name": "LayoutModel",
      "state": {
       "_model_module": "@jupyter-widgets/base",
       "_model_module_version": "1.2.0",
       "_model_name": "LayoutModel",
       "_view_count": null,
       "_view_module": "@jupyter-widgets/base",
       "_view_module_version": "1.2.0",
       "_view_name": "LayoutView",
       "align_content": null,
       "align_items": null,
       "align_self": null,
       "border": null,
       "bottom": null,
       "display": null,
       "flex": null,
       "flex_flow": null,
       "grid_area": null,
       "grid_auto_columns": null,
       "grid_auto_flow": null,
       "grid_auto_rows": null,
       "grid_column": null,
       "grid_gap": null,
       "grid_row": null,
       "grid_template_areas": null,
       "grid_template_columns": null,
       "grid_template_rows": null,
       "height": null,
       "justify_content": null,
       "justify_items": null,
       "left": null,
       "margin": null,
       "max_height": null,
       "max_width": null,
       "min_height": null,
       "min_width": null,
       "object_fit": null,
       "object_position": null,
       "order": null,
       "overflow": null,
       "overflow_x": null,
       "overflow_y": null,
       "padding": null,
       "right": null,
       "top": null,
       "visibility": null,
       "width": null
      }
     },
     "70e12074954a46289a70dd5fcf07ff76": {
      "model_module": "@jupyter-widgets/base",
      "model_module_version": "1.2.0",
      "model_name": "LayoutModel",
      "state": {
       "_model_module": "@jupyter-widgets/base",
       "_model_module_version": "1.2.0",
       "_model_name": "LayoutModel",
       "_view_count": null,
       "_view_module": "@jupyter-widgets/base",
       "_view_module_version": "1.2.0",
       "_view_name": "LayoutView",
       "align_content": null,
       "align_items": null,
       "align_self": null,
       "border": null,
       "bottom": null,
       "display": null,
       "flex": null,
       "flex_flow": null,
       "grid_area": null,
       "grid_auto_columns": null,
       "grid_auto_flow": null,
       "grid_auto_rows": null,
       "grid_column": null,
       "grid_gap": null,
       "grid_row": null,
       "grid_template_areas": null,
       "grid_template_columns": null,
       "grid_template_rows": null,
       "height": null,
       "justify_content": null,
       "justify_items": null,
       "left": null,
       "margin": null,
       "max_height": null,
       "max_width": null,
       "min_height": null,
       "min_width": null,
       "object_fit": null,
       "object_position": null,
       "order": null,
       "overflow": null,
       "overflow_x": null,
       "overflow_y": null,
       "padding": null,
       "right": null,
       "top": null,
       "visibility": null,
       "width": null
      }
     },
     "718ca8a8ea904adcabb6b6ae096734b5": {
      "model_module": "@jupyter-widgets/controls",
      "model_module_version": "1.5.0",
      "model_name": "HBoxModel",
      "state": {
       "_dom_classes": [],
       "_model_module": "@jupyter-widgets/controls",
       "_model_module_version": "1.5.0",
       "_model_name": "HBoxModel",
       "_view_count": null,
       "_view_module": "@jupyter-widgets/controls",
       "_view_module_version": "1.5.0",
       "_view_name": "HBoxView",
       "box_style": "",
       "children": [
        "IPY_MODEL_f63cf84d305441caae66b403d4023410",
        "IPY_MODEL_93b14936939c4332bfc94c1762a22ab4"
       ],
       "layout": "IPY_MODEL_6c1b93183b8e49918d4ce6df667bbb4c"
      }
     },
     "7617fd0809a5406f839bc8fcf83168be": {
      "model_module": "@jupyter-widgets/controls",
      "model_module_version": "1.5.0",
      "model_name": "HBoxModel",
      "state": {
       "_dom_classes": [],
       "_model_module": "@jupyter-widgets/controls",
       "_model_module_version": "1.5.0",
       "_model_name": "HBoxModel",
       "_view_count": null,
       "_view_module": "@jupyter-widgets/controls",
       "_view_module_version": "1.5.0",
       "_view_name": "HBoxView",
       "box_style": "",
       "children": [
        "IPY_MODEL_5872451d16734a1181ea783db05479c4",
        "IPY_MODEL_e06842e0e9cf46b7a7fdf64e7fa92fd1"
       ],
       "layout": "IPY_MODEL_bc45c6fb437f4e2c90f767a2d9bdd08a"
      }
     },
     "76396a8d856a40029490ef9b815a017e": {
      "model_module": "@jupyter-widgets/controls",
      "model_module_version": "1.5.0",
      "model_name": "ProgressStyleModel",
      "state": {
       "_model_module": "@jupyter-widgets/controls",
       "_model_module_version": "1.5.0",
       "_model_name": "ProgressStyleModel",
       "_view_count": null,
       "_view_module": "@jupyter-widgets/base",
       "_view_module_version": "1.2.0",
       "_view_name": "StyleView",
       "bar_color": null,
       "description_width": "initial"
      }
     },
     "76949c9f17a643cfa3f42c8a6f3d3414": {
      "model_module": "@jupyter-widgets/base",
      "model_module_version": "1.2.0",
      "model_name": "LayoutModel",
      "state": {
       "_model_module": "@jupyter-widgets/base",
       "_model_module_version": "1.2.0",
       "_model_name": "LayoutModel",
       "_view_count": null,
       "_view_module": "@jupyter-widgets/base",
       "_view_module_version": "1.2.0",
       "_view_name": "LayoutView",
       "align_content": null,
       "align_items": null,
       "align_self": null,
       "border": null,
       "bottom": null,
       "display": null,
       "flex": null,
       "flex_flow": null,
       "grid_area": null,
       "grid_auto_columns": null,
       "grid_auto_flow": null,
       "grid_auto_rows": null,
       "grid_column": null,
       "grid_gap": null,
       "grid_row": null,
       "grid_template_areas": null,
       "grid_template_columns": null,
       "grid_template_rows": null,
       "height": null,
       "justify_content": null,
       "justify_items": null,
       "left": null,
       "margin": null,
       "max_height": null,
       "max_width": null,
       "min_height": null,
       "min_width": null,
       "object_fit": null,
       "object_position": null,
       "order": null,
       "overflow": null,
       "overflow_x": null,
       "overflow_y": null,
       "padding": null,
       "right": null,
       "top": null,
       "visibility": null,
       "width": null
      }
     },
     "80461550e3654a70ae5510b039f30e62": {
      "model_module": "@jupyter-widgets/controls",
      "model_module_version": "1.5.0",
      "model_name": "DescriptionStyleModel",
      "state": {
       "_model_module": "@jupyter-widgets/controls",
       "_model_module_version": "1.5.0",
       "_model_name": "DescriptionStyleModel",
       "_view_count": null,
       "_view_module": "@jupyter-widgets/base",
       "_view_module_version": "1.2.0",
       "_view_name": "StyleView",
       "description_width": ""
      }
     },
     "896ddb6d87964e179d6f08d3deae26de": {
      "model_module": "@jupyter-widgets/controls",
      "model_module_version": "1.5.0",
      "model_name": "HBoxModel",
      "state": {
       "_dom_classes": [],
       "_model_module": "@jupyter-widgets/controls",
       "_model_module_version": "1.5.0",
       "_model_name": "HBoxModel",
       "_view_count": null,
       "_view_module": "@jupyter-widgets/controls",
       "_view_module_version": "1.5.0",
       "_view_name": "HBoxView",
       "box_style": "",
       "children": [
        "IPY_MODEL_981c27a17782470aa8981acc373e7472",
        "IPY_MODEL_edfb307bda05409db7b46ca68cc68ba8"
       ],
       "layout": "IPY_MODEL_6a300f1ece2e46149c042233a8793518"
      }
     },
     "93b14936939c4332bfc94c1762a22ab4": {
      "model_module": "@jupyter-widgets/controls",
      "model_module_version": "1.5.0",
      "model_name": "HTMLModel",
      "state": {
       "_dom_classes": [],
       "_model_module": "@jupyter-widgets/controls",
       "_model_module_version": "1.5.0",
       "_model_name": "HTMLModel",
       "_view_count": null,
       "_view_module": "@jupyter-widgets/controls",
       "_view_module_version": "1.5.0",
       "_view_name": "HTMLView",
       "description": "",
       "description_tooltip": null,
       "layout": "IPY_MODEL_0c8f2dbdbf4641a292281d58fef1431b",
       "placeholder": "​",
       "style": "IPY_MODEL_58919b1add8f41efa0a52e9a4079d117",
       "value": " 996k/996k [00:00&lt;00:00, 8.40MB/s]"
      }
     },
     "981c27a17782470aa8981acc373e7472": {
      "model_module": "@jupyter-widgets/controls",
      "model_module_version": "1.5.0",
      "model_name": "FloatProgressModel",
      "state": {
       "_dom_classes": [],
       "_model_module": "@jupyter-widgets/controls",
       "_model_module_version": "1.5.0",
       "_model_name": "FloatProgressModel",
       "_view_count": null,
       "_view_module": "@jupyter-widgets/controls",
       "_view_module_version": "1.5.0",
       "_view_name": "ProgressView",
       "bar_style": "success",
       "description": "Downloading: 100%",
       "description_tooltip": null,
       "layout": "IPY_MODEL_d48f5bbddce74f9c9562a6316ecff2cc",
       "max": 714309763.0,
       "min": 0.0,
       "orientation": "horizontal",
       "style": "IPY_MODEL_46045406834c454f979308346ab6924c",
       "value": 714309763.0
      }
     },
     "9de716294ba642458f188be91b575e6c": {
      "model_module": "@jupyter-widgets/base",
      "model_module_version": "1.2.0",
      "model_name": "LayoutModel",
      "state": {
       "_model_module": "@jupyter-widgets/base",
       "_model_module_version": "1.2.0",
       "_model_name": "LayoutModel",
       "_view_count": null,
       "_view_module": "@jupyter-widgets/base",
       "_view_module_version": "1.2.0",
       "_view_name": "LayoutView",
       "align_content": null,
       "align_items": null,
       "align_self": null,
       "border": null,
       "bottom": null,
       "display": null,
       "flex": null,
       "flex_flow": null,
       "grid_area": null,
       "grid_auto_columns": null,
       "grid_auto_flow": null,
       "grid_auto_rows": null,
       "grid_column": null,
       "grid_gap": null,
       "grid_row": null,
       "grid_template_areas": null,
       "grid_template_columns": null,
       "grid_template_rows": null,
       "height": null,
       "justify_content": null,
       "justify_items": null,
       "left": null,
       "margin": null,
       "max_height": null,
       "max_width": null,
       "min_height": null,
       "min_width": null,
       "object_fit": null,
       "object_position": null,
       "order": null,
       "overflow": null,
       "overflow_x": null,
       "overflow_y": null,
       "padding": null,
       "right": null,
       "top": null,
       "visibility": null,
       "width": null
      }
     },
     "bc45c6fb437f4e2c90f767a2d9bdd08a": {
      "model_module": "@jupyter-widgets/base",
      "model_module_version": "1.2.0",
      "model_name": "LayoutModel",
      "state": {
       "_model_module": "@jupyter-widgets/base",
       "_model_module_version": "1.2.0",
       "_model_name": "LayoutModel",
       "_view_count": null,
       "_view_module": "@jupyter-widgets/base",
       "_view_module_version": "1.2.0",
       "_view_name": "LayoutView",
       "align_content": null,
       "align_items": null,
       "align_self": null,
       "border": null,
       "bottom": null,
       "display": null,
       "flex": null,
       "flex_flow": null,
       "grid_area": null,
       "grid_auto_columns": null,
       "grid_auto_flow": null,
       "grid_auto_rows": null,
       "grid_column": null,
       "grid_gap": null,
       "grid_row": null,
       "grid_template_areas": null,
       "grid_template_columns": null,
       "grid_template_rows": null,
       "height": null,
       "justify_content": null,
       "justify_items": null,
       "left": null,
       "margin": null,
       "max_height": null,
       "max_width": null,
       "min_height": null,
       "min_width": null,
       "object_fit": null,
       "object_position": null,
       "order": null,
       "overflow": null,
       "overflow_x": null,
       "overflow_y": null,
       "padding": null,
       "right": null,
       "top": null,
       "visibility": null,
       "width": null
      }
     },
     "c8dcdda20f0242ab9aba5f6bcde164b3": {
      "model_module": "@jupyter-widgets/base",
      "model_module_version": "1.2.0",
      "model_name": "LayoutModel",
      "state": {
       "_model_module": "@jupyter-widgets/base",
       "_model_module_version": "1.2.0",
       "_model_name": "LayoutModel",
       "_view_count": null,
       "_view_module": "@jupyter-widgets/base",
       "_view_module_version": "1.2.0",
       "_view_name": "LayoutView",
       "align_content": null,
       "align_items": null,
       "align_self": null,
       "border": null,
       "bottom": null,
       "display": null,
       "flex": null,
       "flex_flow": null,
       "grid_area": null,
       "grid_auto_columns": null,
       "grid_auto_flow": null,
       "grid_auto_rows": null,
       "grid_column": null,
       "grid_gap": null,
       "grid_row": null,
       "grid_template_areas": null,
       "grid_template_columns": null,
       "grid_template_rows": null,
       "height": null,
       "justify_content": null,
       "justify_items": null,
       "left": null,
       "margin": null,
       "max_height": null,
       "max_width": null,
       "min_height": null,
       "min_width": null,
       "object_fit": null,
       "object_position": null,
       "order": null,
       "overflow": null,
       "overflow_x": null,
       "overflow_y": null,
       "padding": null,
       "right": null,
       "top": null,
       "visibility": null,
       "width": null
      }
     },
     "cbf07bc82f824acc9203d246eb760e5e": {
      "model_module": "@jupyter-widgets/controls",
      "model_module_version": "1.5.0",
      "model_name": "ProgressStyleModel",
      "state": {
       "_model_module": "@jupyter-widgets/controls",
       "_model_module_version": "1.5.0",
       "_model_name": "ProgressStyleModel",
       "_view_count": null,
       "_view_module": "@jupyter-widgets/base",
       "_view_module_version": "1.2.0",
       "_view_name": "StyleView",
       "bar_color": null,
       "description_width": "initial"
      }
     },
     "d48f5bbddce74f9c9562a6316ecff2cc": {
      "model_module": "@jupyter-widgets/base",
      "model_module_version": "1.2.0",
      "model_name": "LayoutModel",
      "state": {
       "_model_module": "@jupyter-widgets/base",
       "_model_module_version": "1.2.0",
       "_model_name": "LayoutModel",
       "_view_count": null,
       "_view_module": "@jupyter-widgets/base",
       "_view_module_version": "1.2.0",
       "_view_name": "LayoutView",
       "align_content": null,
       "align_items": null,
       "align_self": null,
       "border": null,
       "bottom": null,
       "display": null,
       "flex": null,
       "flex_flow": null,
       "grid_area": null,
       "grid_auto_columns": null,
       "grid_auto_flow": null,
       "grid_auto_rows": null,
       "grid_column": null,
       "grid_gap": null,
       "grid_row": null,
       "grid_template_areas": null,
       "grid_template_columns": null,
       "grid_template_rows": null,
       "height": null,
       "justify_content": null,
       "justify_items": null,
       "left": null,
       "margin": null,
       "max_height": null,
       "max_width": null,
       "min_height": null,
       "min_width": null,
       "object_fit": null,
       "object_position": null,
       "order": null,
       "overflow": null,
       "overflow_x": null,
       "overflow_y": null,
       "padding": null,
       "right": null,
       "top": null,
       "visibility": null,
       "width": null
      }
     },
     "e06842e0e9cf46b7a7fdf64e7fa92fd1": {
      "model_module": "@jupyter-widgets/controls",
      "model_module_version": "1.5.0",
      "model_name": "HTMLModel",
      "state": {
       "_dom_classes": [],
       "_model_module": "@jupyter-widgets/controls",
       "_model_module_version": "1.5.0",
       "_model_name": "HTMLModel",
       "_view_count": null,
       "_view_module": "@jupyter-widgets/controls",
       "_view_module_version": "1.5.0",
       "_view_name": "HTMLView",
       "description": "",
       "description_tooltip": null,
       "layout": "IPY_MODEL_76949c9f17a643cfa3f42c8a6f3d3414",
       "placeholder": "​",
       "style": "IPY_MODEL_524028806cb949b9aeb7429aab0da988",
       "value": " 152/152 [00:00&lt;00:00, 692B/s]"
      }
     },
     "ecfed84f4ee14e0a957990a8555cb243": {
      "model_module": "@jupyter-widgets/controls",
      "model_module_version": "1.5.0",
      "model_name": "ProgressStyleModel",
      "state": {
       "_model_module": "@jupyter-widgets/controls",
       "_model_module_version": "1.5.0",
       "_model_name": "ProgressStyleModel",
       "_view_count": null,
       "_view_module": "@jupyter-widgets/base",
       "_view_module_version": "1.2.0",
       "_view_name": "StyleView",
       "bar_color": null,
       "description_width": "initial"
      }
     },
     "edfb307bda05409db7b46ca68cc68ba8": {
      "model_module": "@jupyter-widgets/controls",
      "model_module_version": "1.5.0",
      "model_name": "HTMLModel",
      "state": {
       "_dom_classes": [],
       "_model_module": "@jupyter-widgets/controls",
       "_model_module_version": "1.5.0",
       "_model_name": "HTMLModel",
       "_view_count": null,
       "_view_module": "@jupyter-widgets/controls",
       "_view_module_version": "1.5.0",
       "_view_name": "HTMLView",
       "description": "",
       "description_tooltip": null,
       "layout": "IPY_MODEL_9de716294ba642458f188be91b575e6c",
       "placeholder": "​",
       "style": "IPY_MODEL_80461550e3654a70ae5510b039f30e62",
       "value": " 714M/714M [01:11&lt;00:00, 9.99MB/s]"
      }
     },
     "f3996244fd5946abbf0a259f3fb1cada": {
      "model_module": "@jupyter-widgets/controls",
      "model_module_version": "1.5.0",
      "model_name": "HTMLModel",
      "state": {
       "_dom_classes": [],
       "_model_module": "@jupyter-widgets/controls",
       "_model_module_version": "1.5.0",
       "_model_name": "HTMLModel",
       "_view_count": null,
       "_view_module": "@jupyter-widgets/controls",
       "_view_module_version": "1.5.0",
       "_view_name": "HTMLView",
       "description": "",
       "description_tooltip": null,
       "layout": "IPY_MODEL_527f8165428542ada9bfa42ac5ee23b2",
       "placeholder": "​",
       "style": "IPY_MODEL_03c5c3cdc7034828917bcad08446d707",
       "value": " 112/112 [00:00&lt;00:00, 485B/s]"
      }
     },
     "f63cf84d305441caae66b403d4023410": {
      "model_module": "@jupyter-widgets/controls",
      "model_module_version": "1.5.0",
      "model_name": "FloatProgressModel",
      "state": {
       "_dom_classes": [],
       "_model_module": "@jupyter-widgets/controls",
       "_model_module_version": "1.5.0",
       "_model_name": "FloatProgressModel",
       "_view_count": null,
       "_view_module": "@jupyter-widgets/controls",
       "_view_module_version": "1.5.0",
       "_view_name": "ProgressView",
       "bar_style": "success",
       "description": "Downloading: 100%",
       "description_tooltip": null,
       "layout": "IPY_MODEL_1c42b9f89e094d01919fec2b1251818d",
       "max": 995526.0,
       "min": 0.0,
       "orientation": "horizontal",
       "style": "IPY_MODEL_ecfed84f4ee14e0a957990a8555cb243",
       "value": 995526.0
      }
     }
    },
    "version_major": 2,
    "version_minor": 0
   }
  }
 },
 "nbformat": 4,
 "nbformat_minor": 4
}
