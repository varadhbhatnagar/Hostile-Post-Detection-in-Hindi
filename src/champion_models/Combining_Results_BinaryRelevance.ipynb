{
 "cells": [
  {
   "cell_type": "markdown",
   "metadata": {
    "id": "EdHVQrqyDB50"
   },
   "source": [
    "# Memory Information"
   ]
  },
  {
   "cell_type": "code",
   "execution_count": null,
   "metadata": {
    "colab": {
     "base_uri": "https://localhost:8080/"
    },
    "id": "E58HaeA6CsM9",
    "outputId": "609ed55b-2fa5-432f-b3d6-dad212ad2c83"
   },
   "outputs": [],
   "source": []
  },
  {
   "cell_type": "markdown",
   "metadata": {
    "id": "FgVfBlvZDEja"
   },
   "source": [
    "# GPU Information"
   ]
  },
  {
   "cell_type": "code",
   "execution_count": null,
   "metadata": {
    "colab": {
     "base_uri": "https://localhost:8080/"
    },
    "id": "rxlkxvkrCyin",
    "outputId": "e561f282-7d5e-4408-e29e-aeb056b2b779",
    "scrolled": true
   },
   "outputs": [],
   "source": []
  },
  {
   "cell_type": "code",
   "execution_count": 21,
   "metadata": {
    "id": "GYdI5IQ5-qvt"
   },
   "outputs": [],
   "source": [
    "import pandas as pd\n",
    "import numpy as np\n",
    "from sklearn.metrics import accuracy_score\n",
    "from sklearn.metrics import classification_report\n",
    "from sklearn.metrics import confusion_matrix"
   ]
  },
  {
   "cell_type": "code",
   "execution_count": 22,
   "metadata": {
    "id": "8z4BVbqZ7mbj"
   },
   "outputs": [],
   "source": [
    "# Label Mapping\n",
    "labels_mapping = {'defamation':0,\n",
    " 'fake':1,\n",
    " 'hate':2,\n",
    " 'non-hostile':3,\n",
    " 'offensive':4}"
   ]
  },
  {
   "cell_type": "code",
   "execution_count": 23,
   "metadata": {
    "id": "no-Wv0oz7WgQ"
   },
   "outputs": [],
   "source": [
    "def evaluation(y_true, y_pred):\n",
    "  print(\"Fine Grained Accuracy = {}\".format(accuracy_score(y_true, y_pred)))\n",
    "  print(\"\\n\\nFine Grained Metrics\\n\")\n",
    "  print(classification_report(y_true, y_pred))\n",
    "\n",
    "  print(\"\\n\\nCoarse Grained Metrics\\n\")\n",
    "  y_true_cg = 1-y_true[:,3]\n",
    "  y_pred_cg = 1-y_pred[:,3]\n",
    "  print(classification_report(y_true_cg, y_pred_cg))\n",
    "\n",
    "  print(confusion_matrix(y_true_cg, y_pred_cg))\n",
    "  "
   ]
  },
  {
   "cell_type": "code",
   "execution_count": 24,
   "metadata": {
    "id": "QAY1GWad6OwZ"
   },
   "outputs": [],
   "source": [
    "val_file = 'val.csv'"
   ]
  },
  {
   "cell_type": "code",
   "execution_count": 25,
   "metadata": {
    "id": "jyDODoaWC6KI"
   },
   "outputs": [],
   "source": [
    "val_data = pd.read_csv(val_file, header=0, index_col=0)\n",
    "val_y = np.empty((0, 5))\n",
    "for index, row in val_data.iterrows():\n",
    "  y = np.zeros((1, 5))\n",
    "  for label in row['Labels Set'].split(','):\n",
    "    y[0, labels_mapping[label]] = 1\n",
    "\n",
    "  val_y = np.vstack((val_y, y))"
   ]
  },
  {
   "cell_type": "code",
   "execution_count": 26,
   "metadata": {
    "id": "mQC7ijQ66Rot"
   },
   "outputs": [],
   "source": [
    "y_pred_defamation = pd.read_csv('defamation/y_pred_defamation.csv', header=None)[0].to_list()\n",
    "y_pred_fake = pd.read_csv('fake/y_pred_fake.csv', header=None)[0].to_list()\n",
    "y_pred_hate = pd.read_csv('hate/y_pred_hate.csv', header=None)[0].to_list()\n",
    "y_pred_non_hostile = pd.read_csv('non_hostile/y_pred_non_hostile.csv', header=None)[0].to_list()\n",
    "y_pred_offensive = pd.read_csv('offensive/y_pred_offensive.csv', header=None)[0].to_list()"
   ]
  },
  {
   "cell_type": "code",
   "execution_count": 27,
   "metadata": {
    "execution": {
     "iopub.execute_input": "2020-10-24T13:57:24.313607Z",
     "iopub.status.busy": "2020-10-24T13:57:24.311660Z",
     "iopub.status.idle": "2020-10-24T13:57:24.314274Z",
     "shell.execute_reply": "2020-10-24T13:57:24.314757Z"
    },
    "id": "UH7Or8j3YKta",
    "papermill": {
     "duration": 0.191085,
     "end_time": "2020-10-24T13:57:24.314886",
     "exception": false,
     "start_time": "2020-10-24T13:57:24.123801",
     "status": "completed"
    },
    "tags": []
   },
   "outputs": [],
   "source": [
    "y_pred = np.array((y_pred_defamation, y_pred_fake, y_pred_hate, y_pred_non_hostile, y_pred_offensive), dtype=int)"
   ]
  },
  {
   "cell_type": "code",
   "execution_count": 28,
   "metadata": {
    "execution": {
     "iopub.execute_input": "2020-10-24T13:57:24.700008Z",
     "iopub.status.busy": "2020-10-24T13:57:24.697949Z",
     "iopub.status.idle": "2020-10-24T13:57:24.700766Z",
     "shell.execute_reply": "2020-10-24T13:57:24.701314Z"
    },
    "id": "w7udrEGiYKtb",
    "papermill": {
     "duration": 0.196241,
     "end_time": "2020-10-24T13:57:24.701442",
     "exception": false,
     "start_time": "2020-10-24T13:57:24.505201",
     "status": "completed"
    },
    "tags": []
   },
   "outputs": [],
   "source": [
    "y_pred = y_pred.transpose()"
   ]
  },
  {
   "cell_type": "code",
   "execution_count": 29,
   "metadata": {
    "colab": {
     "base_uri": "https://localhost:8080/"
    },
    "execution": {
     "iopub.execute_input": "2020-10-24T13:57:25.090105Z",
     "iopub.status.busy": "2020-10-24T13:57:25.089044Z",
     "iopub.status.idle": "2020-10-24T13:57:25.114266Z",
     "shell.execute_reply": "2020-10-24T13:57:25.113334Z"
    },
    "id": "e3j-V131YKtd",
    "outputId": "a182ec6e-b6da-4d74-b220-875f4762f2f1",
    "papermill": {
     "duration": 0.222678,
     "end_time": "2020-10-24T13:57:25.114425",
     "exception": false,
     "start_time": "2020-10-24T13:57:24.891747",
     "status": "completed"
    },
    "tags": []
   },
   "outputs": [
    {
     "name": "stdout",
     "output_type": "stream",
     "text": [
      "Fine Grained Accuracy = 0.6288532675709001\n",
      "\n",
      "\n",
      "Fine Grained Metrics\n",
      "\n",
      "              precision    recall  f1-score   support\n",
      "\n",
      "           0       0.25      0.91      0.40        77\n",
      "           1       0.82      0.79      0.81       160\n",
      "           2       0.49      0.47      0.48       110\n",
      "           3       0.98      0.97      0.97       435\n",
      "           4       0.58      0.56      0.57       103\n",
      "\n",
      "   micro avg       0.68      0.82      0.75       885\n",
      "   macro avg       0.62      0.74      0.65       885\n",
      "weighted avg       0.78      0.82      0.78       885\n",
      " samples avg       0.75      0.84      0.77       885\n",
      "\n",
      "\n",
      "\n",
      "Coarse Grained Metrics\n",
      "\n",
      "              precision    recall  f1-score   support\n",
      "\n",
      "         0.0       0.98      0.97      0.97       435\n",
      "         1.0       0.96      0.98      0.97       376\n",
      "\n",
      "    accuracy                           0.97       811\n",
      "   macro avg       0.97      0.97      0.97       811\n",
      "weighted avg       0.97      0.97      0.97       811\n",
      "\n",
      "[[420  15]\n",
      " [  9 367]]\n"
     ]
    }
   ],
   "source": [
    "# Label Mapping\n",
    "# labels_mapping = {'defamation':0,\n",
    "#  'fake':1,\n",
    "#  'hate':2,\n",
    "#  'non-hostile':3,\n",
    "#  'offensive':4}\n",
    "\n",
    "evaluation(val_y, y_pred)"
   ]
  },
  {
   "cell_type": "code",
   "execution_count": 30,
   "metadata": {
    "id": "B5-lQiUyAW2o"
   },
   "outputs": [],
   "source": [
    "np.savetxt(\"y_pred.csv\", y_pred, delimiter=\",\")"
   ]
  },
  {
   "cell_type": "code",
   "execution_count": null,
   "metadata": {},
   "outputs": [],
   "source": []
  }
 ],
 "metadata": {
  "accelerator": "GPU",
  "colab": {
   "collapsed_sections": [],
   "machine_shape": "hm",
   "name": "Combining_Results.ipynb",
   "provenance": [],
   "toc_visible": true
  },
  "kernelspec": {
   "display_name": "env",
   "language": "python",
   "name": "env"
  },
  "language_info": {
   "codemirror_mode": {
    "name": "ipython",
    "version": 3
   },
   "file_extension": ".py",
   "mimetype": "text/x-python",
   "name": "python",
   "nbconvert_exporter": "python",
   "pygments_lexer": "ipython3",
   "version": "3.8.5"
  }
 },
 "nbformat": 4,
 "nbformat_minor": 1
}
