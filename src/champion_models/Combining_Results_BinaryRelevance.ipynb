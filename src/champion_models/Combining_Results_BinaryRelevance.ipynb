{
  "nbformat": 4,
  "nbformat_minor": 0,
  "metadata": {
    "colab": {
      "name": "Combining_Results.ipynb",
      "provenance": [],
      "collapsed_sections": [],
      "toc_visible": true,
      "machine_shape": "hm"
    },
    "kernelspec": {
      "name": "python3",
      "display_name": "Python 3"
    },
    "accelerator": "GPU"
  },
  "cells": [
    {
      "cell_type": "markdown",
      "metadata": {
        "id": "EdHVQrqyDB50"
      },
      "source": [
        "# Memory Information"
      ]
    },
    {
      "cell_type": "code",
      "metadata": {
        "id": "E58HaeA6CsM9",
        "outputId": "609ed55b-2fa5-432f-b3d6-dad212ad2c83",
        "colab": {
          "base_uri": "https://localhost:8080/"
        }
      },
      "source": [
        "import psutil\n",
        "def get_size(bytes, suffix=\"B\"):\n",
        "    factor = 1024\n",
        "    for unit in [\"\", \"K\", \"M\", \"G\", \"T\", \"P\"]:\n",
        "        if bytes < factor:\n",
        "            return f\"{bytes:.2f}{unit}{suffix}\"\n",
        "        bytes /= factor\n",
        "print(\"=\"*40, \"Memory Information\", \"=\"*40)\n",
        "svmem = psutil.virtual_memory()\n",
        "print(f\"Total: {get_size(svmem.total)}\") ; print(f\"Available: {get_size(svmem.available)}\")\n",
        "print(f\"Used: {get_size(svmem.used)}\") ; print(f\"Percentage: {svmem.percent}%\")\n",
        "# keras-team /\n",
        "# keras-contrib "
      ],
      "execution_count": 79,
      "outputs": [
        {
          "output_type": "stream",
          "text": [
            "======================================== Memory Information ========================================\n",
            "Total: 25.51GB\n",
            "Available: 24.57GB\n",
            "Used: 643.19MB\n",
            "Percentage: 3.7%\n"
          ],
          "name": "stdout"
        }
      ]
    },
    {
      "cell_type": "markdown",
      "metadata": {
        "id": "FgVfBlvZDEja"
      },
      "source": [
        "# GPU Information"
      ]
    },
    {
      "cell_type": "code",
      "metadata": {
        "id": "rxlkxvkrCyin",
        "outputId": "e561f282-7d5e-4408-e29e-aeb056b2b779",
        "colab": {
          "base_uri": "https://localhost:8080/"
        }
      },
      "source": [
        "! nvidia-smi"
      ],
      "execution_count": 80,
      "outputs": [
        {
          "output_type": "stream",
          "text": [
            "Tue Nov 10 21:10:19 2020       \n",
            "+-----------------------------------------------------------------------------+\n",
            "| NVIDIA-SMI 455.32.00    Driver Version: 418.67       CUDA Version: 10.1     |\n",
            "|-------------------------------+----------------------+----------------------+\n",
            "| GPU  Name        Persistence-M| Bus-Id        Disp.A | Volatile Uncorr. ECC |\n",
            "| Fan  Temp  Perf  Pwr:Usage/Cap|         Memory-Usage | GPU-Util  Compute M. |\n",
            "|                               |                      |               MIG M. |\n",
            "|===============================+======================+======================|\n",
            "|   0  Tesla P100-PCIE...  Off  | 00000000:00:04.0 Off |                    0 |\n",
            "| N/A   41C    P0    27W / 250W |      0MiB / 16280MiB |      0%      Default |\n",
            "|                               |                      |                 ERR! |\n",
            "+-------------------------------+----------------------+----------------------+\n",
            "                                                                               \n",
            "+-----------------------------------------------------------------------------+\n",
            "| Processes:                                                                  |\n",
            "|  GPU   GI   CI        PID   Type   Process name                  GPU Memory |\n",
            "|        ID   ID                                                   Usage      |\n",
            "|=============================================================================|\n",
            "|  No running processes found                                                 |\n",
            "+-----------------------------------------------------------------------------+\n"
          ],
          "name": "stdout"
        }
      ]
    },
    {
      "cell_type": "code",
      "metadata": {
        "id": "GYdI5IQ5-qvt"
      },
      "source": [
        "import pandas as pd\n",
        "import numpy as np\n",
        "from sklearn.metrics import accuracy_score\n",
        "from sklearn.metrics import classification_report"
      ],
      "execution_count": 81,
      "outputs": []
    },
    {
      "cell_type": "code",
      "metadata": {
        "id": "8z4BVbqZ7mbj"
      },
      "source": [
        "# Label Mapping\n",
        "labels_mapping = {'defamation':0,\n",
        " 'fake':1,\n",
        " 'hate':2,\n",
        " 'non-hostile':3,\n",
        " 'offensive':4}"
      ],
      "execution_count": 82,
      "outputs": []
    },
    {
      "cell_type": "code",
      "metadata": {
        "id": "no-Wv0oz7WgQ"
      },
      "source": [
        "def evaluation(y_true, y_pred):\n",
        "  print(\"Fine Grained Accuracy = {}\".format(accuracy_score(y_true, y_pred)))\n",
        "  print(\"\\n\\nFine Grained Metrics\\n\")\n",
        "  print(classification_report(y_true, y_pred))"
      ],
      "execution_count": 83,
      "outputs": []
    },
    {
      "cell_type": "code",
      "metadata": {
        "id": "QAY1GWad6OwZ"
      },
      "source": [
        "val_file = 'val.csv'"
      ],
      "execution_count": 84,
      "outputs": []
    },
    {
      "cell_type": "code",
      "metadata": {
        "id": "jyDODoaWC6KI"
      },
      "source": [
        "val_data = pd.read_csv(val_file, header=0, index_col=0)\n",
        "val_y = np.empty((0, 5))\n",
        "for index, row in val_data.iterrows():\n",
        "  y = np.zeros((1, 5))\n",
        "  for label in row['Labels Set'].split(','):\n",
        "    y[0, labels_mapping[label]] = 1\n",
        "\n",
        "  val_y = np.vstack((val_y, y))"
      ],
      "execution_count": 85,
      "outputs": []
    },
    {
      "cell_type": "code",
      "metadata": {
        "id": "mQC7ijQ66Rot"
      },
      "source": [
        "y_pred_defamation = pd.read_csv('y_pred_defamation.csv', header=None)[0].to_list()\n",
        "y_pred_fake = pd.read_csv('y_pred_fake.csv', header=None)[0].to_list()\n",
        "y_pred_hate = pd.read_csv('y_pred_hate.csv', header=None)[0].to_list()\n",
        "y_pred_non_hostile = pd.read_csv('y_pred_non_hostile.csv', header=None)[0].to_list()\n",
        "y_pred_offensive = pd.read_csv('y_pred_offensive.csv', header=None)[0].to_list()"
      ],
      "execution_count": 86,
      "outputs": []
    },
    {
      "cell_type": "code",
      "metadata": {
        "execution": {
          "iopub.execute_input": "2020-10-24T13:57:24.313607Z",
          "iopub.status.busy": "2020-10-24T13:57:24.311660Z",
          "iopub.status.idle": "2020-10-24T13:57:24.314274Z",
          "shell.execute_reply": "2020-10-24T13:57:24.314757Z"
        },
        "papermill": {
          "duration": 0.191085,
          "end_time": "2020-10-24T13:57:24.314886",
          "exception": false,
          "start_time": "2020-10-24T13:57:24.123801",
          "status": "completed"
        },
        "tags": [],
        "id": "UH7Or8j3YKta"
      },
      "source": [
        "y_pred = np.array((y_pred_defamation, y_pred_fake, y_pred_hate, y_pred_non_hostile, y_pred_offensive), dtype=int)"
      ],
      "execution_count": 87,
      "outputs": []
    },
    {
      "cell_type": "code",
      "metadata": {
        "execution": {
          "iopub.execute_input": "2020-10-24T13:57:24.700008Z",
          "iopub.status.busy": "2020-10-24T13:57:24.697949Z",
          "iopub.status.idle": "2020-10-24T13:57:24.700766Z",
          "shell.execute_reply": "2020-10-24T13:57:24.701314Z"
        },
        "papermill": {
          "duration": 0.196241,
          "end_time": "2020-10-24T13:57:24.701442",
          "exception": false,
          "start_time": "2020-10-24T13:57:24.505201",
          "status": "completed"
        },
        "tags": [],
        "id": "w7udrEGiYKtb"
      },
      "source": [
        "y_pred = y_pred.transpose()"
      ],
      "execution_count": 88,
      "outputs": []
    },
    {
      "cell_type": "code",
      "metadata": {
        "execution": {
          "iopub.execute_input": "2020-10-24T13:57:25.090105Z",
          "iopub.status.busy": "2020-10-24T13:57:25.089044Z",
          "iopub.status.idle": "2020-10-24T13:57:25.114266Z",
          "shell.execute_reply": "2020-10-24T13:57:25.113334Z"
        },
        "papermill": {
          "duration": 0.222678,
          "end_time": "2020-10-24T13:57:25.114425",
          "exception": false,
          "start_time": "2020-10-24T13:57:24.891747",
          "status": "completed"
        },
        "tags": [],
        "id": "e3j-V131YKtd",
        "outputId": "a182ec6e-b6da-4d74-b220-875f4762f2f1",
        "colab": {
          "base_uri": "https://localhost:8080/"
        }
      },
      "source": [
        "evaluation(val_y, y_pred)"
      ],
      "execution_count": 89,
      "outputs": [
        {
          "output_type": "stream",
          "text": [
            "Fine Grained Accuracy = 0.6855733662145499\n",
            "\n",
            "\n",
            "Fine Grained Metrics\n",
            "\n",
            "              precision    recall  f1-score   support\n",
            "\n",
            "           0       0.34      0.30      0.32        77\n",
            "           1       0.82      0.79      0.81       160\n",
            "           2       0.49      0.47      0.48       110\n",
            "           3       0.98      0.97      0.97       435\n",
            "           4       0.58      0.56      0.57       103\n",
            "\n",
            "   micro avg       0.79      0.77      0.78       885\n",
            "   macro avg       0.64      0.62      0.63       885\n",
            "weighted avg       0.79      0.77      0.78       885\n",
            " samples avg       0.77      0.80      0.77       885\n",
            "\n"
          ],
          "name": "stdout"
        },
        {
          "output_type": "stream",
          "text": [
            "/usr/local/lib/python3.6/dist-packages/sklearn/metrics/_classification.py:1272: UndefinedMetricWarning: Precision and F-score are ill-defined and being set to 0.0 in samples with no predicted labels. Use `zero_division` parameter to control this behavior.\n",
            "  _warn_prf(average, modifier, msg_start, len(result))\n"
          ],
          "name": "stderr"
        }
      ]
    },
    {
      "cell_type": "code",
      "metadata": {
        "id": "B5-lQiUyAW2o"
      },
      "source": [
        "np.savetxt(\"y_pred.csv\", y_pred, delimiter=\",\")"
      ],
      "execution_count": 94,
      "outputs": []
    }
  ]
}