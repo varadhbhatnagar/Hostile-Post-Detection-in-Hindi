{
  "nbformat": 4,
  "nbformat_minor": 0,
  "metadata": {
    "colab": {
      "name": "Challenger_Offensive_Model_BERT.ipynb",
      "provenance": [],
      "collapsed_sections": []
    },
    "kernelspec": {
      "name": "python3",
      "display_name": "Python 3"
    },
    "accelerator": "GPU"
  },
  "cells": [
    {
      "cell_type": "code",
      "metadata": {
        "colab": {
          "base_uri": "https://localhost:8080/"
        },
        "id": "14LVmt6V-Q9i",
        "outputId": "181c0aca-534e-4366-c6e8-4087ae714807"
      },
      "source": [
        "!pip install transformers\n",
        "!pip install sentencepiece"
      ],
      "execution_count": null,
      "outputs": [
        {
          "output_type": "stream",
          "text": [
            "Collecting transformers\n",
            "\u001b[?25l  Downloading https://files.pythonhosted.org/packages/99/84/7bc03215279f603125d844bf81c3fb3f2d50fe8e511546eb4897e4be2067/transformers-4.0.0-py3-none-any.whl (1.4MB)\n",
            "\u001b[K     |████████████████████████████████| 1.4MB 9.2MB/s \n",
            "\u001b[?25hRequirement already satisfied: dataclasses; python_version < \"3.7\" in /usr/local/lib/python3.6/dist-packages (from transformers) (0.8)\n",
            "Requirement already satisfied: filelock in /usr/local/lib/python3.6/dist-packages (from transformers) (3.0.12)\n",
            "Collecting tokenizers==0.9.4\n",
            "\u001b[?25l  Downloading https://files.pythonhosted.org/packages/0f/1c/e789a8b12e28be5bc1ce2156cf87cb522b379be9cadc7ad8091a4cc107c4/tokenizers-0.9.4-cp36-cp36m-manylinux2010_x86_64.whl (2.9MB)\n",
            "\u001b[K     |████████████████████████████████| 2.9MB 30.4MB/s \n",
            "\u001b[?25hRequirement already satisfied: packaging in /usr/local/lib/python3.6/dist-packages (from transformers) (20.4)\n",
            "Requirement already satisfied: tqdm>=4.27 in /usr/local/lib/python3.6/dist-packages (from transformers) (4.41.1)\n",
            "Requirement already satisfied: regex!=2019.12.17 in /usr/local/lib/python3.6/dist-packages (from transformers) (2019.12.20)\n",
            "Requirement already satisfied: numpy in /usr/local/lib/python3.6/dist-packages (from transformers) (1.18.5)\n",
            "Requirement already satisfied: requests in /usr/local/lib/python3.6/dist-packages (from transformers) (2.23.0)\n",
            "Collecting sacremoses\n",
            "\u001b[?25l  Downloading https://files.pythonhosted.org/packages/7d/34/09d19aff26edcc8eb2a01bed8e98f13a1537005d31e95233fd48216eed10/sacremoses-0.0.43.tar.gz (883kB)\n",
            "\u001b[K     |████████████████████████████████| 890kB 54.3MB/s \n",
            "\u001b[?25hRequirement already satisfied: six in /usr/local/lib/python3.6/dist-packages (from packaging->transformers) (1.15.0)\n",
            "Requirement already satisfied: pyparsing>=2.0.2 in /usr/local/lib/python3.6/dist-packages (from packaging->transformers) (2.4.7)\n",
            "Requirement already satisfied: chardet<4,>=3.0.2 in /usr/local/lib/python3.6/dist-packages (from requests->transformers) (3.0.4)\n",
            "Requirement already satisfied: urllib3!=1.25.0,!=1.25.1,<1.26,>=1.21.1 in /usr/local/lib/python3.6/dist-packages (from requests->transformers) (1.24.3)\n",
            "Requirement already satisfied: certifi>=2017.4.17 in /usr/local/lib/python3.6/dist-packages (from requests->transformers) (2020.11.8)\n",
            "Requirement already satisfied: idna<3,>=2.5 in /usr/local/lib/python3.6/dist-packages (from requests->transformers) (2.10)\n",
            "Requirement already satisfied: click in /usr/local/lib/python3.6/dist-packages (from sacremoses->transformers) (7.1.2)\n",
            "Requirement already satisfied: joblib in /usr/local/lib/python3.6/dist-packages (from sacremoses->transformers) (0.17.0)\n",
            "Building wheels for collected packages: sacremoses\n",
            "  Building wheel for sacremoses (setup.py) ... \u001b[?25l\u001b[?25hdone\n",
            "  Created wheel for sacremoses: filename=sacremoses-0.0.43-cp36-none-any.whl size=893257 sha256=72d9351e6c88d88a26f4a833d01e5b847ce3b9acce0e3d38c1becfef5b5def86\n",
            "  Stored in directory: /root/.cache/pip/wheels/29/3c/fd/7ce5c3f0666dab31a50123635e6fb5e19ceb42ce38d4e58f45\n",
            "Successfully built sacremoses\n",
            "Installing collected packages: tokenizers, sacremoses, transformers\n",
            "Successfully installed sacremoses-0.0.43 tokenizers-0.9.4 transformers-4.0.0\n",
            "Collecting sentencepiece\n",
            "\u001b[?25l  Downloading https://files.pythonhosted.org/packages/e5/2d/6d4ca4bef9a67070fa1cac508606328329152b1df10bdf31fb6e4e727894/sentencepiece-0.1.94-cp36-cp36m-manylinux2014_x86_64.whl (1.1MB)\n",
            "\u001b[K     |████████████████████████████████| 1.1MB 9.0MB/s \n",
            "\u001b[?25hInstalling collected packages: sentencepiece\n",
            "Successfully installed sentencepiece-0.1.94\n"
          ],
          "name": "stdout"
        }
      ]
    },
    {
      "cell_type": "code",
      "metadata": {
        "id": "hTUZIOen-gTp"
      },
      "source": [
        "import numpy as np\n",
        "import pandas as pd\n",
        "import torch\n",
        "import torch.nn as nn\n",
        "from sklearn.model_selection import train_test_split\n",
        "from sklearn.metrics import classification_report\n",
        "import transformers\n",
        "from transformers import AutoModel, AutoTokenizer\n",
        "\n",
        "# specify GPU\n",
        "device = torch.device(\"cuda\")"
      ],
      "execution_count": null,
      "outputs": []
    },
    {
      "cell_type": "code",
      "metadata": {
        "colab": {
          "base_uri": "https://localhost:8080/"
        },
        "id": "CebjxQtwhrQ2",
        "outputId": "5272dcc1-525a-4d14-e77c-2ccb66eba1aa"
      },
      "source": [
        "!git clone https://github.com/anoopkunchukuttan/indic_nlp_resources.git\n",
        "!pip install indic-nlp-library\n",
        "import sys\n",
        "from indicnlp import common\n",
        "\n",
        "# The path to the local git repo for Indic NLP library\n",
        "INDIC_NLP_LIB_HOME=r\"indic_nlp_library\"\n",
        "\n",
        "# The path to the local git repo for Indic NLP Resources\n",
        "INDIC_NLP_RESOURCES=r\"indic_nlp_resources\"\n",
        "\n",
        "# Add library to Python path\n",
        "sys.path.append(r'{}\\src'.format(INDIC_NLP_LIB_HOME))\n",
        "\n",
        "# Set environment variable for resources folder\n",
        "common.set_resources_path(INDIC_NLP_RESOURCES)\n",
        "from indicnlp.tokenize import sentence_tokenize, indic_tokenize"
      ],
      "execution_count": null,
      "outputs": [
        {
          "output_type": "stream",
          "text": [
            "Cloning into 'indic_nlp_resources'...\n",
            "remote: Enumerating objects: 7, done.\u001b[K\n",
            "remote: Counting objects: 100% (7/7), done.\u001b[K\n",
            "remote: Compressing objects: 100% (7/7), done.\u001b[K\n",
            "remote: Total 133 (delta 0), reused 2 (delta 0), pack-reused 126\u001b[K\n",
            "Receiving objects: 100% (133/133), 149.77 MiB | 40.94 MiB/s, done.\n",
            "Resolving deltas: 100% (51/51), done.\n",
            "Collecting indic-nlp-library\n",
            "  Downloading https://files.pythonhosted.org/packages/2f/51/f4e4542a226055b73a621ad442c16ae2c913d6b497283c99cae7a9661e6c/indic_nlp_library-0.71-py3-none-any.whl\n",
            "Requirement already satisfied: pandas in /usr/local/lib/python3.6/dist-packages (from indic-nlp-library) (1.1.4)\n",
            "Collecting morfessor\n",
            "  Downloading https://files.pythonhosted.org/packages/39/e6/7afea30be2ee4d29ce9de0fa53acbb033163615f849515c0b1956ad074ee/Morfessor-2.0.6-py3-none-any.whl\n",
            "Requirement already satisfied: numpy in /usr/local/lib/python3.6/dist-packages (from indic-nlp-library) (1.18.5)\n",
            "Requirement already satisfied: python-dateutil>=2.7.3 in /usr/local/lib/python3.6/dist-packages (from pandas->indic-nlp-library) (2.8.1)\n",
            "Requirement already satisfied: pytz>=2017.2 in /usr/local/lib/python3.6/dist-packages (from pandas->indic-nlp-library) (2018.9)\n",
            "Requirement already satisfied: six>=1.5 in /usr/local/lib/python3.6/dist-packages (from python-dateutil>=2.7.3->pandas->indic-nlp-library) (1.15.0)\n",
            "Installing collected packages: morfessor, indic-nlp-library\n",
            "Successfully installed indic-nlp-library-0.71 morfessor-2.0.6\n"
          ],
          "name": "stdout"
        }
      ]
    },
    {
      "cell_type": "code",
      "metadata": {
        "id": "_Pc3bz6l-jv1"
      },
      "source": [
        "train_file = 'train.csv'\n",
        "val_file = 'val.csv'"
      ],
      "execution_count": null,
      "outputs": []
    },
    {
      "cell_type": "code",
      "metadata": {
        "id": "D5E5dDBx-lIw"
      },
      "source": [
        "train_data = pd.read_csv(train_file, header=0, index_col=0)\n",
        "val_data = pd.read_csv(val_file, header=0, index_col=0)"
      ],
      "execution_count": null,
      "outputs": []
    },
    {
      "cell_type": "code",
      "metadata": {
        "colab": {
          "base_uri": "https://localhost:8080/",
          "height": 394
        },
        "id": "9LgB18U3-uhY",
        "outputId": "f32b0046-615c-4eb9-bc36-81ad12dc7e72"
      },
      "source": [
        "print(train_data.shape)\n",
        "train_data.head()"
      ],
      "execution_count": null,
      "outputs": [
        {
          "output_type": "stream",
          "text": [
            "(5727, 10)\n"
          ],
          "name": "stdout"
        },
        {
          "output_type": "execute_result",
          "data": {
            "text/html": [
              "<div>\n",
              "<style scoped>\n",
              "    .dataframe tbody tr th:only-of-type {\n",
              "        vertical-align: middle;\n",
              "    }\n",
              "\n",
              "    .dataframe tbody tr th {\n",
              "        vertical-align: top;\n",
              "    }\n",
              "\n",
              "    .dataframe thead th {\n",
              "        text-align: right;\n",
              "    }\n",
              "</style>\n",
              "<table border=\"1\" class=\"dataframe\">\n",
              "  <thead>\n",
              "    <tr style=\"text-align: right;\">\n",
              "      <th></th>\n",
              "      <th>Post</th>\n",
              "      <th>Labels Set</th>\n",
              "      <th>emails</th>\n",
              "      <th>urls</th>\n",
              "      <th>mentions</th>\n",
              "      <th>hashtags</th>\n",
              "      <th>emojis</th>\n",
              "      <th>emoticons</th>\n",
              "      <th>reserved_words</th>\n",
              "      <th>Filtered_Post</th>\n",
              "    </tr>\n",
              "    <tr>\n",
              "      <th>Unique ID</th>\n",
              "      <th></th>\n",
              "      <th></th>\n",
              "      <th></th>\n",
              "      <th></th>\n",
              "      <th></th>\n",
              "      <th></th>\n",
              "      <th></th>\n",
              "      <th></th>\n",
              "      <th></th>\n",
              "      <th></th>\n",
              "    </tr>\n",
              "  </thead>\n",
              "  <tbody>\n",
              "    <tr>\n",
              "      <th>1</th>\n",
              "      <td>मेरे देश के हिन्दु बहुत निराले है। कुछ तो पक्क...</td>\n",
              "      <td>hate,offensive</td>\n",
              "      <td>[]</td>\n",
              "      <td>[]</td>\n",
              "      <td>[]</td>\n",
              "      <td>[]</td>\n",
              "      <td>['🙏', '🙏']</td>\n",
              "      <td>[]</td>\n",
              "      <td>[]</td>\n",
              "      <td>मेरे देश के हिन्दु बहुत निराले है। कुछ तो पक्क...</td>\n",
              "    </tr>\n",
              "    <tr>\n",
              "      <th>2</th>\n",
              "      <td>सरकार हमेशा से किसानों की कमाई को बढ़ाने के लि...</td>\n",
              "      <td>non-hostile</td>\n",
              "      <td>[]</td>\n",
              "      <td>['https://t.co/8iy2MJSBAs']</td>\n",
              "      <td>[]</td>\n",
              "      <td>[]</td>\n",
              "      <td>[]</td>\n",
              "      <td>[]</td>\n",
              "      <td>[]</td>\n",
              "      <td>सरकार हमेशा से किसानों की कमाई को बढ़ाने के लि...</td>\n",
              "    </tr>\n",
              "    <tr>\n",
              "      <th>3</th>\n",
              "      <td>सुशांत ने जो बिजनेस डील 9 जून को की थी, वो डील...</td>\n",
              "      <td>non-hostile</td>\n",
              "      <td>[]</td>\n",
              "      <td>['https://t.co/G945HvzM0Z', 'https://t.co/KfH7...</td>\n",
              "      <td>[]</td>\n",
              "      <td>['LIVE']</td>\n",
              "      <td>[]</td>\n",
              "      <td>[]</td>\n",
              "      <td>[]</td>\n",
              "      <td>सुशांत ने जो बिजनेस डील 9 जून को की थी, वो डील...</td>\n",
              "    </tr>\n",
              "    <tr>\n",
              "      <th>4</th>\n",
              "      <td>@prabhav218 साले जेएनयू छाप कमिने लोग हिन्दुओं...</td>\n",
              "      <td>defamation,offensive</td>\n",
              "      <td>[]</td>\n",
              "      <td>[]</td>\n",
              "      <td>['@prabhav218']</td>\n",
              "      <td>[]</td>\n",
              "      <td>[]</td>\n",
              "      <td>[]</td>\n",
              "      <td>[]</td>\n",
              "      <td>साले जेएनयू छाप कमिने लोग हिन्दुओं को यह कहते...</td>\n",
              "    </tr>\n",
              "    <tr>\n",
              "      <th>5</th>\n",
              "      <td>#unlock4guidelines - अनलॉक-4 के लिए गाइडलाइन्स...</td>\n",
              "      <td>non-hostile</td>\n",
              "      <td>[]</td>\n",
              "      <td>['https://t.co/4e6lysg0VR']</td>\n",
              "      <td>[]</td>\n",
              "      <td>['unlock4guidelines']</td>\n",
              "      <td>[]</td>\n",
              "      <td>[]</td>\n",
              "      <td>[]</td>\n",
              "      <td>- अनलॉक-4 के लिए गाइडलाइन्स जारी\\n\\n- 7 सितंब...</td>\n",
              "    </tr>\n",
              "  </tbody>\n",
              "</table>\n",
              "</div>"
            ],
            "text/plain": [
              "                                                        Post  ...                                      Filtered_Post\n",
              "Unique ID                                                     ...                                                   \n",
              "1          मेरे देश के हिन्दु बहुत निराले है। कुछ तो पक्क...  ...  मेरे देश के हिन्दु बहुत निराले है। कुछ तो पक्क...\n",
              "2          सरकार हमेशा से किसानों की कमाई को बढ़ाने के लि...  ...  सरकार हमेशा से किसानों की कमाई को बढ़ाने के लि...\n",
              "3          सुशांत ने जो बिजनेस डील 9 जून को की थी, वो डील...  ...  सुशांत ने जो बिजनेस डील 9 जून को की थी, वो डील...\n",
              "4          @prabhav218 साले जेएनयू छाप कमिने लोग हिन्दुओं...  ...   साले जेएनयू छाप कमिने लोग हिन्दुओं को यह कहते...\n",
              "5          #unlock4guidelines - अनलॉक-4 के लिए गाइडलाइन्स...  ...   - अनलॉक-4 के लिए गाइडलाइन्स जारी\\n\\n- 7 सितंब...\n",
              "\n",
              "[5 rows x 10 columns]"
            ]
          },
          "metadata": {
            "tags": []
          },
          "execution_count": 340
        }
      ]
    },
    {
      "cell_type": "code",
      "metadata": {
        "colab": {
          "base_uri": "https://localhost:8080/",
          "height": 377
        },
        "id": "qc49eCWS-wlX",
        "outputId": "514a0d0a-6e38-42f3-ba3f-c3f2f59d7455"
      },
      "source": [
        "print(val_data.shape)\n",
        "val_data.head()"
      ],
      "execution_count": null,
      "outputs": [
        {
          "output_type": "stream",
          "text": [
            "(811, 10)\n"
          ],
          "name": "stdout"
        },
        {
          "output_type": "execute_result",
          "data": {
            "text/html": [
              "<div>\n",
              "<style scoped>\n",
              "    .dataframe tbody tr th:only-of-type {\n",
              "        vertical-align: middle;\n",
              "    }\n",
              "\n",
              "    .dataframe tbody tr th {\n",
              "        vertical-align: top;\n",
              "    }\n",
              "\n",
              "    .dataframe thead th {\n",
              "        text-align: right;\n",
              "    }\n",
              "</style>\n",
              "<table border=\"1\" class=\"dataframe\">\n",
              "  <thead>\n",
              "    <tr style=\"text-align: right;\">\n",
              "      <th></th>\n",
              "      <th>Post</th>\n",
              "      <th>Labels Set</th>\n",
              "      <th>emails</th>\n",
              "      <th>urls</th>\n",
              "      <th>mentions</th>\n",
              "      <th>hashtags</th>\n",
              "      <th>emojis</th>\n",
              "      <th>emoticons</th>\n",
              "      <th>reserved_words</th>\n",
              "      <th>Filtered_Post</th>\n",
              "    </tr>\n",
              "    <tr>\n",
              "      <th>Unique ID</th>\n",
              "      <th></th>\n",
              "      <th></th>\n",
              "      <th></th>\n",
              "      <th></th>\n",
              "      <th></th>\n",
              "      <th></th>\n",
              "      <th></th>\n",
              "      <th></th>\n",
              "      <th></th>\n",
              "      <th></th>\n",
              "    </tr>\n",
              "  </thead>\n",
              "  <tbody>\n",
              "    <tr>\n",
              "      <th>1</th>\n",
              "      <td>दृढ़ इच्छा शक्ति से परिपूर्ण प्रणबदा के लिए दे...</td>\n",
              "      <td>non-hostile</td>\n",
              "      <td>[]</td>\n",
              "      <td>[]</td>\n",
              "      <td>[]</td>\n",
              "      <td>[]</td>\n",
              "      <td>[]</td>\n",
              "      <td>[]</td>\n",
              "      <td>[]</td>\n",
              "      <td>दृढ़ इच्छा शक्ति से परिपूर्ण प्रणबदा के लिए दे...</td>\n",
              "    </tr>\n",
              "    <tr>\n",
              "      <th>2</th>\n",
              "      <td>भारतीय जनता पार्टी rss वाले इतने गिरे हुए हैं ...</td>\n",
              "      <td>defamation</td>\n",
              "      <td>[]</td>\n",
              "      <td>[]</td>\n",
              "      <td>[]</td>\n",
              "      <td>[]</td>\n",
              "      <td>[]</td>\n",
              "      <td>[]</td>\n",
              "      <td>[]</td>\n",
              "      <td>भारतीय जनता पार्टी rss वाले इतने गिरे हुए हैं ...</td>\n",
              "    </tr>\n",
              "    <tr>\n",
              "      <th>3</th>\n",
              "      <td>कोरोना से निपटने की तैयारी / दिल्ली में 10 हजा...</td>\n",
              "      <td>non-hostile</td>\n",
              "      <td>[]</td>\n",
              "      <td>['https://t.co/9rlQowAsFh']</td>\n",
              "      <td>['@ArvindKejriwal', '@rajnathsingh', '@AmitSha...</td>\n",
              "      <td>['Delhi']</td>\n",
              "      <td>[]</td>\n",
              "      <td>[]</td>\n",
              "      <td>[]</td>\n",
              "      <td>कोरोना से निपटने की तैयारी / दिल्ली में 10 हजा...</td>\n",
              "    </tr>\n",
              "    <tr>\n",
              "      <th>4</th>\n",
              "      <td>गवर्नर कॉन्फ्रेंस में PM मोदी बोले- शिक्षा नीत...</td>\n",
              "      <td>non-hostile</td>\n",
              "      <td>[]</td>\n",
              "      <td>['https://t.co/ZvKgxk6dbd']</td>\n",
              "      <td>[]</td>\n",
              "      <td>[]</td>\n",
              "      <td>[]</td>\n",
              "      <td>[]</td>\n",
              "      <td>[]</td>\n",
              "      <td>गवर्नर कॉन्फ्रेंस में PM मोदी बोले- शिक्षा नीत...</td>\n",
              "    </tr>\n",
              "    <tr>\n",
              "      <th>5</th>\n",
              "      <td>यूपी: गाजीपुर में Toilet घोटाला, प्रधान व सचिव...</td>\n",
              "      <td>non-hostile</td>\n",
              "      <td>[]</td>\n",
              "      <td>['https://t.co/hxM1uNNmX2']</td>\n",
              "      <td>[]</td>\n",
              "      <td>['UP']</td>\n",
              "      <td>[]</td>\n",
              "      <td>[]</td>\n",
              "      <td>[]</td>\n",
              "      <td>यूपी: गाजीपुर में Toilet घोटाला, प्रधान व सचिव...</td>\n",
              "    </tr>\n",
              "  </tbody>\n",
              "</table>\n",
              "</div>"
            ],
            "text/plain": [
              "                                                        Post  ...                                      Filtered_Post\n",
              "Unique ID                                                     ...                                                   \n",
              "1          दृढ़ इच्छा शक्ति से परिपूर्ण प्रणबदा के लिए दे...  ...  दृढ़ इच्छा शक्ति से परिपूर्ण प्रणबदा के लिए दे...\n",
              "2          भारतीय जनता पार्टी rss वाले इतने गिरे हुए हैं ...  ...  भारतीय जनता पार्टी rss वाले इतने गिरे हुए हैं ...\n",
              "3          कोरोना से निपटने की तैयारी / दिल्ली में 10 हजा...  ...  कोरोना से निपटने की तैयारी / दिल्ली में 10 हजा...\n",
              "4          गवर्नर कॉन्फ्रेंस में PM मोदी बोले- शिक्षा नीत...  ...  गवर्नर कॉन्फ्रेंस में PM मोदी बोले- शिक्षा नीत...\n",
              "5          यूपी: गाजीपुर में Toilet घोटाला, प्रधान व सचिव...  ...  यूपी: गाजीपुर में Toilet घोटाला, प्रधान व सचिव...\n",
              "\n",
              "[5 rows x 10 columns]"
            ]
          },
          "metadata": {
            "tags": []
          },
          "execution_count": 341
        }
      ]
    },
    {
      "cell_type": "code",
      "metadata": {
        "id": "D3e0rQAq_4yz"
      },
      "source": [
        "labels_set = {'defamation',\n",
        " 'fake',\n",
        " 'hate',\n",
        " 'non-hostile',\n",
        " 'offensive'}\n",
        "\n",
        "labels_mapping = {'defamation':0,\n",
        " 'fake':1,\n",
        " 'hate':2,\n",
        " 'non-hostile':3,\n",
        " 'offensive':4}"
      ],
      "execution_count": null,
      "outputs": []
    },
    {
      "cell_type": "code",
      "metadata": {
        "id": "VjoCZMoYHg1g"
      },
      "source": [
        "from collections import defaultdict\n",
        "import ast\n",
        "mentions_dict = defaultdict(int)\n",
        "\n",
        "for index, row in train_data.iterrows():\n",
        "  if 'offensive' in row['Labels Set']:\n",
        "    mentions = ast.literal_eval(row['mentions']) \n",
        "    for m in mentions:\n",
        "      mentions_dict[m]+=1\n"
      ],
      "execution_count": null,
      "outputs": []
    },
    {
      "cell_type": "code",
      "metadata": {
        "id": "XhxajPZzHkW8"
      },
      "source": [
        "filtered_mentions_list = []\n",
        "\n",
        "for key, value in mentions_dict.items():\n",
        "  if value > 2:\n",
        "    filtered_mentions_list.append(key)"
      ],
      "execution_count": null,
      "outputs": []
    },
    {
      "cell_type": "code",
      "metadata": {
        "id": "4-j4hBv-Hly5"
      },
      "source": [
        "mention_len = len(filtered_mentions_list)"
      ],
      "execution_count": null,
      "outputs": []
    },
    {
      "cell_type": "code",
      "metadata": {
        "colab": {
          "base_uri": "https://localhost:8080/"
        },
        "id": "dcnl0jAPfUa5",
        "outputId": "62953af1-ce51-4eb9-eb63-e3e4da3b07c5"
      },
      "source": [
        "mention_len"
      ],
      "execution_count": null,
      "outputs": [
        {
          "output_type": "execute_result",
          "data": {
            "text/plain": [
              "45"
            ]
          },
          "metadata": {
            "tags": []
          },
          "execution_count": 346
        }
      ]
    },
    {
      "cell_type": "code",
      "metadata": {
        "id": "gf4yvw0uHnB3"
      },
      "source": [
        "hashtag_dict = defaultdict(int)\n",
        "\n",
        "for index, row in train_data.iterrows():\n",
        "  if 'offensive' in row['Labels Set']:\n",
        "    mentions = ast.literal_eval(row['hashtags']) \n",
        "    for m in mentions:\n",
        "      hashtag_dict[m]+=1\n"
      ],
      "execution_count": null,
      "outputs": []
    },
    {
      "cell_type": "code",
      "metadata": {
        "id": "ngZC5DRFHoWb"
      },
      "source": [
        "filtered_hashtag_list = []\n",
        "\n",
        "for key, value in hashtag_dict.items():\n",
        "  if value > 2:\n",
        "    filtered_hashtag_list.append(key)"
      ],
      "execution_count": null,
      "outputs": []
    },
    {
      "cell_type": "code",
      "metadata": {
        "id": "iOLj5JrI22yu"
      },
      "source": [
        "hash_len = len(filtered_hashtag_list)"
      ],
      "execution_count": null,
      "outputs": []
    },
    {
      "cell_type": "code",
      "metadata": {
        "colab": {
          "base_uri": "https://localhost:8080/"
        },
        "id": "OXjSFBwOfWM0",
        "outputId": "e8244f5f-8cfe-4423-b196-7524e5149461"
      },
      "source": [
        "hash_len"
      ],
      "execution_count": null,
      "outputs": [
        {
          "output_type": "execute_result",
          "data": {
            "text/plain": [
              "6"
            ]
          },
          "metadata": {
            "tags": []
          },
          "execution_count": 350
        }
      ]
    },
    {
      "cell_type": "code",
      "metadata": {
        "id": "xp0eUoo2Sv9V"
      },
      "source": [
        "emoji_dict = defaultdict(int)\n",
        "\n",
        "for index, row in train_data.iterrows():\n",
        "  if 'offensive' in row['Labels Set']:\n",
        "    emojis = ast.literal_eval(row['emojis']) \n",
        "    for e in emojis:\n",
        "      emoji_dict[e]+=1\n"
      ],
      "execution_count": null,
      "outputs": []
    },
    {
      "cell_type": "code",
      "metadata": {
        "id": "q3tfAm9sS4_O"
      },
      "source": [
        "filtered_emoji_list = []\n",
        "\n",
        "for key, value in emoji_dict.items():\n",
        "  if value > 3:\n",
        "    filtered_emoji_list.append(key)"
      ],
      "execution_count": null,
      "outputs": []
    },
    {
      "cell_type": "code",
      "metadata": {
        "id": "WIvb9MsVUQRT"
      },
      "source": [
        "emoji_len = len(filtered_emoji_list)"
      ],
      "execution_count": null,
      "outputs": []
    },
    {
      "cell_type": "code",
      "metadata": {
        "colab": {
          "base_uri": "https://localhost:8080/"
        },
        "id": "qq1_mylhfXbU",
        "outputId": "8b711637-7531-43e3-dd21-1f0423f650d2"
      },
      "source": [
        "emoji_len"
      ],
      "execution_count": null,
      "outputs": [
        {
          "output_type": "execute_result",
          "data": {
            "text/plain": [
              "28"
            ]
          },
          "metadata": {
            "tags": []
          },
          "execution_count": 354
        }
      ]
    },
    {
      "cell_type": "code",
      "metadata": {
        "id": "KYn9G3KDdZXU"
      },
      "source": [
        "offensive_words_list = ['कुत्ते','कुत्ते','कुतिया', 'कुते', 'कुत्ती', 'कुत्तों', 'कमीने', 'कमीना', 'कमीनी', 'साले', 'साला', 'साली', 'हरामी', 'हरामखोर', 'बहनचोद', 'बहिनचोद', 'भेंचो', 'मादरचोद', 'माचोद', 'चूतिये', 'चूतिया', 'चुत', 'चूत', 'लवड़ा', 'लंड', 'लन्ड', 'लँड', 'लण्ड', 'लौड़ा', 'लोडे', 'भड़वो', 'भड़ुआ', 'भड़ऊ', 'भड़वे', 'भड्वे', 'रन्डी', 'रांड', 'भोसड़ी', 'गांड', 'बेटीचोद', 'बेटिचोद', 'फट्टू', 'फुददू', 'फुद्दु', 'सुअर', 'झांट', 'ना󰀂ाय󰀂', 'टट्टी', 'ह󰀂󰀂󰀂डे', 'हुरो', 'गद्दार', 'सूअरों', 'हरामि', 'गाली', 'गॉड', 'रडुआ', 'लुच्चे', 'भड़वागिरी', 'बेवकूफ', 'कुत्तो', 'मूर्खों', 'बकवास', 'तब्लीघि', 'चोरी']"
      ],
      "execution_count": null,
      "outputs": []
    },
    {
      "cell_type": "code",
      "metadata": {
        "id": "M4AQyniUHt0f"
      },
      "source": [
        "def generate_matrix(data):\n",
        "  X = np.empty((0,  1 + len(offensive_words_list)+ emoji_len+hash_len + mention_len))\n",
        "\n",
        "  for index, row in data.iterrows():\n",
        "    x = np.zeros((1, 1))\n",
        "    x[0, 0] = 1  # Bias Unit\n",
        "\n",
        "    # Offensive Words\n",
        "    offensive_word_count_x = np.zeros((1, len(offensive_words_list)))\n",
        "    for word in row['Filtered_Post'].split(' '):\n",
        "      if word in offensive_words_list:\n",
        "        offensive_word_count_x[0,offensive_words_list.index(word)]= 1\n",
        "\n",
        "    hash_x = np.zeros((1, hash_len))\n",
        "    # Hashtags\n",
        "    for h in ast.literal_eval(row['hashtags']):\n",
        "      if h in filtered_hashtag_list:\n",
        "        hash_x[0, filtered_hashtag_list.index(h)] = 1\n",
        "\n",
        "    \n",
        "    mention_x = np.zeros((1, mention_len))\n",
        "    # Mentions\n",
        "    for h in ast.literal_eval(row['mentions']):\n",
        "      if m in filtered_mentions_list:\n",
        "        mention_x[0, filtered_mentions_list.index(m)] = 1\n",
        "\n",
        "    emoji_x = np.zeros((1, emoji_len))\n",
        "    # Emojis\n",
        "    for h in ast.literal_eval(row['emojis']):\n",
        "      if h in filtered_emoji_list:\n",
        "        emoji_x[0, filtered_emoji_list.index(h)] = 1\n",
        "\n",
        "    x = np.hstack((x, offensive_word_count_x, hash_x, mention_x, emoji_x))\n",
        "    X = np.vstack((X, x))\n",
        "\n",
        "  return X\n"
      ],
      "execution_count": null,
      "outputs": []
    },
    {
      "cell_type": "code",
      "metadata": {
        "id": "t3SkB4bhHzHA"
      },
      "source": [
        "train_X = generate_matrix(train_data)\n",
        "val_X = generate_matrix(val_data)"
      ],
      "execution_count": null,
      "outputs": []
    },
    {
      "cell_type": "code",
      "metadata": {
        "id": "uvm96tTM-yCZ"
      },
      "source": [
        "train_y = np.empty((0, 5))\n",
        "for index, row in train_data.iterrows():\n",
        "  y = np.zeros((1, 5))\n",
        "  for label in row['Labels Set'].split(','):\n",
        "    y[0, labels_mapping[label]] = 1\n",
        "\n",
        "  train_y = np.vstack((train_y, y))\n",
        "\n",
        "\n",
        "val_y = np.empty((0, 5))\n",
        "for index, row in val_data.iterrows():\n",
        "  y = np.zeros((1, 5))\n",
        "  for label in row['Labels Set'].split(','):\n",
        "    y[0, labels_mapping[label]] = 1\n",
        "\n",
        "  val_y = np.vstack((val_y, y))\n"
      ],
      "execution_count": null,
      "outputs": []
    },
    {
      "cell_type": "code",
      "metadata": {
        "id": "3k0zWzMn_L7k"
      },
      "source": [
        "y_train_offensive = train_y[:,4].astype(int)\n",
        "y_val_offensive = val_y[:,4].astype(int)\n",
        "\n",
        "train_sentences = train_data['Post'].values\n",
        "val_sentences = val_data['Post'].values"
      ],
      "execution_count": null,
      "outputs": []
    },
    {
      "cell_type": "markdown",
      "metadata": {
        "id": "3dRFz5I__Y8-"
      },
      "source": [
        "**BERT**"
      ]
    },
    {
      "cell_type": "code",
      "metadata": {
        "id": "bz1iFMHH_QzU"
      },
      "source": [
        "bert = AutoModel.from_pretrained('verloop/Hinglish-Bert')\n",
        "tokenizer = AutoTokenizer.from_pretrained('verloop/Hinglish-Bert')"
      ],
      "execution_count": null,
      "outputs": []
    },
    {
      "cell_type": "code",
      "metadata": {
        "colab": {
          "base_uri": "https://localhost:8080/"
        },
        "id": "Gr0Vi497_l3a",
        "outputId": "ea76c055-07a8-41bb-d9f0-900682296657"
      },
      "source": [
        "# sample data\n",
        "text = [\"जिसमें लिखा है, काश के कश्मीर के पत्थरबाज़ इन नवजवानों से कुछ सीखते। #भारतीयसेना ।\", \"सुशांत के परिवार पर अब किसका 'कीचड़'?\"]\n",
        "\n",
        "# encode text\n",
        "sent_id = tokenizer.batch_encode_plus(text, padding=True)\n",
        "\n",
        "# output\n",
        "print(sent_id)"
      ],
      "execution_count": null,
      "outputs": [
        {
          "output_type": "stream",
          "text": [
            "{'input_ids': [[101, 40001, 893, 105968, 10569, 117, 11081, 21835, 10412, 865, 21835, 76881, 11549, 10412, 100, 30114, 884, 15070, 17413, 28960, 70288, 11072, 22022, 53596, 110310, 920, 108, 18725, 35622, 16380, 920, 102], [101, 898, 14070, 105764, 24786, 10412, 71503, 12213, 49545, 14117, 13432, 15399, 112, 10826, 16940, 43733, 112, 136, 102, 0, 0, 0, 0, 0, 0, 0, 0, 0, 0, 0, 0, 0]], 'token_type_ids': [[0, 0, 0, 0, 0, 0, 0, 0, 0, 0, 0, 0, 0, 0, 0, 0, 0, 0, 0, 0, 0, 0, 0, 0, 0, 0, 0, 0, 0, 0, 0, 0], [0, 0, 0, 0, 0, 0, 0, 0, 0, 0, 0, 0, 0, 0, 0, 0, 0, 0, 0, 0, 0, 0, 0, 0, 0, 0, 0, 0, 0, 0, 0, 0]], 'attention_mask': [[1, 1, 1, 1, 1, 1, 1, 1, 1, 1, 1, 1, 1, 1, 1, 1, 1, 1, 1, 1, 1, 1, 1, 1, 1, 1, 1, 1, 1, 1, 1, 1], [1, 1, 1, 1, 1, 1, 1, 1, 1, 1, 1, 1, 1, 1, 1, 1, 1, 1, 1, 0, 0, 0, 0, 0, 0, 0, 0, 0, 0, 0, 0, 0]]}\n"
          ],
          "name": "stdout"
        }
      ]
    },
    {
      "cell_type": "code",
      "metadata": {
        "colab": {
          "base_uri": "https://localhost:8080/",
          "height": 282
        },
        "id": "p5-x0jdmAX4o",
        "outputId": "409c49d5-5f97-49fc-97e8-a77eac6c1369"
      },
      "source": [
        "seq_len = [len(i.split()) for i in train_sentences]\n",
        "\n",
        "pd.Series(seq_len).hist(bins = 30)"
      ],
      "execution_count": null,
      "outputs": [
        {
          "output_type": "execute_result",
          "data": {
            "text/plain": [
              "<matplotlib.axes._subplots.AxesSubplot at 0x7f05a21bc668>"
            ]
          },
          "metadata": {
            "tags": []
          },
          "execution_count": 362
        },
        {
          "output_type": "display_data",
          "data": {
            "image/png": "[encoded data removed]",
            "text/plain": [
              "<Figure size 432x288 with 1 Axes>"
            ]
          },
          "metadata": {
            "tags": [],
            "needs_background": "light"
          }
        }
      ]
    },
    {
      "cell_type": "code",
      "metadata": {
        "colab": {
          "base_uri": "https://localhost:8080/"
        },
        "id": "9ovjltvOA3_v",
        "outputId": "25078c8d-6b03-4595-f4b6-b797900f36c4"
      },
      "source": [
        "tokens_train = tokenizer.batch_encode_plus(\n",
        "    train_sentences.tolist(),\n",
        "    max_length = 100,\n",
        "    pad_to_max_length=True,\n",
        "    truncation=True\n",
        ")\n",
        "\n",
        "tokens_val = tokenizer.batch_encode_plus(\n",
        "    val_sentences.tolist(),\n",
        "    max_length = 100,\n",
        "    pad_to_max_length=True,\n",
        "    truncation=True\n",
        ")"
      ],
      "execution_count": null,
      "outputs": [
        {
          "output_type": "stream",
          "text": [
            "/usr/local/lib/python3.6/dist-packages/transformers/tokenization_utils_base.py:2142: FutureWarning: The `pad_to_max_length` argument is deprecated and will be removed in a future version, use `padding=True` or `padding='longest'` to pad to the longest sequence in the batch, or use `padding='max_length'` to pad to a max length. In this case, you can give a specific length with `max_length` (e.g. `max_length=45`) or leave max_length to None to pad to the maximal input size of the model (e.g. 512 for Bert).\n",
            "  FutureWarning,\n"
          ],
          "name": "stderr"
        }
      ]
    },
    {
      "cell_type": "code",
      "metadata": {
        "id": "z5EPJYfYBOmM"
      },
      "source": [
        "train_seq = torch.tensor(tokens_train['input_ids'])\n",
        "train_mask = torch.tensor(tokens_train['attention_mask'])\n",
        "train_y = torch.tensor(y_train_offensive.tolist())\n",
        "\n",
        "val_seq = torch.tensor(tokens_val['input_ids'])\n",
        "val_mask = torch.tensor(tokens_val['attention_mask'])\n",
        "val_y = torch.tensor(y_val_offensive.tolist())"
      ],
      "execution_count": null,
      "outputs": []
    },
    {
      "cell_type": "code",
      "metadata": {
        "id": "DKUUxaDQBkwb"
      },
      "source": [
        "from torch.utils.data import TensorDataset, DataLoader, RandomSampler, SequentialSampler\n",
        "\n",
        "#define a batch size\n",
        "batch_size = 16\n",
        "\n",
        "# wrap tensors\n",
        "train_data = TensorDataset(train_seq, train_mask, train_y)\n",
        "\n",
        "# sampler for sampling the data during training\n",
        "train_sampler = RandomSampler(train_data)\n",
        "\n",
        "# dataLoader for train set\n",
        "train_dataloader = DataLoader(train_data, sampler=train_sampler, batch_size=batch_size)\n",
        "train_other_ft_dataloader = DataLoader(train_X, sampler=train_sampler, batch_size=batch_size)\n",
        "# wrap tensors\n",
        "val_data = TensorDataset(val_seq, val_mask, val_y)\n",
        "\n",
        "# sampler for sampling the data during training\n",
        "val_sampler = SequentialSampler(val_data)\n",
        "\n",
        "# dataLoader for validation set\n",
        "val_dataloader = DataLoader(val_data, sampler = val_sampler, batch_size=batch_size)\n",
        "val_other_ft_dataloader = DataLoader(val_X, sampler=val_sampler, batch_size=batch_size)"
      ],
      "execution_count": null,
      "outputs": []
    },
    {
      "cell_type": "code",
      "metadata": {
        "id": "dbiWd8LfB0I3"
      },
      "source": [
        "for param in bert.parameters():\n",
        "    param.requires_grad = False"
      ],
      "execution_count": null,
      "outputs": []
    },
    {
      "cell_type": "code",
      "metadata": {
        "id": "N-_45SydB3Ak"
      },
      "source": [
        "class BERT_Arch(nn.Module):\n",
        "\n",
        "    def __init__(self, bert):\n",
        "      \n",
        "      super(BERT_Arch, self).__init__()\n",
        "\n",
        "      self.bert = bert \n",
        "      \n",
        "      # dropout layer\n",
        "      self.dropout = nn.Dropout(0.1)\n",
        "      \n",
        "      # relu activation function\n",
        "      self.relu =  nn.ReLU()\n",
        "\n",
        "      # dense layer 1\n",
        "      self.fc1 = nn.Linear(768+1+ len(offensive_words_list)+ mention_len+hash_len+emoji_len,512)\n",
        "      \n",
        "      # dense layer 2 (Output layer)\n",
        "      self.fc2 = nn.Linear(512,2)\n",
        "\n",
        "      #softmax activation function\n",
        "      self.softmax = nn.LogSoftmax(dim=1)\n",
        "\n",
        "    #define the forward pass\n",
        "    def forward(self, sent_id, mask, other_ft):\n",
        "      other_ft = other_ft.float()\n",
        "      #pass the inputs to the model\n",
        "      state= self.bert(sent_id, attention_mask=mask)\n",
        "      cls_hs = state.pooler_output\n",
        "      x = self.fc1(torch.hstack((cls_hs, other_ft)))\n",
        "      x = self.relu(x)\n",
        "\n",
        "      if self.train:\n",
        "        x = self.dropout(x)\n",
        "\n",
        "      # output layer\n",
        "      x = self.fc2(x)\n",
        "      \n",
        "      # apply softmax activation\n",
        "      x = self.softmax(x)\n",
        "\n",
        "      return x"
      ],
      "execution_count": null,
      "outputs": []
    },
    {
      "cell_type": "code",
      "metadata": {
        "id": "K1je5ubFB7-G"
      },
      "source": [
        "# pass the pre-trained BERT to our define architecture\n",
        "model = BERT_Arch(bert)\n",
        "\n",
        "# push the model to GPU\n",
        "model = model.to(device)"
      ],
      "execution_count": null,
      "outputs": []
    },
    {
      "cell_type": "code",
      "metadata": {
        "id": "31OjjIlhB9rF"
      },
      "source": [
        "from transformers import AdamW\n",
        "\n",
        "# define the optimizer\n",
        "optimizer = AdamW(model.parameters(),\n",
        "                  lr = 1e-4)          # learning rate"
      ],
      "execution_count": null,
      "outputs": []
    },
    {
      "cell_type": "code",
      "metadata": {
        "colab": {
          "base_uri": "https://localhost:8080/"
        },
        "id": "btMFy0AOCCkT",
        "outputId": "a72d499e-39f0-4754-9934-16e0f1e4321a"
      },
      "source": [
        "from sklearn.utils.class_weight import compute_class_weight\n",
        "\n",
        "#compute the class weights\n",
        "class_weights = compute_class_weight('balanced', np.unique(y_train_offensive), y_train_offensive)\n",
        "\n",
        "print(\"Class Weights:\",class_weights)"
      ],
      "execution_count": null,
      "outputs": [
        {
          "output_type": "stream",
          "text": [
            "Class Weights: [0.57442327 3.85916442]\n"
          ],
          "name": "stdout"
        }
      ]
    },
    {
      "cell_type": "code",
      "metadata": {
        "id": "3UludplUC6vt"
      },
      "source": [
        "# converting list of class weights to a tensor\n",
        "weights= torch.tensor(class_weights,dtype=torch.float)\n",
        "\n",
        "# push to GPU\n",
        "weights = weights.to(device)\n",
        "\n",
        "# define the loss function\n",
        "cross_entropy  = nn.CrossEntropyLoss(weight=weights) \n",
        "\n",
        "# number of training epochs\n",
        "epochs = 20"
      ],
      "execution_count": null,
      "outputs": []
    },
    {
      "cell_type": "code",
      "metadata": {
        "id": "xj8RrYqMrOnu"
      },
      "source": [
        "import time\n",
        "import datetime\n",
        "\n",
        "def format_time(elapsed):\n",
        "    '''\n",
        "    Takes a time in seconds and returns a string hh:mm:ss\n",
        "    '''\n",
        "    # Round to the nearest second.\n",
        "    elapsed_rounded = int(round((elapsed)))\n",
        "    \n",
        "    # Format as hh:mm:ss\n",
        "    return str(datetime.timedelta(seconds=elapsed_rounded))"
      ],
      "execution_count": null,
      "outputs": []
    },
    {
      "cell_type": "code",
      "metadata": {
        "id": "C8o95_htC-wO"
      },
      "source": [
        "# function to train the model\n",
        "def train():\n",
        "  \n",
        "  model.train()\n",
        "\n",
        "  total_loss, total_accuracy = 0, 0\n",
        "  \n",
        "  # empty list to save model predictions\n",
        "  total_preds=[]\n",
        "  \n",
        "  # iterate over batches\n",
        "  for first,second in zip(enumerate(train_dataloader), enumerate(train_other_ft_dataloader)):\n",
        "    step, batch = first\n",
        "    _, other_ft = second\n",
        "    # progress update after every 50 batches.\n",
        "    if step % 50 == 0 and not step == 0:\n",
        "      print('  Batch {:>5,}  of  {:>5,}.'.format(step, len(train_dataloader)))\n",
        "\n",
        "    # push the batch to gpu\n",
        "    batch = [r.to(device) for r in batch]\n",
        "    other_ft = other_ft.to(device)\n",
        "    sent_id, mask, labels = batch\n",
        "\n",
        "    # clear previously calculated gradients \n",
        "    model.zero_grad()        \n",
        "\n",
        "    # get model predictions for the current batch\n",
        "    preds = model(sent_id, mask, other_ft)\n",
        "\n",
        "    # compute the loss between actual and predicted values\n",
        "    loss = cross_entropy(preds, labels)\n",
        "\n",
        "    # add on to the total loss\n",
        "    total_loss = total_loss + loss.item()\n",
        "\n",
        "    # backward pass to calculate the gradients\n",
        "    loss.backward()\n",
        "\n",
        "    # clip the the gradients to 1.0. It helps in preventing the exploding gradient problem\n",
        "    torch.nn.utils.clip_grad_norm_(model.parameters(), 1.0)\n",
        "\n",
        "    # update parameters\n",
        "    optimizer.step()\n",
        "\n",
        "    # model predictions are stored on GPU. So, push it to CPU\n",
        "    preds=preds.detach().cpu().numpy()\n",
        "\n",
        "    # append the model predictions\n",
        "    total_preds.append(preds)\n",
        "\n",
        "  # compute the training loss of the epoch\n",
        "  avg_loss = total_loss / len(train_dataloader)\n",
        "  \n",
        "  # predictions are in the form of (no. of batches, size of batch, no. of classes).\n",
        "  # reshape the predictions in form of (number of samples, no. of classes)\n",
        "  total_preds  = np.concatenate(total_preds, axis=0)\n",
        "\n",
        "  #returns the loss and predictions\n",
        "  return avg_loss, total_preds"
      ],
      "execution_count": null,
      "outputs": []
    },
    {
      "cell_type": "code",
      "metadata": {
        "id": "z8TuboDrDH8U"
      },
      "source": [
        "# function for evaluating the model\n",
        "def evaluate():\n",
        "  \n",
        "  print(\"\\nEvaluating...\")\n",
        "  \n",
        "  # deactivate dropout layers\n",
        "  model.eval()\n",
        "\n",
        "  total_loss, total_accuracy = 0, 0\n",
        "  \n",
        "  # empty list to save the model predictions\n",
        "  total_preds = []\n",
        "\n",
        "  # iterate over batches\n",
        "  for first,second in zip(enumerate(val_dataloader), enumerate(val_other_ft_dataloader)):\n",
        "    step, batch = first\n",
        "    _, other_ft = second\n",
        "    other_ft = other_ft.to(device)\n",
        "    # Progress update every 50 batches.\n",
        "    if step % 50 == 0 and not step == 0:\n",
        "      \n",
        "      # # Calculate elapsed time in minutes.\n",
        "      # elapsed = format_time(time.time() - t0)\n",
        "            \n",
        "      # Report progress.\n",
        "      print('  Batch {:>5,}  of  {:>5,}.'.format(step, len(val_dataloader)))\n",
        "\n",
        "    # push the batch to gpu\n",
        "    batch = [t.to(device) for t in batch]\n",
        "\n",
        "    sent_id, mask, labels = batch\n",
        "\n",
        "    # deactivate autograd\n",
        "    with torch.no_grad():\n",
        "      \n",
        "      # model predictions\n",
        "      preds = model(sent_id, mask, other_ft)\n",
        "\n",
        "      # compute the validation loss between actual and predicted values\n",
        "      loss = cross_entropy(preds,labels)\n",
        "\n",
        "      total_loss = total_loss + loss.item()\n",
        "\n",
        "      preds = preds.detach().cpu().numpy()\n",
        "\n",
        "      total_preds.append(preds)\n",
        "\n",
        "  # compute the validation loss of the epoch\n",
        "  avg_loss = total_loss / len(val_dataloader) \n",
        "\n",
        "  # reshape the predictions in form of (number of samples, no. of classes)\n",
        "  total_preds  = np.concatenate(total_preds, axis=0)\n",
        "\n",
        "  return avg_loss, total_preds"
      ],
      "execution_count": null,
      "outputs": []
    },
    {
      "cell_type": "code",
      "metadata": {
        "colab": {
          "base_uri": "https://localhost:8080/"
        },
        "id": "jyh9hwfaDMzV",
        "outputId": "524bc85b-8152-4d55-fff5-6deb5996f672"
      },
      "source": [
        "# set initial loss to infinite\n",
        "best_valid_loss = float('inf')\n",
        "\n",
        "# empty lists to store training and validation loss of each epoch\n",
        "train_losses=[]\n",
        "valid_losses=[]\n",
        "\n",
        "#for each epoch\n",
        "for epoch in range(epochs):\n",
        "     \n",
        "    print('\\n Epoch {:} / {:}'.format(epoch + 1, epochs))\n",
        "    \n",
        "    #train model\n",
        "    train_loss, _ = train()\n",
        "    \n",
        "    #evaluate model\n",
        "    valid_loss, _ = evaluate()\n",
        "    \n",
        "    #save the best model\n",
        "    if valid_loss < best_valid_loss:\n",
        "        best_valid_loss = valid_loss\n",
        "        torch.save(model.state_dict(), 'saved_weights.pt')\n",
        "    \n",
        "    # append training and validation loss\n",
        "    train_losses.append(train_loss)\n",
        "    valid_losses.append(valid_loss)\n",
        "    \n",
        "    print(f'\\nTraining Loss: {train_loss:.3f}')\n",
        "    print(f'Validation Loss: {valid_loss:.3f}')"
      ],
      "execution_count": null,
      "outputs": [
        {
          "output_type": "stream",
          "text": [
            "\n",
            " Epoch 1 / 20\n",
            "  Batch    50  of    358.\n",
            "  Batch   100  of    358.\n",
            "  Batch   150  of    358.\n",
            "  Batch   200  of    358.\n",
            "  Batch   250  of    358.\n",
            "  Batch   300  of    358.\n",
            "  Batch   350  of    358.\n",
            "\n",
            "Evaluating...\n",
            "  Batch    50  of     51.\n",
            "\n",
            "Training Loss: 0.662\n",
            "Validation Loss: 0.622\n",
            "\n",
            " Epoch 2 / 20\n",
            "  Batch    50  of    358.\n",
            "  Batch   100  of    358.\n",
            "  Batch   150  of    358.\n",
            "  Batch   200  of    358.\n",
            "  Batch   250  of    358.\n",
            "  Batch   300  of    358.\n",
            "  Batch   350  of    358.\n",
            "\n",
            "Evaluating...\n",
            "  Batch    50  of     51.\n",
            "\n",
            "Training Loss: 0.602\n",
            "Validation Loss: 0.558\n",
            "\n",
            " Epoch 3 / 20\n",
            "  Batch    50  of    358.\n",
            "  Batch   100  of    358.\n",
            "  Batch   150  of    358.\n",
            "  Batch   200  of    358.\n",
            "  Batch   250  of    358.\n",
            "  Batch   300  of    358.\n",
            "  Batch   350  of    358.\n",
            "\n",
            "Evaluating...\n",
            "  Batch    50  of     51.\n",
            "\n",
            "Training Loss: 0.564\n",
            "Validation Loss: 0.516\n",
            "\n",
            " Epoch 4 / 20\n",
            "  Batch    50  of    358.\n",
            "  Batch   100  of    358.\n",
            "  Batch   150  of    358.\n",
            "  Batch   200  of    358.\n",
            "  Batch   250  of    358.\n",
            "  Batch   300  of    358.\n",
            "  Batch   350  of    358.\n",
            "\n",
            "Evaluating...\n",
            "  Batch    50  of     51.\n",
            "\n",
            "Training Loss: 0.538\n",
            "Validation Loss: 0.502\n",
            "\n",
            " Epoch 5 / 20\n",
            "  Batch    50  of    358.\n",
            "  Batch   100  of    358.\n",
            "  Batch   150  of    358.\n",
            "  Batch   200  of    358.\n",
            "  Batch   250  of    358.\n",
            "  Batch   300  of    358.\n",
            "  Batch   350  of    358.\n",
            "\n",
            "Evaluating...\n",
            "  Batch    50  of     51.\n",
            "\n",
            "Training Loss: 0.515\n",
            "Validation Loss: 0.487\n",
            "\n",
            " Epoch 6 / 20\n",
            "  Batch    50  of    358.\n",
            "  Batch   100  of    358.\n",
            "  Batch   150  of    358.\n",
            "  Batch   200  of    358.\n",
            "  Batch   250  of    358.\n",
            "  Batch   300  of    358.\n",
            "  Batch   350  of    358.\n",
            "\n",
            "Evaluating...\n",
            "  Batch    50  of     51.\n",
            "\n",
            "Training Loss: 0.522\n",
            "Validation Loss: 0.478\n",
            "\n",
            " Epoch 7 / 20\n",
            "  Batch    50  of    358.\n",
            "  Batch   100  of    358.\n",
            "  Batch   150  of    358.\n",
            "  Batch   200  of    358.\n",
            "  Batch   250  of    358.\n",
            "  Batch   300  of    358.\n",
            "  Batch   350  of    358.\n",
            "\n",
            "Evaluating...\n",
            "  Batch    50  of     51.\n",
            "\n",
            "Training Loss: 0.499\n",
            "Validation Loss: 0.461\n",
            "\n",
            " Epoch 8 / 20\n",
            "  Batch    50  of    358.\n",
            "  Batch   100  of    358.\n",
            "  Batch   150  of    358.\n",
            "  Batch   200  of    358.\n",
            "  Batch   250  of    358.\n",
            "  Batch   300  of    358.\n",
            "  Batch   350  of    358.\n",
            "\n",
            "Evaluating...\n",
            "  Batch    50  of     51.\n",
            "\n",
            "Training Loss: 0.483\n",
            "Validation Loss: 0.457\n",
            "\n",
            " Epoch 9 / 20\n",
            "  Batch    50  of    358.\n",
            "  Batch   100  of    358.\n",
            "  Batch   150  of    358.\n",
            "  Batch   200  of    358.\n",
            "  Batch   250  of    358.\n",
            "  Batch   300  of    358.\n",
            "  Batch   350  of    358.\n",
            "\n",
            "Evaluating...\n",
            "  Batch    50  of     51.\n",
            "\n",
            "Training Loss: 0.497\n",
            "Validation Loss: 0.459\n",
            "\n",
            " Epoch 10 / 20\n",
            "  Batch    50  of    358.\n",
            "  Batch   100  of    358.\n",
            "  Batch   150  of    358.\n",
            "  Batch   200  of    358.\n",
            "  Batch   250  of    358.\n",
            "  Batch   300  of    358.\n",
            "  Batch   350  of    358.\n",
            "\n",
            "Evaluating...\n",
            "  Batch    50  of     51.\n",
            "\n",
            "Training Loss: 0.487\n",
            "Validation Loss: 0.474\n",
            "\n",
            " Epoch 11 / 20\n",
            "  Batch    50  of    358.\n",
            "  Batch   100  of    358.\n",
            "  Batch   150  of    358.\n",
            "  Batch   200  of    358.\n",
            "  Batch   250  of    358.\n",
            "  Batch   300  of    358.\n",
            "  Batch   350  of    358.\n",
            "\n",
            "Evaluating...\n",
            "  Batch    50  of     51.\n",
            "\n",
            "Training Loss: 0.479\n",
            "Validation Loss: 0.451\n",
            "\n",
            " Epoch 12 / 20\n",
            "  Batch    50  of    358.\n",
            "  Batch   100  of    358.\n",
            "  Batch   150  of    358.\n",
            "  Batch   200  of    358.\n",
            "  Batch   250  of    358.\n",
            "  Batch   300  of    358.\n",
            "  Batch   350  of    358.\n",
            "\n",
            "Evaluating...\n",
            "  Batch    50  of     51.\n",
            "\n",
            "Training Loss: 0.480\n",
            "Validation Loss: 0.466\n",
            "\n",
            " Epoch 13 / 20\n",
            "  Batch    50  of    358.\n",
            "  Batch   100  of    358.\n",
            "  Batch   150  of    358.\n",
            "  Batch   200  of    358.\n",
            "  Batch   250  of    358.\n",
            "  Batch   300  of    358.\n",
            "  Batch   350  of    358.\n",
            "\n",
            "Evaluating...\n",
            "  Batch    50  of     51.\n",
            "\n",
            "Training Loss: 0.466\n",
            "Validation Loss: 0.463\n",
            "\n",
            " Epoch 14 / 20\n",
            "  Batch    50  of    358.\n",
            "  Batch   100  of    358.\n",
            "  Batch   150  of    358.\n",
            "  Batch   200  of    358.\n",
            "  Batch   250  of    358.\n",
            "  Batch   300  of    358.\n",
            "  Batch   350  of    358.\n",
            "\n",
            "Evaluating...\n",
            "  Batch    50  of     51.\n",
            "\n",
            "Training Loss: 0.469\n",
            "Validation Loss: 0.455\n",
            "\n",
            " Epoch 15 / 20\n",
            "  Batch    50  of    358.\n",
            "  Batch   100  of    358.\n",
            "  Batch   150  of    358.\n",
            "  Batch   200  of    358.\n",
            "  Batch   250  of    358.\n",
            "  Batch   300  of    358.\n",
            "  Batch   350  of    358.\n",
            "\n",
            "Evaluating...\n",
            "  Batch    50  of     51.\n",
            "\n",
            "Training Loss: 0.469\n",
            "Validation Loss: 0.453\n",
            "\n",
            " Epoch 16 / 20\n",
            "  Batch    50  of    358.\n",
            "  Batch   100  of    358.\n",
            "  Batch   150  of    358.\n",
            "  Batch   200  of    358.\n",
            "  Batch   250  of    358.\n",
            "  Batch   300  of    358.\n",
            "  Batch   350  of    358.\n",
            "\n",
            "Evaluating...\n",
            "  Batch    50  of     51.\n",
            "\n",
            "Training Loss: 0.466\n",
            "Validation Loss: 0.459\n",
            "\n",
            " Epoch 17 / 20\n",
            "  Batch    50  of    358.\n",
            "  Batch   100  of    358.\n",
            "  Batch   150  of    358.\n",
            "  Batch   200  of    358.\n",
            "  Batch   250  of    358.\n",
            "  Batch   300  of    358.\n",
            "  Batch   350  of    358.\n",
            "\n",
            "Evaluating...\n",
            "  Batch    50  of     51.\n",
            "\n",
            "Training Loss: 0.470\n",
            "Validation Loss: 0.446\n",
            "\n",
            " Epoch 18 / 20\n",
            "  Batch    50  of    358.\n",
            "  Batch   100  of    358.\n",
            "  Batch   150  of    358.\n",
            "  Batch   200  of    358.\n",
            "  Batch   250  of    358.\n",
            "  Batch   300  of    358.\n",
            "  Batch   350  of    358.\n",
            "\n",
            "Evaluating...\n",
            "  Batch    50  of     51.\n",
            "\n",
            "Training Loss: 0.461\n",
            "Validation Loss: 0.448\n",
            "\n",
            " Epoch 19 / 20\n",
            "  Batch    50  of    358.\n",
            "  Batch   100  of    358.\n",
            "  Batch   150  of    358.\n",
            "  Batch   200  of    358.\n",
            "  Batch   250  of    358.\n",
            "  Batch   300  of    358.\n",
            "  Batch   350  of    358.\n",
            "\n",
            "Evaluating...\n",
            "  Batch    50  of     51.\n",
            "\n",
            "Training Loss: 0.465\n",
            "Validation Loss: 0.455\n",
            "\n",
            " Epoch 20 / 20\n",
            "  Batch    50  of    358.\n",
            "  Batch   100  of    358.\n",
            "  Batch   150  of    358.\n",
            "  Batch   200  of    358.\n",
            "  Batch   250  of    358.\n",
            "  Batch   300  of    358.\n",
            "  Batch   350  of    358.\n",
            "\n",
            "Evaluating...\n",
            "  Batch    50  of     51.\n",
            "\n",
            "Training Loss: 0.476\n",
            "Validation Loss: 0.489\n"
          ],
          "name": "stdout"
        }
      ]
    },
    {
      "cell_type": "code",
      "metadata": {
        "id": "-kNiU2u-UzxB",
        "colab": {
          "base_uri": "https://localhost:8080/"
        },
        "outputId": "52a6f1bb-400b-49d5-9c68-ebb7e67b9739"
      },
      "source": [
        "import matplotlib.pyplot as plt\n",
        "plt.plot(train_losses)"
      ],
      "execution_count": null,
      "outputs": [
        {
          "output_type": "execute_result",
          "data": {
            "text/plain": [
              "[<matplotlib.lines.Line2D at 0x7f05a8eaee10>]"
            ]
          },
          "metadata": {
            "tags": []
          },
          "execution_count": 376
        },
        {
          "output_type": "display_data",
          "data": {
            "image/png": "[encoded data removed]",
            "text/plain": [
              "<Figure size 432x288 with 1 Axes>"
            ]
          },
          "metadata": {
            "tags": [],
            "needs_background": "light"
          }
        }
      ]
    },
    {
      "cell_type": "code",
      "metadata": {
        "id": "KNN2BacpU0F6",
        "colab": {
          "base_uri": "https://localhost:8080/",
          "height": 282
        },
        "outputId": "1c3524f5-8884-4572-967b-d82557e4d66f"
      },
      "source": [
        "plt.plot(valid_losses)"
      ],
      "execution_count": null,
      "outputs": [
        {
          "output_type": "execute_result",
          "data": {
            "text/plain": [
              "[<matplotlib.lines.Line2D at 0x7f05a2190f98>]"
            ]
          },
          "metadata": {
            "tags": []
          },
          "execution_count": 377
        },
        {
          "output_type": "display_data",
          "data": {
            "image/png": "[encoded data removed]",
            "text/plain": [
              "<Figure size 432x288 with 1 Axes>"
            ]
          },
          "metadata": {
            "tags": [],
            "needs_background": "light"
          }
        }
      ]
    },
    {
      "cell_type": "code",
      "metadata": {
        "id": "RU5XxDFhEmaY",
        "colab": {
          "base_uri": "https://localhost:8080/"
        },
        "outputId": "19d2c07e-96ac-489d-8ae0-42909c95d8d8"
      },
      "source": [
        "path = 'saved_weights.pt'\n",
        "model.load_state_dict(torch.load(path))"
      ],
      "execution_count": null,
      "outputs": [
        {
          "output_type": "execute_result",
          "data": {
            "text/plain": [
              "<All keys matched successfully>"
            ]
          },
          "metadata": {
            "tags": []
          },
          "execution_count": 378
        }
      ]
    },
    {
      "cell_type": "code",
      "metadata": {
        "id": "uYPX3J37EhXN"
      },
      "source": [
        "with torch.no_grad():\n",
        "  preds = model(val_seq.to(device), val_mask.to(device), torch.from_numpy(val_X).to(device))\n",
        "  preds = preds.detach().cpu().numpy()"
      ],
      "execution_count": null,
      "outputs": []
    },
    {
      "cell_type": "code",
      "metadata": {
        "id": "w3A7upaCEn6v",
        "colab": {
          "base_uri": "https://localhost:8080/"
        },
        "outputId": "039ed4eb-bc2f-41de-a727-5fe361cb53d0"
      },
      "source": [
        "preds = np.argmax(preds, axis = 1)\n",
        "print(classification_report(y_val_offensive, preds))"
      ],
      "execution_count": null,
      "outputs": [
        {
          "output_type": "stream",
          "text": [
            "              precision    recall  f1-score   support\n",
            "\n",
            "           0       0.96      0.78      0.86       708\n",
            "           1       0.34      0.79      0.48       103\n",
            "\n",
            "    accuracy                           0.78       811\n",
            "   macro avg       0.65      0.78      0.67       811\n",
            "weighted avg       0.88      0.78      0.81       811\n",
            "\n"
          ],
          "name": "stdout"
        }
      ]
    },
    {
      "cell_type": "code",
      "metadata": {
        "id": "r2urkeiRo-Gh"
      },
      "source": [
        "np.savetxt(\"y_pred_offensive.csv\", preds, delimiter =\",\", fmt ='% s')"
      ],
      "execution_count": null,
      "outputs": []
    }
  ]
}