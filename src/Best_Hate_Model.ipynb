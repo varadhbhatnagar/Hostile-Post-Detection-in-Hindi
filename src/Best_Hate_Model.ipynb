{
  "nbformat": 4,
  "nbformat_minor": 0,
  "metadata": {
    "colab": {
      "name": "Best_Hate_Model.ipynb",
      "provenance": [],
      "collapsed_sections": [],
      "machine_shape": "hm"
    },
    "kernelspec": {
      "name": "python3",
      "display_name": "Python 3"
    },
    "accelerator": "GPU"
  },
  "cells": [
    {
      "cell_type": "markdown",
      "metadata": {
        "id": "EdHVQrqyDB50"
      },
      "source": [
        "# Memory Information"
      ]
    },
    {
      "cell_type": "code",
      "metadata": {
        "id": "E58HaeA6CsM9",
        "outputId": "96d3a846-3be8-4e85-dda8-98acea1863fe",
        "colab": {
          "base_uri": "https://localhost:8080/",
          "height": 104
        }
      },
      "source": [
        "import psutil\n",
        "def get_size(bytes, suffix=\"B\"):\n",
        "    factor = 1024\n",
        "    for unit in [\"\", \"K\", \"M\", \"G\", \"T\", \"P\"]:\n",
        "        if bytes < factor:\n",
        "            return f\"{bytes:.2f}{unit}{suffix}\"\n",
        "        bytes /= factor\n",
        "print(\"=\"*40, \"Memory Information\", \"=\"*40)\n",
        "svmem = psutil.virtual_memory()\n",
        "print(f\"Total: {get_size(svmem.total)}\") ; print(f\"Available: {get_size(svmem.available)}\")\n",
        "print(f\"Used: {get_size(svmem.used)}\") ; print(f\"Percentage: {svmem.percent}%\")\n",
        "# keras-team /\n",
        "# keras-contrib "
      ],
      "execution_count": null,
      "outputs": [
        {
          "output_type": "stream",
          "text": [
            "======================================== Memory Information ========================================\n",
            "Total: 25.51GB\n",
            "Available: 22.48GB\n",
            "Used: 4.41GB\n",
            "Percentage: 11.9%\n"
          ],
          "name": "stdout"
        }
      ]
    },
    {
      "cell_type": "markdown",
      "metadata": {
        "id": "FgVfBlvZDEja"
      },
      "source": [
        "# GPU Information"
      ]
    },
    {
      "cell_type": "code",
      "metadata": {
        "id": "rxlkxvkrCyin",
        "outputId": "edf2d2c0-b1dd-4df4-9fbd-b437b6737ad3",
        "colab": {
          "base_uri": "https://localhost:8080/",
          "height": 364
        }
      },
      "source": [
        "! nvidia-smi"
      ],
      "execution_count": null,
      "outputs": [
        {
          "output_type": "stream",
          "text": [
            "Tue Oct 27 13:38:40 2020       \n",
            "+-----------------------------------------------------------------------------+\n",
            "| NVIDIA-SMI 455.23.05    Driver Version: 418.67       CUDA Version: 10.1     |\n",
            "|-------------------------------+----------------------+----------------------+\n",
            "| GPU  Name        Persistence-M| Bus-Id        Disp.A | Volatile Uncorr. ECC |\n",
            "| Fan  Temp  Perf  Pwr:Usage/Cap|         Memory-Usage | GPU-Util  Compute M. |\n",
            "|                               |                      |               MIG M. |\n",
            "|===============================+======================+======================|\n",
            "|   0  Tesla P100-PCIE...  Off  | 00000000:00:04.0 Off |                    0 |\n",
            "| N/A   36C    P0    32W / 250W |   9785MiB / 16280MiB |      0%      Default |\n",
            "|                               |                      |                 ERR! |\n",
            "+-------------------------------+----------------------+----------------------+\n",
            "                                                                               \n",
            "+-----------------------------------------------------------------------------+\n",
            "| Processes:                                                                  |\n",
            "|  GPU   GI   CI        PID   Type   Process name                  GPU Memory |\n",
            "|        ID   ID                                                   Usage      |\n",
            "|=============================================================================|\n",
            "|  No running processes found                                                 |\n",
            "+-----------------------------------------------------------------------------+\n"
          ],
          "name": "stdout"
        }
      ]
    },
    {
      "cell_type": "code",
      "metadata": {
        "id": "ykIRVNLSHQZY",
        "outputId": "f3f4e00a-2f58-4e28-928c-1ef880711a58",
        "colab": {
          "base_uri": "https://localhost:8080/",
          "height": 382
        }
      },
      "source": [
        "!pip install transformers"
      ],
      "execution_count": null,
      "outputs": [
        {
          "output_type": "stream",
          "text": [
            "Requirement already satisfied: transformers in /usr/local/lib/python3.6/dist-packages (3.4.0)\n",
            "Requirement already satisfied: sentencepiece!=0.1.92 in /usr/local/lib/python3.6/dist-packages (from transformers) (0.1.94)\n",
            "Requirement already satisfied: sacremoses in /usr/local/lib/python3.6/dist-packages (from transformers) (0.0.43)\n",
            "Requirement already satisfied: filelock in /usr/local/lib/python3.6/dist-packages (from transformers) (3.0.12)\n",
            "Requirement already satisfied: tokenizers==0.9.2 in /usr/local/lib/python3.6/dist-packages (from transformers) (0.9.2)\n",
            "Requirement already satisfied: numpy in /usr/local/lib/python3.6/dist-packages (from transformers) (1.18.5)\n",
            "Requirement already satisfied: packaging in /usr/local/lib/python3.6/dist-packages (from transformers) (20.4)\n",
            "Requirement already satisfied: requests in /usr/local/lib/python3.6/dist-packages (from transformers) (2.23.0)\n",
            "Requirement already satisfied: tqdm>=4.27 in /usr/local/lib/python3.6/dist-packages (from transformers) (4.41.1)\n",
            "Requirement already satisfied: regex!=2019.12.17 in /usr/local/lib/python3.6/dist-packages (from transformers) (2019.12.20)\n",
            "Requirement already satisfied: protobuf in /usr/local/lib/python3.6/dist-packages (from transformers) (3.12.4)\n",
            "Requirement already satisfied: dataclasses; python_version < \"3.7\" in /usr/local/lib/python3.6/dist-packages (from transformers) (0.7)\n",
            "Requirement already satisfied: six in /usr/local/lib/python3.6/dist-packages (from sacremoses->transformers) (1.15.0)\n",
            "Requirement already satisfied: joblib in /usr/local/lib/python3.6/dist-packages (from sacremoses->transformers) (0.17.0)\n",
            "Requirement already satisfied: click in /usr/local/lib/python3.6/dist-packages (from sacremoses->transformers) (7.1.2)\n",
            "Requirement already satisfied: pyparsing>=2.0.2 in /usr/local/lib/python3.6/dist-packages (from packaging->transformers) (2.4.7)\n",
            "Requirement already satisfied: urllib3!=1.25.0,!=1.25.1,<1.26,>=1.21.1 in /usr/local/lib/python3.6/dist-packages (from requests->transformers) (1.24.3)\n",
            "Requirement already satisfied: chardet<4,>=3.0.2 in /usr/local/lib/python3.6/dist-packages (from requests->transformers) (3.0.4)\n",
            "Requirement already satisfied: idna<3,>=2.5 in /usr/local/lib/python3.6/dist-packages (from requests->transformers) (2.10)\n",
            "Requirement already satisfied: certifi>=2017.4.17 in /usr/local/lib/python3.6/dist-packages (from requests->transformers) (2020.6.20)\n",
            "Requirement already satisfied: setuptools in /usr/local/lib/python3.6/dist-packages (from protobuf->transformers) (50.3.0)\n"
          ],
          "name": "stdout"
        }
      ]
    },
    {
      "cell_type": "code",
      "metadata": {
        "execution": {
          "iopub.execute_input": "2020-10-24T13:05:26.889762Z",
          "iopub.status.busy": "2020-10-24T13:05:26.889004Z",
          "iopub.status.idle": "2020-10-24T13:05:28.086163Z",
          "shell.execute_reply": "2020-10-24T13:05:28.084885Z"
        },
        "papermill": {
          "duration": 1.361025,
          "end_time": "2020-10-24T13:05:28.086292",
          "exception": false,
          "start_time": "2020-10-24T13:05:26.725267",
          "status": "completed"
        },
        "tags": [],
        "id": "Wv5VjxJsQTT3"
      },
      "source": [
        "import numpy as np\n",
        "import pandas as pd\n",
        "import csv\n",
        "from collections import defaultdict\n",
        "from sklearn.metrics import accuracy_score\n",
        "from sklearn.metrics import classification_report\n",
        "import ast\n",
        "import random\n",
        "import torch\n",
        "from tqdm import tqdm\n",
        "from torch.utils.data import TensorDataset, DataLoader, RandomSampler, SequentialSampler\n",
        "from transformers import AutoTokenizer, AutoModelForSequenceClassification, AdamW\n",
        "from transformers import BertForSequenceClassification, AdamW, BertConfig\n",
        "from transformers import BertTokenizer\n",
        "from torch.utils.data import TensorDataset, random_split\n",
        "from torch.utils.data import DataLoader, RandomSampler, SequentialSampler\n",
        "import time\n",
        "import matplotlib.pyplot as plt\n",
        "%matplotlib inline\n",
        "import seaborn as sns"
      ],
      "execution_count": null,
      "outputs": []
    },
    {
      "cell_type": "code",
      "metadata": {
        "execution": {
          "iopub.execute_input": "2020-10-24T13:05:28.290481Z",
          "iopub.status.busy": "2020-10-24T13:05:28.288633Z",
          "iopub.status.idle": "2020-10-24T13:05:28.291163Z",
          "shell.execute_reply": "2020-10-24T13:05:28.291674Z"
        },
        "papermill": {
          "duration": 0.104107,
          "end_time": "2020-10-24T13:05:28.291794",
          "exception": false,
          "start_time": "2020-10-24T13:05:28.187687",
          "status": "completed"
        },
        "tags": [],
        "id": "8J_zH8gvQTT8"
      },
      "source": [
        "train_file = 'train.csv'\n",
        "val_file = 'val.csv'"
      ],
      "execution_count": null,
      "outputs": []
    },
    {
      "cell_type": "code",
      "metadata": {
        "execution": {
          "iopub.execute_input": "2020-10-24T13:05:28.500314Z",
          "iopub.status.busy": "2020-10-24T13:05:28.499652Z",
          "iopub.status.idle": "2020-10-24T13:05:28.704807Z",
          "shell.execute_reply": "2020-10-24T13:05:28.704250Z"
        },
        "papermill": {
          "duration": 0.316168,
          "end_time": "2020-10-24T13:05:28.704918",
          "exception": false,
          "start_time": "2020-10-24T13:05:28.388750",
          "status": "completed"
        },
        "tags": [],
        "id": "Pv0ewfrkQTT_"
      },
      "source": [
        "train_data = pd.read_csv(train_file, header=0, index_col=0)\n",
        "val_data = pd.read_csv(val_file, header=0, index_col=0)"
      ],
      "execution_count": null,
      "outputs": []
    },
    {
      "cell_type": "code",
      "metadata": {
        "execution": {
          "iopub.execute_input": "2020-10-24T13:05:28.901771Z",
          "iopub.status.busy": "2020-10-24T13:05:28.901037Z",
          "iopub.status.idle": "2020-10-24T13:05:28.928318Z",
          "shell.execute_reply": "2020-10-24T13:05:28.928873Z"
        },
        "papermill": {
          "duration": 0.12809,
          "end_time": "2020-10-24T13:05:28.929014",
          "exception": false,
          "start_time": "2020-10-24T13:05:28.800924",
          "status": "completed"
        },
        "tags": [],
        "id": "6vOapzzOQTUB",
        "outputId": "393431bc-5a65-4a2e-e571-002cb016c4c3",
        "colab": {
          "base_uri": "https://localhost:8080/",
          "height": 394
        }
      },
      "source": [
        "print(train_data.shape)\n",
        "train_data.head()"
      ],
      "execution_count": null,
      "outputs": [
        {
          "output_type": "stream",
          "text": [
            "(5727, 10)\n"
          ],
          "name": "stdout"
        },
        {
          "output_type": "execute_result",
          "data": {
            "text/html": [
              "<div>\n",
              "<style scoped>\n",
              "    .dataframe tbody tr th:only-of-type {\n",
              "        vertical-align: middle;\n",
              "    }\n",
              "\n",
              "    .dataframe tbody tr th {\n",
              "        vertical-align: top;\n",
              "    }\n",
              "\n",
              "    .dataframe thead th {\n",
              "        text-align: right;\n",
              "    }\n",
              "</style>\n",
              "<table border=\"1\" class=\"dataframe\">\n",
              "  <thead>\n",
              "    <tr style=\"text-align: right;\">\n",
              "      <th></th>\n",
              "      <th>Post</th>\n",
              "      <th>Labels Set</th>\n",
              "      <th>emails</th>\n",
              "      <th>urls</th>\n",
              "      <th>mentions</th>\n",
              "      <th>hashtags</th>\n",
              "      <th>emojis</th>\n",
              "      <th>emoticons</th>\n",
              "      <th>reserved_words</th>\n",
              "      <th>Filtered_Post</th>\n",
              "    </tr>\n",
              "    <tr>\n",
              "      <th>Unique ID</th>\n",
              "      <th></th>\n",
              "      <th></th>\n",
              "      <th></th>\n",
              "      <th></th>\n",
              "      <th></th>\n",
              "      <th></th>\n",
              "      <th></th>\n",
              "      <th></th>\n",
              "      <th></th>\n",
              "      <th></th>\n",
              "    </tr>\n",
              "  </thead>\n",
              "  <tbody>\n",
              "    <tr>\n",
              "      <th>1</th>\n",
              "      <td>मेरे देश के हिन्दु बहुत निराले है। कुछ तो पक्क...</td>\n",
              "      <td>hate,offensive</td>\n",
              "      <td>[]</td>\n",
              "      <td>[]</td>\n",
              "      <td>[]</td>\n",
              "      <td>[]</td>\n",
              "      <td>['🙏', '🙏']</td>\n",
              "      <td>[]</td>\n",
              "      <td>[]</td>\n",
              "      <td>मेरे देश के हिन्दु बहुत निराले है। कुछ तो पक्क...</td>\n",
              "    </tr>\n",
              "    <tr>\n",
              "      <th>2</th>\n",
              "      <td>सरकार हमेशा से किसानों की कमाई को बढ़ाने के लि...</td>\n",
              "      <td>non-hostile</td>\n",
              "      <td>[]</td>\n",
              "      <td>['https://t.co/8iy2MJSBAs']</td>\n",
              "      <td>[]</td>\n",
              "      <td>[]</td>\n",
              "      <td>[]</td>\n",
              "      <td>[]</td>\n",
              "      <td>[]</td>\n",
              "      <td>सरकार हमेशा से किसानों की कमाई को बढ़ाने के लि...</td>\n",
              "    </tr>\n",
              "    <tr>\n",
              "      <th>3</th>\n",
              "      <td>सुशांत ने जो बिजनेस डील 9 जून को की थी, वो डील...</td>\n",
              "      <td>non-hostile</td>\n",
              "      <td>[]</td>\n",
              "      <td>['https://t.co/G945HvzM0Z', 'https://t.co/KfH7...</td>\n",
              "      <td>[]</td>\n",
              "      <td>['LIVE']</td>\n",
              "      <td>[]</td>\n",
              "      <td>[]</td>\n",
              "      <td>[]</td>\n",
              "      <td>सुशांत ने जो बिजनेस डील 9 जून को की थी, वो डील...</td>\n",
              "    </tr>\n",
              "    <tr>\n",
              "      <th>4</th>\n",
              "      <td>@prabhav218 साले जेएनयू छाप कमिने लोग हिन्दुओं...</td>\n",
              "      <td>defamation,offensive</td>\n",
              "      <td>[]</td>\n",
              "      <td>[]</td>\n",
              "      <td>['@prabhav218']</td>\n",
              "      <td>[]</td>\n",
              "      <td>[]</td>\n",
              "      <td>[]</td>\n",
              "      <td>[]</td>\n",
              "      <td>साले जेएनयू छाप कमिने लोग हिन्दुओं को यह कहते...</td>\n",
              "    </tr>\n",
              "    <tr>\n",
              "      <th>5</th>\n",
              "      <td>#unlock4guidelines - अनलॉक-4 के लिए गाइडलाइन्स...</td>\n",
              "      <td>non-hostile</td>\n",
              "      <td>[]</td>\n",
              "      <td>['https://t.co/4e6lysg0VR']</td>\n",
              "      <td>[]</td>\n",
              "      <td>['unlock4guidelines']</td>\n",
              "      <td>[]</td>\n",
              "      <td>[]</td>\n",
              "      <td>[]</td>\n",
              "      <td>- अनलॉक-4 के लिए गाइडलाइन्स जारी\\n\\n- 7 सितंब...</td>\n",
              "    </tr>\n",
              "  </tbody>\n",
              "</table>\n",
              "</div>"
            ],
            "text/plain": [
              "                                                        Post  ...                                      Filtered_Post\n",
              "Unique ID                                                     ...                                                   \n",
              "1          मेरे देश के हिन्दु बहुत निराले है। कुछ तो पक्क...  ...  मेरे देश के हिन्दु बहुत निराले है। कुछ तो पक्क...\n",
              "2          सरकार हमेशा से किसानों की कमाई को बढ़ाने के लि...  ...  सरकार हमेशा से किसानों की कमाई को बढ़ाने के लि...\n",
              "3          सुशांत ने जो बिजनेस डील 9 जून को की थी, वो डील...  ...  सुशांत ने जो बिजनेस डील 9 जून को की थी, वो डील...\n",
              "4          @prabhav218 साले जेएनयू छाप कमिने लोग हिन्दुओं...  ...   साले जेएनयू छाप कमिने लोग हिन्दुओं को यह कहते...\n",
              "5          #unlock4guidelines - अनलॉक-4 के लिए गाइडलाइन्स...  ...   - अनलॉक-4 के लिए गाइडलाइन्स जारी\\n\\n- 7 सितंब...\n",
              "\n",
              "[5 rows x 10 columns]"
            ]
          },
          "metadata": {
            "tags": []
          },
          "execution_count": 121
        }
      ]
    },
    {
      "cell_type": "code",
      "metadata": {
        "execution": {
          "iopub.execute_input": "2020-10-24T13:05:29.145208Z",
          "iopub.status.busy": "2020-10-24T13:05:29.144324Z",
          "iopub.status.idle": "2020-10-24T13:05:29.150680Z",
          "shell.execute_reply": "2020-10-24T13:05:29.151351Z"
        },
        "papermill": {
          "duration": 0.121825,
          "end_time": "2020-10-24T13:05:29.151506",
          "exception": false,
          "start_time": "2020-10-24T13:05:29.029681",
          "status": "completed"
        },
        "tags": [],
        "id": "3S0_Jk_WQTUG",
        "outputId": "5ac6b04c-065a-482e-e029-89bbbb62a420",
        "colab": {
          "base_uri": "https://localhost:8080/",
          "height": 377
        }
      },
      "source": [
        "print(val_data.shape)\n",
        "val_data.head()"
      ],
      "execution_count": null,
      "outputs": [
        {
          "output_type": "stream",
          "text": [
            "(811, 10)\n"
          ],
          "name": "stdout"
        },
        {
          "output_type": "execute_result",
          "data": {
            "text/html": [
              "<div>\n",
              "<style scoped>\n",
              "    .dataframe tbody tr th:only-of-type {\n",
              "        vertical-align: middle;\n",
              "    }\n",
              "\n",
              "    .dataframe tbody tr th {\n",
              "        vertical-align: top;\n",
              "    }\n",
              "\n",
              "    .dataframe thead th {\n",
              "        text-align: right;\n",
              "    }\n",
              "</style>\n",
              "<table border=\"1\" class=\"dataframe\">\n",
              "  <thead>\n",
              "    <tr style=\"text-align: right;\">\n",
              "      <th></th>\n",
              "      <th>Post</th>\n",
              "      <th>Labels Set</th>\n",
              "      <th>emails</th>\n",
              "      <th>urls</th>\n",
              "      <th>mentions</th>\n",
              "      <th>hashtags</th>\n",
              "      <th>emojis</th>\n",
              "      <th>emoticons</th>\n",
              "      <th>reserved_words</th>\n",
              "      <th>Filtered_Post</th>\n",
              "    </tr>\n",
              "    <tr>\n",
              "      <th>Unique ID</th>\n",
              "      <th></th>\n",
              "      <th></th>\n",
              "      <th></th>\n",
              "      <th></th>\n",
              "      <th></th>\n",
              "      <th></th>\n",
              "      <th></th>\n",
              "      <th></th>\n",
              "      <th></th>\n",
              "      <th></th>\n",
              "    </tr>\n",
              "  </thead>\n",
              "  <tbody>\n",
              "    <tr>\n",
              "      <th>1</th>\n",
              "      <td>दृढ़ इच्छा शक्ति से परिपूर्ण प्रणबदा के लिए दे...</td>\n",
              "      <td>non-hostile</td>\n",
              "      <td>[]</td>\n",
              "      <td>[]</td>\n",
              "      <td>[]</td>\n",
              "      <td>[]</td>\n",
              "      <td>[]</td>\n",
              "      <td>[]</td>\n",
              "      <td>[]</td>\n",
              "      <td>दृढ़ इच्छा शक्ति से परिपूर्ण प्रणबदा के लिए दे...</td>\n",
              "    </tr>\n",
              "    <tr>\n",
              "      <th>2</th>\n",
              "      <td>भारतीय जनता पार्टी rss वाले इतने गिरे हुए हैं ...</td>\n",
              "      <td>defamation</td>\n",
              "      <td>[]</td>\n",
              "      <td>[]</td>\n",
              "      <td>[]</td>\n",
              "      <td>[]</td>\n",
              "      <td>[]</td>\n",
              "      <td>[]</td>\n",
              "      <td>[]</td>\n",
              "      <td>भारतीय जनता पार्टी rss वाले इतने गिरे हुए हैं ...</td>\n",
              "    </tr>\n",
              "    <tr>\n",
              "      <th>3</th>\n",
              "      <td>कोरोना से निपटने की तैयारी / दिल्ली में 10 हजा...</td>\n",
              "      <td>non-hostile</td>\n",
              "      <td>[]</td>\n",
              "      <td>['https://t.co/9rlQowAsFh']</td>\n",
              "      <td>['@ArvindKejriwal', '@rajnathsingh', '@AmitSha...</td>\n",
              "      <td>['Delhi']</td>\n",
              "      <td>[]</td>\n",
              "      <td>[]</td>\n",
              "      <td>[]</td>\n",
              "      <td>कोरोना से निपटने की तैयारी / दिल्ली में 10 हजा...</td>\n",
              "    </tr>\n",
              "    <tr>\n",
              "      <th>4</th>\n",
              "      <td>गवर्नर कॉन्फ्रेंस में PM मोदी बोले- शिक्षा नीत...</td>\n",
              "      <td>non-hostile</td>\n",
              "      <td>[]</td>\n",
              "      <td>['https://t.co/ZvKgxk6dbd']</td>\n",
              "      <td>[]</td>\n",
              "      <td>[]</td>\n",
              "      <td>[]</td>\n",
              "      <td>[]</td>\n",
              "      <td>[]</td>\n",
              "      <td>गवर्नर कॉन्फ्रेंस में PM मोदी बोले- शिक्षा नीत...</td>\n",
              "    </tr>\n",
              "    <tr>\n",
              "      <th>5</th>\n",
              "      <td>यूपी: गाजीपुर में Toilet घोटाला, प्रधान व सचिव...</td>\n",
              "      <td>non-hostile</td>\n",
              "      <td>[]</td>\n",
              "      <td>['https://t.co/hxM1uNNmX2']</td>\n",
              "      <td>[]</td>\n",
              "      <td>['UP']</td>\n",
              "      <td>[]</td>\n",
              "      <td>[]</td>\n",
              "      <td>[]</td>\n",
              "      <td>यूपी: गाजीपुर में Toilet घोटाला, प्रधान व सचिव...</td>\n",
              "    </tr>\n",
              "  </tbody>\n",
              "</table>\n",
              "</div>"
            ],
            "text/plain": [
              "                                                        Post  ...                                      Filtered_Post\n",
              "Unique ID                                                     ...                                                   \n",
              "1          दृढ़ इच्छा शक्ति से परिपूर्ण प्रणबदा के लिए दे...  ...  दृढ़ इच्छा शक्ति से परिपूर्ण प्रणबदा के लिए दे...\n",
              "2          भारतीय जनता पार्टी rss वाले इतने गिरे हुए हैं ...  ...  भारतीय जनता पार्टी rss वाले इतने गिरे हुए हैं ...\n",
              "3          कोरोना से निपटने की तैयारी / दिल्ली में 10 हजा...  ...  कोरोना से निपटने की तैयारी / दिल्ली में 10 हजा...\n",
              "4          गवर्नर कॉन्फ्रेंस में PM मोदी बोले- शिक्षा नीत...  ...  गवर्नर कॉन्फ्रेंस में PM मोदी बोले- शिक्षा नीत...\n",
              "5          यूपी: गाजीपुर में Toilet घोटाला, प्रधान व सचिव...  ...  यूपी: गाजीपुर में Toilet घोटाला, प्रधान व सचिव...\n",
              "\n",
              "[5 rows x 10 columns]"
            ]
          },
          "metadata": {
            "tags": []
          },
          "execution_count": 122
        }
      ]
    },
    {
      "cell_type": "code",
      "metadata": {
        "execution": {
          "iopub.execute_input": "2020-10-24T13:05:29.355212Z",
          "iopub.status.busy": "2020-10-24T13:05:29.353461Z",
          "iopub.status.idle": "2020-10-24T13:05:29.355916Z",
          "shell.execute_reply": "2020-10-24T13:05:29.356375Z"
        },
        "papermill": {
          "duration": 0.106365,
          "end_time": "2020-10-24T13:05:29.356494",
          "exception": false,
          "start_time": "2020-10-24T13:05:29.250129",
          "status": "completed"
        },
        "tags": [],
        "id": "qfWY95KJQTUK"
      },
      "source": [
        "labels_set = {'defamation',\n",
        " 'fake',\n",
        " 'hate',\n",
        " 'non-hostile',\n",
        " 'offensive'}\n",
        "\n",
        "labels_mapping = {'defamation':0,\n",
        " 'fake':1,\n",
        " 'hate':2,\n",
        " 'non-hostile':3,\n",
        " 'offensive':4}"
      ],
      "execution_count": null,
      "outputs": []
    },
    {
      "cell_type": "code",
      "metadata": {
        "execution": {
          "iopub.execute_input": "2020-10-24T13:05:39.736615Z",
          "iopub.status.busy": "2020-10-24T13:05:39.675673Z",
          "iopub.status.idle": "2020-10-24T13:05:40.266517Z",
          "shell.execute_reply": "2020-10-24T13:05:40.265627Z"
        },
        "papermill": {
          "duration": 0.886129,
          "end_time": "2020-10-24T13:05:40.266664",
          "exception": false,
          "start_time": "2020-10-24T13:05:39.380535",
          "status": "completed"
        },
        "tags": [],
        "id": "NLjIhEQPQTVA"
      },
      "source": [
        "train_y = np.empty((0, 5))\n",
        "for index, row in train_data.iterrows():\n",
        "  y = np.zeros((1, 5))\n",
        "  for label in row['Labels Set'].split(','):\n",
        "    y[0, labels_mapping[label]] = 1\n",
        "\n",
        "  train_y = np.vstack((train_y, y))\n",
        "\n",
        "\n",
        "val_y = np.empty((0, 5))\n",
        "for index, row in val_data.iterrows():\n",
        "  y = np.zeros((1, 5))\n",
        "  for label in row['Labels Set'].split(','):\n",
        "    y[0, labels_mapping[label]] = 1\n",
        "\n",
        "  val_y = np.vstack((val_y, y))\n",
        "\n",
        "\n"
      ],
      "execution_count": null,
      "outputs": []
    },
    {
      "cell_type": "code",
      "metadata": {
        "execution": {
          "iopub.execute_input": "2020-10-24T13:05:40.472045Z",
          "iopub.status.busy": "2020-10-24T13:05:40.471271Z",
          "iopub.status.idle": "2020-10-24T13:05:40.476100Z",
          "shell.execute_reply": "2020-10-24T13:05:40.476750Z"
        },
        "papermill": {
          "duration": 0.107902,
          "end_time": "2020-10-24T13:05:40.476906",
          "exception": false,
          "start_time": "2020-10-24T13:05:40.369004",
          "status": "completed"
        },
        "tags": [],
        "id": "VQoF3sezQTVD",
        "outputId": "ab703ec3-c168-4ee1-8dbf-51457977301f",
        "colab": {
          "base_uri": "https://localhost:8080/",
          "height": 52
        }
      },
      "source": [
        "print(train_y.shape)\n",
        "print(val_y.shape)"
      ],
      "execution_count": null,
      "outputs": [
        {
          "output_type": "stream",
          "text": [
            "(5727, 5)\n",
            "(811, 5)\n"
          ],
          "name": "stdout"
        }
      ]
    },
    {
      "cell_type": "code",
      "metadata": {
        "execution": {
          "iopub.execute_input": "2020-10-24T13:05:42.539438Z",
          "iopub.status.busy": "2020-10-24T13:05:42.538539Z",
          "iopub.status.idle": "2020-10-24T13:05:42.541183Z",
          "shell.execute_reply": "2020-10-24T13:05:42.541701Z"
        },
        "papermill": {
          "duration": 0.114525,
          "end_time": "2020-10-24T13:05:42.541848",
          "exception": false,
          "start_time": "2020-10-24T13:05:42.427323",
          "status": "completed"
        },
        "tags": [],
        "id": "uxAKJfHAQTVR"
      },
      "source": [
        "def evaluation(y_true, y_pred):\n",
        "  print(\"Fine Grained Accuracy = {}\".format(accuracy_score(y_true, y_pred)))\n",
        "  print(\"\\n\\nFine Grained Metrics\\n\")\n",
        "  print(classification_report(y_true, y_pred))\n",
        "\n",
        "  # y_true_coarse = np.zeros((y_true.shape[0], 2))\n",
        "  # y_pred_coarse = np.zeros((y_true.shape[0], 2))\n",
        "\n",
        "  # y_true_coarse_1 = y_true[:,3] \n",
        "  # y_true_coarse_0 = 1 - y_true_coarse[:,1]\n",
        "  # y_true_coarse = np.hstack((y_true_coarse_0, y_true_coarse_1))\n",
        "  \n",
        "  # y_pred_coarse_1 = y_pred[:,3]\n",
        "  # y_pred_coarse_0 = 1- y_pred_coarse[:,1]\n",
        "  # y_pred_coarse = np.hstack((y_pred_coarse_0, y_pred_coarse_1))\n",
        "\n",
        "  # print(\"Coarse Grained Accuracy = {}\".format(accuracy_score(y_true_coarse, y_pred_coarse)))\n",
        "  # print(\"\\n\\nCoarse Grained Metrics\\n\")\n",
        "  # print(classification_report(y_true_coarse, y_pred_coarse))\n",
        "\n"
      ],
      "execution_count": null,
      "outputs": []
    },
    {
      "cell_type": "markdown",
      "metadata": {
        "papermill": {
          "duration": 0.10583,
          "end_time": "2020-10-24T13:05:43.234709",
          "exception": false,
          "start_time": "2020-10-24T13:05:43.128879",
          "status": "completed"
        },
        "tags": [],
        "id": "fXQIpIlAQTVY"
      },
      "source": [
        "## Indic Bert"
      ]
    },
    {
      "cell_type": "code",
      "metadata": {
        "id": "cM4tb_IkQTVY"
      },
      "source": [
        ""
      ],
      "execution_count": null,
      "outputs": []
    },
    {
      "cell_type": "code",
      "metadata": {
        "execution": {
          "iopub.execute_input": "2020-10-24T13:05:52.205673Z",
          "iopub.status.busy": "2020-10-24T13:05:52.204731Z",
          "iopub.status.idle": "2020-10-24T13:05:52.206604Z",
          "shell.execute_reply": "2020-10-24T13:05:52.207319Z"
        },
        "papermill": {
          "duration": 0.120626,
          "end_time": "2020-10-24T13:05:52.207500",
          "exception": false,
          "start_time": "2020-10-24T13:05:52.086874",
          "status": "completed"
        },
        "tags": [],
        "id": "0QaLxcRtQTVc"
      },
      "source": [
        "MODEL_NAME = 'ai4bharat/indic-bert' # Class 1 F1 score 0.5\n",
        "# MODEL_NAME = 'meghanabhange/Hinglish-Bert' # Class 1 F1 score 0.47\n"
      ],
      "execution_count": null,
      "outputs": []
    },
    {
      "cell_type": "code",
      "metadata": {
        "execution": {
          "iopub.execute_input": "2020-10-24T13:05:53.004672Z",
          "iopub.status.busy": "2020-10-24T13:05:53.003944Z",
          "iopub.status.idle": "2020-10-24T13:07:18.152910Z",
          "shell.execute_reply": "2020-10-24T13:07:18.151900Z"
        },
        "papermill": {
          "duration": 85.621348,
          "end_time": "2020-10-24T13:07:18.153045",
          "exception": false,
          "start_time": "2020-10-24T13:05:52.531697",
          "status": "completed"
        },
        "tags": [],
        "id": "NPHdlMbnQTVf",
        "outputId": "ed7dc517-ff6e-43d5-bf7f-8198b25eeb6d",
        "colab": {
          "base_uri": "https://localhost:8080/",
          "height": 801
        }
      },
      "source": [
        "# Use a GPU if you have one available (Runtime -> Change runtime type -> GPU)\n",
        "device = torch.device(\"cuda\" if torch.cuda.is_available() else \"cpu\")\n",
        "\n",
        "# Set seeds for reproducibility\n",
        "random.seed(26)\n",
        "np.random.seed(26)\n",
        "torch.manual_seed(26)\n",
        "# tokenizer = AutoTokenizer.from_pretrained(MODEL_NAME) \n",
        "\n",
        "model = AutoModelForSequenceClassification.from_pretrained(MODEL_NAME)\n",
        "model.to(device) # Send the model to the GPU if we have one\n",
        "\n",
        "# learning_rate = 1e-5\n",
        "# optimizer = AdamW(model.parameters(), lr=learning_rate, eps=1e-8)\n",
        "\n"
      ],
      "execution_count": null,
      "outputs": [
        {
          "output_type": "stream",
          "text": [
            "Some weights of the model checkpoint at ai4bharat/indic-bert were not used when initializing AlbertForSequenceClassification: ['predictions.bias', 'predictions.LayerNorm.weight', 'predictions.LayerNorm.bias', 'predictions.dense.weight', 'predictions.dense.bias', 'predictions.decoder.weight', 'predictions.decoder.bias', 'sop_classifier.classifier.weight', 'sop_classifier.classifier.bias']\n",
            "- This IS expected if you are initializing AlbertForSequenceClassification from the checkpoint of a model trained on another task or with another architecture (e.g. initializing a BertForSequenceClassification model from a BertForPretraining model).\n",
            "- This IS NOT expected if you are initializing AlbertForSequenceClassification from the checkpoint of a model that you expect to be exactly identical (initializing a BertForSequenceClassification model from a BertForSequenceClassification model).\n",
            "Some weights of AlbertForSequenceClassification were not initialized from the model checkpoint at ai4bharat/indic-bert and are newly initialized: ['classifier.weight', 'classifier.bias']\n",
            "You should probably TRAIN this model on a down-stream task to be able to use it for predictions and inference.\n"
          ],
          "name": "stderr"
        },
        {
          "output_type": "execute_result",
          "data": {
            "text/plain": [
              "AlbertForSequenceClassification(\n",
              "  (albert): AlbertModel(\n",
              "    (embeddings): AlbertEmbeddings(\n",
              "      (word_embeddings): Embedding(200000, 128, padding_idx=0)\n",
              "      (position_embeddings): Embedding(512, 128)\n",
              "      (token_type_embeddings): Embedding(2, 128)\n",
              "      (LayerNorm): LayerNorm((128,), eps=1e-12, elementwise_affine=True)\n",
              "      (dropout): Dropout(p=0, inplace=False)\n",
              "    )\n",
              "    (encoder): AlbertTransformer(\n",
              "      (embedding_hidden_mapping_in): Linear(in_features=128, out_features=768, bias=True)\n",
              "      (albert_layer_groups): ModuleList(\n",
              "        (0): AlbertLayerGroup(\n",
              "          (albert_layers): ModuleList(\n",
              "            (0): AlbertLayer(\n",
              "              (full_layer_layer_norm): LayerNorm((768,), eps=1e-12, elementwise_affine=True)\n",
              "              (attention): AlbertAttention(\n",
              "                (query): Linear(in_features=768, out_features=768, bias=True)\n",
              "                (key): Linear(in_features=768, out_features=768, bias=True)\n",
              "                (value): Linear(in_features=768, out_features=768, bias=True)\n",
              "                (attention_dropout): Dropout(p=0, inplace=False)\n",
              "                (output_dropout): Dropout(p=0, inplace=False)\n",
              "                (dense): Linear(in_features=768, out_features=768, bias=True)\n",
              "                (LayerNorm): LayerNorm((768,), eps=1e-12, elementwise_affine=True)\n",
              "              )\n",
              "              (ffn): Linear(in_features=768, out_features=3072, bias=True)\n",
              "              (ffn_output): Linear(in_features=3072, out_features=768, bias=True)\n",
              "              (dropout): Dropout(p=0, inplace=False)\n",
              "            )\n",
              "          )\n",
              "        )\n",
              "      )\n",
              "    )\n",
              "    (pooler): Linear(in_features=768, out_features=768, bias=True)\n",
              "    (pooler_activation): Tanh()\n",
              "  )\n",
              "  (dropout): Dropout(p=0.1, inplace=False)\n",
              "  (classifier): Linear(in_features=768, out_features=2, bias=True)\n",
              ")"
            ]
          },
          "metadata": {
            "tags": []
          },
          "execution_count": 128
        }
      ]
    },
    {
      "cell_type": "code",
      "metadata": {
        "execution": {
          "iopub.execute_input": "2020-10-24T13:07:18.606079Z",
          "iopub.status.busy": "2020-10-24T13:07:18.604207Z",
          "iopub.status.idle": "2020-10-24T13:07:18.606788Z",
          "shell.execute_reply": "2020-10-24T13:07:18.607259Z"
        },
        "papermill": {
          "duration": 0.116714,
          "end_time": "2020-10-24T13:07:18.607375",
          "exception": false,
          "start_time": "2020-10-24T13:07:18.490661",
          "status": "completed"
        },
        "tags": [],
        "id": "XGgTcK2LQTVl"
      },
      "source": [
        "# tokenizer = BertTokenizer.from_pretrained(MODEL_NAME)#, do_lower_case=True)\n",
        "# model = BertForSequenceClassification.from_pretrained(\n",
        "#     MODEL_NAME, # Use the 12-layer BERT model, with an uncased vocab.\n",
        "#     num_labels = 2, # The number of output labels--2 for binary classification.\n",
        "#                     # You can increase this for multi-class tasks.   \n",
        "#     output_attentions = False, # Whether the model returns attentions weights.\n",
        "#     output_hidden_states = False, # Whether the model returns all hidden-states.\n",
        "# )\n",
        "# # model.cuda()"
      ],
      "execution_count": null,
      "outputs": []
    },
    {
      "cell_type": "code",
      "metadata": {
        "execution": {
          "iopub.execute_input": "2020-10-24T13:07:18.834700Z",
          "iopub.status.busy": "2020-10-24T13:07:18.832681Z",
          "iopub.status.idle": "2020-10-24T13:07:18.835409Z",
          "shell.execute_reply": "2020-10-24T13:07:18.835928Z"
        },
        "papermill": {
          "duration": 0.119011,
          "end_time": "2020-10-24T13:07:18.836051",
          "exception": false,
          "start_time": "2020-10-24T13:07:18.717040",
          "status": "completed"
        },
        "tags": [],
        "id": "6T1K01LCQTVn"
      },
      "source": [
        "optimizer = AdamW(model.parameters(),\n",
        "                  lr = 2e-5, # args.learning_rate - default is 5e-5, our notebook had 2e-5\n",
        "                  eps = 1e-8 # args.adam_epsilon  - default is 1e-8.\n",
        "                )"
      ],
      "execution_count": null,
      "outputs": []
    },
    {
      "cell_type": "code",
      "metadata": {
        "execution": {
          "iopub.execute_input": "2020-10-24T13:07:19.063121Z",
          "iopub.status.busy": "2020-10-24T13:07:19.062239Z",
          "iopub.status.idle": "2020-10-24T13:07:19.064536Z",
          "shell.execute_reply": "2020-10-24T13:07:19.065031Z"
        },
        "papermill": {
          "duration": 0.119064,
          "end_time": "2020-10-24T13:07:19.065162",
          "exception": false,
          "start_time": "2020-10-24T13:07:18.946098",
          "status": "completed"
        },
        "tags": [],
        "id": "qMt_1uzZQTVq"
      },
      "source": [
        "batch_size = 32\n",
        "max_length = 256"
      ],
      "execution_count": null,
      "outputs": []
    },
    {
      "cell_type": "code",
      "metadata": {
        "papermill": {
          "duration": 0.112984,
          "end_time": "2020-10-24T13:07:19.746121",
          "exception": false,
          "start_time": "2020-10-24T13:07:19.633137",
          "status": "completed"
        },
        "tags": [],
        "id": "r0rpgDvEQTVv"
      },
      "source": [
        ""
      ],
      "execution_count": null,
      "outputs": []
    },
    {
      "cell_type": "markdown",
      "metadata": {
        "papermill": {
          "duration": 0.109274,
          "end_time": "2020-10-24T13:07:21.313073",
          "exception": false,
          "start_time": "2020-10-24T13:07:21.203799",
          "status": "completed"
        },
        "tags": [],
        "id": "1TP0D52uQTV9"
      },
      "source": [
        "### Train data loading"
      ]
    },
    {
      "cell_type": "code",
      "metadata": {
        "execution": {
          "iopub.execute_input": "2020-10-24T13:07:21.542057Z",
          "iopub.status.busy": "2020-10-24T13:07:21.541061Z",
          "iopub.status.idle": "2020-10-24T13:07:21.550470Z",
          "shell.execute_reply": "2020-10-24T13:07:21.549945Z"
        },
        "papermill": {
          "duration": 0.126837,
          "end_time": "2020-10-24T13:07:21.550570",
          "exception": false,
          "start_time": "2020-10-24T13:07:21.423733",
          "status": "completed"
        },
        "tags": [],
        "id": "N1G2mMGkQTV9"
      },
      "source": [
        "def X_process(sentences):\n",
        "    input_ids = []\n",
        "    attention_masks = []\n",
        "\n",
        "    # For every sentence...\n",
        "    for sent in sentences:\n",
        "        # `encode_plus` will:\n",
        "        #   (1) Tokenize the sentence.\n",
        "        #   (2) Prepend the `[CLS]` token to the start.\n",
        "        #   (3) Append the `[SEP]` token to the end.\n",
        "        #   (4) Map tokens to their IDs.\n",
        "        #   (5) Pad or truncate the sentence to `max_length`\n",
        "        #   (6) Create attention masks for [PAD] tokens.\n",
        "        encoded_dict = tokenizer.encode_plus(\n",
        "                            sent,                      # Sentence to encode.\n",
        "                            add_special_tokens = True, # Add '[CLS]' and '[SEP]'\n",
        "                            max_length = max_length,           # Pad & truncate all sentences.\n",
        "                            pad_to_max_length = True,\n",
        "                            return_attention_mask = True,   # Construct attn. masks.\n",
        "                            return_tensors = 'pt',     # Return pytorch tensors.\n",
        "                       )\n",
        "\n",
        "        # Add the encoded sentence to the list.    \n",
        "        input_ids.append(encoded_dict['input_ids'])\n",
        "\n",
        "        # And its attention mask (simply differentiates padding from non-padding).\n",
        "        attention_masks.append(encoded_dict['attention_mask'])\n",
        "    return input_ids, attention_masks\n"
      ],
      "execution_count": null,
      "outputs": []
    },
    {
      "cell_type": "code",
      "metadata": {
        "execution": {
          "iopub.execute_input": "2020-10-24T13:07:21.778978Z",
          "iopub.status.busy": "2020-10-24T13:07:21.778168Z",
          "iopub.status.idle": "2020-10-24T13:07:21.781233Z",
          "shell.execute_reply": "2020-10-24T13:07:21.780728Z"
        },
        "papermill": {
          "duration": 0.12038,
          "end_time": "2020-10-24T13:07:21.781341",
          "exception": false,
          "start_time": "2020-10-24T13:07:21.660961",
          "status": "completed"
        },
        "tags": [],
        "id": "efQGT3JbQTV-"
      },
      "source": [
        "def train_load(input_ids, attention_masks, labels):\n",
        "    input_ids = torch.cat(input_ids, dim=0)\n",
        "    attention_masks = torch.cat(attention_masks, dim=0)\n",
        "    labels = torch.tensor(labels)\n",
        "\n",
        "    train_dataset = TensorDataset(input_ids, attention_masks, labels)\n",
        "    train_dataloader = DataLoader(\n",
        "                train_dataset,  # The training samples.\n",
        "                sampler = RandomSampler(train_dataset), # Select batches randomly\n",
        "                batch_size = batch_size # Trains with this batch size.\n",
        "            )\n",
        "    return train_dataloader"
      ],
      "execution_count": null,
      "outputs": []
    },
    {
      "cell_type": "code",
      "metadata": {
        "execution": {
          "iopub.execute_input": "2020-10-24T13:07:22.015784Z",
          "iopub.status.busy": "2020-10-24T13:07:22.014875Z",
          "iopub.status.idle": "2020-10-24T13:07:22.017852Z",
          "shell.execute_reply": "2020-10-24T13:07:22.017345Z"
        },
        "papermill": {
          "duration": 0.123928,
          "end_time": "2020-10-24T13:07:22.017957",
          "exception": false,
          "start_time": "2020-10-24T13:07:21.894029",
          "status": "completed"
        },
        "tags": [],
        "id": "WN2wi924QTWA"
      },
      "source": [
        "def val_load(input_ids, attention_masks, labels):\n",
        "    input_ids = torch.cat(input_ids, dim=0)\n",
        "    attention_masks = torch.cat(attention_masks, dim=0)\n",
        "    labels = torch.tensor(labels)\n",
        "\n",
        "    val_dataset = TensorDataset(input_ids, attention_masks, labels)\n",
        "    validation_dataloader = DataLoader(\n",
        "                val_dataset, # The validation samples.\n",
        "                sampler = SequentialSampler(val_dataset), # Pull out batches sequentially.\n",
        "                batch_size = batch_size # Evaluate with this batch size.\n",
        "            )\n",
        "    \n",
        "    return validation_dataloader"
      ],
      "execution_count": null,
      "outputs": []
    },
    {
      "cell_type": "code",
      "metadata": {
        "execution": {
          "iopub.execute_input": "2020-10-24T13:07:22.274207Z",
          "iopub.status.busy": "2020-10-24T13:07:22.273202Z",
          "iopub.status.idle": "2020-10-24T13:07:22.324026Z",
          "shell.execute_reply": "2020-10-24T13:07:22.323474Z"
        },
        "papermill": {
          "duration": 0.192632,
          "end_time": "2020-10-24T13:07:22.324145",
          "exception": false,
          "start_time": "2020-10-24T13:07:22.131513",
          "status": "completed"
        },
        "tags": [],
        "id": "ZMYWNI0TQTWC"
      },
      "source": [
        "def train_fn(train_dataloader, validation_dataloader):\n",
        "    \n",
        "    seed_val = 42\n",
        "\n",
        "    random.seed(seed_val)\n",
        "    np.random.seed(seed_val)\n",
        "    torch.manual_seed(seed_val)\n",
        "    torch.cuda.manual_seed_all(seed_val)\n",
        "\n",
        "    # We'll store a number of quantities such as training and validation loss, \n",
        "    # validation accuracy, and timings.\n",
        "    training_stats = []\n",
        "\n",
        "    # Measure the total training time for the whole run.\n",
        "    total_t0 = time.time()\n",
        "    # For each epoch...\n",
        "    for epoch_i in range(0, epochs):\n",
        "\n",
        "        # ========================================\n",
        "        #               Training\n",
        "        # ========================================\n",
        "\n",
        "        # Perform one full pass over the training set.\n",
        "\n",
        "        print(\"\")\n",
        "        print('======== Epoch {:} / {:} ========'.format(epoch_i + 1, epochs))\n",
        "        print('Training...')\n",
        "\n",
        "        # Measure how long the training epoch takes.\n",
        "        t0 = time.time()\n",
        "\n",
        "        # Reset the total loss for this epoch.\n",
        "        total_train_loss = 0\n",
        "\n",
        "        # Put the model into training mode. Don't be mislead--the call to \n",
        "        # `train` just changes the *mode*, it doesn't *perform* the training.\n",
        "        # `dropout` and `batchnorm` layers behave differently during training\n",
        "        # vs. test (source: https://stackoverflow.com/questions/51433378/what-does-model-train-do-in-pytorch)\n",
        "        model.train()\n",
        "\n",
        "        # For each batch of training data...\n",
        "        for step, batch in enumerate(train_dataloader):\n",
        "\n",
        "            # Progress update every 40 batches.\n",
        "            if step % 40 == 0 and not step == 0:\n",
        "                # Calculate elapsed time in minutes.\n",
        "                elapsed = format_time(time.time() - t0)\n",
        "\n",
        "                # Report progress.\n",
        "                print('  Batch {:>5,}  of  {:>5,}.    Elapsed: {:}.'.format(step, len(train_dataloader), elapsed))\n",
        "\n",
        "            # Unpack this training batch from our dataloader. \n",
        "            #\n",
        "            # As we unpack the batch, we'll also copy each tensor to the GPU using the \n",
        "            # `to` method.\n",
        "            #\n",
        "            # `batch` contains three pytorch tensors:\n",
        "            #   [0]: input ids \n",
        "            #   [1]: attention masks\n",
        "            #   [2]: labels \n",
        "            b_input_ids = batch[0].to(device)\n",
        "            b_input_mask = batch[1].to(device)\n",
        "            b_labels = batch[2].to(device)\n",
        "\n",
        "            # Always clear any previously calculated gradients before performing a\n",
        "            # backward pass. PyTorch doesn't do this automatically because \n",
        "            # accumulating the gradients is \"convenient while training RNNs\". \n",
        "            # (source: https://stackoverflow.com/questions/48001598/why-do-we-need-to-call-zero-grad-in-pytorch)\n",
        "            model.zero_grad()        \n",
        "\n",
        "            # Perform a forward pass (evaluate the model on this training batch).\n",
        "            # The documentation for this `model` function is here: \n",
        "            # https://huggingface.co/transformers/v2.2.0/model_doc/bert.html#transformers.BertForSequenceClassification\n",
        "            # It returns different numbers of parameters depending on what arguments\n",
        "            # arge given and what flags are set. For our useage here, it returns\n",
        "            # the loss (because we provided labels) and the \"logits\"--the model\n",
        "            # outputs prior to activation.\n",
        "            loss, logits = model(b_input_ids, \n",
        "                                 token_type_ids=None, \n",
        "                                 attention_mask=b_input_mask, \n",
        "                                 labels=b_labels)\n",
        "\n",
        "            # Accumulate the training loss over all of the batches so that we can\n",
        "            # calculate the average loss at the end. `loss` is a Tensor containing a\n",
        "            # single value; the `.item()` function just returns the Python value \n",
        "            # from the tensor.\n",
        "            total_train_loss += loss.item()\n",
        "\n",
        "            # Perform a backward pass to calculate the gradients.\n",
        "            loss.backward()\n",
        "\n",
        "            # Clip the norm of the gradients to 1.0.\n",
        "            # This is to help prevent the \"exploding gradients\" problem.\n",
        "            torch.nn.utils.clip_grad_norm_(model.parameters(), 1.0)\n",
        "\n",
        "            # Update parameters and take a step using the computed gradient.\n",
        "            # The optimizer dictates the \"update rule\"--how the parameters are\n",
        "            # modified based on their gradients, the learning rate, etc.\n",
        "            optimizer.step()\n",
        "\n",
        "            # Update the learning rate.\n",
        "            scheduler.step()\n",
        "\n",
        "        # Calculate the average loss over all of the batches.\n",
        "        avg_train_loss = total_train_loss / len(train_dataloader)            \n",
        "\n",
        "        # Measure how long this epoch took.\n",
        "        training_time = format_time(time.time() - t0)\n",
        "\n",
        "        print(\"\")\n",
        "        print(\"  Average training loss: {0:.2f}\".format(avg_train_loss))\n",
        "        print(\"  Training epcoh took: {:}\".format(training_time))\n",
        "\n",
        "        # ========================================\n",
        "        #               Validation\n",
        "        # ========================================\n",
        "        # After the completion of each training epoch, measure our performance on\n",
        "        # our validation set.\n",
        "\n",
        "        print(\"\")\n",
        "        print(\"Running Validation...\")\n",
        "\n",
        "        t0 = time.time()\n",
        "\n",
        "        # Put the model in evaluation mode--the dropout layers behave differently\n",
        "        # during evaluation.\n",
        "        model.eval()\n",
        "\n",
        "        # Tracking variables \n",
        "        total_eval_accuracy = 0\n",
        "        total_eval_loss = 0\n",
        "        nb_eval_steps = 0\n",
        "        \n",
        "        y_pred = []\n",
        "\n",
        "        # Evaluate data for one epoch\n",
        "        for batch in validation_dataloader:\n",
        "\n",
        "            # Unpack this training batch from our dataloader. \n",
        "            #\n",
        "            # As we unpack the batch, we'll also copy each tensor to the GPU using \n",
        "            # the `to` method.\n",
        "            #\n",
        "            # `batch` contains three pytorch tensors:\n",
        "            #   [0]: input ids \n",
        "            #   [1]: attention masks\n",
        "            #   [2]: labels \n",
        "            b_input_ids = batch[0].to(device)\n",
        "            b_input_mask = batch[1].to(device)\n",
        "            b_labels = batch[2].to(device)\n",
        "\n",
        "            # Tell pytorch not to bother with constructing the compute graph during\n",
        "            # the forward pass, since this is only needed for backprop (training).\n",
        "            with torch.no_grad():        \n",
        "\n",
        "                # Forward pass, calculate logit predictions.\n",
        "                # token_type_ids is the same as the \"segment ids\", which \n",
        "                # differentiates sentence 1 and 2 in 2-sentence tasks.\n",
        "                # The documentation for this `model` function is here: \n",
        "                # https://huggingface.co/transformers/v2.2.0/model_doc/bert.html#transformers.BertForSequenceClassification\n",
        "                # Get the \"logits\" output by the model. The \"logits\" are the output\n",
        "                # values prior to applying an activation function like the softmax.\n",
        "                (loss, logits) = model(b_input_ids, \n",
        "                                       token_type_ids=None, \n",
        "                                       attention_mask=b_input_mask,\n",
        "                                       labels=b_labels)\n",
        "\n",
        "            # Accumulate the validation loss.\n",
        "            total_eval_loss += loss.item()\n",
        "\n",
        "            # Move logits and labels to CPU\n",
        "            logits = logits.detach().cpu().numpy()\n",
        "            label_ids = b_labels.to('cpu').numpy()\n",
        "\n",
        "            # Calculate the accuracy for this batch of test sentences, and\n",
        "            # accumulate it over all batches.\n",
        "            total_eval_accuracy += flat_accuracy(logits, label_ids)\n",
        "            \n",
        "#             labels = label_ids\n",
        "            preds = logits\n",
        "            pred_flat = np.argmax(preds, axis=1).flatten()\n",
        "#             labels_flat = labels.flatten()\n",
        "#             y_true.extend(labels_flat)\n",
        "            y_pred.extend(pred_flat)\n",
        "\n",
        "\n",
        "        # Report the final accuracy for this validation run.\n",
        "        avg_val_accuracy = total_eval_accuracy / len(validation_dataloader)\n",
        "        print(\"  Accuracy: {0:.2f}\".format(avg_val_accuracy))\n",
        "\n",
        "        # Calculate the average loss over all of the batches.\n",
        "        avg_val_loss = total_eval_loss / len(validation_dataloader)\n",
        "\n",
        "        # Measure how long the validation run took.\n",
        "        validation_time = format_time(time.time() - t0)\n",
        "\n",
        "        print(\"  Validation Loss: {0:.2f}\".format(avg_val_loss))\n",
        "        print(\"  Validation took: {:}\".format(validation_time))\n",
        "\n",
        "        # Record all statistics from this epoch.\n",
        "        training_stats.append(\n",
        "            {\n",
        "                'epoch': epoch_i + 1,\n",
        "                'Training Loss': avg_train_loss,\n",
        "                'Valid. Loss': avg_val_loss,\n",
        "                'Valid. Accur.': avg_val_accuracy,\n",
        "                'Training Time': training_time,\n",
        "                'Validation Time': validation_time\n",
        "            }\n",
        "        )\n",
        "        print(training_stats)\n",
        "        \n",
        "    return training_stats, y_pred\n"
      ],
      "execution_count": null,
      "outputs": []
    },
    {
      "cell_type": "code",
      "metadata": {
        "execution": {
          "iopub.execute_input": "2020-10-24T13:07:22.793503Z",
          "iopub.status.busy": "2020-10-24T13:07:22.791639Z",
          "iopub.status.idle": "2020-10-24T13:07:22.794220Z",
          "shell.execute_reply": "2020-10-24T13:07:22.794722Z"
        },
        "papermill": {
          "duration": 0.123739,
          "end_time": "2020-10-24T13:07:22.794844",
          "exception": false,
          "start_time": "2020-10-24T13:07:22.671105",
          "status": "completed"
        },
        "tags": [],
        "id": "bh4irEyHQTWF"
      },
      "source": [
        "def stats(training_stats):\n",
        "    pd.set_option('precision', 2)\n",
        "\n",
        "    # Create a DataFrame from our training statistics.\n",
        "    df_stats = pd.DataFrame(data=training_stats)\n",
        "\n",
        "    # Use the 'epoch' as the row index.\n",
        "    df_stats = df_stats.set_index('epoch')\n",
        "\n",
        "    # A hack to force the column headers to wrap.\n",
        "    #df = df.style.set_table_styles([dict(selector=\"th\",props=[('max-width', '70px')])])\n",
        "\n",
        "    # Display the table.\n",
        "    return df_stats\n"
      ],
      "execution_count": null,
      "outputs": []
    },
    {
      "cell_type": "code",
      "metadata": {
        "execution": {
          "iopub.execute_input": "2020-10-24T13:07:23.038829Z",
          "iopub.status.busy": "2020-10-24T13:07:23.038037Z",
          "iopub.status.idle": "2020-10-24T13:07:23.041689Z",
          "shell.execute_reply": "2020-10-24T13:07:23.041100Z"
        },
        "papermill": {
          "duration": 0.131062,
          "end_time": "2020-10-24T13:07:23.041812",
          "exception": false,
          "start_time": "2020-10-24T13:07:22.910750",
          "status": "completed"
        },
        "tags": [],
        "id": "14UVjJ3uQTWH"
      },
      "source": [
        "def plot_stats(df_stats):\n",
        "    sns.set(style='darkgrid')\n",
        "\n",
        "# Increase the plot size and font size.\n",
        "    sns.set(font_scale=1.5)\n",
        "    plt.rcParams[\"figure.figsize\"] = (12,6)\n",
        "\n",
        "    # Plot the learning curve.\n",
        "    plt.plot(df_stats['Training Loss'], 'b-o', label=\"Training\")\n",
        "    plt.plot(df_stats['Valid. Loss'], 'g-o', label=\"Validation\")\n",
        "\n",
        "    # Label the plot.\n",
        "    plt.title(\"Training & Validation Loss\")\n",
        "    plt.xlabel(\"Epoch\")\n",
        "    plt.ylabel(\"Loss\")\n",
        "    plt.legend()\n",
        "    plt.xticks([1, 2, 3, 4])\n",
        "\n",
        "    plt.show()\n"
      ],
      "execution_count": null,
      "outputs": []
    },
    {
      "cell_type": "code",
      "metadata": {
        "execution": {
          "iopub.execute_input": "2020-10-24T13:07:25.189211Z",
          "iopub.status.busy": "2020-10-24T13:07:25.188342Z",
          "iopub.status.idle": "2020-10-24T13:07:25.192458Z",
          "shell.execute_reply": "2020-10-24T13:07:25.191962Z"
        },
        "papermill": {
          "duration": 0.12606,
          "end_time": "2020-10-24T13:07:25.192562",
          "exception": false,
          "start_time": "2020-10-24T13:07:25.066502",
          "status": "completed"
        },
        "tags": [],
        "id": "KJ3Xx986QTWe"
      },
      "source": [
        "y_train_hate = train_y[:,2].astype(int)\n",
        "y_val_hate = val_y[:,2].astype(int)"
      ],
      "execution_count": null,
      "outputs": []
    },
    {
      "cell_type": "code",
      "metadata": {
        "execution": {
          "iopub.execute_input": "2020-10-24T13:07:25.421205Z",
          "iopub.status.busy": "2020-10-24T13:07:25.420422Z",
          "iopub.status.idle": "2020-10-24T13:07:25.423004Z",
          "shell.execute_reply": "2020-10-24T13:07:25.423435Z"
        },
        "papermill": {
          "duration": 0.119883,
          "end_time": "2020-10-24T13:07:25.423554",
          "exception": false,
          "start_time": "2020-10-24T13:07:25.303671",
          "status": "completed"
        },
        "tags": [],
        "id": "BHVvCp2MQTWg"
      },
      "source": [
        "# train_sentences = train_data['Filtered_Post'].values\n",
        "# val_sentences = val_data['Filtered_Post'].values\n",
        "\n",
        "\n",
        "train_sentences = train_data['Post'].values\n",
        "val_sentences = val_data['Post'].values"
      ],
      "execution_count": null,
      "outputs": []
    },
    {
      "cell_type": "code",
      "metadata": {
        "id": "Zby9f8S2JF-u"
      },
      "source": [
        "import numpy as np\n",
        "\n",
        "# Function to calculate the accuracy of our predictions vs labels\n",
        "def flat_accuracy(preds, labels):\n",
        "    pred_flat = np.argmax(preds, axis=1).flatten()\n",
        "    labels_flat = labels.flatten()\n",
        "    return np.sum(pred_flat == labels_flat) / len(labels_flat)\n"
      ],
      "execution_count": null,
      "outputs": []
    },
    {
      "cell_type": "code",
      "metadata": {
        "id": "k5CWewk7JEkJ"
      },
      "source": [
        "import time\n",
        "import datetime\n",
        "\n",
        "def format_time(elapsed):\n",
        "    '''\n",
        "    Takes a time in seconds and returns a string hh:mm:ss\n",
        "    '''\n",
        "    # Round to the nearest second.\n",
        "    elapsed_rounded = int(round((elapsed)))\n",
        "    \n",
        "    # Format as hh:mm:ss\n",
        "    return str(datetime.timedelta(seconds=elapsed_rounded))\n"
      ],
      "execution_count": null,
      "outputs": []
    },
    {
      "cell_type": "markdown",
      "metadata": {
        "papermill": {
          "duration": 0.136002,
          "end_time": "2020-10-24T13:27:21.430006",
          "exception": false,
          "start_time": "2020-10-24T13:27:21.294004",
          "status": "completed"
        },
        "tags": [],
        "id": "iypbz5mmQTWi"
      },
      "source": [
        "### Hate"
      ]
    },
    {
      "cell_type": "code",
      "metadata": {
        "execution": {
          "iopub.execute_input": "2020-10-24T13:27:21.723750Z",
          "iopub.status.busy": "2020-10-24T13:27:21.722800Z",
          "iopub.status.idle": "2020-10-24T13:27:21.725329Z",
          "shell.execute_reply": "2020-10-24T13:27:21.725838Z"
        },
        "papermill": {
          "duration": 0.153071,
          "end_time": "2020-10-24T13:27:21.725966",
          "exception": false,
          "start_time": "2020-10-24T13:27:21.572895",
          "status": "completed"
        },
        "tags": [],
        "id": "dW4SrWqOQTWi"
      },
      "source": [
        "train_labels_hate = y_train_hate\n",
        "val_labels_hate = y_val_hate"
      ],
      "execution_count": null,
      "outputs": []
    },
    {
      "cell_type": "code",
      "metadata": {
        "execution": {
          "iopub.execute_input": "2020-10-24T13:27:22.322368Z",
          "iopub.status.busy": "2020-10-24T13:27:22.316074Z",
          "iopub.status.idle": "2020-10-24T13:27:30.539404Z",
          "shell.execute_reply": "2020-10-24T13:27:30.538326Z"
        },
        "papermill": {
          "duration": 8.396363,
          "end_time": "2020-10-24T13:27:30.539545",
          "exception": false,
          "start_time": "2020-10-24T13:27:22.143182",
          "status": "completed"
        },
        "tags": [],
        "id": "rmLwmGj7QTWl",
        "outputId": "41c27422-f262-4476-b8a2-d11cdb814ad3",
        "colab": {
          "base_uri": "https://localhost:8080/",
          "height": 72
        }
      },
      "source": [
        "input_ids, attention_masks = X_process(train_sentences)\n",
        "train_dataloader = train_load(input_ids, attention_masks, train_labels_hate)\n",
        "\n",
        "input_ids, attention_masks = X_process(val_sentences)\n",
        "validation_dataloader = val_load(input_ids, attention_masks, val_labels_hate)"
      ],
      "execution_count": null,
      "outputs": [
        {
          "output_type": "stream",
          "text": [
            "/usr/local/lib/python3.6/dist-packages/transformers/tokenization_utils_base.py:1944: FutureWarning: The `pad_to_max_length` argument is deprecated and will be removed in a future version, use `padding=True` or `padding='longest'` to pad to the longest sequence in the batch, or use `padding='max_length'` to pad to a max length. In this case, you can give a specific length with `max_length` (e.g. `max_length=45`) or leave max_length to None to pad to the maximal input size of the model (e.g. 512 for Bert).\n",
            "  FutureWarning,\n"
          ],
          "name": "stderr"
        }
      ]
    },
    {
      "cell_type": "code",
      "metadata": {
        "execution": {
          "iopub.execute_input": "2020-10-24T13:27:30.824735Z",
          "iopub.status.busy": "2020-10-24T13:27:30.823836Z",
          "iopub.status.idle": "2020-10-24T13:27:30.826662Z",
          "shell.execute_reply": "2020-10-24T13:27:30.826182Z"
        },
        "papermill": {
          "duration": 0.145917,
          "end_time": "2020-10-24T13:27:30.826775",
          "exception": false,
          "start_time": "2020-10-24T13:27:30.680858",
          "status": "completed"
        },
        "tags": [],
        "id": "X9sWr001QTWm"
      },
      "source": [
        "from transformers import get_linear_schedule_with_warmup\n",
        "\n",
        "# Number of training epochs. The BERT authors recommend between 2 and 4. \n",
        "# We chose to run for 4, but we'll see later that this may be over-fitting the\n",
        "# training data.\n",
        "epochs = 4\n",
        "\n",
        "# Total number of training steps is [number of batches] x [number of epochs]. \n",
        "# (Note that this is not the same as the number of training samples).\n",
        "total_steps = len(train_dataloader) * epochs\n",
        "\n",
        "# Create the learning rate scheduler.\n",
        "scheduler = get_linear_schedule_with_warmup(optimizer, \n",
        "                                            num_warmup_steps = 0, # Default value in run_glue.py\n",
        "                                            num_training_steps = total_steps)\n"
      ],
      "execution_count": null,
      "outputs": []
    },
    {
      "cell_type": "code",
      "metadata": {
        "execution": {
          "iopub.execute_input": "2020-10-24T13:27:31.107168Z",
          "iopub.status.busy": "2020-10-24T13:27:31.106253Z",
          "iopub.status.idle": "2020-10-24T13:37:18.844712Z",
          "shell.execute_reply": "2020-10-24T13:37:18.845381Z"
        },
        "papermill": {
          "duration": 587.882804,
          "end_time": "2020-10-24T13:37:18.845541",
          "exception": false,
          "start_time": "2020-10-24T13:27:30.962737",
          "status": "completed"
        },
        "tags": [],
        "id": "3XSLnbhyQTWo",
        "outputId": "2cac810d-aedd-424f-e552-d12d12347d73",
        "colab": {
          "base_uri": "https://localhost:8080/",
          "height": 1000
        }
      },
      "source": [
        "training_stats, y_pred_hate = train_fn(train_dataloader, validation_dataloader)"
      ],
      "execution_count": null,
      "outputs": [
        {
          "output_type": "stream",
          "text": [
            "\n",
            "======== Epoch 1 / 4 ========\n",
            "Training...\n",
            "  Batch    40  of    179.    Elapsed: 0:00:29.\n",
            "  Batch    80  of    179.    Elapsed: 0:00:58.\n",
            "  Batch   120  of    179.    Elapsed: 0:01:27.\n",
            "  Batch   160  of    179.    Elapsed: 0:01:56.\n",
            "\n",
            "  Average training loss: 0.36\n",
            "  Training epcoh took: 0:02:10\n",
            "\n",
            "Running Validation...\n",
            "  Accuracy: 0.86\n",
            "  Validation Loss: 0.32\n",
            "  Validation took: 0:00:06\n",
            "[{'epoch': 1, 'Training Loss': 0.3597989655906262, 'Valid. Loss': 0.32043451300034154, 'Valid. Accur.': 0.8594842657342657, 'Training Time': '0:02:10', 'Validation Time': '0:00:06'}]\n",
            "\n",
            "======== Epoch 2 / 4 ========\n",
            "Training...\n",
            "  Batch    40  of    179.    Elapsed: 0:00:29.\n",
            "  Batch    80  of    179.    Elapsed: 0:00:58.\n",
            "  Batch   120  of    179.    Elapsed: 0:01:27.\n",
            "  Batch   160  of    179.    Elapsed: 0:01:56.\n",
            "\n",
            "  Average training loss: 0.27\n",
            "  Training epcoh took: 0:02:10\n",
            "\n",
            "Running Validation...\n",
            "  Accuracy: 0.87\n",
            "  Validation Loss: 0.27\n",
            "  Validation took: 0:00:06\n",
            "[{'epoch': 1, 'Training Loss': 0.3597989655906262, 'Valid. Loss': 0.32043451300034154, 'Valid. Accur.': 0.8594842657342657, 'Training Time': '0:02:10', 'Validation Time': '0:00:06'}, {'epoch': 2, 'Training Loss': 0.27192951892840794, 'Valid. Loss': 0.26646538136097103, 'Valid. Accur.': 0.8665865384615384, 'Training Time': '0:02:10', 'Validation Time': '0:00:06'}]\n",
            "\n",
            "======== Epoch 3 / 4 ========\n",
            "Training...\n",
            "  Batch    40  of    179.    Elapsed: 0:00:29.\n",
            "  Batch    80  of    179.    Elapsed: 0:00:58.\n",
            "  Batch   120  of    179.    Elapsed: 0:01:27.\n",
            "  Batch   160  of    179.    Elapsed: 0:01:56.\n",
            "\n",
            "  Average training loss: 0.22\n",
            "  Training epcoh took: 0:02:10\n",
            "\n",
            "Running Validation...\n",
            "  Accuracy: 0.87\n",
            "  Validation Loss: 0.27\n",
            "  Validation took: 0:00:06\n",
            "[{'epoch': 1, 'Training Loss': 0.3597989655906262, 'Valid. Loss': 0.32043451300034154, 'Valid. Accur.': 0.8594842657342657, 'Training Time': '0:02:10', 'Validation Time': '0:00:06'}, {'epoch': 2, 'Training Loss': 0.27192951892840794, 'Valid. Loss': 0.26646538136097103, 'Valid. Accur.': 0.8665865384615384, 'Training Time': '0:02:10', 'Validation Time': '0:00:06'}, {'epoch': 3, 'Training Loss': 0.2228181267667083, 'Valid. Loss': 0.2700199900338283, 'Valid. Accur.': 0.8701923076923077, 'Training Time': '0:02:10', 'Validation Time': '0:00:06'}]\n",
            "\n",
            "======== Epoch 4 / 4 ========\n",
            "Training...\n",
            "  Batch    40  of    179.    Elapsed: 0:00:29.\n",
            "  Batch    80  of    179.    Elapsed: 0:00:58.\n",
            "  Batch   120  of    179.    Elapsed: 0:01:27.\n",
            "  Batch   160  of    179.    Elapsed: 0:01:56.\n",
            "\n",
            "  Average training loss: 0.17\n",
            "  Training epcoh took: 0:02:10\n",
            "\n",
            "Running Validation...\n",
            "  Accuracy: 0.87\n",
            "  Validation Loss: 0.30\n",
            "  Validation took: 0:00:06\n",
            "[{'epoch': 1, 'Training Loss': 0.3597989655906262, 'Valid. Loss': 0.32043451300034154, 'Valid. Accur.': 0.8594842657342657, 'Training Time': '0:02:10', 'Validation Time': '0:00:06'}, {'epoch': 2, 'Training Loss': 0.27192951892840794, 'Valid. Loss': 0.26646538136097103, 'Valid. Accur.': 0.8665865384615384, 'Training Time': '0:02:10', 'Validation Time': '0:00:06'}, {'epoch': 3, 'Training Loss': 0.2228181267667083, 'Valid. Loss': 0.2700199900338283, 'Valid. Accur.': 0.8701923076923077, 'Training Time': '0:02:10', 'Validation Time': '0:00:06'}, {'epoch': 4, 'Training Loss': 0.16726418119444195, 'Valid. Loss': 0.2984483242034912, 'Valid. Accur.': 0.8689903846153846, 'Training Time': '0:02:10', 'Validation Time': '0:00:06'}]\n"
          ],
          "name": "stdout"
        }
      ]
    },
    {
      "cell_type": "code",
      "metadata": {
        "execution": {
          "iopub.execute_input": "2020-10-24T13:37:19.151439Z",
          "iopub.status.busy": "2020-10-24T13:37:19.150473Z",
          "iopub.status.idle": "2020-10-24T13:37:19.358768Z",
          "shell.execute_reply": "2020-10-24T13:37:19.359243Z"
        },
        "papermill": {
          "duration": 0.367204,
          "end_time": "2020-10-24T13:37:19.359368",
          "exception": false,
          "start_time": "2020-10-24T13:37:18.992164",
          "status": "completed"
        },
        "tags": [],
        "id": "I1Fydiw_QTWt",
        "outputId": "7def3ca1-ba32-4859-ebfd-46e2be3218ad",
        "colab": {
          "base_uri": "https://localhost:8080/",
          "height": 427
        }
      },
      "source": [
        "df_stats  = stats(training_stats)\n",
        "plot_stats(df_stats)"
      ],
      "execution_count": null,
      "outputs": [
        {
          "output_type": "display_data",
          "data": {
            "image/png": "[encoded data removed]",
            "text/plain": [
              "<Figure size 864x432 with 1 Axes>"
            ]
          },
          "metadata": {
            "tags": []
          }
        }
      ]
    },
    {
      "cell_type": "code",
      "metadata": {
        "execution": {
          "iopub.execute_input": "2020-10-24T13:37:19.679843Z",
          "iopub.status.busy": "2020-10-24T13:37:19.678735Z",
          "iopub.status.idle": "2020-10-24T13:37:19.684071Z",
          "shell.execute_reply": "2020-10-24T13:37:19.683457Z"
        },
        "papermill": {
          "duration": 0.166137,
          "end_time": "2020-10-24T13:37:19.684198",
          "exception": false,
          "start_time": "2020-10-24T13:37:19.518061",
          "status": "completed"
        },
        "tags": [],
        "id": "e39DiTAVQTWu",
        "outputId": "8d2d9a4e-deb7-4fbf-f690-a2a76581d867",
        "colab": {
          "base_uri": "https://localhost:8080/",
          "height": 206
        }
      },
      "source": [
        "df_stats"
      ],
      "execution_count": null,
      "outputs": [
        {
          "output_type": "execute_result",
          "data": {
            "text/html": [
              "<div>\n",
              "<style scoped>\n",
              "    .dataframe tbody tr th:only-of-type {\n",
              "        vertical-align: middle;\n",
              "    }\n",
              "\n",
              "    .dataframe tbody tr th {\n",
              "        vertical-align: top;\n",
              "    }\n",
              "\n",
              "    .dataframe thead th {\n",
              "        text-align: right;\n",
              "    }\n",
              "</style>\n",
              "<table border=\"1\" class=\"dataframe\">\n",
              "  <thead>\n",
              "    <tr style=\"text-align: right;\">\n",
              "      <th></th>\n",
              "      <th>Training Loss</th>\n",
              "      <th>Valid. Loss</th>\n",
              "      <th>Valid. Accur.</th>\n",
              "      <th>Training Time</th>\n",
              "      <th>Validation Time</th>\n",
              "    </tr>\n",
              "    <tr>\n",
              "      <th>epoch</th>\n",
              "      <th></th>\n",
              "      <th></th>\n",
              "      <th></th>\n",
              "      <th></th>\n",
              "      <th></th>\n",
              "    </tr>\n",
              "  </thead>\n",
              "  <tbody>\n",
              "    <tr>\n",
              "      <th>1</th>\n",
              "      <td>0.36</td>\n",
              "      <td>0.32</td>\n",
              "      <td>0.86</td>\n",
              "      <td>0:02:10</td>\n",
              "      <td>0:00:06</td>\n",
              "    </tr>\n",
              "    <tr>\n",
              "      <th>2</th>\n",
              "      <td>0.27</td>\n",
              "      <td>0.27</td>\n",
              "      <td>0.87</td>\n",
              "      <td>0:02:10</td>\n",
              "      <td>0:00:06</td>\n",
              "    </tr>\n",
              "    <tr>\n",
              "      <th>3</th>\n",
              "      <td>0.22</td>\n",
              "      <td>0.27</td>\n",
              "      <td>0.87</td>\n",
              "      <td>0:02:10</td>\n",
              "      <td>0:00:06</td>\n",
              "    </tr>\n",
              "    <tr>\n",
              "      <th>4</th>\n",
              "      <td>0.17</td>\n",
              "      <td>0.30</td>\n",
              "      <td>0.87</td>\n",
              "      <td>0:02:10</td>\n",
              "      <td>0:00:06</td>\n",
              "    </tr>\n",
              "  </tbody>\n",
              "</table>\n",
              "</div>"
            ],
            "text/plain": [
              "       Training Loss  Valid. Loss  Valid. Accur. Training Time Validation Time\n",
              "epoch                                                                         \n",
              "1               0.36         0.32           0.86       0:02:10         0:00:06\n",
              "2               0.27         0.27           0.87       0:02:10         0:00:06\n",
              "3               0.22         0.27           0.87       0:02:10         0:00:06\n",
              "4               0.17         0.30           0.87       0:02:10         0:00:06"
            ]
          },
          "metadata": {
            "tags": []
          },
          "execution_count": 147
        }
      ]
    },
    {
      "cell_type": "code",
      "metadata": {
        "execution": {
          "iopub.execute_input": "2020-10-24T13:37:20.054497Z",
          "iopub.status.busy": "2020-10-24T13:37:20.053772Z",
          "iopub.status.idle": "2020-10-24T13:37:20.067670Z",
          "shell.execute_reply": "2020-10-24T13:37:20.066906Z"
        },
        "papermill": {
          "duration": 0.200801,
          "end_time": "2020-10-24T13:37:20.067796",
          "exception": false,
          "start_time": "2020-10-24T13:37:19.866995",
          "status": "completed"
        },
        "tags": [],
        "id": "1MpFrv6IQTWv",
        "outputId": "b83eb6e7-f87d-43ef-b2aa-25fbd2554356",
        "colab": {
          "base_uri": "https://localhost:8080/",
          "height": 260
        }
      },
      "source": [
        "evaluation(y_val_hate, y_pred_hate)"
      ],
      "execution_count": null,
      "outputs": [
        {
          "output_type": "stream",
          "text": [
            "Fine Grained Accuracy = 0.8655980271270037\n",
            "\n",
            "\n",
            "Fine Grained Metrics\n",
            "\n",
            "              precision    recall  f1-score   support\n",
            "\n",
            "           0       0.92      0.93      0.92       701\n",
            "           1       0.51      0.45      0.48       110\n",
            "\n",
            "    accuracy                           0.87       811\n",
            "   macro avg       0.71      0.69      0.70       811\n",
            "weighted avg       0.86      0.87      0.86       811\n",
            "\n"
          ],
          "name": "stdout"
        }
      ]
    }
  ]
}