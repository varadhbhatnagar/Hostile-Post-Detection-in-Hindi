{
  "nbformat": 4,
  "nbformat_minor": 0,
  "metadata": {
    "colab": {
      "name": "EDA.ipynb",
      "provenance": [],
      "collapsed_sections": [],
      "toc_visible": true,
      "machine_shape": "hm"
    },
    "kernelspec": {
      "name": "python3",
      "display_name": "Python 3"
    },
    "accelerator": "GPU"
  },
  "cells": [
    {
      "cell_type": "markdown",
      "metadata": {
        "id": "EdHVQrqyDB50"
      },
      "source": [
        "# Memory Information"
      ]
    },
    {
      "cell_type": "code",
      "metadata": {
        "id": "E58HaeA6CsM9",
        "outputId": "c7005643-24c0-441f-cfaa-c2908706813e",
        "colab": {
          "base_uri": "https://localhost:8080/"
        }
      },
      "source": [
        "import psutil\n",
        "def get_size(bytes, suffix=\"B\"):\n",
        "    factor = 1024\n",
        "    for unit in [\"\", \"K\", \"M\", \"G\", \"T\", \"P\"]:\n",
        "        if bytes < factor:\n",
        "            return f\"{bytes:.2f}{unit}{suffix}\"\n",
        "        bytes /= factor\n",
        "print(\"=\"*40, \"Memory Information\", \"=\"*40)\n",
        "svmem = psutil.virtual_memory()\n",
        "print(f\"Total: {get_size(svmem.total)}\") ; print(f\"Available: {get_size(svmem.available)}\")\n",
        "print(f\"Used: {get_size(svmem.used)}\") ; print(f\"Percentage: {svmem.percent}%\")\n",
        "# keras-team /\n",
        "# keras-contrib "
      ],
      "execution_count": 1,
      "outputs": [
        {
          "output_type": "stream",
          "text": [
            "======================================== Memory Information ========================================\n",
            "Total: 25.51GB\n",
            "Available: 24.59GB\n",
            "Used: 624.52MB\n",
            "Percentage: 3.6%\n"
          ],
          "name": "stdout"
        }
      ]
    },
    {
      "cell_type": "markdown",
      "metadata": {
        "id": "FgVfBlvZDEja"
      },
      "source": [
        "# GPU Information"
      ]
    },
    {
      "cell_type": "code",
      "metadata": {
        "id": "rxlkxvkrCyin",
        "outputId": "88567512-cf5d-4149-f6ee-59680c060758",
        "colab": {
          "base_uri": "https://localhost:8080/"
        }
      },
      "source": [
        "! nvidia-smi"
      ],
      "execution_count": 2,
      "outputs": [
        {
          "output_type": "stream",
          "text": [
            "Fri Oct 30 05:54:26 2020       \n",
            "+-----------------------------------------------------------------------------+\n",
            "| NVIDIA-SMI 455.32.00    Driver Version: 418.67       CUDA Version: 10.1     |\n",
            "|-------------------------------+----------------------+----------------------+\n",
            "| GPU  Name        Persistence-M| Bus-Id        Disp.A | Volatile Uncorr. ECC |\n",
            "| Fan  Temp  Perf  Pwr:Usage/Cap|         Memory-Usage | GPU-Util  Compute M. |\n",
            "|                               |                      |               MIG M. |\n",
            "|===============================+======================+======================|\n",
            "|   0  Tesla P100-PCIE...  Off  | 00000000:00:04.0 Off |                    0 |\n",
            "| N/A   40C    P0    27W / 250W |      0MiB / 16280MiB |      0%      Default |\n",
            "|                               |                      |                 ERR! |\n",
            "+-------------------------------+----------------------+----------------------+\n",
            "                                                                               \n",
            "+-----------------------------------------------------------------------------+\n",
            "| Processes:                                                                  |\n",
            "|  GPU   GI   CI        PID   Type   Process name                  GPU Memory |\n",
            "|        ID   ID                                                   Usage      |\n",
            "|=============================================================================|\n",
            "|  No running processes found                                                 |\n",
            "+-----------------------------------------------------------------------------+\n"
          ],
          "name": "stdout"
        }
      ]
    },
    {
      "cell_type": "code",
      "metadata": {
        "id": "jvZUVkUlJl1j",
        "outputId": "e892abfb-1e81-49e5-a208-29d60e5dbab1",
        "colab": {
          "base_uri": "https://localhost:8080/"
        }
      },
      "source": [
        "!git clone https://github.com/anoopkunchukuttan/indic_nlp_resources.git\n",
        "!pip install indic-nlp-library\n",
        "import sys\n",
        "from indicnlp import common\n",
        "\n",
        "# The path to the local git repo for Indic NLP library\n",
        "INDIC_NLP_LIB_HOME=r\"indic_nlp_library\"\n",
        "\n",
        "# The path to the local git repo for Indic NLP Resources\n",
        "INDIC_NLP_RESOURCES=r\"indic_nlp_resources\"\n",
        "\n",
        "# Add library to Python path\n",
        "sys.path.append(r'{}\\src'.format(INDIC_NLP_LIB_HOME))\n",
        "\n",
        "# Set environment variable for resources folder\n",
        "common.set_resources_path(INDIC_NLP_RESOURCES)"
      ],
      "execution_count": 27,
      "outputs": [
        {
          "output_type": "stream",
          "text": [
            "Cloning into 'indic_nlp_resources'...\n",
            "remote: Enumerating objects: 7, done.\u001b[K\n",
            "remote: Counting objects: 100% (7/7), done.\u001b[K\n",
            "remote: Compressing objects: 100% (7/7), done.\u001b[K\n",
            "remote: Total 133 (delta 0), reused 2 (delta 0), pack-reused 126\u001b[K\n",
            "Receiving objects: 100% (133/133), 149.77 MiB | 40.50 MiB/s, done.\n",
            "Resolving deltas: 100% (51/51), done.\n",
            "Collecting indic-nlp-library\n",
            "  Downloading https://files.pythonhosted.org/packages/2f/51/f4e4542a226055b73a621ad442c16ae2c913d6b497283c99cae7a9661e6c/indic_nlp_library-0.71-py3-none-any.whl\n",
            "Requirement already satisfied: numpy in /usr/local/lib/python3.6/dist-packages (from indic-nlp-library) (1.18.5)\n",
            "Collecting morfessor\n",
            "  Downloading https://files.pythonhosted.org/packages/39/e6/7afea30be2ee4d29ce9de0fa53acbb033163615f849515c0b1956ad074ee/Morfessor-2.0.6-py3-none-any.whl\n",
            "Requirement already satisfied: pandas in /usr/local/lib/python3.6/dist-packages (from indic-nlp-library) (1.1.3)\n",
            "Requirement already satisfied: python-dateutil>=2.7.3 in /usr/local/lib/python3.6/dist-packages (from pandas->indic-nlp-library) (2.8.1)\n",
            "Requirement already satisfied: pytz>=2017.2 in /usr/local/lib/python3.6/dist-packages (from pandas->indic-nlp-library) (2018.9)\n",
            "Requirement already satisfied: six>=1.5 in /usr/local/lib/python3.6/dist-packages (from python-dateutil>=2.7.3->pandas->indic-nlp-library) (1.15.0)\n",
            "Installing collected packages: morfessor, indic-nlp-library\n",
            "Successfully installed indic-nlp-library-0.71 morfessor-2.0.6\n"
          ],
          "name": "stdout"
        }
      ]
    },
    {
      "cell_type": "code",
      "metadata": {
        "id": "jyDODoaWC6KI"
      },
      "source": [
        "import numpy as np\n",
        "import pandas as pd\n",
        "import csv\n",
        "import matplotlib.pyplot as plt\n",
        "from collections import defaultdict\n",
        "from indicnlp.tokenize import sentence_tokenize, indic_tokenize"
      ],
      "execution_count": 28,
      "outputs": []
    },
    {
      "cell_type": "code",
      "metadata": {
        "id": "u6GtuEeKEeVx"
      },
      "source": [
        "train_data = pd.read_csv('train.csv', header=0, index_col=0)"
      ],
      "execution_count": 4,
      "outputs": []
    },
    {
      "cell_type": "markdown",
      "metadata": {
        "id": "Ml7Q4K3xGFFS"
      },
      "source": [
        "##**Label Frequency in Training Data**"
      ]
    },
    {
      "cell_type": "code",
      "metadata": {
        "id": "DUHMaTpcEnkJ",
        "outputId": "557f7041-a332-4071-ecef-41c5fa392fd8",
        "colab": {
          "base_uri": "https://localhost:8080/",
          "height": 428
        }
      },
      "source": [
        "train_data['Labels Set'].value_counts().plot(kind = 'bar')"
      ],
      "execution_count": 23,
      "outputs": [
        {
          "output_type": "execute_result",
          "data": {
            "text/plain": [
              "<matplotlib.axes._subplots.AxesSubplot at 0x7fb88b2d68d0>"
            ]
          },
          "metadata": {
            "tags": []
          },
          "execution_count": 23
        },
        {
          "output_type": "display_data",
          "data": {
            "image/png": "[encoded data removed]",
            "text/plain": [
              "<Figure size 432x288 with 1 Axes>"
            ]
          },
          "metadata": {
            "tags": [],
            "needs_background": "light"
          }
        }
      ]
    },
    {
      "cell_type": "markdown",
      "metadata": {
        "id": "-aIbgSHTGrNs"
      },
      "source": [
        "##**K Most Frequent Words in Every Class**"
      ]
    },
    {
      "cell_type": "code",
      "metadata": {
        "id": "r8hQTMk2G0lv"
      },
      "source": [
        "import string\n",
        "\n",
        "hindi_stopwords = list(set(pd.read_csv('hindi_stopwords.csv', header=None)[0].tolist()))\n",
        "# Creating Frequency Dictionary\n",
        "\n",
        "def_dict = defaultdict(int)\n",
        "hate_dict = defaultdict(int)\n",
        "fake_dict = defaultdict(int)\n",
        "nh_dict = defaultdict(int)\n",
        "off_dict = defaultdict(int)\n",
        "\n",
        "for index, row in train_data.iterrows():\n",
        "  for word in indic_tokenize.trivial_tokenize(row['Filtered_Post'], lang='hi'):\n",
        "    if word not in hindi_stopwords and word not in string.punctuation:\n",
        "      for label in [x.strip() for x in row['Labels Set'].split(',')]:\n",
        "        if label == 'defamation':\n",
        "          def_dict[word] +=1\n",
        "\n",
        "        if label == 'hate':\n",
        "          hate_dict[word] +=1\n",
        "\n",
        "        if label == 'fake':\n",
        "          fake_dict[word] +=1\n",
        "\n",
        "        if label == 'non-hostile':\n",
        "          nh_dict[word] +=1\n",
        "\n",
        "        if label == 'offensive':\n",
        "          off_dict[word] +=1\n",
        "\n",
        "K = 20\n",
        "defamation = sorted(def_dict, key=def_dict.get, reverse=True)[:K]\n",
        "hate = sorted(hate_dict, key=hate_dict.get, reverse=True)[:K]    \n",
        "fake = sorted(fake_dict, key=fake_dict.get, reverse=True)[:K]    \n",
        "nh = sorted(nh_dict, key=nh_dict.get, reverse=True)[:K]    \n",
        "offensive = sorted(off_dict, key=off_dict.get, reverse=True)[:K]        "
      ],
      "execution_count": 47,
      "outputs": []
    },
    {
      "cell_type": "code",
      "metadata": {
        "id": "Ec15VBIgX7U_",
        "outputId": "d9fb4c33-8970-4996-eeb2-0aeb804fe1cf",
        "colab": {
          "base_uri": "https://localhost:8080/"
        }
      },
      "source": [
        "print(\"\\n\\nTop {} Most Frequent Words in Defamation\".format(K))\n",
        "for key in defamation:\n",
        "    print(key, def_dict[key])\n",
        "\n",
        "print(\"\\n\\nTop {} Most Frequent Words in Hate\".format(K))\n",
        "for key in hate:\n",
        "    print(key, hate_dict[key])\n",
        "\n",
        "print(\"\\n\\nTop {} Most Frequent Words in Fake\".format(K))\n",
        "for key in fake:\n",
        "    print(key, fake_dict[key])\n",
        "\n",
        "\n",
        "print(\"\\n\\nTop {} Most Frequent Words in Non Hostile\".format(K))\n",
        "for key in nh:\n",
        "    print(key, nh_dict[key])\n",
        "\n",
        "print(\"\\n\\nTop {} Most Frequent Words in Offensive\".format(K))\n",
        "for key in offensive:\n",
        "    print(key, off_dict[key])\n",
        "\n"
      ],
      "execution_count": 49,
      "outputs": [
        {
          "output_type": "stream",
          "text": [
            "\n",
            "\n",
            "Top 20 Most Frequent Words in Defamation\n",
            "क्या 89\n",
            "\n",
            " 76\n",
            "देश 67\n",
            "जी 65\n",
            "रही 65\n",
            "मोदी 59\n",
            "भारत 56\n",
            "अब 51\n",
            "सरकार 48\n",
            "गई 45\n",
            "नही 45\n",
            "दे 42\n",
            "\n",
            "\n",
            " 41\n",
            "कांग्रेस 34\n",
            "बीजेपी 33\n",
            "मैं 32\n",
            "कोरोना 32\n",
            "सब 32\n",
            "आज 31\n",
            "चाहिए 31\n",
            "\n",
            "\n",
            "Top 20 Most Frequent Words in Hate\n",
            "देश 158\n",
            "क्या 101\n",
            "\n",
            " 94\n",
            "नही 92\n",
            "भारत 92\n",
            "रही 89\n",
            "जी 81\n",
            "अब 80\n",
            "सरकार 69\n",
            "पाकिस्तान 62\n",
            "हिन्दू 60\n",
            "\n",
            "\n",
            " 58\n",
            "साले 57\n",
            "मोदी 57\n",
            "गई 55\n",
            "वो 54\n",
            "लोग 51\n",
            "कांग्रेस 47\n",
            "बात 45\n",
            "पुलिस 45\n",
            "\n",
            "\n",
            "Top 20 Most Frequent Words in Fake\n",
            "\n",
            "\n",
            " 316\n",
            "भारत 150\n",
            "\n",
            " 139\n",
            "देश 128\n",
            "रही 126\n",
            "क्या 125\n",
            "कोरोना 108\n",
            "अब 104\n",
            "सरकार 101\n",
            "वीडियो 97\n",
            "मोदी 95\n",
            "पुलिस 84\n",
            "जी 82\n",
            "लोगों 79\n",
            "गए 73\n",
            "गई 73\n",
            "हम 66\n",
            "चीन 62\n",
            "आज 62\n",
            "लोग 58\n",
            "\n",
            "\n",
            "Top 20 Most Frequent Words in Non Hostile\n",
            "\n",
            " 1060\n",
            "\n",
            "\n",
            " 775\n",
            "भारत 340\n",
            "जी 259\n",
            "कोरोना 250\n",
            "श्री 212\n",
            "आज 208\n",
            "अब 190\n",
            "देश 189\n",
            "प्रदेश 182\n",
            "लोगों 180\n",
            "पुलिस 178\n",
            "दिल्ली 176\n",
            "क्या 175\n",
            "सरकार 174\n",
            "चीन 163\n",
            "सुशांत 142\n",
            "रही 134\n",
            "via 132\n",
            "गई 130\n",
            "\n",
            "\n",
            "Top 20 Most Frequent Words in Offensive\n",
            "क्या 115\n",
            "\n",
            " 110\n",
            "देश 83\n",
            "नही 81\n",
            "साला 81\n",
            "साले 71\n",
            "अब 64\n",
            "रही 60\n",
            "तू 56\n",
            "मोदी 55\n",
            "लोग 54\n",
            "\n",
            "\n",
            " 50\n",
            "वो 50\n",
            "भारत 49\n",
            "कमीनी 49\n",
            "जी 46\n",
            "बात 43\n",
            "सब 42\n",
            "कुत्ते 41\n",
            "चाहिए 40\n"
          ],
          "name": "stdout"
        }
      ]
    },
    {
      "cell_type": "code",
      "metadata": {
        "id": "Eqei-6pMX0yD"
      },
      "source": [
        ""
      ],
      "execution_count": null,
      "outputs": []
    }
  ]
}