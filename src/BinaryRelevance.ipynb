{
  "nbformat": 4,
  "nbformat_minor": 0,
  "metadata": {
    "colab": {
      "name": "BinaryRelevance.ipynb",
      "provenance": [],
      "collapsed_sections": [],
      "machine_shape": "hm"
    },
    "kernelspec": {
      "name": "python3",
      "display_name": "Python 3"
    },
    "accelerator": "GPU"
  },
  "cells": [
    {
      "cell_type": "markdown",
      "metadata": {
        "id": "EdHVQrqyDB50"
      },
      "source": [
        "# Memory Information"
      ]
    },
    {
      "cell_type": "code",
      "metadata": {
        "id": "E58HaeA6CsM9",
        "outputId": "9a02a375-c264-4c9d-a7a3-b4ae0f8d414a",
        "colab": {
          "base_uri": "https://localhost:8080/",
          "height": 104
        }
      },
      "source": [
        "import psutil\n",
        "def get_size(bytes, suffix=\"B\"):\n",
        "    factor = 1024\n",
        "    for unit in [\"\", \"K\", \"M\", \"G\", \"T\", \"P\"]:\n",
        "        if bytes < factor:\n",
        "            return f\"{bytes:.2f}{unit}{suffix}\"\n",
        "        bytes /= factor\n",
        "print(\"=\"*40, \"Memory Information\", \"=\"*40)\n",
        "svmem = psutil.virtual_memory()\n",
        "print(f\"Total: {get_size(svmem.total)}\") ; print(f\"Available: {get_size(svmem.available)}\")\n",
        "print(f\"Used: {get_size(svmem.used)}\") ; print(f\"Percentage: {svmem.percent}%\")\n",
        "# keras-team /\n",
        "# keras-contrib "
      ],
      "execution_count": 274,
      "outputs": [
        {
          "output_type": "stream",
          "text": [
            "======================================== Memory Information ========================================\n",
            "Total: 25.51GB\n",
            "Available: 24.36GB\n",
            "Used: 1.63GB\n",
            "Percentage: 4.5%\n"
          ],
          "name": "stdout"
        }
      ]
    },
    {
      "cell_type": "markdown",
      "metadata": {
        "id": "FgVfBlvZDEja"
      },
      "source": [
        "# GPU Information"
      ]
    },
    {
      "cell_type": "code",
      "metadata": {
        "id": "rxlkxvkrCyin",
        "outputId": "fac94447-c55a-4765-a018-5ae38dcde581",
        "colab": {
          "base_uri": "https://localhost:8080/",
          "height": 364
        }
      },
      "source": [
        "! nvidia-smi"
      ],
      "execution_count": 275,
      "outputs": [
        {
          "output_type": "stream",
          "text": [
            "Thu Oct 22 19:42:39 2020       \n",
            "+-----------------------------------------------------------------------------+\n",
            "| NVIDIA-SMI 455.23.05    Driver Version: 418.67       CUDA Version: 10.1     |\n",
            "|-------------------------------+----------------------+----------------------+\n",
            "| GPU  Name        Persistence-M| Bus-Id        Disp.A | Volatile Uncorr. ECC |\n",
            "| Fan  Temp  Perf  Pwr:Usage/Cap|         Memory-Usage | GPU-Util  Compute M. |\n",
            "|                               |                      |               MIG M. |\n",
            "|===============================+======================+======================|\n",
            "|   0  Tesla P100-PCIE...  Off  | 00000000:00:04.0 Off |                    0 |\n",
            "| N/A   35C    P0    28W / 250W |      0MiB / 16280MiB |      0%      Default |\n",
            "|                               |                      |                 ERR! |\n",
            "+-------------------------------+----------------------+----------------------+\n",
            "                                                                               \n",
            "+-----------------------------------------------------------------------------+\n",
            "| Processes:                                                                  |\n",
            "|  GPU   GI   CI        PID   Type   Process name                  GPU Memory |\n",
            "|        ID   ID                                                   Usage      |\n",
            "|=============================================================================|\n",
            "|  No running processes found                                                 |\n",
            "+-----------------------------------------------------------------------------+\n"
          ],
          "name": "stdout"
        }
      ]
    },
    {
      "cell_type": "code",
      "metadata": {
        "id": "iLoeOFPPldnP",
        "outputId": "883f2c7d-214e-4cf7-b23e-374b0524566e",
        "colab": {
          "base_uri": "https://localhost:8080/",
          "height": 156
        }
      },
      "source": [
        "!pip install indic-nlp-library\n",
        "!pip install scikit-multilearn"
      ],
      "execution_count": 276,
      "outputs": [
        {
          "output_type": "stream",
          "text": [
            "Requirement already satisfied: indic-nlp-library in /usr/local/lib/python3.6/dist-packages (0.71)\n",
            "Requirement already satisfied: morfessor in /usr/local/lib/python3.6/dist-packages (from indic-nlp-library) (2.0.6)\n",
            "Requirement already satisfied: numpy in /usr/local/lib/python3.6/dist-packages (from indic-nlp-library) (1.18.5)\n",
            "Requirement already satisfied: pandas in /usr/local/lib/python3.6/dist-packages (from indic-nlp-library) (1.1.2)\n",
            "Requirement already satisfied: python-dateutil>=2.7.3 in /usr/local/lib/python3.6/dist-packages (from pandas->indic-nlp-library) (2.8.1)\n",
            "Requirement already satisfied: pytz>=2017.2 in /usr/local/lib/python3.6/dist-packages (from pandas->indic-nlp-library) (2018.9)\n",
            "Requirement already satisfied: six>=1.5 in /usr/local/lib/python3.6/dist-packages (from python-dateutil>=2.7.3->pandas->indic-nlp-library) (1.15.0)\n",
            "Requirement already satisfied: scikit-multilearn in /usr/local/lib/python3.6/dist-packages (0.2.0)\n"
          ],
          "name": "stdout"
        }
      ]
    },
    {
      "cell_type": "code",
      "metadata": {
        "id": "rXOobmQ2mIDf",
        "outputId": "6cd7088d-f0a1-45cf-81b4-8bf6271070e4",
        "colab": {
          "base_uri": "https://localhost:8080/",
          "height": 34
        }
      },
      "source": [
        "!git clone https://github.com/anoopkunchukuttan/indic_nlp_resources.git"
      ],
      "execution_count": 277,
      "outputs": [
        {
          "output_type": "stream",
          "text": [
            "fatal: destination path 'indic_nlp_resources' already exists and is not an empty directory.\n"
          ],
          "name": "stdout"
        }
      ]
    },
    {
      "cell_type": "code",
      "metadata": {
        "id": "O7maoduMmP5i"
      },
      "source": [
        "import sys\n",
        "from indicnlp import common\n",
        "\n",
        "# The path to the local git repo for Indic NLP library\n",
        "INDIC_NLP_LIB_HOME=r\"indic_nlp_library\"\n",
        "\n",
        "# The path to the local git repo for Indic NLP Resources\n",
        "INDIC_NLP_RESOURCES=r\"indic_nlp_resources\"\n",
        "\n",
        "# Add library to Python path\n",
        "sys.path.append(r'{}\\src'.format(INDIC_NLP_LIB_HOME))\n",
        "\n",
        "# Set environment variable for resources folder\n",
        "common.set_resources_path(INDIC_NLP_RESOURCES)"
      ],
      "execution_count": 278,
      "outputs": []
    },
    {
      "cell_type": "code",
      "metadata": {
        "id": "jyDODoaWC6KI"
      },
      "source": [
        "import numpy as np\n",
        "import pandas as pd\n",
        "import csv\n",
        "from indicnlp.tokenize import sentence_tokenize, indic_tokenize\n",
        "from collections import defaultdict\n",
        "from sklearn.metrics import accuracy_score\n",
        "from sklearn.metrics import classification_report"
      ],
      "execution_count": 279,
      "outputs": []
    },
    {
      "cell_type": "code",
      "metadata": {
        "id": "5pid1-pEcq32"
      },
      "source": [
        "train_data = pd.read_csv('train.csv', header=0, index_col=0)\n",
        "val_data = pd.read_csv('val.csv', header=0, index_col=0)"
      ],
      "execution_count": 280,
      "outputs": []
    },
    {
      "cell_type": "code",
      "metadata": {
        "id": "DFAe-Z4geoFw",
        "outputId": "4f41880a-30a9-4014-e1fc-b20f5efbdd33",
        "colab": {
          "base_uri": "https://localhost:8080/",
          "height": 359
        }
      },
      "source": [
        "print(train_data.shape)\n",
        "train_data.head()"
      ],
      "execution_count": 281,
      "outputs": [
        {
          "output_type": "stream",
          "text": [
            "(5727, 10)\n"
          ],
          "name": "stdout"
        },
        {
          "output_type": "execute_result",
          "data": {
            "text/html": [
              "<div>\n",
              "<style scoped>\n",
              "    .dataframe tbody tr th:only-of-type {\n",
              "        vertical-align: middle;\n",
              "    }\n",
              "\n",
              "    .dataframe tbody tr th {\n",
              "        vertical-align: top;\n",
              "    }\n",
              "\n",
              "    .dataframe thead th {\n",
              "        text-align: right;\n",
              "    }\n",
              "</style>\n",
              "<table border=\"1\" class=\"dataframe\">\n",
              "  <thead>\n",
              "    <tr style=\"text-align: right;\">\n",
              "      <th></th>\n",
              "      <th>Post</th>\n",
              "      <th>Labels Set</th>\n",
              "      <th>emails</th>\n",
              "      <th>urls</th>\n",
              "      <th>mentions</th>\n",
              "      <th>hashtags</th>\n",
              "      <th>emojis</th>\n",
              "      <th>emoticons</th>\n",
              "      <th>reserved_words</th>\n",
              "      <th>Filtered_Post</th>\n",
              "    </tr>\n",
              "    <tr>\n",
              "      <th>Unique ID</th>\n",
              "      <th></th>\n",
              "      <th></th>\n",
              "      <th></th>\n",
              "      <th></th>\n",
              "      <th></th>\n",
              "      <th></th>\n",
              "      <th></th>\n",
              "      <th></th>\n",
              "      <th></th>\n",
              "      <th></th>\n",
              "    </tr>\n",
              "  </thead>\n",
              "  <tbody>\n",
              "    <tr>\n",
              "      <th>1</th>\n",
              "      <td>मेरे देश के हिन्दु बहुत निराले है। कुछ तो पक्क...</td>\n",
              "      <td>hate,offensive</td>\n",
              "      <td>[]</td>\n",
              "      <td>[]</td>\n",
              "      <td>[]</td>\n",
              "      <td>[]</td>\n",
              "      <td>['🙏', '🙏']</td>\n",
              "      <td>[]</td>\n",
              "      <td>[]</td>\n",
              "      <td>मेरे देश के हिन्दु बहुत निराले है। कुछ तो पक्क...</td>\n",
              "    </tr>\n",
              "    <tr>\n",
              "      <th>2</th>\n",
              "      <td>सरकार हमेशा से किसानों की कमाई को बढ़ाने के लि...</td>\n",
              "      <td>non-hostile</td>\n",
              "      <td>[]</td>\n",
              "      <td>['https://t.co/8iy2MJSBAs']</td>\n",
              "      <td>[]</td>\n",
              "      <td>[]</td>\n",
              "      <td>[]</td>\n",
              "      <td>[]</td>\n",
              "      <td>[]</td>\n",
              "      <td>सरकार हमेशा से किसानों की कमाई को बढ़ाने के लि...</td>\n",
              "    </tr>\n",
              "    <tr>\n",
              "      <th>3</th>\n",
              "      <td>सुशांत ने जो बिजनेस डील 9 जून को की थी, वो डील...</td>\n",
              "      <td>non-hostile</td>\n",
              "      <td>[]</td>\n",
              "      <td>['https://t.co/G945HvzM0Z', 'https://t.co/KfH7...</td>\n",
              "      <td>[]</td>\n",
              "      <td>['LIVE']</td>\n",
              "      <td>[]</td>\n",
              "      <td>[]</td>\n",
              "      <td>[]</td>\n",
              "      <td>सुशांत ने जो बिजनेस डील 9 जून को की थी, वो डील...</td>\n",
              "    </tr>\n",
              "    <tr>\n",
              "      <th>4</th>\n",
              "      <td>@prabhav218 साले जेएनयू छाप कमिने लोग हिन्दुओं...</td>\n",
              "      <td>defamation,offensive</td>\n",
              "      <td>[]</td>\n",
              "      <td>[]</td>\n",
              "      <td>['@prabhav218']</td>\n",
              "      <td>[]</td>\n",
              "      <td>[]</td>\n",
              "      <td>[]</td>\n",
              "      <td>[]</td>\n",
              "      <td>साले जेएनयू छाप कमिने लोग हिन्दुओं को यह कहते...</td>\n",
              "    </tr>\n",
              "    <tr>\n",
              "      <th>5</th>\n",
              "      <td>#unlock4guidelines - अनलॉक-4 के लिए गाइडलाइन्स...</td>\n",
              "      <td>non-hostile</td>\n",
              "      <td>[]</td>\n",
              "      <td>['https://t.co/4e6lysg0VR']</td>\n",
              "      <td>[]</td>\n",
              "      <td>['unlock4guidelines']</td>\n",
              "      <td>[]</td>\n",
              "      <td>[]</td>\n",
              "      <td>[]</td>\n",
              "      <td>- अनलॉक-4 के लिए गाइडलाइन्स जारी\\n\\n- 7 सितंब...</td>\n",
              "    </tr>\n",
              "  </tbody>\n",
              "</table>\n",
              "</div>"
            ],
            "text/plain": [
              "                                                        Post  ...                                      Filtered_Post\n",
              "Unique ID                                                     ...                                                   \n",
              "1          मेरे देश के हिन्दु बहुत निराले है। कुछ तो पक्क...  ...  मेरे देश के हिन्दु बहुत निराले है। कुछ तो पक्क...\n",
              "2          सरकार हमेशा से किसानों की कमाई को बढ़ाने के लि...  ...  सरकार हमेशा से किसानों की कमाई को बढ़ाने के लि...\n",
              "3          सुशांत ने जो बिजनेस डील 9 जून को की थी, वो डील...  ...  सुशांत ने जो बिजनेस डील 9 जून को की थी, वो डील...\n",
              "4          @prabhav218 साले जेएनयू छाप कमिने लोग हिन्दुओं...  ...   साले जेएनयू छाप कमिने लोग हिन्दुओं को यह कहते...\n",
              "5          #unlock4guidelines - अनलॉक-4 के लिए गाइडलाइन्स...  ...   - अनलॉक-4 के लिए गाइडलाइन्स जारी\\n\\n- 7 सितंब...\n",
              "\n",
              "[5 rows x 10 columns]"
            ]
          },
          "metadata": {
            "tags": []
          },
          "execution_count": 281
        }
      ]
    },
    {
      "cell_type": "code",
      "metadata": {
        "id": "yDG5NtJqhTWg",
        "outputId": "90569738-e571-4587-ce95-44708d45e861",
        "colab": {
          "base_uri": "https://localhost:8080/",
          "height": 324
        }
      },
      "source": [
        "print(val_data.shape)\n",
        "val_data.head()"
      ],
      "execution_count": 282,
      "outputs": [
        {
          "output_type": "stream",
          "text": [
            "(811, 10)\n"
          ],
          "name": "stdout"
        },
        {
          "output_type": "execute_result",
          "data": {
            "text/html": [
              "<div>\n",
              "<style scoped>\n",
              "    .dataframe tbody tr th:only-of-type {\n",
              "        vertical-align: middle;\n",
              "    }\n",
              "\n",
              "    .dataframe tbody tr th {\n",
              "        vertical-align: top;\n",
              "    }\n",
              "\n",
              "    .dataframe thead th {\n",
              "        text-align: right;\n",
              "    }\n",
              "</style>\n",
              "<table border=\"1\" class=\"dataframe\">\n",
              "  <thead>\n",
              "    <tr style=\"text-align: right;\">\n",
              "      <th></th>\n",
              "      <th>Post</th>\n",
              "      <th>Labels Set</th>\n",
              "      <th>emails</th>\n",
              "      <th>urls</th>\n",
              "      <th>mentions</th>\n",
              "      <th>hashtags</th>\n",
              "      <th>emojis</th>\n",
              "      <th>emoticons</th>\n",
              "      <th>reserved_words</th>\n",
              "      <th>Filtered_Post</th>\n",
              "    </tr>\n",
              "    <tr>\n",
              "      <th>Unique ID</th>\n",
              "      <th></th>\n",
              "      <th></th>\n",
              "      <th></th>\n",
              "      <th></th>\n",
              "      <th></th>\n",
              "      <th></th>\n",
              "      <th></th>\n",
              "      <th></th>\n",
              "      <th></th>\n",
              "      <th></th>\n",
              "    </tr>\n",
              "  </thead>\n",
              "  <tbody>\n",
              "    <tr>\n",
              "      <th>1</th>\n",
              "      <td>दृढ़ इच्छा शक्ति से परिपूर्ण प्रणबदा के लिए दे...</td>\n",
              "      <td>non-hostile</td>\n",
              "      <td>[]</td>\n",
              "      <td>[]</td>\n",
              "      <td>[]</td>\n",
              "      <td>[]</td>\n",
              "      <td>[]</td>\n",
              "      <td>[]</td>\n",
              "      <td>[]</td>\n",
              "      <td>दृढ़ इच्छा शक्ति से परिपूर्ण प्रणबदा के लिए दे...</td>\n",
              "    </tr>\n",
              "    <tr>\n",
              "      <th>2</th>\n",
              "      <td>भारतीय जनता पार्टी rss वाले इतने गिरे हुए हैं ...</td>\n",
              "      <td>defamation</td>\n",
              "      <td>[]</td>\n",
              "      <td>[]</td>\n",
              "      <td>[]</td>\n",
              "      <td>[]</td>\n",
              "      <td>[]</td>\n",
              "      <td>[]</td>\n",
              "      <td>[]</td>\n",
              "      <td>भारतीय जनता पार्टी rss वाले इतने गिरे हुए हैं ...</td>\n",
              "    </tr>\n",
              "    <tr>\n",
              "      <th>3</th>\n",
              "      <td>कोरोना से निपटने की तैयारी / दिल्ली में 10 हजा...</td>\n",
              "      <td>non-hostile</td>\n",
              "      <td>[]</td>\n",
              "      <td>['https://t.co/9rlQowAsFh']</td>\n",
              "      <td>['@ArvindKejriwal', '@rajnathsingh', '@AmitSha...</td>\n",
              "      <td>['Delhi']</td>\n",
              "      <td>[]</td>\n",
              "      <td>[]</td>\n",
              "      <td>[]</td>\n",
              "      <td>कोरोना से निपटने की तैयारी / दिल्ली में 10 हजा...</td>\n",
              "    </tr>\n",
              "    <tr>\n",
              "      <th>4</th>\n",
              "      <td>गवर्नर कॉन्फ्रेंस में PM मोदी बोले- शिक्षा नीत...</td>\n",
              "      <td>non-hostile</td>\n",
              "      <td>[]</td>\n",
              "      <td>['https://t.co/ZvKgxk6dbd']</td>\n",
              "      <td>[]</td>\n",
              "      <td>[]</td>\n",
              "      <td>[]</td>\n",
              "      <td>[]</td>\n",
              "      <td>[]</td>\n",
              "      <td>गवर्नर कॉन्फ्रेंस में PM मोदी बोले- शिक्षा नीत...</td>\n",
              "    </tr>\n",
              "    <tr>\n",
              "      <th>5</th>\n",
              "      <td>यूपी: गाजीपुर में Toilet घोटाला, प्रधान व सचिव...</td>\n",
              "      <td>non-hostile</td>\n",
              "      <td>[]</td>\n",
              "      <td>['https://t.co/hxM1uNNmX2']</td>\n",
              "      <td>[]</td>\n",
              "      <td>['UP']</td>\n",
              "      <td>[]</td>\n",
              "      <td>[]</td>\n",
              "      <td>[]</td>\n",
              "      <td>यूपी: गाजीपुर में Toilet घोटाला, प्रधान व सचिव...</td>\n",
              "    </tr>\n",
              "  </tbody>\n",
              "</table>\n",
              "</div>"
            ],
            "text/plain": [
              "                                                        Post  ...                                      Filtered_Post\n",
              "Unique ID                                                     ...                                                   \n",
              "1          दृढ़ इच्छा शक्ति से परिपूर्ण प्रणबदा के लिए दे...  ...  दृढ़ इच्छा शक्ति से परिपूर्ण प्रणबदा के लिए दे...\n",
              "2          भारतीय जनता पार्टी rss वाले इतने गिरे हुए हैं ...  ...  भारतीय जनता पार्टी rss वाले इतने गिरे हुए हैं ...\n",
              "3          कोरोना से निपटने की तैयारी / दिल्ली में 10 हजा...  ...  कोरोना से निपटने की तैयारी / दिल्ली में 10 हजा...\n",
              "4          गवर्नर कॉन्फ्रेंस में PM मोदी बोले- शिक्षा नीत...  ...  गवर्नर कॉन्फ्रेंस में PM मोदी बोले- शिक्षा नीत...\n",
              "5          यूपी: गाजीपुर में Toilet घोटाला, प्रधान व सचिव...  ...  यूपी: गाजीपुर में Toilet घोटाला, प्रधान व सचिव...\n",
              "\n",
              "[5 rows x 10 columns]"
            ]
          },
          "metadata": {
            "tags": []
          },
          "execution_count": 282
        }
      ]
    },
    {
      "cell_type": "code",
      "metadata": {
        "id": "avnStOCX1LYw"
      },
      "source": [
        "import ast\n",
        "\n",
        "labels_set = {'defamation',\n",
        " 'fake',\n",
        " 'hate',\n",
        " 'non-hostile',\n",
        " 'offensive'}\n"
      ],
      "execution_count": 283,
      "outputs": []
    },
    {
      "cell_type": "markdown",
      "metadata": {
        "id": "7UzE4LSl1M47"
      },
      "source": [
        "##**Using one hot vectors of Emojis, Mentions and Hashtags**"
      ]
    },
    {
      "cell_type": "code",
      "metadata": {
        "id": "agaMrJw2hnF5"
      },
      "source": [
        "# hashtags_set = defaultdict(int)\n",
        "\n",
        "# ct=1\n",
        "# for index, row in train_data.iterrows():\n",
        "#   ht_list = ast.literal_eval(row['hashtags']) \n",
        "#   for ht in ht_list:\n",
        "#     if hashtags_set.get(ht, 0)==0:\n",
        "#       hashtags_set[ht] = ct\n",
        "#       ct+=1\n",
        "\n",
        "# emojis_set = defaultdict(int)\n",
        "# ct=1\n",
        "# for index, row in train_data.iterrows():\n",
        "#   em_list = ast.literal_eval(row['emojis']) \n",
        "#   for em in em_list:\n",
        "#     if emojis_set.get(em, 0)==0:\n",
        "#       emojis_set[em] = ct\n",
        "#       ct+=1\n",
        "\n",
        "# mentions_set = defaultdict(int)\n",
        "# ct=1\n",
        "# for index, row in train_data.iterrows():\n",
        "#   mn_list = ast.literal_eval(row['mentions']) \n",
        "#   for mn in mn_list:\n",
        "#     if mentions_set.get(mn, 0)==0:\n",
        "#       mentions_set[mn] = ct\n",
        "#       ct+=1\n"
      ],
      "execution_count": 284,
      "outputs": []
    },
    {
      "cell_type": "markdown",
      "metadata": {
        "id": "xdBlXNn41CHX"
      },
      "source": [
        "##**Using per class counts for Emojis, Mentions and Hashtags**"
      ]
    },
    {
      "cell_type": "code",
      "metadata": {
        "id": "tDAW1YEg1AxI"
      },
      "source": [
        "hashtags_set = defaultdict(int)\n",
        "emojis_set = defaultdict(int)\n",
        "mentions_set = defaultdict(int)\n",
        "\n",
        "for index, row in train_data.iterrows():\n",
        "  ht_list = ast.literal_eval(row['hashtags'])\n",
        "  em_list = ast.literal_eval(row['emojis'])\n",
        "  mn_list = ast.literal_eval(row['mentions']) \n",
        "\n",
        "  for label in [x.strip() for x in row['Labels Set'].split(',')]:\n",
        "    for ht in ht_list:\n",
        "      hashtags_set[ht, label] +=1\n",
        "    for em in em_list:\n",
        "      emojis_set[em, label]+=1\n",
        "    for mn in mn_list:\n",
        "      mentions_set[mn, label]+=1"
      ],
      "execution_count": 285,
      "outputs": []
    },
    {
      "cell_type": "code",
      "metadata": {
        "id": "VHlYmRrnpO0o"
      },
      "source": [
        "# print(len(emojis_set))\n",
        "# print(len(hashtags_set))\n",
        "# print(len(mentions_set))"
      ],
      "execution_count": 286,
      "outputs": []
    },
    {
      "cell_type": "code",
      "metadata": {
        "id": "YQKuRKkJomZg",
        "outputId": "133f0f08-1982-4bfb-c070-89db6f1f67c3",
        "colab": {
          "base_uri": "https://localhost:8080/",
          "height": 34
        }
      },
      "source": [
        "# Creating Frequency Dictionary\n",
        "\n",
        "vocab = defaultdict(int)\n",
        "freqs = defaultdict(int)\n",
        "\n",
        "for index, row in train_data.iterrows():\n",
        "  for word in indic_tokenize.trivial_tokenize(row['Filtered_Post'], lang='hi'):\n",
        "    vocab[word]+=1\n",
        "    for label in [x.strip() for x in row['Labels Set'].split(',')]:\n",
        "      freqs[word, label] +=1\n",
        "\n",
        "len(freqs.keys())"
      ],
      "execution_count": 287,
      "outputs": [
        {
          "output_type": "execute_result",
          "data": {
            "text/plain": [
              "35502"
            ]
          },
          "metadata": {
            "tags": []
          },
          "execution_count": 287
        }
      ]
    },
    {
      "cell_type": "markdown",
      "metadata": {
        "id": "IMqYc8wwzlfk"
      },
      "source": [
        "##**Using five class frequencies and other features as one hot vectors**"
      ]
    },
    {
      "cell_type": "code",
      "metadata": {
        "id": "KO1eh_ooJEow"
      },
      "source": [
        "# def generate_train_matrix(train_data):\n",
        "#   train_X = np.empty((0, 3350))\n",
        "\n",
        "#   for index, row in train_data.iterrows():\n",
        "#     x = np.zeros((1, 6))\n",
        "#     x[0, 0] = 1  # Bias Unit\n",
        "#     word_l = indic_tokenize.trivial_tokenize(row['Filtered_Post'], lang='hi')\n",
        "    \n",
        "#     for word in word_l:\n",
        "#         x[0,1] += freqs.get((word,'defamation'),0)\n",
        "#         x[0,2] += freqs.get((word, 'fake'),0)\n",
        "#         x[0,3] += freqs.get((word,'hate'),0)\n",
        "#         x[0,4] += freqs.get((word,'non-hostile'),0)\n",
        "#         x[0,5] += freqs.get((word,'offensive'),0)\n",
        "\n",
        "#     ht_list = ast.literal_eval(row['hashtags'])\n",
        "#     hash_x = np.zeros((1, 1905))\n",
        "#     for ht in ht_list:\n",
        "#       idx = hashtags_set.get(ht, 0)\n",
        "#       if idx!=0:\n",
        "#         hash_x[0, idx-1] = 1\n",
        "\n",
        "#     em_list = ast.literal_eval(row['emojis'])\n",
        "#     emojis_x = np.zeros((1, 162))\n",
        "#     for em in em_list:\n",
        "#       idx = emojis_set.get(em, 0)\n",
        "#       if idx!=0:\n",
        "#         emojis_x[0, idx-1] = 1\n",
        "\n",
        "#     mn_list = ast.literal_eval(row['mentions'])\n",
        "#     mentions_x = np.zeros((1, 1277)) \n",
        "#     for mn in mn_list:\n",
        "#         idx = mentions_set.get(mn, 0)\n",
        "#         if idx!=0:\n",
        "#           mentions_x[0, idx-1] = 1\n",
        "\n",
        "#     x = np.hstack((x, hash_x, emojis_x, mentions_x))\n",
        "    \n",
        "#     train_X = np.vstack((train_X, x))\n",
        "\n",
        "#   return train_X"
      ],
      "execution_count": 288,
      "outputs": []
    },
    {
      "cell_type": "markdown",
      "metadata": {
        "id": "iqClWiaLze3h"
      },
      "source": [
        "##**Using only 5 class frequencies added up**"
      ]
    },
    {
      "cell_type": "code",
      "metadata": {
        "id": "SzYIsaEqwj4C"
      },
      "source": [
        "def generate_train_matrix(train_data):\n",
        "  train_X = np.empty((0, 6))\n",
        "\n",
        "  for index, row in train_data.iterrows():\n",
        "    x = np.zeros((1, 6))\n",
        "    x[0, 0] = 1  # Bias Unit\n",
        "    word_l = indic_tokenize.trivial_tokenize(row['Filtered_Post'], lang='hi')\n",
        "    \n",
        "    for word in word_l:\n",
        "        x[0,1] += freqs.get((word,'defamation'),0)\n",
        "        x[0,2] += freqs.get((word, 'fake'),0)\n",
        "        x[0,3] += freqs.get((word,'hate'),0)\n",
        "        x[0,4] += freqs.get((word,'non-hostile'),0)\n",
        "        x[0,5] += freqs.get((word,'offensive'),0)\n",
        "\n",
        "    ht_list = ast.literal_eval(row['hashtags'])\n",
        "    for ht in ht_list:\n",
        "      x[0,1] += hashtags_set.get((ht,'defamation'),0)\n",
        "      x[0,2] += hashtags_set.get((ht, 'fake'),0)\n",
        "      x[0,3] += hashtags_set.get((ht,'hate'),0)\n",
        "      x[0,4] += hashtags_set.get((ht,'non-hostile'),0)\n",
        "      x[0,5] += hashtags_set.get((ht,'offensive'),0)\n",
        "\n",
        "    em_list = ast.literal_eval(row['emojis'])\n",
        "    for em in em_list:\n",
        "      x[0,1] += emojis_set.get((em,'defamation'),0)\n",
        "      x[0,2] += emojis_set.get((em, 'fake'),0)\n",
        "      x[0,3] += emojis_set.get((em,'hate'),0)\n",
        "      x[0,4] += emojis_set.get((em,'non-hostile'),0)\n",
        "      x[0,5] += emojis_set.get((em,'offensive'),0)\n",
        "\n",
        "    mn_list = ast.literal_eval(row['mentions'])\n",
        "    for mn in mn_list:\n",
        "      x[0,1] += mentions_set.get((mn,'defamation'),0)\n",
        "      x[0,2] += mentions_set.get((mn, 'fake'),0)\n",
        "      x[0,3] += mentions_set.get((mn,'hate'),0)\n",
        "      x[0,4] += mentions_set.get((mn,'non-hostile'),0)\n",
        "      x[0,5] += mentions_set.get((mn,'offensive'),0)\n",
        "  \n",
        "    train_X = np.vstack((train_X, x))\n",
        "\n",
        "  return train_X"
      ],
      "execution_count": 289,
      "outputs": []
    },
    {
      "cell_type": "code",
      "metadata": {
        "id": "XEbwJhTiyo_t"
      },
      "source": [
        "train_X = generate_train_matrix(train_data)\n",
        "val_X = generate_train_matrix(val_data)"
      ],
      "execution_count": 290,
      "outputs": []
    },
    {
      "cell_type": "code",
      "metadata": {
        "id": "2xq5iTsVQLS3"
      },
      "source": [
        "# Label Mapping\n",
        "labels_mapping = {'defamation':0,\n",
        " 'fake':1,\n",
        " 'hate':2,\n",
        " 'non-hostile':3,\n",
        " 'offensive':4}\n"
      ],
      "execution_count": 291,
      "outputs": []
    },
    {
      "cell_type": "code",
      "metadata": {
        "id": "eG6v5Su0UcM9",
        "outputId": "62cb3ea4-1833-4564-f3af-0b46e3e208b3",
        "colab": {
          "base_uri": "https://localhost:8080/",
          "height": 52
        }
      },
      "source": [
        "print(train_X.shape)\n",
        "print(val_X.shape)"
      ],
      "execution_count": 292,
      "outputs": [
        {
          "output_type": "stream",
          "text": [
            "(5727, 6)\n",
            "(811, 6)\n"
          ],
          "name": "stdout"
        }
      ]
    },
    {
      "cell_type": "code",
      "metadata": {
        "id": "WhJSn8IpyUsn"
      },
      "source": [
        "train_y = np.empty((0, 5))\n",
        "for index, row in train_data.iterrows():\n",
        "  y = np.zeros((1, 5))\n",
        "  for label in row['Labels Set'].split(','):\n",
        "    y[0, labels_mapping[label]] = 1\n",
        "\n",
        "  train_y = np.vstack((train_y, y))\n",
        "\n",
        "\n",
        "val_y = np.empty((0, 5))\n",
        "for index, row in val_data.iterrows():\n",
        "  y = np.zeros((1, 5))\n",
        "  for label in row['Labels Set'].split(','):\n",
        "    y[0, labels_mapping[label]] = 1\n",
        "\n",
        "  val_y = np.vstack((val_y, y))\n",
        "\n",
        "\n"
      ],
      "execution_count": 293,
      "outputs": []
    },
    {
      "cell_type": "code",
      "metadata": {
        "id": "bswUa1CJUXH0",
        "outputId": "858fa26b-2779-4fdc-fdae-b654b1016567",
        "colab": {
          "base_uri": "https://localhost:8080/",
          "height": 52
        }
      },
      "source": [
        "print(train_y.shape)\n",
        "print(val_y.shape)"
      ],
      "execution_count": 294,
      "outputs": [
        {
          "output_type": "stream",
          "text": [
            "(5727, 5)\n",
            "(811, 5)\n"
          ],
          "name": "stdout"
        }
      ]
    },
    {
      "cell_type": "markdown",
      "metadata": {
        "id": "_fcQCKsxUok8"
      },
      "source": [
        "##**Binary Relevance Model**"
      ]
    },
    {
      "cell_type": "code",
      "metadata": {
        "id": "CUo-OT5-Un4z",
        "outputId": "10f94815-7a73-48bc-fcfb-0d40c0e34bed",
        "colab": {
          "base_uri": "https://localhost:8080/",
          "height": 173
        }
      },
      "source": [
        "from skmultilearn.problem_transform import BinaryRelevance\n",
        "from sklearn.linear_model import LogisticRegression\n",
        "from sklearn.svm import SVC\n",
        "from sklearn.naive_bayes import GaussianNB\n",
        "from sklearn.tree import DecisionTreeClassifier\n",
        "\n",
        "classifier = BinaryRelevance(LogisticRegression(max_iter=150))\n",
        "classifier.fit(train_X, train_y)"
      ],
      "execution_count": 295,
      "outputs": [
        {
          "output_type": "execute_result",
          "data": {
            "text/plain": [
              "BinaryRelevance(classifier=LogisticRegression(C=1.0, class_weight=None,\n",
              "                                              dual=False, fit_intercept=True,\n",
              "                                              intercept_scaling=1,\n",
              "                                              l1_ratio=None, max_iter=150,\n",
              "                                              multi_class='auto', n_jobs=None,\n",
              "                                              penalty='l2', random_state=None,\n",
              "                                              solver='lbfgs', tol=0.0001,\n",
              "                                              verbose=0, warm_start=False),\n",
              "                require_dense=[True, True])"
            ]
          },
          "metadata": {
            "tags": []
          },
          "execution_count": 295
        }
      ]
    },
    {
      "cell_type": "code",
      "metadata": {
        "id": "1J-3b1S_U8Ld"
      },
      "source": [
        "predictions = classifier.predict(val_X)"
      ],
      "execution_count": 296,
      "outputs": []
    },
    {
      "cell_type": "code",
      "metadata": {
        "id": "atQIjBLfVoz5"
      },
      "source": [
        "def evaluation(y_true, y_pred):\n",
        "  print(\"Fine Grained Accuracy = {}\".format(accuracy_score(y_true, y_pred)))\n",
        "  print(\"\\n\\nFine Grained Metrics\\n\")\n",
        "  print(classification_report(y_true, y_pred))\n",
        "\n",
        "  # y_true_coarse = np.zeros((y_true.shape[0], 2))\n",
        "  # y_pred_coarse = np.zeros((y_true.shape[0], 2))\n",
        "\n",
        "  # y_true_coarse_1 = y_true[:,3] \n",
        "  # y_true_coarse_0 = 1 - y_true_coarse[:,1]\n",
        "  # y_true_coarse = np.hstack((y_true_coarse_0, y_true_coarse_1))\n",
        "  \n",
        "  # y_pred_coarse_1 = y_pred[:,3]\n",
        "  # y_pred_coarse_0 = 1- y_pred_coarse[:,1]\n",
        "  # y_pred_coarse = np.hstack((y_pred_coarse_0, y_pred_coarse_1))\n",
        "\n",
        "  # print(\"Coarse Grained Accuracy = {}\".format(accuracy_score(y_true_coarse, y_pred_coarse)))\n",
        "  # print(\"\\n\\nCoarse Grained Metrics\\n\")\n",
        "  # print(classification_report(y_true_coarse, y_pred_coarse))\n",
        "\n"
      ],
      "execution_count": 345,
      "outputs": []
    },
    {
      "cell_type": "code",
      "metadata": {
        "id": "1my9tQz-6xCB",
        "outputId": "a1ae4716-aee5-435f-918b-f9f4a01a08ae",
        "colab": {
          "base_uri": "https://localhost:8080/",
          "height": 384
        }
      },
      "source": [
        "evaluation(val_y, predictions)"
      ],
      "execution_count": 346,
      "outputs": [
        {
          "output_type": "stream",
          "text": [
            "Fine Grained Accuracy = 0.45499383477188654\n",
            "\n",
            "\n",
            "Fine Grained Metrics\n",
            "\n",
            "              precision    recall  f1-score   support\n",
            "\n",
            "           0       0.10      0.01      0.02        77\n",
            "           1       0.50      0.14      0.22       160\n",
            "           2       0.36      0.11      0.17       110\n",
            "           3       0.73      0.80      0.77       435\n",
            "           4       0.39      0.11      0.17       103\n",
            "\n",
            "   micro avg       0.67      0.45      0.54       885\n",
            "   macro avg       0.42      0.23      0.27       885\n",
            "weighted avg       0.55      0.45      0.46       885\n",
            " samples avg       0.47      0.48      0.47       885\n",
            "\n"
          ],
          "name": "stdout"
        },
        {
          "output_type": "stream",
          "text": [
            "/usr/local/lib/python3.6/dist-packages/sklearn/metrics/_classification.py:1272: UndefinedMetricWarning: Precision and F-score are ill-defined and being set to 0.0 in samples with no predicted labels. Use `zero_division` parameter to control this behavior.\n",
            "  _warn_prf(average, modifier, msg_start, len(result))\n"
          ],
          "name": "stderr"
        }
      ]
    }
  ]
}