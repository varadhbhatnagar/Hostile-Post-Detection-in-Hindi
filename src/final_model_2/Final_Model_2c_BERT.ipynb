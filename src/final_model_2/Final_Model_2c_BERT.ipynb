{
  "nbformat": 4,
  "nbformat_minor": 0,
  "metadata": {
    "colab": {
      "name": "Final_Model_1c_BERT.ipynb",
      "provenance": [],
      "collapsed_sections": []
    },
    "kernelspec": {
      "name": "python3",
      "display_name": "Python 3"
    },
    "accelerator": "GPU",
    "widgets": {
      "application/vnd.jupyter.widget-state+json": {
        "ad0a09745fc648ffa57b8df6d399d539": {
          "model_module": "@jupyter-widgets/controls",
          "model_name": "HBoxModel",
          "state": {
            "_view_name": "HBoxView",
            "_dom_classes": [],
            "_model_name": "HBoxModel",
            "_view_module": "@jupyter-widgets/controls",
            "_model_module_version": "1.5.0",
            "_view_count": null,
            "_view_module_version": "1.5.0",
            "box_style": "",
            "layout": "IPY_MODEL_f7a95c67755045e8aaba6926d5fdd6c8",
            "_model_module": "@jupyter-widgets/controls",
            "children": [
              "IPY_MODEL_1e092df296414d3795c81523d441b91b",
              "IPY_MODEL_bbe977b319c344ee9c20531403edca8f"
            ]
          }
        },
        "f7a95c67755045e8aaba6926d5fdd6c8": {
          "model_module": "@jupyter-widgets/base",
          "model_name": "LayoutModel",
          "state": {
            "_view_name": "LayoutView",
            "grid_template_rows": null,
            "right": null,
            "justify_content": null,
            "_view_module": "@jupyter-widgets/base",
            "overflow": null,
            "_model_module_version": "1.2.0",
            "_view_count": null,
            "flex_flow": null,
            "width": null,
            "min_width": null,
            "border": null,
            "align_items": null,
            "bottom": null,
            "_model_module": "@jupyter-widgets/base",
            "top": null,
            "grid_column": null,
            "overflow_y": null,
            "overflow_x": null,
            "grid_auto_flow": null,
            "grid_area": null,
            "grid_template_columns": null,
            "flex": null,
            "_model_name": "LayoutModel",
            "justify_items": null,
            "grid_row": null,
            "max_height": null,
            "align_content": null,
            "visibility": null,
            "align_self": null,
            "height": null,
            "min_height": null,
            "padding": null,
            "grid_auto_rows": null,
            "grid_gap": null,
            "max_width": null,
            "order": null,
            "_view_module_version": "1.2.0",
            "grid_template_areas": null,
            "object_position": null,
            "object_fit": null,
            "grid_auto_columns": null,
            "margin": null,
            "display": null,
            "left": null
          }
        },
        "1e092df296414d3795c81523d441b91b": {
          "model_module": "@jupyter-widgets/controls",
          "model_name": "FloatProgressModel",
          "state": {
            "_view_name": "ProgressView",
            "style": "IPY_MODEL_b710288bcaa347d7b9361a87406f2ac8",
            "_dom_classes": [],
            "description": "Downloading: 100%",
            "_model_name": "FloatProgressModel",
            "bar_style": "success",
            "max": 507,
            "_view_module": "@jupyter-widgets/controls",
            "_model_module_version": "1.5.0",
            "value": 507,
            "_view_count": null,
            "_view_module_version": "1.5.0",
            "orientation": "horizontal",
            "min": 0,
            "description_tooltip": null,
            "_model_module": "@jupyter-widgets/controls",
            "layout": "IPY_MODEL_ab298d34ca7d402db67a885ad4bbcf3f"
          }
        },
        "bbe977b319c344ee9c20531403edca8f": {
          "model_module": "@jupyter-widgets/controls",
          "model_name": "HTMLModel",
          "state": {
            "_view_name": "HTMLView",
            "style": "IPY_MODEL_3ffd1ea8a2e74a7c89d0c34698a81cf8",
            "_dom_classes": [],
            "description": "",
            "_model_name": "HTMLModel",
            "placeholder": "​",
            "_view_module": "@jupyter-widgets/controls",
            "_model_module_version": "1.5.0",
            "value": " 507/507 [00:00&lt;00:00, 8.89kB/s]",
            "_view_count": null,
            "_view_module_version": "1.5.0",
            "description_tooltip": null,
            "_model_module": "@jupyter-widgets/controls",
            "layout": "IPY_MODEL_33116e8db79643dc92b4052309b3cc58"
          }
        },
        "b710288bcaa347d7b9361a87406f2ac8": {
          "model_module": "@jupyter-widgets/controls",
          "model_name": "ProgressStyleModel",
          "state": {
            "_view_name": "StyleView",
            "_model_name": "ProgressStyleModel",
            "description_width": "initial",
            "_view_module": "@jupyter-widgets/base",
            "_model_module_version": "1.5.0",
            "_view_count": null,
            "_view_module_version": "1.2.0",
            "bar_color": null,
            "_model_module": "@jupyter-widgets/controls"
          }
        },
        "ab298d34ca7d402db67a885ad4bbcf3f": {
          "model_module": "@jupyter-widgets/base",
          "model_name": "LayoutModel",
          "state": {
            "_view_name": "LayoutView",
            "grid_template_rows": null,
            "right": null,
            "justify_content": null,
            "_view_module": "@jupyter-widgets/base",
            "overflow": null,
            "_model_module_version": "1.2.0",
            "_view_count": null,
            "flex_flow": null,
            "width": null,
            "min_width": null,
            "border": null,
            "align_items": null,
            "bottom": null,
            "_model_module": "@jupyter-widgets/base",
            "top": null,
            "grid_column": null,
            "overflow_y": null,
            "overflow_x": null,
            "grid_auto_flow": null,
            "grid_area": null,
            "grid_template_columns": null,
            "flex": null,
            "_model_name": "LayoutModel",
            "justify_items": null,
            "grid_row": null,
            "max_height": null,
            "align_content": null,
            "visibility": null,
            "align_self": null,
            "height": null,
            "min_height": null,
            "padding": null,
            "grid_auto_rows": null,
            "grid_gap": null,
            "max_width": null,
            "order": null,
            "_view_module_version": "1.2.0",
            "grid_template_areas": null,
            "object_position": null,
            "object_fit": null,
            "grid_auto_columns": null,
            "margin": null,
            "display": null,
            "left": null
          }
        },
        "3ffd1ea8a2e74a7c89d0c34698a81cf8": {
          "model_module": "@jupyter-widgets/controls",
          "model_name": "DescriptionStyleModel",
          "state": {
            "_view_name": "StyleView",
            "_model_name": "DescriptionStyleModel",
            "description_width": "",
            "_view_module": "@jupyter-widgets/base",
            "_model_module_version": "1.5.0",
            "_view_count": null,
            "_view_module_version": "1.2.0",
            "_model_module": "@jupyter-widgets/controls"
          }
        },
        "33116e8db79643dc92b4052309b3cc58": {
          "model_module": "@jupyter-widgets/base",
          "model_name": "LayoutModel",
          "state": {
            "_view_name": "LayoutView",
            "grid_template_rows": null,
            "right": null,
            "justify_content": null,
            "_view_module": "@jupyter-widgets/base",
            "overflow": null,
            "_model_module_version": "1.2.0",
            "_view_count": null,
            "flex_flow": null,
            "width": null,
            "min_width": null,
            "border": null,
            "align_items": null,
            "bottom": null,
            "_model_module": "@jupyter-widgets/base",
            "top": null,
            "grid_column": null,
            "overflow_y": null,
            "overflow_x": null,
            "grid_auto_flow": null,
            "grid_area": null,
            "grid_template_columns": null,
            "flex": null,
            "_model_name": "LayoutModel",
            "justify_items": null,
            "grid_row": null,
            "max_height": null,
            "align_content": null,
            "visibility": null,
            "align_self": null,
            "height": null,
            "min_height": null,
            "padding": null,
            "grid_auto_rows": null,
            "grid_gap": null,
            "max_width": null,
            "order": null,
            "_view_module_version": "1.2.0",
            "grid_template_areas": null,
            "object_position": null,
            "object_fit": null,
            "grid_auto_columns": null,
            "margin": null,
            "display": null,
            "left": null
          }
        },
        "d9049acad1c541dc9d1da270de16000c": {
          "model_module": "@jupyter-widgets/controls",
          "model_name": "HBoxModel",
          "state": {
            "_view_name": "HBoxView",
            "_dom_classes": [],
            "_model_name": "HBoxModel",
            "_view_module": "@jupyter-widgets/controls",
            "_model_module_version": "1.5.0",
            "_view_count": null,
            "_view_module_version": "1.5.0",
            "box_style": "",
            "layout": "IPY_MODEL_af1712928f8a453fb8664a7cddc26933",
            "_model_module": "@jupyter-widgets/controls",
            "children": [
              "IPY_MODEL_f686a50ab847411dbb01dd1ba77df625",
              "IPY_MODEL_625a1c48957f440ba9e976468c613e20"
            ]
          }
        },
        "af1712928f8a453fb8664a7cddc26933": {
          "model_module": "@jupyter-widgets/base",
          "model_name": "LayoutModel",
          "state": {
            "_view_name": "LayoutView",
            "grid_template_rows": null,
            "right": null,
            "justify_content": null,
            "_view_module": "@jupyter-widgets/base",
            "overflow": null,
            "_model_module_version": "1.2.0",
            "_view_count": null,
            "flex_flow": null,
            "width": null,
            "min_width": null,
            "border": null,
            "align_items": null,
            "bottom": null,
            "_model_module": "@jupyter-widgets/base",
            "top": null,
            "grid_column": null,
            "overflow_y": null,
            "overflow_x": null,
            "grid_auto_flow": null,
            "grid_area": null,
            "grid_template_columns": null,
            "flex": null,
            "_model_name": "LayoutModel",
            "justify_items": null,
            "grid_row": null,
            "max_height": null,
            "align_content": null,
            "visibility": null,
            "align_self": null,
            "height": null,
            "min_height": null,
            "padding": null,
            "grid_auto_rows": null,
            "grid_gap": null,
            "max_width": null,
            "order": null,
            "_view_module_version": "1.2.0",
            "grid_template_areas": null,
            "object_position": null,
            "object_fit": null,
            "grid_auto_columns": null,
            "margin": null,
            "display": null,
            "left": null
          }
        },
        "f686a50ab847411dbb01dd1ba77df625": {
          "model_module": "@jupyter-widgets/controls",
          "model_name": "FloatProgressModel",
          "state": {
            "_view_name": "ProgressView",
            "style": "IPY_MODEL_a2454a1d93e342218fdcbb43a97152b9",
            "_dom_classes": [],
            "description": "Downloading: 100%",
            "_model_name": "FloatProgressModel",
            "bar_style": "success",
            "max": 134982446,
            "_view_module": "@jupyter-widgets/controls",
            "_model_module_version": "1.5.0",
            "value": 134982446,
            "_view_count": null,
            "_view_module_version": "1.5.0",
            "orientation": "horizontal",
            "min": 0,
            "description_tooltip": null,
            "_model_module": "@jupyter-widgets/controls",
            "layout": "IPY_MODEL_aa637e3f2bfd431f89c985f1857d873a"
          }
        },
        "625a1c48957f440ba9e976468c613e20": {
          "model_module": "@jupyter-widgets/controls",
          "model_name": "HTMLModel",
          "state": {
            "_view_name": "HTMLView",
            "style": "IPY_MODEL_3f410617c5024264a58eeee45f23d6b9",
            "_dom_classes": [],
            "description": "",
            "_model_name": "HTMLModel",
            "placeholder": "​",
            "_view_module": "@jupyter-widgets/controls",
            "_model_module_version": "1.5.0",
            "value": " 135M/135M [00:03&lt;00:00, 37.9MB/s]",
            "_view_count": null,
            "_view_module_version": "1.5.0",
            "description_tooltip": null,
            "_model_module": "@jupyter-widgets/controls",
            "layout": "IPY_MODEL_ca6a9b303d7f45f9b5de00815654de05"
          }
        },
        "a2454a1d93e342218fdcbb43a97152b9": {
          "model_module": "@jupyter-widgets/controls",
          "model_name": "ProgressStyleModel",
          "state": {
            "_view_name": "StyleView",
            "_model_name": "ProgressStyleModel",
            "description_width": "initial",
            "_view_module": "@jupyter-widgets/base",
            "_model_module_version": "1.5.0",
            "_view_count": null,
            "_view_module_version": "1.2.0",
            "bar_color": null,
            "_model_module": "@jupyter-widgets/controls"
          }
        },
        "aa637e3f2bfd431f89c985f1857d873a": {
          "model_module": "@jupyter-widgets/base",
          "model_name": "LayoutModel",
          "state": {
            "_view_name": "LayoutView",
            "grid_template_rows": null,
            "right": null,
            "justify_content": null,
            "_view_module": "@jupyter-widgets/base",
            "overflow": null,
            "_model_module_version": "1.2.0",
            "_view_count": null,
            "flex_flow": null,
            "width": null,
            "min_width": null,
            "border": null,
            "align_items": null,
            "bottom": null,
            "_model_module": "@jupyter-widgets/base",
            "top": null,
            "grid_column": null,
            "overflow_y": null,
            "overflow_x": null,
            "grid_auto_flow": null,
            "grid_area": null,
            "grid_template_columns": null,
            "flex": null,
            "_model_name": "LayoutModel",
            "justify_items": null,
            "grid_row": null,
            "max_height": null,
            "align_content": null,
            "visibility": null,
            "align_self": null,
            "height": null,
            "min_height": null,
            "padding": null,
            "grid_auto_rows": null,
            "grid_gap": null,
            "max_width": null,
            "order": null,
            "_view_module_version": "1.2.0",
            "grid_template_areas": null,
            "object_position": null,
            "object_fit": null,
            "grid_auto_columns": null,
            "margin": null,
            "display": null,
            "left": null
          }
        },
        "3f410617c5024264a58eeee45f23d6b9": {
          "model_module": "@jupyter-widgets/controls",
          "model_name": "DescriptionStyleModel",
          "state": {
            "_view_name": "StyleView",
            "_model_name": "DescriptionStyleModel",
            "description_width": "",
            "_view_module": "@jupyter-widgets/base",
            "_model_module_version": "1.5.0",
            "_view_count": null,
            "_view_module_version": "1.2.0",
            "_model_module": "@jupyter-widgets/controls"
          }
        },
        "ca6a9b303d7f45f9b5de00815654de05": {
          "model_module": "@jupyter-widgets/base",
          "model_name": "LayoutModel",
          "state": {
            "_view_name": "LayoutView",
            "grid_template_rows": null,
            "right": null,
            "justify_content": null,
            "_view_module": "@jupyter-widgets/base",
            "overflow": null,
            "_model_module_version": "1.2.0",
            "_view_count": null,
            "flex_flow": null,
            "width": null,
            "min_width": null,
            "border": null,
            "align_items": null,
            "bottom": null,
            "_model_module": "@jupyter-widgets/base",
            "top": null,
            "grid_column": null,
            "overflow_y": null,
            "overflow_x": null,
            "grid_auto_flow": null,
            "grid_area": null,
            "grid_template_columns": null,
            "flex": null,
            "_model_name": "LayoutModel",
            "justify_items": null,
            "grid_row": null,
            "max_height": null,
            "align_content": null,
            "visibility": null,
            "align_self": null,
            "height": null,
            "min_height": null,
            "padding": null,
            "grid_auto_rows": null,
            "grid_gap": null,
            "max_width": null,
            "order": null,
            "_view_module_version": "1.2.0",
            "grid_template_areas": null,
            "object_position": null,
            "object_fit": null,
            "grid_auto_columns": null,
            "margin": null,
            "display": null,
            "left": null
          }
        },
        "15f99b0b9a354f9f94ddb316d721ec61": {
          "model_module": "@jupyter-widgets/controls",
          "model_name": "HBoxModel",
          "state": {
            "_view_name": "HBoxView",
            "_dom_classes": [],
            "_model_name": "HBoxModel",
            "_view_module": "@jupyter-widgets/controls",
            "_model_module_version": "1.5.0",
            "_view_count": null,
            "_view_module_version": "1.5.0",
            "box_style": "",
            "layout": "IPY_MODEL_0cff3a33825541a496dfe3b230f60e8c",
            "_model_module": "@jupyter-widgets/controls",
            "children": [
              "IPY_MODEL_7a59d79bb16a4cfeb761b200c033b850",
              "IPY_MODEL_b7588d9f873d4568b0ee5b4bf3ca9ca2"
            ]
          }
        },
        "0cff3a33825541a496dfe3b230f60e8c": {
          "model_module": "@jupyter-widgets/base",
          "model_name": "LayoutModel",
          "state": {
            "_view_name": "LayoutView",
            "grid_template_rows": null,
            "right": null,
            "justify_content": null,
            "_view_module": "@jupyter-widgets/base",
            "overflow": null,
            "_model_module_version": "1.2.0",
            "_view_count": null,
            "flex_flow": null,
            "width": null,
            "min_width": null,
            "border": null,
            "align_items": null,
            "bottom": null,
            "_model_module": "@jupyter-widgets/base",
            "top": null,
            "grid_column": null,
            "overflow_y": null,
            "overflow_x": null,
            "grid_auto_flow": null,
            "grid_area": null,
            "grid_template_columns": null,
            "flex": null,
            "_model_name": "LayoutModel",
            "justify_items": null,
            "grid_row": null,
            "max_height": null,
            "align_content": null,
            "visibility": null,
            "align_self": null,
            "height": null,
            "min_height": null,
            "padding": null,
            "grid_auto_rows": null,
            "grid_gap": null,
            "max_width": null,
            "order": null,
            "_view_module_version": "1.2.0",
            "grid_template_areas": null,
            "object_position": null,
            "object_fit": null,
            "grid_auto_columns": null,
            "margin": null,
            "display": null,
            "left": null
          }
        },
        "7a59d79bb16a4cfeb761b200c033b850": {
          "model_module": "@jupyter-widgets/controls",
          "model_name": "FloatProgressModel",
          "state": {
            "_view_name": "ProgressView",
            "style": "IPY_MODEL_c14bfcaea79d4a9da9b5997fb07e65cf",
            "_dom_classes": [],
            "description": "Downloading: 100%",
            "_model_name": "FloatProgressModel",
            "bar_style": "success",
            "max": 5646064,
            "_view_module": "@jupyter-widgets/controls",
            "_model_module_version": "1.5.0",
            "value": 5646064,
            "_view_count": null,
            "_view_module_version": "1.5.0",
            "orientation": "horizontal",
            "min": 0,
            "description_tooltip": null,
            "_model_module": "@jupyter-widgets/controls",
            "layout": "IPY_MODEL_73b0981ae7584b3ea5c471e8235a1284"
          }
        },
        "b7588d9f873d4568b0ee5b4bf3ca9ca2": {
          "model_module": "@jupyter-widgets/controls",
          "model_name": "HTMLModel",
          "state": {
            "_view_name": "HTMLView",
            "style": "IPY_MODEL_39f1451e9b7e417b9b285fa0ecc0fe5b",
            "_dom_classes": [],
            "description": "",
            "_model_name": "HTMLModel",
            "placeholder": "​",
            "_view_module": "@jupyter-widgets/controls",
            "_model_module_version": "1.5.0",
            "value": " 5.65M/5.65M [00:00&lt;00:00, 6.77MB/s]",
            "_view_count": null,
            "_view_module_version": "1.5.0",
            "description_tooltip": null,
            "_model_module": "@jupyter-widgets/controls",
            "layout": "IPY_MODEL_10731679ef9d44fa85598128f98217f9"
          }
        },
        "c14bfcaea79d4a9da9b5997fb07e65cf": {
          "model_module": "@jupyter-widgets/controls",
          "model_name": "ProgressStyleModel",
          "state": {
            "_view_name": "StyleView",
            "_model_name": "ProgressStyleModel",
            "description_width": "initial",
            "_view_module": "@jupyter-widgets/base",
            "_model_module_version": "1.5.0",
            "_view_count": null,
            "_view_module_version": "1.2.0",
            "bar_color": null,
            "_model_module": "@jupyter-widgets/controls"
          }
        },
        "73b0981ae7584b3ea5c471e8235a1284": {
          "model_module": "@jupyter-widgets/base",
          "model_name": "LayoutModel",
          "state": {
            "_view_name": "LayoutView",
            "grid_template_rows": null,
            "right": null,
            "justify_content": null,
            "_view_module": "@jupyter-widgets/base",
            "overflow": null,
            "_model_module_version": "1.2.0",
            "_view_count": null,
            "flex_flow": null,
            "width": null,
            "min_width": null,
            "border": null,
            "align_items": null,
            "bottom": null,
            "_model_module": "@jupyter-widgets/base",
            "top": null,
            "grid_column": null,
            "overflow_y": null,
            "overflow_x": null,
            "grid_auto_flow": null,
            "grid_area": null,
            "grid_template_columns": null,
            "flex": null,
            "_model_name": "LayoutModel",
            "justify_items": null,
            "grid_row": null,
            "max_height": null,
            "align_content": null,
            "visibility": null,
            "align_self": null,
            "height": null,
            "min_height": null,
            "padding": null,
            "grid_auto_rows": null,
            "grid_gap": null,
            "max_width": null,
            "order": null,
            "_view_module_version": "1.2.0",
            "grid_template_areas": null,
            "object_position": null,
            "object_fit": null,
            "grid_auto_columns": null,
            "margin": null,
            "display": null,
            "left": null
          }
        },
        "39f1451e9b7e417b9b285fa0ecc0fe5b": {
          "model_module": "@jupyter-widgets/controls",
          "model_name": "DescriptionStyleModel",
          "state": {
            "_view_name": "StyleView",
            "_model_name": "DescriptionStyleModel",
            "description_width": "",
            "_view_module": "@jupyter-widgets/base",
            "_model_module_version": "1.5.0",
            "_view_count": null,
            "_view_module_version": "1.2.0",
            "_model_module": "@jupyter-widgets/controls"
          }
        },
        "10731679ef9d44fa85598128f98217f9": {
          "model_module": "@jupyter-widgets/base",
          "model_name": "LayoutModel",
          "state": {
            "_view_name": "LayoutView",
            "grid_template_rows": null,
            "right": null,
            "justify_content": null,
            "_view_module": "@jupyter-widgets/base",
            "overflow": null,
            "_model_module_version": "1.2.0",
            "_view_count": null,
            "flex_flow": null,
            "width": null,
            "min_width": null,
            "border": null,
            "align_items": null,
            "bottom": null,
            "_model_module": "@jupyter-widgets/base",
            "top": null,
            "grid_column": null,
            "overflow_y": null,
            "overflow_x": null,
            "grid_auto_flow": null,
            "grid_area": null,
            "grid_template_columns": null,
            "flex": null,
            "_model_name": "LayoutModel",
            "justify_items": null,
            "grid_row": null,
            "max_height": null,
            "align_content": null,
            "visibility": null,
            "align_self": null,
            "height": null,
            "min_height": null,
            "padding": null,
            "grid_auto_rows": null,
            "grid_gap": null,
            "max_width": null,
            "order": null,
            "_view_module_version": "1.2.0",
            "grid_template_areas": null,
            "object_position": null,
            "object_fit": null,
            "grid_auto_columns": null,
            "margin": null,
            "display": null,
            "left": null
          }
        }
      }
    }
  },
  "cells": [
    {
      "cell_type": "code",
      "metadata": {
        "colab": {
          "base_uri": "https://localhost:8080/"
        },
        "id": "14LVmt6V-Q9i",
        "outputId": "6b9c0b58-9e20-432a-c05d-e524e68a7384"
      },
      "source": [
        "!pip install transformers\n",
        "!pip install sentencepiece"
      ],
      "execution_count": 1,
      "outputs": [
        {
          "output_type": "stream",
          "text": [
            "Collecting transformers\n",
            "\u001b[?25l  Downloading https://files.pythonhosted.org/packages/50/0c/7d5950fcd80b029be0a8891727ba21e0cd27692c407c51261c3c921f6da3/transformers-4.1.1-py3-none-any.whl (1.5MB)\n",
            "\r\u001b[K     |▏                               | 10kB 27.3MB/s eta 0:00:01\r\u001b[K     |▍                               | 20kB 34.2MB/s eta 0:00:01\r\u001b[K     |▋                               | 30kB 37.8MB/s eta 0:00:01\r\u001b[K     |▉                               | 40kB 28.6MB/s eta 0:00:01\r\u001b[K     |█                               | 51kB 31.2MB/s eta 0:00:01\r\u001b[K     |█▎                              | 61kB 33.8MB/s eta 0:00:01\r\u001b[K     |█▌                              | 71kB 23.9MB/s eta 0:00:01\r\u001b[K     |█▊                              | 81kB 24.8MB/s eta 0:00:01\r\u001b[K     |██                              | 92kB 26.5MB/s eta 0:00:01\r\u001b[K     |██▏                             | 102kB 23.2MB/s eta 0:00:01\r\u001b[K     |██▍                             | 112kB 23.2MB/s eta 0:00:01\r\u001b[K     |██▋                             | 122kB 23.2MB/s eta 0:00:01\r\u001b[K     |██▉                             | 133kB 23.2MB/s eta 0:00:01\r\u001b[K     |███                             | 143kB 23.2MB/s eta 0:00:01\r\u001b[K     |███▎                            | 153kB 23.2MB/s eta 0:00:01\r\u001b[K     |███▌                            | 163kB 23.2MB/s eta 0:00:01\r\u001b[K     |███▊                            | 174kB 23.2MB/s eta 0:00:01\r\u001b[K     |████                            | 184kB 23.2MB/s eta 0:00:01\r\u001b[K     |████▏                           | 194kB 23.2MB/s eta 0:00:01\r\u001b[K     |████▎                           | 204kB 23.2MB/s eta 0:00:01\r\u001b[K     |████▌                           | 215kB 23.2MB/s eta 0:00:01\r\u001b[K     |████▊                           | 225kB 23.2MB/s eta 0:00:01\r\u001b[K     |█████                           | 235kB 23.2MB/s eta 0:00:01\r\u001b[K     |█████▏                          | 245kB 23.2MB/s eta 0:00:01\r\u001b[K     |█████▍                          | 256kB 23.2MB/s eta 0:00:01\r\u001b[K     |█████▋                          | 266kB 23.2MB/s eta 0:00:01\r\u001b[K     |█████▉                          | 276kB 23.2MB/s eta 0:00:01\r\u001b[K     |██████                          | 286kB 23.2MB/s eta 0:00:01\r\u001b[K     |██████▎                         | 296kB 23.2MB/s eta 0:00:01\r\u001b[K     |██████▌                         | 307kB 23.2MB/s eta 0:00:01\r\u001b[K     |██████▊                         | 317kB 23.2MB/s eta 0:00:01\r\u001b[K     |███████                         | 327kB 23.2MB/s eta 0:00:01\r\u001b[K     |███████▏                        | 337kB 23.2MB/s eta 0:00:01\r\u001b[K     |███████▍                        | 348kB 23.2MB/s eta 0:00:01\r\u001b[K     |███████▋                        | 358kB 23.2MB/s eta 0:00:01\r\u001b[K     |███████▉                        | 368kB 23.2MB/s eta 0:00:01\r\u001b[K     |████████                        | 378kB 23.2MB/s eta 0:00:01\r\u001b[K     |████████▎                       | 389kB 23.2MB/s eta 0:00:01\r\u001b[K     |████████▌                       | 399kB 23.2MB/s eta 0:00:01\r\u001b[K     |████████▋                       | 409kB 23.2MB/s eta 0:00:01\r\u001b[K     |████████▉                       | 419kB 23.2MB/s eta 0:00:01\r\u001b[K     |█████████                       | 430kB 23.2MB/s eta 0:00:01\r\u001b[K     |█████████▎                      | 440kB 23.2MB/s eta 0:00:01\r\u001b[K     |█████████▌                      | 450kB 23.2MB/s eta 0:00:01\r\u001b[K     |█████████▊                      | 460kB 23.2MB/s eta 0:00:01\r\u001b[K     |██████████                      | 471kB 23.2MB/s eta 0:00:01\r\u001b[K     |██████████▏                     | 481kB 23.2MB/s eta 0:00:01\r\u001b[K     |██████████▍                     | 491kB 23.2MB/s eta 0:00:01\r\u001b[K     |██████████▋                     | 501kB 23.2MB/s eta 0:00:01\r\u001b[K     |██████████▉                     | 512kB 23.2MB/s eta 0:00:01\r\u001b[K     |███████████                     | 522kB 23.2MB/s eta 0:00:01\r\u001b[K     |███████████▎                    | 532kB 23.2MB/s eta 0:00:01\r\u001b[K     |███████████▌                    | 542kB 23.2MB/s eta 0:00:01\r\u001b[K     |███████████▊                    | 552kB 23.2MB/s eta 0:00:01\r\u001b[K     |████████████                    | 563kB 23.2MB/s eta 0:00:01\r\u001b[K     |████████████▏                   | 573kB 23.2MB/s eta 0:00:01\r\u001b[K     |████████████▍                   | 583kB 23.2MB/s eta 0:00:01\r\u001b[K     |████████████▋                   | 593kB 23.2MB/s eta 0:00:01\r\u001b[K     |████████████▉                   | 604kB 23.2MB/s eta 0:00:01\r\u001b[K     |█████████████                   | 614kB 23.2MB/s eta 0:00:01\r\u001b[K     |█████████████▏                  | 624kB 23.2MB/s eta 0:00:01\r\u001b[K     |█████████████▍                  | 634kB 23.2MB/s eta 0:00:01\r\u001b[K     |█████████████▋                  | 645kB 23.2MB/s eta 0:00:01\r\u001b[K     |█████████████▉                  | 655kB 23.2MB/s eta 0:00:01\r\u001b[K     |██████████████                  | 665kB 23.2MB/s eta 0:00:01\r\u001b[K     |██████████████▎                 | 675kB 23.2MB/s eta 0:00:01\r\u001b[K     |██████████████▌                 | 686kB 23.2MB/s eta 0:00:01\r\u001b[K     |██████████████▊                 | 696kB 23.2MB/s eta 0:00:01\r\u001b[K     |███████████████                 | 706kB 23.2MB/s eta 0:00:01\r\u001b[K     |███████████████▏                | 716kB 23.2MB/s eta 0:00:01\r\u001b[K     |███████████████▍                | 727kB 23.2MB/s eta 0:00:01\r\u001b[K     |███████████████▋                | 737kB 23.2MB/s eta 0:00:01\r\u001b[K     |███████████████▉                | 747kB 23.2MB/s eta 0:00:01\r\u001b[K     |████████████████                | 757kB 23.2MB/s eta 0:00:01\r\u001b[K     |████████████████▎               | 768kB 23.2MB/s eta 0:00:01\r\u001b[K     |████████████████▌               | 778kB 23.2MB/s eta 0:00:01\r\u001b[K     |████████████████▊               | 788kB 23.2MB/s eta 0:00:01\r\u001b[K     |█████████████████               | 798kB 23.2MB/s eta 0:00:01\r\u001b[K     |█████████████████               | 808kB 23.2MB/s eta 0:00:01\r\u001b[K     |█████████████████▎              | 819kB 23.2MB/s eta 0:00:01\r\u001b[K     |█████████████████▌              | 829kB 23.2MB/s eta 0:00:01\r\u001b[K     |█████████████████▊              | 839kB 23.2MB/s eta 0:00:01\r\u001b[K     |██████████████████              | 849kB 23.2MB/s eta 0:00:01\r\u001b[K     |██████████████████▏             | 860kB 23.2MB/s eta 0:00:01\r\u001b[K     |██████████████████▍             | 870kB 23.2MB/s eta 0:00:01\r\u001b[K     |██████████████████▋             | 880kB 23.2MB/s eta 0:00:01\r\u001b[K     |██████████████████▉             | 890kB 23.2MB/s eta 0:00:01\r\u001b[K     |███████████████████             | 901kB 23.2MB/s eta 0:00:01\r\u001b[K     |███████████████████▎            | 911kB 23.2MB/s eta 0:00:01\r\u001b[K     |███████████████████▌            | 921kB 23.2MB/s eta 0:00:01\r\u001b[K     |███████████████████▊            | 931kB 23.2MB/s eta 0:00:01\r\u001b[K     |████████████████████            | 942kB 23.2MB/s eta 0:00:01\r\u001b[K     |████████████████████▏           | 952kB 23.2MB/s eta 0:00:01\r\u001b[K     |████████████████████▍           | 962kB 23.2MB/s eta 0:00:01\r\u001b[K     |████████████████████▋           | 972kB 23.2MB/s eta 0:00:01\r\u001b[K     |████████████████████▉           | 983kB 23.2MB/s eta 0:00:01\r\u001b[K     |█████████████████████           | 993kB 23.2MB/s eta 0:00:01\r\u001b[K     |█████████████████████▎          | 1.0MB 23.2MB/s eta 0:00:01\r\u001b[K     |█████████████████████▍          | 1.0MB 23.2MB/s eta 0:00:01\r\u001b[K     |█████████████████████▋          | 1.0MB 23.2MB/s eta 0:00:01\r\u001b[K     |█████████████████████▉          | 1.0MB 23.2MB/s eta 0:00:01\r\u001b[K     |██████████████████████          | 1.0MB 23.2MB/s eta 0:00:01\r\u001b[K     |██████████████████████▎         | 1.1MB 23.2MB/s eta 0:00:01\r\u001b[K     |██████████████████████▌         | 1.1MB 23.2MB/s eta 0:00:01\r\u001b[K     |██████████████████████▊         | 1.1MB 23.2MB/s eta 0:00:01\r\u001b[K     |███████████████████████         | 1.1MB 23.2MB/s eta 0:00:01\r\u001b[K     |███████████████████████▏        | 1.1MB 23.2MB/s eta 0:00:01\r\u001b[K     |███████████████████████▍        | 1.1MB 23.2MB/s eta 0:00:01\r\u001b[K     |███████████████████████▋        | 1.1MB 23.2MB/s eta 0:00:01\r\u001b[K     |███████████████████████▉        | 1.1MB 23.2MB/s eta 0:00:01\r\u001b[K     |████████████████████████        | 1.1MB 23.2MB/s eta 0:00:01\r\u001b[K     |████████████████████████▎       | 1.1MB 23.2MB/s eta 0:00:01\r\u001b[K     |████████████████████████▌       | 1.2MB 23.2MB/s eta 0:00:01\r\u001b[K     |████████████████████████▊       | 1.2MB 23.2MB/s eta 0:00:01\r\u001b[K     |█████████████████████████       | 1.2MB 23.2MB/s eta 0:00:01\r\u001b[K     |█████████████████████████▏      | 1.2MB 23.2MB/s eta 0:00:01\r\u001b[K     |█████████████████████████▍      | 1.2MB 23.2MB/s eta 0:00:01\r\u001b[K     |█████████████████████████▋      | 1.2MB 23.2MB/s eta 0:00:01\r\u001b[K     |█████████████████████████▊      | 1.2MB 23.2MB/s eta 0:00:01\r\u001b[K     |██████████████████████████      | 1.2MB 23.2MB/s eta 0:00:01\r\u001b[K     |██████████████████████████▏     | 1.2MB 23.2MB/s eta 0:00:01\r\u001b[K     |██████████████████████████▍     | 1.2MB 23.2MB/s eta 0:00:01\r\u001b[K     |██████████████████████████▋     | 1.3MB 23.2MB/s eta 0:00:01\r\u001b[K     |██████████████████████████▉     | 1.3MB 23.2MB/s eta 0:00:01\r\u001b[K     |███████████████████████████     | 1.3MB 23.2MB/s eta 0:00:01\r\u001b[K     |███████████████████████████▎    | 1.3MB 23.2MB/s eta 0:00:01\r\u001b[K     |███████████████████████████▌    | 1.3MB 23.2MB/s eta 0:00:01\r\u001b[K     |███████████████████████████▊    | 1.3MB 23.2MB/s eta 0:00:01\r\u001b[K     |████████████████████████████    | 1.3MB 23.2MB/s eta 0:00:01\r\u001b[K     |████████████████████████████▏   | 1.3MB 23.2MB/s eta 0:00:01\r\u001b[K     |████████████████████████████▍   | 1.3MB 23.2MB/s eta 0:00:01\r\u001b[K     |████████████████████████████▋   | 1.4MB 23.2MB/s eta 0:00:01\r\u001b[K     |████████████████████████████▉   | 1.4MB 23.2MB/s eta 0:00:01\r\u001b[K     |█████████████████████████████   | 1.4MB 23.2MB/s eta 0:00:01\r\u001b[K     |█████████████████████████████▎  | 1.4MB 23.2MB/s eta 0:00:01\r\u001b[K     |█████████████████████████████▌  | 1.4MB 23.2MB/s eta 0:00:01\r\u001b[K     |█████████████████████████████▊  | 1.4MB 23.2MB/s eta 0:00:01\r\u001b[K     |█████████████████████████████▉  | 1.4MB 23.2MB/s eta 0:00:01\r\u001b[K     |██████████████████████████████  | 1.4MB 23.2MB/s eta 0:00:01\r\u001b[K     |██████████████████████████████▎ | 1.4MB 23.2MB/s eta 0:00:01\r\u001b[K     |██████████████████████████████▌ | 1.4MB 23.2MB/s eta 0:00:01\r\u001b[K     |██████████████████████████████▊ | 1.5MB 23.2MB/s eta 0:00:01\r\u001b[K     |███████████████████████████████ | 1.5MB 23.2MB/s eta 0:00:01\r\u001b[K     |███████████████████████████████▏| 1.5MB 23.2MB/s eta 0:00:01\r\u001b[K     |███████████████████████████████▍| 1.5MB 23.2MB/s eta 0:00:01\r\u001b[K     |███████████████████████████████▋| 1.5MB 23.2MB/s eta 0:00:01\r\u001b[K     |███████████████████████████████▉| 1.5MB 23.2MB/s eta 0:00:01\r\u001b[K     |████████████████████████████████| 1.5MB 23.2MB/s \n",
            "\u001b[?25hRequirement already satisfied: packaging in /usr/local/lib/python3.6/dist-packages (from transformers) (20.8)\n",
            "Collecting tokenizers==0.9.4\n",
            "\u001b[?25l  Downloading https://files.pythonhosted.org/packages/0f/1c/e789a8b12e28be5bc1ce2156cf87cb522b379be9cadc7ad8091a4cc107c4/tokenizers-0.9.4-cp36-cp36m-manylinux2010_x86_64.whl (2.9MB)\n",
            "\u001b[K     |████████████████████████████████| 2.9MB 55.8MB/s \n",
            "\u001b[?25hRequirement already satisfied: numpy in /usr/local/lib/python3.6/dist-packages (from transformers) (1.19.4)\n",
            "Requirement already satisfied: filelock in /usr/local/lib/python3.6/dist-packages (from transformers) (3.0.12)\n",
            "Requirement already satisfied: dataclasses; python_version < \"3.7\" in /usr/local/lib/python3.6/dist-packages (from transformers) (0.8)\n",
            "Collecting sacremoses\n",
            "\u001b[?25l  Downloading https://files.pythonhosted.org/packages/7d/34/09d19aff26edcc8eb2a01bed8e98f13a1537005d31e95233fd48216eed10/sacremoses-0.0.43.tar.gz (883kB)\n",
            "\u001b[K     |████████████████████████████████| 890kB 47.4MB/s \n",
            "\u001b[?25hRequirement already satisfied: regex!=2019.12.17 in /usr/local/lib/python3.6/dist-packages (from transformers) (2019.12.20)\n",
            "Requirement already satisfied: requests in /usr/local/lib/python3.6/dist-packages (from transformers) (2.23.0)\n",
            "Requirement already satisfied: tqdm>=4.27 in /usr/local/lib/python3.6/dist-packages (from transformers) (4.41.1)\n",
            "Requirement already satisfied: pyparsing>=2.0.2 in /usr/local/lib/python3.6/dist-packages (from packaging->transformers) (2.4.7)\n",
            "Requirement already satisfied: six in /usr/local/lib/python3.6/dist-packages (from sacremoses->transformers) (1.15.0)\n",
            "Requirement already satisfied: click in /usr/local/lib/python3.6/dist-packages (from sacremoses->transformers) (7.1.2)\n",
            "Requirement already satisfied: joblib in /usr/local/lib/python3.6/dist-packages (from sacremoses->transformers) (1.0.0)\n",
            "Requirement already satisfied: certifi>=2017.4.17 in /usr/local/lib/python3.6/dist-packages (from requests->transformers) (2020.12.5)\n",
            "Requirement already satisfied: urllib3!=1.25.0,!=1.25.1,<1.26,>=1.21.1 in /usr/local/lib/python3.6/dist-packages (from requests->transformers) (1.24.3)\n",
            "Requirement already satisfied: idna<3,>=2.5 in /usr/local/lib/python3.6/dist-packages (from requests->transformers) (2.10)\n",
            "Requirement already satisfied: chardet<4,>=3.0.2 in /usr/local/lib/python3.6/dist-packages (from requests->transformers) (3.0.4)\n",
            "Building wheels for collected packages: sacremoses\n",
            "  Building wheel for sacremoses (setup.py) ... \u001b[?25l\u001b[?25hdone\n",
            "  Created wheel for sacremoses: filename=sacremoses-0.0.43-cp36-none-any.whl size=893261 sha256=99d055fe7a6d8a27c6e80666ff184a78a43f9ebf0552968e3ad626c1aba48787\n",
            "  Stored in directory: /root/.cache/pip/wheels/29/3c/fd/7ce5c3f0666dab31a50123635e6fb5e19ceb42ce38d4e58f45\n",
            "Successfully built sacremoses\n",
            "Installing collected packages: tokenizers, sacremoses, transformers\n",
            "Successfully installed sacremoses-0.0.43 tokenizers-0.9.4 transformers-4.1.1\n",
            "Collecting sentencepiece\n",
            "\u001b[?25l  Downloading https://files.pythonhosted.org/packages/e5/2d/6d4ca4bef9a67070fa1cac508606328329152b1df10bdf31fb6e4e727894/sentencepiece-0.1.94-cp36-cp36m-manylinux2014_x86_64.whl (1.1MB)\n",
            "\u001b[K     |████████████████████████████████| 1.1MB 16.2MB/s \n",
            "\u001b[?25hInstalling collected packages: sentencepiece\n",
            "Successfully installed sentencepiece-0.1.94\n"
          ],
          "name": "stdout"
        }
      ]
    },
    {
      "cell_type": "code",
      "metadata": {
        "id": "hTUZIOen-gTp"
      },
      "source": [
        "import numpy as np\n",
        "import pandas as pd\n",
        "import torch\n",
        "import torch.nn as nn\n",
        "from sklearn.model_selection import train_test_split\n",
        "from sklearn.metrics import classification_report\n",
        "import transformers\n",
        "from transformers import AutoModel, AutoTokenizer\n",
        "\n",
        "# specify GPU\n",
        "device = torch.device(\"cuda\")"
      ],
      "execution_count": 2,
      "outputs": []
    },
    {
      "cell_type": "code",
      "metadata": {
        "colab": {
          "base_uri": "https://localhost:8080/"
        },
        "id": "CebjxQtwhrQ2",
        "outputId": "43ae37ac-64cb-455f-c792-09a09464c0f9"
      },
      "source": [
        "!git clone https://github.com/anoopkunchukuttan/indic_nlp_resources.git\n",
        "!pip install indic-nlp-library\n",
        "import sys\n",
        "from indicnlp import common\n",
        "\n",
        "# The path to the local git repo for Indic NLP library\n",
        "INDIC_NLP_LIB_HOME=r\"indic_nlp_library\"\n",
        "\n",
        "# The path to the local git repo for Indic NLP Resources\n",
        "INDIC_NLP_RESOURCES=r\"indic_nlp_resources\"\n",
        "\n",
        "# Add library to Python path\n",
        "sys.path.append(r'{}\\src'.format(INDIC_NLP_LIB_HOME))\n",
        "\n",
        "# Set environment variable for resources folder\n",
        "common.set_resources_path(INDIC_NLP_RESOURCES)\n",
        "from indicnlp.tokenize import sentence_tokenize, indic_tokenize"
      ],
      "execution_count": 3,
      "outputs": [
        {
          "output_type": "stream",
          "text": [
            "Cloning into 'indic_nlp_resources'...\n",
            "remote: Enumerating objects: 7, done.\u001b[K\n",
            "remote: Counting objects: 100% (7/7), done.\u001b[K\n",
            "remote: Compressing objects: 100% (7/7), done.\u001b[K\n",
            "remote: Total 133 (delta 0), reused 2 (delta 0), pack-reused 126\u001b[K\n",
            "Receiving objects: 100% (133/133), 149.77 MiB | 41.90 MiB/s, done.\n",
            "Resolving deltas: 100% (51/51), done.\n",
            "Collecting indic-nlp-library\n",
            "  Downloading https://files.pythonhosted.org/packages/2f/51/f4e4542a226055b73a621ad442c16ae2c913d6b497283c99cae7a9661e6c/indic_nlp_library-0.71-py3-none-any.whl\n",
            "Requirement already satisfied: pandas in /usr/local/lib/python3.6/dist-packages (from indic-nlp-library) (1.1.5)\n",
            "Collecting morfessor\n",
            "  Downloading https://files.pythonhosted.org/packages/39/e6/7afea30be2ee4d29ce9de0fa53acbb033163615f849515c0b1956ad074ee/Morfessor-2.0.6-py3-none-any.whl\n",
            "Requirement already satisfied: numpy in /usr/local/lib/python3.6/dist-packages (from indic-nlp-library) (1.19.4)\n",
            "Requirement already satisfied: python-dateutil>=2.7.3 in /usr/local/lib/python3.6/dist-packages (from pandas->indic-nlp-library) (2.8.1)\n",
            "Requirement already satisfied: pytz>=2017.2 in /usr/local/lib/python3.6/dist-packages (from pandas->indic-nlp-library) (2018.9)\n",
            "Requirement already satisfied: six>=1.5 in /usr/local/lib/python3.6/dist-packages (from python-dateutil>=2.7.3->pandas->indic-nlp-library) (1.15.0)\n",
            "Installing collected packages: morfessor, indic-nlp-library\n",
            "Successfully installed indic-nlp-library-0.71 morfessor-2.0.6\n"
          ],
          "name": "stdout"
        }
      ]
    },
    {
      "cell_type": "code",
      "metadata": {
        "id": "_Pc3bz6l-jv1"
      },
      "source": [
        "train_file = 'train.csv'\n",
        "val_file = 'val.csv'\n",
        "test_file = 'test.csv'"
      ],
      "execution_count": 4,
      "outputs": []
    },
    {
      "cell_type": "code",
      "metadata": {
        "id": "D5E5dDBx-lIw"
      },
      "source": [
        "train_data = pd.read_csv(train_file, header=0, index_col=0)\n",
        "val_data = pd.read_csv(val_file, header=0, index_col=0)\n",
        "non_hostile_val_data = pd.read_csv('y_pred_val_non_hostile.csv', header=0, index_col=0)\n",
        "test_data = pd.read_csv(test_file, header=0, index_col=0)\n",
        "train_val_data = train_data.append(val_data, ignore_index=True)"
      ],
      "execution_count": 5,
      "outputs": []
    },
    {
      "cell_type": "code",
      "metadata": {
        "id": "idG38Zd8a_Km"
      },
      "source": [
        "non_hostile_test_data = pd.read_csv('y_pred_test_non_hostile.csv', header=0, index_col=0)\n",
        "val_data_orig = val_data"
      ],
      "execution_count": 6,
      "outputs": []
    },
    {
      "cell_type": "code",
      "metadata": {
        "id": "Sdrm8rQRbAgK"
      },
      "source": [
        "train_data.drop(train_data[train_data['Labels Set']=='non-hostile'].index, inplace = True)\n",
        "val_data.drop(non_hostile_val_data[non_hostile_val_data['non-hostile']==1].index, inplace=True)\n",
        "train_val_data.drop(train_val_data[train_val_data['Labels Set']=='non-hostile'].index, inplace = True)"
      ],
      "execution_count": 7,
      "outputs": []
    },
    {
      "cell_type": "code",
      "metadata": {
        "id": "og7F_5QybBnj"
      },
      "source": [
        "test_data.drop(non_hostile_test_data[non_hostile_test_data['non-hostile']==1].index, inplace=True)"
      ],
      "execution_count": 8,
      "outputs": []
    },
    {
      "cell_type": "code",
      "metadata": {
        "colab": {
          "base_uri": "https://localhost:8080/",
          "height": 501
        },
        "id": "9LgB18U3-uhY",
        "outputId": "2b0d7a45-511a-48b8-954f-e6eb6d995c90"
      },
      "source": [
        "print(train_data.shape)\n",
        "train_data.head()"
      ],
      "execution_count": 9,
      "outputs": [
        {
          "output_type": "stream",
          "text": [
            "(2678, 13)\n"
          ],
          "name": "stdout"
        },
        {
          "output_type": "execute_result",
          "data": {
            "text/html": [
              "<div>\n",
              "<style scoped>\n",
              "    .dataframe tbody tr th:only-of-type {\n",
              "        vertical-align: middle;\n",
              "    }\n",
              "\n",
              "    .dataframe tbody tr th {\n",
              "        vertical-align: top;\n",
              "    }\n",
              "\n",
              "    .dataframe thead th {\n",
              "        text-align: right;\n",
              "    }\n",
              "</style>\n",
              "<table border=\"1\" class=\"dataframe\">\n",
              "  <thead>\n",
              "    <tr style=\"text-align: right;\">\n",
              "      <th></th>\n",
              "      <th>Post</th>\n",
              "      <th>Labels Set</th>\n",
              "      <th>emails</th>\n",
              "      <th>urls</th>\n",
              "      <th>mentions</th>\n",
              "      <th>hashtags</th>\n",
              "      <th>emojis</th>\n",
              "      <th>emoticons</th>\n",
              "      <th>reserved_words</th>\n",
              "      <th>Filtered_Post</th>\n",
              "      <th>Filtered_Post_Stopword_Removed</th>\n",
              "      <th>Unnamed: 12</th>\n",
              "      <th>Unnamed: 13</th>\n",
              "    </tr>\n",
              "    <tr>\n",
              "      <th>Unique ID</th>\n",
              "      <th></th>\n",
              "      <th></th>\n",
              "      <th></th>\n",
              "      <th></th>\n",
              "      <th></th>\n",
              "      <th></th>\n",
              "      <th></th>\n",
              "      <th></th>\n",
              "      <th></th>\n",
              "      <th></th>\n",
              "      <th></th>\n",
              "      <th></th>\n",
              "      <th></th>\n",
              "    </tr>\n",
              "  </thead>\n",
              "  <tbody>\n",
              "    <tr>\n",
              "      <th>1</th>\n",
              "      <td>मेरे देश के हिन्दु बहुत निराले है। कुछ तो पक्क...</td>\n",
              "      <td>hate,offensive</td>\n",
              "      <td>[]</td>\n",
              "      <td>[]</td>\n",
              "      <td>[]</td>\n",
              "      <td>[]</td>\n",
              "      <td>['🙏', '🙏']</td>\n",
              "      <td>[]</td>\n",
              "      <td>[]</td>\n",
              "      <td>मेरे देश के हिन्दु बहुत निराले है। कुछ तो पक्क...</td>\n",
              "      <td>मेरे देश हिन्दु निराले है। पक्के राम भक्त बाबर...</td>\n",
              "      <td>NaN</td>\n",
              "      <td>NaN</td>\n",
              "    </tr>\n",
              "    <tr>\n",
              "      <th>4</th>\n",
              "      <td>@prabhav218 साले जेएनयू छाप कमिने लोग हिन्दुओं...</td>\n",
              "      <td>defamation,offensive</td>\n",
              "      <td>[]</td>\n",
              "      <td>[]</td>\n",
              "      <td>['@prabhav218']</td>\n",
              "      <td>[]</td>\n",
              "      <td>[]</td>\n",
              "      <td>[]</td>\n",
              "      <td>[]</td>\n",
              "      <td>साले जेएनयू छाप कमिने लोग हिन्दुओं को यह कहते...</td>\n",
              "      <td>साले जेएनयू छाप कमिने लोग हिन्दुओं संविधान सबक...</td>\n",
              "      <td>NaN</td>\n",
              "      <td>NaN</td>\n",
              "    </tr>\n",
              "    <tr>\n",
              "      <th>6</th>\n",
              "      <td>चीन ने UN में तर्क दिया की भारत का विपक्ष ही अ...</td>\n",
              "      <td>fake</td>\n",
              "      <td>[]</td>\n",
              "      <td>[]</td>\n",
              "      <td>[]</td>\n",
              "      <td>[]</td>\n",
              "      <td>[]</td>\n",
              "      <td>[]</td>\n",
              "      <td>[]</td>\n",
              "      <td>चीन ने UN में तर्क दिया की भारत का विपक्ष ही अ...</td>\n",
              "      <td>चीन UN तर्क भारत विपक्ष अजर‌ मसुद आतंकी मानता ...</td>\n",
              "      <td>NaN</td>\n",
              "      <td>NaN</td>\n",
              "    </tr>\n",
              "    <tr>\n",
              "      <th>11</th>\n",
              "      <td>RT @_Pb_swain_: मोदीजी और जब सारा देश सेना के ...</td>\n",
              "      <td>hate</td>\n",
              "      <td>[]</td>\n",
              "      <td>[]</td>\n",
              "      <td>['@_Pb_swain_:']</td>\n",
              "      <td>[]</td>\n",
              "      <td>['🤔']</td>\n",
              "      <td>[]</td>\n",
              "      <td>['RT']</td>\n",
              "      <td>मोदीजी और जब सारा देश सेना के साथ खडी है,\\n\\...</td>\n",
              "      <td>मोदीजी देश सेना खडी है, सयाने विदेश पडे है? बो...</td>\n",
              "      <td>NaN</td>\n",
              "      <td>NaN</td>\n",
              "    </tr>\n",
              "    <tr>\n",
              "      <th>12</th>\n",
              "      <td>RT @ShilpiSinghINC: 48000 घरों को तोड़ने का आद...</td>\n",
              "      <td>offensive</td>\n",
              "      <td>[]</td>\n",
              "      <td>[]</td>\n",
              "      <td>['@ShilpiSinghINC:']</td>\n",
              "      <td>[]</td>\n",
              "      <td>[]</td>\n",
              "      <td>[]</td>\n",
              "      <td>['RT']</td>\n",
              "      <td>48000 घरों को तोड़ने का आदेश आया है, किसी को...</td>\n",
              "      <td>48000 घरों तोड़ने आदेश आया है, फर्क़ पड़ता! अम...</td>\n",
              "      <td>NaN</td>\n",
              "      <td>NaN</td>\n",
              "    </tr>\n",
              "  </tbody>\n",
              "</table>\n",
              "</div>"
            ],
            "text/plain": [
              "                                                        Post  ... Unnamed: 13\n",
              "Unique ID                                                     ...            \n",
              "1          मेरे देश के हिन्दु बहुत निराले है। कुछ तो पक्क...  ...         NaN\n",
              "4          @prabhav218 साले जेएनयू छाप कमिने लोग हिन्दुओं...  ...         NaN\n",
              "6          चीन ने UN में तर्क दिया की भारत का विपक्ष ही अ...  ...         NaN\n",
              "11         RT @_Pb_swain_: मोदीजी और जब सारा देश सेना के ...  ...         NaN\n",
              "12         RT @ShilpiSinghINC: 48000 घरों को तोड़ने का आद...  ...         NaN\n",
              "\n",
              "[5 rows x 13 columns]"
            ]
          },
          "metadata": {
            "tags": []
          },
          "execution_count": 9
        }
      ]
    },
    {
      "cell_type": "code",
      "metadata": {
        "colab": {
          "base_uri": "https://localhost:8080/",
          "height": 377
        },
        "id": "qc49eCWS-wlX",
        "outputId": "35e03032-8eae-4edf-b949-57510be1e645"
      },
      "source": [
        "print(val_data.shape)\n",
        "val_data.head()"
      ],
      "execution_count": 10,
      "outputs": [
        {
          "output_type": "stream",
          "text": [
            "(379, 11)\n"
          ],
          "name": "stdout"
        },
        {
          "output_type": "execute_result",
          "data": {
            "text/html": [
              "<div>\n",
              "<style scoped>\n",
              "    .dataframe tbody tr th:only-of-type {\n",
              "        vertical-align: middle;\n",
              "    }\n",
              "\n",
              "    .dataframe tbody tr th {\n",
              "        vertical-align: top;\n",
              "    }\n",
              "\n",
              "    .dataframe thead th {\n",
              "        text-align: right;\n",
              "    }\n",
              "</style>\n",
              "<table border=\"1\" class=\"dataframe\">\n",
              "  <thead>\n",
              "    <tr style=\"text-align: right;\">\n",
              "      <th></th>\n",
              "      <th>Post</th>\n",
              "      <th>Labels Set</th>\n",
              "      <th>emails</th>\n",
              "      <th>urls</th>\n",
              "      <th>mentions</th>\n",
              "      <th>hashtags</th>\n",
              "      <th>emojis</th>\n",
              "      <th>emoticons</th>\n",
              "      <th>reserved_words</th>\n",
              "      <th>Filtered_Post</th>\n",
              "      <th>Filtered_Post_Stopword_Removed</th>\n",
              "    </tr>\n",
              "    <tr>\n",
              "      <th>Unique ID</th>\n",
              "      <th></th>\n",
              "      <th></th>\n",
              "      <th></th>\n",
              "      <th></th>\n",
              "      <th></th>\n",
              "      <th></th>\n",
              "      <th></th>\n",
              "      <th></th>\n",
              "      <th></th>\n",
              "      <th></th>\n",
              "      <th></th>\n",
              "    </tr>\n",
              "  </thead>\n",
              "  <tbody>\n",
              "    <tr>\n",
              "      <th>2</th>\n",
              "      <td>भारतीय जनता पार्टी rss वाले इतने गिरे हुए हैं ...</td>\n",
              "      <td>defamation</td>\n",
              "      <td>[]</td>\n",
              "      <td>[]</td>\n",
              "      <td>[]</td>\n",
              "      <td>[]</td>\n",
              "      <td>[]</td>\n",
              "      <td>[]</td>\n",
              "      <td>[]</td>\n",
              "      <td>भारतीय जनता पार्टी rss वाले इतने गिरे हुए हैं ...</td>\n",
              "      <td>भारतीय जनता पार्टी rss इतने गिरे हूं मेरी जासू...</td>\n",
              "    </tr>\n",
              "    <tr>\n",
              "      <th>8</th>\n",
              "      <td>अद्भुत - जो वामपंथी कहते है कि महाभारत का युद्...</td>\n",
              "      <td>fake</td>\n",
              "      <td>[]</td>\n",
              "      <td>[]</td>\n",
              "      <td>[]</td>\n",
              "      <td>[]</td>\n",
              "      <td>[]</td>\n",
              "      <td>[]</td>\n",
              "      <td>[]</td>\n",
              "      <td>अद्भुत - जो वामपंथी कहते है कि महाभारत का युद्...</td>\n",
              "      <td>अद्भुत - वामपंथी महाभारत युद्ध काल्पनिक है, सन...</td>\n",
              "    </tr>\n",
              "    <tr>\n",
              "      <th>13</th>\n",
              "      <td>भाई जाके हिन्दू भाइयों की मदद कर जिनकी नौकरी च...</td>\n",
              "      <td>offensive</td>\n",
              "      <td>[]</td>\n",
              "      <td>[]</td>\n",
              "      <td>[]</td>\n",
              "      <td>[]</td>\n",
              "      <td>[]</td>\n",
              "      <td>[]</td>\n",
              "      <td>[]</td>\n",
              "      <td>भाई जाके हिन्दू भाइयों की मदद कर जिनकी नौकरी च...</td>\n",
              "      <td>भाई जाके हिन्दू भाइयों मदद जिनकी नौकरी चली आत्...</td>\n",
              "    </tr>\n",
              "    <tr>\n",
              "      <th>14</th>\n",
              "      <td>यह दुर्घटना कन्नूर अंतर्राष्ट्रीय हवाई अड्डे म...</td>\n",
              "      <td>fake</td>\n",
              "      <td>[]</td>\n",
              "      <td>[]</td>\n",
              "      <td>[]</td>\n",
              "      <td>[]</td>\n",
              "      <td>[]</td>\n",
              "      <td>[]</td>\n",
              "      <td>[]</td>\n",
              "      <td>यह दुर्घटना कन्नूर अंतर्राष्ट्रीय हवाई अड्डे म...</td>\n",
              "      <td>दुर्घटना कन्नूर अंतर्राष्ट्रीय हवाई अड्डे हुई,...</td>\n",
              "    </tr>\n",
              "    <tr>\n",
              "      <th>15</th>\n",
              "      <td>सत्य कभी कमजोर नही होने देता। और “ज्ञान” कभी द...</td>\n",
              "      <td>non-hostile</td>\n",
              "      <td>[]</td>\n",
              "      <td>[]</td>\n",
              "      <td>[]</td>\n",
              "      <td>[]</td>\n",
              "      <td>[]</td>\n",
              "      <td>[]</td>\n",
              "      <td>[]</td>\n",
              "      <td>सत्य कभी कमजोर नही होने देता। और “ज्ञान” कभी द...</td>\n",
              "      <td>सत्य कमजोर नही देता। “ज्ञान” दुःखी भयभीत नही द...</td>\n",
              "    </tr>\n",
              "  </tbody>\n",
              "</table>\n",
              "</div>"
            ],
            "text/plain": [
              "                                                        Post  ...                     Filtered_Post_Stopword_Removed\n",
              "Unique ID                                                     ...                                                   \n",
              "2          भारतीय जनता पार्टी rss वाले इतने गिरे हुए हैं ...  ...  भारतीय जनता पार्टी rss इतने गिरे हूं मेरी जासू...\n",
              "8          अद्भुत - जो वामपंथी कहते है कि महाभारत का युद्...  ...  अद्भुत - वामपंथी महाभारत युद्ध काल्पनिक है, सन...\n",
              "13         भाई जाके हिन्दू भाइयों की मदद कर जिनकी नौकरी च...  ...  भाई जाके हिन्दू भाइयों मदद जिनकी नौकरी चली आत्...\n",
              "14         यह दुर्घटना कन्नूर अंतर्राष्ट्रीय हवाई अड्डे म...  ...  दुर्घटना कन्नूर अंतर्राष्ट्रीय हवाई अड्डे हुई,...\n",
              "15         सत्य कभी कमजोर नही होने देता। और “ज्ञान” कभी द...  ...  सत्य कमजोर नही देता। “ज्ञान” दुःखी भयभीत नही द...\n",
              "\n",
              "[5 rows x 11 columns]"
            ]
          },
          "metadata": {
            "tags": []
          },
          "execution_count": 10
        }
      ]
    },
    {
      "cell_type": "code",
      "metadata": {
        "id": "D3e0rQAq_4yz"
      },
      "source": [
        "labels_set = {'defamation',\n",
        " 'fake',\n",
        " 'hate',\n",
        " 'non-hostile',\n",
        " 'offensive'}\n",
        "\n",
        "labels_mapping = {'defamation':0,\n",
        " 'fake':1,\n",
        " 'hate':2,\n",
        " 'non-hostile':3,\n",
        " 'offensive':4}"
      ],
      "execution_count": 11,
      "outputs": []
    },
    {
      "cell_type": "code",
      "metadata": {
        "id": "VjoCZMoYHg1g"
      },
      "source": [
        "from collections import defaultdict\n",
        "import ast\n",
        "mentions_dict = defaultdict(int)\n",
        "\n",
        "for index, row in train_data.iterrows():\n",
        "  if 'hate' in row['Labels Set']:\n",
        "    mentions = ast.literal_eval(row['mentions']) \n",
        "    for m in mentions:\n",
        "      mentions_dict[m]+=1\n"
      ],
      "execution_count": 12,
      "outputs": []
    },
    {
      "cell_type": "code",
      "metadata": {
        "id": "XhxajPZzHkW8"
      },
      "source": [
        "filtered_mentions_list = []\n",
        "\n",
        "for key, value in mentions_dict.items():\n",
        "  if value > 1:\n",
        "    filtered_mentions_list.append(key)"
      ],
      "execution_count": 13,
      "outputs": []
    },
    {
      "cell_type": "code",
      "metadata": {
        "id": "4-j4hBv-Hly5"
      },
      "source": [
        "mention_len = len(filtered_mentions_list)"
      ],
      "execution_count": 14,
      "outputs": []
    },
    {
      "cell_type": "code",
      "metadata": {
        "colab": {
          "base_uri": "https://localhost:8080/"
        },
        "id": "Y-toVClUds-O",
        "outputId": "c9f9c814-7a37-4360-cdf9-68831226c338"
      },
      "source": [
        "mention_len"
      ],
      "execution_count": 15,
      "outputs": [
        {
          "output_type": "execute_result",
          "data": {
            "text/plain": [
              "60"
            ]
          },
          "metadata": {
            "tags": []
          },
          "execution_count": 15
        }
      ]
    },
    {
      "cell_type": "code",
      "metadata": {
        "id": "gf4yvw0uHnB3"
      },
      "source": [
        "hashtag_dict = defaultdict(int)\n",
        "\n",
        "for index, row in train_data.iterrows():\n",
        "  if 'hate' in row['Labels Set']:\n",
        "    mentions = ast.literal_eval(row['hashtags']) \n",
        "    for m in mentions:\n",
        "      hashtag_dict[m]+=1\n"
      ],
      "execution_count": 16,
      "outputs": []
    },
    {
      "cell_type": "code",
      "metadata": {
        "id": "ngZC5DRFHoWb"
      },
      "source": [
        "filtered_hashtag_list = []\n",
        "\n",
        "for key, value in hashtag_dict.items():\n",
        "  if value > 1:\n",
        "    filtered_hashtag_list.append(key)"
      ],
      "execution_count": 17,
      "outputs": []
    },
    {
      "cell_type": "code",
      "metadata": {
        "id": "iOLj5JrI22yu"
      },
      "source": [
        "hash_len = len(filtered_hashtag_list)"
      ],
      "execution_count": 18,
      "outputs": []
    },
    {
      "cell_type": "code",
      "metadata": {
        "colab": {
          "base_uri": "https://localhost:8080/"
        },
        "id": "JPop-mBXdsGo",
        "outputId": "7e061f8d-fb27-435b-acd4-74a24f6df004"
      },
      "source": [
        "hash_len"
      ],
      "execution_count": 19,
      "outputs": [
        {
          "output_type": "execute_result",
          "data": {
            "text/plain": [
              "27"
            ]
          },
          "metadata": {
            "tags": []
          },
          "execution_count": 19
        }
      ]
    },
    {
      "cell_type": "code",
      "metadata": {
        "id": "xp0eUoo2Sv9V"
      },
      "source": [
        "emoji_dict = defaultdict(int)\n",
        "\n",
        "for index, row in train_data.iterrows():\n",
        "  if 'hate' in row['Labels Set']:\n",
        "    emojis = ast.literal_eval(row['emojis']) \n",
        "    for e in emojis:\n",
        "      emoji_dict[e]+=1\n"
      ],
      "execution_count": 20,
      "outputs": []
    },
    {
      "cell_type": "code",
      "metadata": {
        "id": "q3tfAm9sS4_O"
      },
      "source": [
        "filtered_emoji_list = []\n",
        "\n",
        "for key, value in emoji_dict.items():\n",
        "  if value > 3:\n",
        "    filtered_emoji_list.append(key)"
      ],
      "execution_count": 21,
      "outputs": []
    },
    {
      "cell_type": "code",
      "metadata": {
        "id": "WIvb9MsVUQRT"
      },
      "source": [
        "emoji_len = len(filtered_emoji_list)"
      ],
      "execution_count": 22,
      "outputs": []
    },
    {
      "cell_type": "code",
      "metadata": {
        "colab": {
          "base_uri": "https://localhost:8080/"
        },
        "id": "MyDfcQMXdqp9",
        "outputId": "ee7a031b-ae10-45d4-eb1e-746b071ac79b"
      },
      "source": [
        "emoji_len"
      ],
      "execution_count": 23,
      "outputs": [
        {
          "output_type": "execute_result",
          "data": {
            "text/plain": [
              "25"
            ]
          },
          "metadata": {
            "tags": []
          },
          "execution_count": 23
        }
      ]
    },
    {
      "cell_type": "code",
      "metadata": {
        "id": "X_vbf1PUi8pr"
      },
      "source": [
        "df = pd.read_csv('hate_words.csv', header=None)\n",
        "# hate_dict = dict(zip(df[0],df[1]))\n",
        "hate_dict = list(df[0])"
      ],
      "execution_count": 25,
      "outputs": []
    },
    {
      "cell_type": "code",
      "metadata": {
        "colab": {
          "base_uri": "https://localhost:8080/"
        },
        "id": "bsgVi98Vc9v9",
        "outputId": "8d856d78-1f28-4b0e-cfe9-0d26a3827a3b"
      },
      "source": [
        "hateness_len = len(hate_dict)\n",
        "print(hateness_len)"
      ],
      "execution_count": 26,
      "outputs": [
        {
          "output_type": "stream",
          "text": [
            "50\n"
          ],
          "name": "stdout"
        }
      ]
    },
    {
      "cell_type": "code",
      "metadata": {
        "id": "DaiptWpogk8D"
      },
      "source": [
        "offensive_words_list = ['कुत्ते','कुत्ते','कुतिया', 'कुते', 'कुत्ती', 'कुत्तों', 'कमीने', 'कमीना', 'कमीनी', 'साले', 'साला', 'साली', 'हरामी', 'हरामखोर', 'बहनचोद', 'बहिनचोद', 'भेंचो', 'मादरचोद', 'माचोद', 'चूतिये', 'चूतिया', 'चुत', 'चूत', 'लवड़ा', 'लंड', 'लन्ड', 'लँड', 'लण्ड', 'लौड़ा', 'लोडे', 'भड़वो', 'भड़ुआ', 'भड़ऊ', 'भड़वे', 'भड्वे', 'रन्डी', 'रांड', 'भोसड़ी', 'गांड', 'बेटीचोद', 'बेटिचोद', 'फट्टू', 'फुददू', 'फुद्दु', 'सुअर', 'झांट', 'ना󰀂ाय󰀂', 'टट्टी', 'ह󰀂󰀂󰀂डे', 'हुरो', 'गद्दार', 'सूअरों', 'हरामि', 'गाली', 'गॉड', 'रडुआ', 'लुच्चे', 'भड़वागिरी', 'बेवकूफ', 'कुत्तो', 'मूर्खों', 'बकवास', 'तब्लीघि', 'चोरी']"
      ],
      "execution_count": 27,
      "outputs": []
    },
    {
      "cell_type": "code",
      "metadata": {
        "id": "8W7tQUqnglwy"
      },
      "source": [
        ""
      ],
      "execution_count": 27,
      "outputs": []
    },
    {
      "cell_type": "code",
      "metadata": {
        "id": "M4AQyniUHt0f"
      },
      "source": [
        "def generate_matrix(data):\n",
        "  X = np.empty((0,  1 + emoji_len+hash_len + mention_len+ hateness_len+len(offensive_words_list)))\n",
        "\n",
        "  for index, row in data.iterrows():\n",
        "    x = np.zeros((1, 1))\n",
        "    x[0, 0] = 1  # Bias Unit\n",
        "\n",
        "    hateness = np.zeros((1,hateness_len))\n",
        "    for word in indic_tokenize.trivial_tokenize(row['Filtered_Post_Stopword_Removed'], lang='hi'):\n",
        "      if word in hate_dict:\n",
        "        hateness[0, hate_dict.index(word)] =1\n",
        "\n",
        "    # Offensive Words\n",
        "    offensive_word_count_x = np.zeros((1, len(offensive_words_list)))\n",
        "    for word in row['Filtered_Post_Stopword_Removed'].split(' '):\n",
        "      if word in offensive_words_list:\n",
        "        offensive_word_count_x[0,offensive_words_list.index(word)]= 1\n",
        "\n",
        "    hash_x = np.zeros((1, hash_len))\n",
        "    # Hashtags\n",
        "    for h in ast.literal_eval(row['hashtags']):\n",
        "      if h in filtered_hashtag_list:\n",
        "        hash_x[0, filtered_hashtag_list.index(h)] = 1\n",
        "\n",
        "    \n",
        "    mention_x = np.zeros((1, mention_len))\n",
        "    # Mentions\n",
        "    for h in ast.literal_eval(row['mentions']):\n",
        "      if m in filtered_mentions_list:\n",
        "        mention_x[0, filtered_mentions_list.index(m)] = 1\n",
        "\n",
        "    emoji_x = np.zeros((1, emoji_len))\n",
        "    # Emojis\n",
        "    for h in ast.literal_eval(row['emojis']):\n",
        "      if h in filtered_emoji_list:\n",
        "        emoji_x[0, filtered_emoji_list.index(h)] = 1\n",
        "\n",
        "    x = np.hstack((x, hateness, hash_x, mention_x, emoji_x, offensive_word_count_x))\n",
        "    X = np.vstack((X, x))\n",
        "  return X\n"
      ],
      "execution_count": 28,
      "outputs": []
    },
    {
      "cell_type": "code",
      "metadata": {
        "id": "t3SkB4bhHzHA"
      },
      "source": [
        "train_X = generate_matrix(train_data)\n",
        "val_X = generate_matrix(val_data)"
      ],
      "execution_count": 29,
      "outputs": []
    },
    {
      "cell_type": "code",
      "metadata": {
        "id": "uvm96tTM-yCZ"
      },
      "source": [
        "train_y = np.empty((0, 5))\n",
        "for index, row in train_data.iterrows():\n",
        "  y = np.zeros((1, 5))\n",
        "  for label in row['Labels Set'].split(','):\n",
        "    y[0, labels_mapping[label]] = 1\n",
        "\n",
        "  train_y = np.vstack((train_y, y))\n",
        "\n",
        "\n",
        "val_y = np.empty((0, 5))\n",
        "for index, row in val_data.iterrows():\n",
        "  y = np.zeros((1, 5))\n",
        "  for label in row['Labels Set'].split(','):\n",
        "    y[0, labels_mapping[label]] = 1\n",
        "\n",
        "  val_y = np.vstack((val_y, y))\n"
      ],
      "execution_count": 30,
      "outputs": []
    },
    {
      "cell_type": "code",
      "metadata": {
        "id": "3k0zWzMn_L7k"
      },
      "source": [
        "y_train_hate = train_y[:,2].astype(int)\n",
        "y_val_hate = val_y[:,2].astype(int)\n",
        "\n",
        "train_sentences = train_data['Post'].values\n",
        "val_sentences = val_data['Post'].values"
      ],
      "execution_count": 31,
      "outputs": []
    },
    {
      "cell_type": "markdown",
      "metadata": {
        "id": "3dRFz5I__Y8-"
      },
      "source": [
        "**BERT**"
      ]
    },
    {
      "cell_type": "code",
      "metadata": {
        "id": "bz1iFMHH_QzU",
        "colab": {
          "base_uri": "https://localhost:8080/",
          "height": 165,
          "referenced_widgets": [
            "ad0a09745fc648ffa57b8df6d399d539",
            "f7a95c67755045e8aaba6926d5fdd6c8",
            "1e092df296414d3795c81523d441b91b",
            "bbe977b319c344ee9c20531403edca8f",
            "b710288bcaa347d7b9361a87406f2ac8",
            "ab298d34ca7d402db67a885ad4bbcf3f",
            "3ffd1ea8a2e74a7c89d0c34698a81cf8",
            "33116e8db79643dc92b4052309b3cc58",
            "d9049acad1c541dc9d1da270de16000c",
            "af1712928f8a453fb8664a7cddc26933",
            "f686a50ab847411dbb01dd1ba77df625",
            "625a1c48957f440ba9e976468c613e20",
            "a2454a1d93e342218fdcbb43a97152b9",
            "aa637e3f2bfd431f89c985f1857d873a",
            "3f410617c5024264a58eeee45f23d6b9",
            "ca6a9b303d7f45f9b5de00815654de05",
            "15f99b0b9a354f9f94ddb316d721ec61",
            "0cff3a33825541a496dfe3b230f60e8c",
            "7a59d79bb16a4cfeb761b200c033b850",
            "b7588d9f873d4568b0ee5b4bf3ca9ca2",
            "c14bfcaea79d4a9da9b5997fb07e65cf",
            "73b0981ae7584b3ea5c471e8235a1284",
            "39f1451e9b7e417b9b285fa0ecc0fe5b",
            "10731679ef9d44fa85598128f98217f9"
          ]
        },
        "outputId": "bf1806a2-908d-47ab-8fd8-9e204191a755"
      },
      "source": [
        "bert = AutoModel.from_pretrained('ai4bharat/indic-bert')\n",
        "tokenizer = AutoTokenizer.from_pretrained('ai4bharat/indic-bert')"
      ],
      "execution_count": 32,
      "outputs": [
        {
          "output_type": "display_data",
          "data": {
            "application/vnd.jupyter.widget-view+json": {
              "model_id": "ad0a09745fc648ffa57b8df6d399d539",
              "version_minor": 0,
              "version_major": 2
            },
            "text/plain": [
              "HBox(children=(FloatProgress(value=0.0, description='Downloading', max=507.0, style=ProgressStyle(description_…"
            ]
          },
          "metadata": {
            "tags": []
          }
        },
        {
          "output_type": "stream",
          "text": [
            "\n"
          ],
          "name": "stdout"
        },
        {
          "output_type": "display_data",
          "data": {
            "application/vnd.jupyter.widget-view+json": {
              "model_id": "d9049acad1c541dc9d1da270de16000c",
              "version_minor": 0,
              "version_major": 2
            },
            "text/plain": [
              "HBox(children=(FloatProgress(value=0.0, description='Downloading', max=134982446.0, style=ProgressStyle(descri…"
            ]
          },
          "metadata": {
            "tags": []
          }
        },
        {
          "output_type": "stream",
          "text": [
            "\n"
          ],
          "name": "stdout"
        },
        {
          "output_type": "display_data",
          "data": {
            "application/vnd.jupyter.widget-view+json": {
              "model_id": "15f99b0b9a354f9f94ddb316d721ec61",
              "version_minor": 0,
              "version_major": 2
            },
            "text/plain": [
              "HBox(children=(FloatProgress(value=0.0, description='Downloading', max=5646064.0, style=ProgressStyle(descript…"
            ]
          },
          "metadata": {
            "tags": []
          }
        },
        {
          "output_type": "stream",
          "text": [
            "\n"
          ],
          "name": "stdout"
        }
      ]
    },
    {
      "cell_type": "code",
      "metadata": {
        "colab": {
          "base_uri": "https://localhost:8080/"
        },
        "id": "Gr0Vi497_l3a",
        "outputId": "4dd8861a-09f4-4b8f-d8d9-87e2181f4cf0"
      },
      "source": [
        "# sample data\n",
        "text = [\"जिसमें लिखा है, काश के कश्मीर के पत्थरबाज़ इन नवजवानों से कुछ सीखते। #भारतीयसेना ।\", \"सुशांत के परिवार पर अब किसका 'कीचड़'?\"]\n",
        "\n",
        "# encode text\n",
        "sent_id = tokenizer.batch_encode_plus(text, padding=True)\n",
        "\n",
        "# output\n",
        "print(sent_id)"
      ],
      "execution_count": 33,
      "outputs": [
        {
          "output_type": "stream",
          "text": [
            "{'input_ids': [[2, 18654, 670, 48660, 4384, 12, 128648, 1883, 128648, 26697, 1883, 43991, 42191, 1793, 1325, 464, 6151, 1325, 10759, 1301, 1883, 12286, 54111, 229, 15, 1078, 8297, 229, 1134, 8731, 7, 3], [2, 1301, 2700, 229, 1883, 37, 555, 37, 311, 9854, 507, 27, 507, 232, 1546, 398, 293, 3, 0, 0, 0, 0, 0, 0, 0, 0, 0, 0, 0, 0, 0, 0]], 'token_type_ids': [[0, 0, 0, 0, 0, 0, 0, 0, 0, 0, 0, 0, 0, 0, 0, 0, 0, 0, 0, 0, 0, 0, 0, 0, 0, 0, 0, 0, 0, 0, 0, 0], [0, 0, 0, 0, 0, 0, 0, 0, 0, 0, 0, 0, 0, 0, 0, 0, 0, 0, 0, 0, 0, 0, 0, 0, 0, 0, 0, 0, 0, 0, 0, 0]], 'attention_mask': [[1, 1, 1, 1, 1, 1, 1, 1, 1, 1, 1, 1, 1, 1, 1, 1, 1, 1, 1, 1, 1, 1, 1, 1, 1, 1, 1, 1, 1, 1, 1, 1], [1, 1, 1, 1, 1, 1, 1, 1, 1, 1, 1, 1, 1, 1, 1, 1, 1, 1, 0, 0, 0, 0, 0, 0, 0, 0, 0, 0, 0, 0, 0, 0]]}\n"
          ],
          "name": "stdout"
        }
      ]
    },
    {
      "cell_type": "code",
      "metadata": {
        "colab": {
          "base_uri": "https://localhost:8080/",
          "height": 282
        },
        "id": "p5-x0jdmAX4o",
        "outputId": "edfb2239-499c-427c-b639-c463e4bb43ea"
      },
      "source": [
        "seq_len = [len(i.split()) for i in train_sentences]\n",
        "\n",
        "pd.Series(seq_len).hist(bins = 30)"
      ],
      "execution_count": 34,
      "outputs": [
        {
          "output_type": "execute_result",
          "data": {
            "text/plain": [
              "<matplotlib.axes._subplots.AxesSubplot at 0x7f9f9a3774e0>"
            ]
          },
          "metadata": {
            "tags": []
          },
          "execution_count": 34
        },
        {
          "output_type": "display_data",
          "data": {
            "image/png": "[encoded data removed]",
            "text/plain": [
              "<Figure size 432x288 with 1 Axes>"
            ]
          },
          "metadata": {
            "tags": [],
            "needs_background": "light"
          }
        }
      ]
    },
    {
      "cell_type": "code",
      "metadata": {
        "colab": {
          "base_uri": "https://localhost:8080/"
        },
        "id": "9ovjltvOA3_v",
        "outputId": "6d05db04-91d8-4684-c7dc-24eee1afe36f"
      },
      "source": [
        "tokens_train = tokenizer.batch_encode_plus(\n",
        "    train_sentences.tolist(),\n",
        "    max_length = 100,\n",
        "    pad_to_max_length=True,\n",
        "    truncation=True\n",
        ")\n",
        "\n",
        "tokens_val = tokenizer.batch_encode_plus(\n",
        "    val_sentences.tolist(),\n",
        "    max_length = 100,\n",
        "    pad_to_max_length=True,\n",
        "    truncation=True\n",
        ")"
      ],
      "execution_count": 35,
      "outputs": [
        {
          "output_type": "stream",
          "text": [
            "/usr/local/lib/python3.6/dist-packages/transformers/tokenization_utils_base.py:2179: FutureWarning: The `pad_to_max_length` argument is deprecated and will be removed in a future version, use `padding=True` or `padding='longest'` to pad to the longest sequence in the batch, or use `padding='max_length'` to pad to a max length. In this case, you can give a specific length with `max_length` (e.g. `max_length=45`) or leave max_length to None to pad to the maximal input size of the model (e.g. 512 for Bert).\n",
            "  FutureWarning,\n"
          ],
          "name": "stderr"
        }
      ]
    },
    {
      "cell_type": "code",
      "metadata": {
        "id": "z5EPJYfYBOmM"
      },
      "source": [
        "train_seq = torch.tensor(tokens_train['input_ids'])\n",
        "train_mask = torch.tensor(tokens_train['attention_mask'])\n",
        "train_y = torch.tensor(y_train_hate.tolist())\n",
        "\n",
        "val_seq = torch.tensor(tokens_val['input_ids'])\n",
        "val_mask = torch.tensor(tokens_val['attention_mask'])\n",
        "val_y = torch.tensor(y_val_hate.tolist())"
      ],
      "execution_count": 36,
      "outputs": []
    },
    {
      "cell_type": "code",
      "metadata": {
        "id": "DKUUxaDQBkwb"
      },
      "source": [
        "from torch.utils.data import TensorDataset, DataLoader, RandomSampler, SequentialSampler\n",
        "\n",
        "#define a batch size\n",
        "batch_size = 4\n",
        "\n",
        "# wrap tensors\n",
        "train_data = TensorDataset(train_seq, train_mask, train_y)\n",
        "\n",
        "# sampler for sampling the data during training\n",
        "train_sampler = SequentialSampler(train_data)\n",
        "\n",
        "# dataLoader for train set\n",
        "train_dataloader = DataLoader(train_data, sampler=train_sampler, batch_size=batch_size)\n",
        "train_other_ft_dataloader = DataLoader(train_X, sampler=train_sampler, batch_size=batch_size)\n",
        "# wrap tensors\n",
        "val_data = TensorDataset(val_seq, val_mask, val_y)\n",
        "\n",
        "# sampler for sampling the data during training\n",
        "val_sampler = SequentialSampler(val_data)\n",
        "\n",
        "# dataLoader for validation set\n",
        "val_dataloader = DataLoader(val_data, sampler = val_sampler, batch_size=batch_size)\n",
        "val_other_ft_dataloader = DataLoader(val_X, sampler=val_sampler, batch_size=batch_size)"
      ],
      "execution_count": 37,
      "outputs": []
    },
    {
      "cell_type": "code",
      "metadata": {
        "id": "dbiWd8LfB0I3"
      },
      "source": [
        "for param in bert.parameters():\n",
        "    param.requires_grad = False"
      ],
      "execution_count": 38,
      "outputs": []
    },
    {
      "cell_type": "code",
      "metadata": {
        "id": "N-_45SydB3Ak"
      },
      "source": [
        "class BERT_Arch(nn.Module):\n",
        "\n",
        "    def __init__(self, bert):\n",
        "      \n",
        "      super(BERT_Arch, self).__init__()\n",
        "\n",
        "      self.bert = bert \n",
        "      \n",
        "      # dropout layer\n",
        "      self.dropout = nn.Dropout(0.1)\n",
        "      \n",
        "      # relu activation function\n",
        "      self.relu =  nn.ReLU()\n",
        "\n",
        "      # dense layer 1\n",
        "      self.fc1 = nn.Linear(768+1+ hateness_len+ mention_len+hash_len+emoji_len+len(offensive_words_list),512)\n",
        "      \n",
        "      # dense layer 2 (Output layer)\n",
        "      self.fc2 = nn.Linear(512,2)\n",
        "\n",
        "      #softmax activation function\n",
        "      self.softmax = nn.LogSoftmax(dim=1)\n",
        "\n",
        "    #define the forward pass\n",
        "    def forward(self, sent_id, mask, other_ft):\n",
        "      other_ft = other_ft.float()\n",
        "      #pass the inputs to the model\n",
        "      state= self.bert(sent_id, attention_mask=mask)\n",
        "      cls_hs = state.pooler_output\n",
        "      x = self.fc1(torch.hstack((cls_hs, other_ft)))\n",
        "      x = self.relu(x)\n",
        "\n",
        "      if self.train():\n",
        "        x = self.dropout(x)\n",
        "\n",
        "      # output layer\n",
        "      x = self.fc2(x)\n",
        "      \n",
        "      # apply softmax activation\n",
        "      x = self.softmax(x)\n",
        "\n",
        "      return x"
      ],
      "execution_count": 39,
      "outputs": []
    },
    {
      "cell_type": "code",
      "metadata": {
        "id": "K1je5ubFB7-G"
      },
      "source": [
        "# pass the pre-trained BERT to our define architecture\n",
        "model = BERT_Arch(bert)\n",
        "\n",
        "# push the model to GPU\n",
        "model = model.to(device)"
      ],
      "execution_count": 40,
      "outputs": []
    },
    {
      "cell_type": "code",
      "metadata": {
        "id": "31OjjIlhB9rF"
      },
      "source": [
        "from transformers import AdamW\n",
        "\n",
        "# define the optimizer\n",
        "optimizer = AdamW(model.parameters(),\n",
        "                  lr = 1e-3)          # learning rate"
      ],
      "execution_count": 41,
      "outputs": []
    },
    {
      "cell_type": "code",
      "metadata": {
        "colab": {
          "base_uri": "https://localhost:8080/"
        },
        "id": "btMFy0AOCCkT",
        "outputId": "f90c8582-e16b-4143-ee67-9bd0a471e7ef"
      },
      "source": [
        "from sklearn.utils.class_weight import compute_class_weight\n",
        "\n",
        "#compute the class weights\n",
        "class_weights = compute_class_weight('balanced', np.unique(y_train_hate), y_train_hate)\n",
        "\n",
        "print(\"Class Weights:\",class_weights)"
      ],
      "execution_count": 42,
      "outputs": [
        {
          "output_type": "stream",
          "text": [
            "Class Weights: [0.70996819 1.69065657]\n"
          ],
          "name": "stdout"
        }
      ]
    },
    {
      "cell_type": "code",
      "metadata": {
        "id": "3UludplUC6vt"
      },
      "source": [
        "# converting list of class weights to a tensor\n",
        "weights= torch.tensor(class_weights,dtype=torch.float)\n",
        "\n",
        "# push to GPU\n",
        "weights = weights.to(device)\n",
        "\n",
        "# define the loss function\n",
        "cross_entropy  = nn.CrossEntropyLoss(weight=weights) \n",
        "\n",
        "# number of training epochs\n",
        "epochs = 10"
      ],
      "execution_count": 43,
      "outputs": []
    },
    {
      "cell_type": "code",
      "metadata": {
        "id": "xj8RrYqMrOnu"
      },
      "source": [
        "import time\n",
        "import datetime\n",
        "\n",
        "def format_time(elapsed):\n",
        "    '''\n",
        "    Takes a time in seconds and returns a string hh:mm:ss\n",
        "    '''\n",
        "    # Round to the nearest second.\n",
        "    elapsed_rounded = int(round((elapsed)))\n",
        "    \n",
        "    # Format as hh:mm:ss\n",
        "    return str(datetime.timedelta(seconds=elapsed_rounded))"
      ],
      "execution_count": 44,
      "outputs": []
    },
    {
      "cell_type": "code",
      "metadata": {
        "id": "C8o95_htC-wO"
      },
      "source": [
        "# function to train the model\n",
        "def train():\n",
        "  \n",
        "  model.train()\n",
        "\n",
        "  total_loss, total_accuracy = 0, 0\n",
        "  \n",
        "  # empty list to save model predictions\n",
        "  total_preds=[]\n",
        "  \n",
        "  # iterate over batches\n",
        "  for first,second in zip(enumerate(train_dataloader), enumerate(train_other_ft_dataloader)):\n",
        "    step, batch = first\n",
        "    _, other_ft = second\n",
        "    # progress update after every 50 batches.\n",
        "    if step % 50 == 0 and not step == 0:\n",
        "      print('  Batch {:>5,}  of  {:>5,}.'.format(step, len(train_dataloader)))\n",
        "\n",
        "    # push the batch to gpu\n",
        "    batch = [r.to(device) for r in batch]\n",
        "    other_ft = other_ft.to(device)\n",
        "    sent_id, mask, labels = batch\n",
        "\n",
        "    # clear previously calculated gradients \n",
        "    model.zero_grad()        \n",
        "\n",
        "    # get model predictions for the current batch\n",
        "    preds = model(sent_id, mask, other_ft)\n",
        "\n",
        "    # compute the loss between actual and predicted values\n",
        "    loss = cross_entropy(preds, labels)\n",
        "\n",
        "    # add on to the total loss\n",
        "    total_loss = total_loss + loss.item()\n",
        "\n",
        "    # backward pass to calculate the gradients\n",
        "    loss.backward()\n",
        "\n",
        "    # clip the the gradients to 1.0. It helps in preventing the exploding gradient problem\n",
        "    torch.nn.utils.clip_grad_norm_(model.parameters(), 1.0)\n",
        "\n",
        "    # update parameters\n",
        "    optimizer.step()\n",
        "\n",
        "    # model predictions are stored on GPU. So, push it to CPU\n",
        "    preds=preds.detach().cpu().numpy()\n",
        "\n",
        "    # append the model predictions\n",
        "    total_preds.append(preds)\n",
        "\n",
        "  # compute the training loss of the epoch\n",
        "  avg_loss = total_loss / len(train_dataloader)\n",
        "  \n",
        "  # predictions are in the form of (no. of batches, size of batch, no. of classes).\n",
        "  # reshape the predictions in form of (number of samples, no. of classes)\n",
        "  total_preds  = np.concatenate(total_preds, axis=0)\n",
        "\n",
        "  #returns the loss and predictions\n",
        "  return avg_loss, total_preds"
      ],
      "execution_count": 45,
      "outputs": []
    },
    {
      "cell_type": "code",
      "metadata": {
        "id": "z8TuboDrDH8U"
      },
      "source": [
        "# function for evaluating the model\n",
        "def evaluate():\n",
        "  \n",
        "  print(\"\\nEvaluating...\")\n",
        "  \n",
        "  # deactivate dropout layers\n",
        "  model.eval()\n",
        "\n",
        "  total_loss, total_accuracy = 0, 0\n",
        "  \n",
        "  # empty list to save the model predictions\n",
        "  total_preds = []\n",
        "\n",
        "  # iterate over batches\n",
        "  for first,second in zip(enumerate(val_dataloader), enumerate(val_other_ft_dataloader)):\n",
        "    step, batch = first\n",
        "    _, other_ft = second\n",
        "    other_ft = other_ft.to(device)\n",
        "    # Progress update every 50 batches.\n",
        "    if step % 50 == 0 and not step == 0:\n",
        "      \n",
        "      # # Calculate elapsed time in minutes.\n",
        "      # elapsed = format_time(time.time() - t0)\n",
        "            \n",
        "      # Report progress.\n",
        "      print('  Batch {:>5,}  of  {:>5,}.'.format(step, len(val_dataloader)))\n",
        "\n",
        "    # push the batch to gpu\n",
        "    batch = [t.to(device) for t in batch]\n",
        "\n",
        "    sent_id, mask, labels = batch\n",
        "\n",
        "    # deactivate autograd\n",
        "    with torch.no_grad():\n",
        "      \n",
        "      # model predictions\n",
        "      preds = model(sent_id, mask, other_ft)\n",
        "\n",
        "      # compute the validation loss between actual and predicted values\n",
        "      loss = cross_entropy(preds,labels)\n",
        "\n",
        "      total_loss = total_loss + loss.item()\n",
        "\n",
        "      preds = preds.detach().cpu().numpy()\n",
        "\n",
        "      total_preds.append(preds)\n",
        "\n",
        "  # compute the validation loss of the epoch\n",
        "  avg_loss = total_loss / len(val_dataloader) \n",
        "\n",
        "  # reshape the predictions in form of (number of samples, no. of classes)\n",
        "  total_preds  = np.concatenate(total_preds, axis=0)\n",
        "\n",
        "  return avg_loss, total_preds"
      ],
      "execution_count": 46,
      "outputs": []
    },
    {
      "cell_type": "code",
      "metadata": {
        "id": "p_ngomr8vH6k"
      },
      "source": [
        "epoch = 10\n",
        "optimizer = AdamW(model.parameters(),\n",
        "                  lr = 2e-5)   "
      ],
      "execution_count": 47,
      "outputs": []
    },
    {
      "cell_type": "code",
      "metadata": {
        "colab": {
          "base_uri": "https://localhost:8080/"
        },
        "id": "jyh9hwfaDMzV",
        "outputId": "a3fc1ff1-4f9b-4d05-97b0-dc1bfce2f5ac"
      },
      "source": [
        "# set initial loss to infinite\n",
        "best_valid_loss = float('inf')\n",
        "\n",
        "# empty lists to store training and validation loss of each epoch\n",
        "train_losses=[]\n",
        "valid_losses=[]\n",
        "\n",
        "#for each epoch\n",
        "for epoch in range(epochs):\n",
        "     \n",
        "    print('\\n Epoch {:} / {:}'.format(epoch + 1, epochs))\n",
        "    \n",
        "    #train model\n",
        "    train_loss, _ = train()\n",
        "    \n",
        "    #evaluate model\n",
        "    valid_loss, _ = evaluate()\n",
        "    \n",
        "    #save the best model\n",
        "    if valid_loss < best_valid_loss:\n",
        "        best_valid_loss = valid_loss\n",
        "        torch.save(model.state_dict(), 'saved_weights.pt')\n",
        "    \n",
        "    # append training and validation loss\n",
        "    train_losses.append(train_loss)\n",
        "    valid_losses.append(valid_loss)\n",
        "    \n",
        "    print(f'\\nTraining Loss: {train_loss:.3f}')\n",
        "    print(f'Validation Loss: {valid_loss:.3f}')"
      ],
      "execution_count": 48,
      "outputs": [
        {
          "output_type": "stream",
          "text": [
            "\n",
            " Epoch 1 / 10\n",
            "  Batch    50  of    670.\n",
            "  Batch   100  of    670.\n",
            "  Batch   150  of    670.\n",
            "  Batch   200  of    670.\n",
            "  Batch   250  of    670.\n",
            "  Batch   300  of    670.\n",
            "  Batch   350  of    670.\n",
            "  Batch   400  of    670.\n",
            "  Batch   450  of    670.\n",
            "  Batch   500  of    670.\n",
            "  Batch   550  of    670.\n",
            "  Batch   600  of    670.\n",
            "  Batch   650  of    670.\n",
            "\n",
            "Evaluating...\n",
            "  Batch    50  of     95.\n",
            "\n",
            "Training Loss: 0.686\n",
            "Validation Loss: 0.680\n",
            "\n",
            " Epoch 2 / 10\n",
            "  Batch    50  of    670.\n",
            "  Batch   100  of    670.\n",
            "  Batch   150  of    670.\n",
            "  Batch   200  of    670.\n",
            "  Batch   250  of    670.\n",
            "  Batch   300  of    670.\n",
            "  Batch   350  of    670.\n",
            "  Batch   400  of    670.\n",
            "  Batch   450  of    670.\n",
            "  Batch   500  of    670.\n",
            "  Batch   550  of    670.\n",
            "  Batch   600  of    670.\n",
            "  Batch   650  of    670.\n",
            "\n",
            "Evaluating...\n",
            "  Batch    50  of     95.\n",
            "\n",
            "Training Loss: 0.679\n",
            "Validation Loss: 0.677\n",
            "\n",
            " Epoch 3 / 10\n",
            "  Batch    50  of    670.\n",
            "  Batch   100  of    670.\n",
            "  Batch   150  of    670.\n",
            "  Batch   200  of    670.\n",
            "  Batch   250  of    670.\n",
            "  Batch   300  of    670.\n",
            "  Batch   350  of    670.\n",
            "  Batch   400  of    670.\n",
            "  Batch   450  of    670.\n",
            "  Batch   500  of    670.\n",
            "  Batch   550  of    670.\n",
            "  Batch   600  of    670.\n",
            "  Batch   650  of    670.\n",
            "\n",
            "Evaluating...\n",
            "  Batch    50  of     95.\n",
            "\n",
            "Training Loss: 0.675\n",
            "Validation Loss: 0.675\n",
            "\n",
            " Epoch 4 / 10\n",
            "  Batch    50  of    670.\n",
            "  Batch   100  of    670.\n",
            "  Batch   150  of    670.\n",
            "  Batch   200  of    670.\n",
            "  Batch   250  of    670.\n",
            "  Batch   300  of    670.\n",
            "  Batch   350  of    670.\n",
            "  Batch   400  of    670.\n",
            "  Batch   450  of    670.\n",
            "  Batch   500  of    670.\n",
            "  Batch   550  of    670.\n",
            "  Batch   600  of    670.\n",
            "  Batch   650  of    670.\n",
            "\n",
            "Evaluating...\n",
            "  Batch    50  of     95.\n",
            "\n",
            "Training Loss: 0.671\n",
            "Validation Loss: 0.672\n",
            "\n",
            " Epoch 5 / 10\n",
            "  Batch    50  of    670.\n",
            "  Batch   100  of    670.\n",
            "  Batch   150  of    670.\n",
            "  Batch   200  of    670.\n",
            "  Batch   250  of    670.\n",
            "  Batch   300  of    670.\n",
            "  Batch   350  of    670.\n",
            "  Batch   400  of    670.\n",
            "  Batch   450  of    670.\n",
            "  Batch   500  of    670.\n",
            "  Batch   550  of    670.\n",
            "  Batch   600  of    670.\n",
            "  Batch   650  of    670.\n",
            "\n",
            "Evaluating...\n",
            "  Batch    50  of     95.\n",
            "\n",
            "Training Loss: 0.666\n",
            "Validation Loss: 0.670\n",
            "\n",
            " Epoch 6 / 10\n",
            "  Batch    50  of    670.\n",
            "  Batch   100  of    670.\n",
            "  Batch   150  of    670.\n",
            "  Batch   200  of    670.\n",
            "  Batch   250  of    670.\n",
            "  Batch   300  of    670.\n",
            "  Batch   350  of    670.\n",
            "  Batch   400  of    670.\n",
            "  Batch   450  of    670.\n",
            "  Batch   500  of    670.\n",
            "  Batch   550  of    670.\n",
            "  Batch   600  of    670.\n",
            "  Batch   650  of    670.\n",
            "\n",
            "Evaluating...\n",
            "  Batch    50  of     95.\n",
            "\n",
            "Training Loss: 0.662\n",
            "Validation Loss: 0.668\n",
            "\n",
            " Epoch 7 / 10\n",
            "  Batch    50  of    670.\n",
            "  Batch   100  of    670.\n",
            "  Batch   150  of    670.\n",
            "  Batch   200  of    670.\n",
            "  Batch   250  of    670.\n",
            "  Batch   300  of    670.\n",
            "  Batch   350  of    670.\n",
            "  Batch   400  of    670.\n",
            "  Batch   450  of    670.\n",
            "  Batch   500  of    670.\n",
            "  Batch   550  of    670.\n",
            "  Batch   600  of    670.\n",
            "  Batch   650  of    670.\n",
            "\n",
            "Evaluating...\n",
            "  Batch    50  of     95.\n",
            "\n",
            "Training Loss: 0.657\n",
            "Validation Loss: 0.665\n",
            "\n",
            " Epoch 8 / 10\n",
            "  Batch    50  of    670.\n",
            "  Batch   100  of    670.\n",
            "  Batch   150  of    670.\n",
            "  Batch   200  of    670.\n",
            "  Batch   250  of    670.\n",
            "  Batch   300  of    670.\n",
            "  Batch   350  of    670.\n",
            "  Batch   400  of    670.\n",
            "  Batch   450  of    670.\n",
            "  Batch   500  of    670.\n",
            "  Batch   550  of    670.\n",
            "  Batch   600  of    670.\n",
            "  Batch   650  of    670.\n",
            "\n",
            "Evaluating...\n",
            "  Batch    50  of     95.\n",
            "\n",
            "Training Loss: 0.652\n",
            "Validation Loss: 0.663\n",
            "\n",
            " Epoch 9 / 10\n",
            "  Batch    50  of    670.\n",
            "  Batch   100  of    670.\n",
            "  Batch   150  of    670.\n",
            "  Batch   200  of    670.\n",
            "  Batch   250  of    670.\n",
            "  Batch   300  of    670.\n",
            "  Batch   350  of    670.\n",
            "  Batch   400  of    670.\n",
            "  Batch   450  of    670.\n",
            "  Batch   500  of    670.\n",
            "  Batch   550  of    670.\n",
            "  Batch   600  of    670.\n",
            "  Batch   650  of    670.\n",
            "\n",
            "Evaluating...\n",
            "  Batch    50  of     95.\n",
            "\n",
            "Training Loss: 0.647\n",
            "Validation Loss: 0.659\n",
            "\n",
            " Epoch 10 / 10\n",
            "  Batch    50  of    670.\n",
            "  Batch   100  of    670.\n",
            "  Batch   150  of    670.\n",
            "  Batch   200  of    670.\n",
            "  Batch   250  of    670.\n",
            "  Batch   300  of    670.\n",
            "  Batch   350  of    670.\n",
            "  Batch   400  of    670.\n",
            "  Batch   450  of    670.\n",
            "  Batch   500  of    670.\n",
            "  Batch   550  of    670.\n",
            "  Batch   600  of    670.\n",
            "  Batch   650  of    670.\n",
            "\n",
            "Evaluating...\n",
            "  Batch    50  of     95.\n",
            "\n",
            "Training Loss: 0.643\n",
            "Validation Loss: 0.659\n"
          ],
          "name": "stdout"
        }
      ]
    },
    {
      "cell_type": "code",
      "metadata": {
        "id": "-kNiU2u-UzxB",
        "colab": {
          "base_uri": "https://localhost:8080/",
          "height": 282
        },
        "outputId": "badc4bd5-6700-4a6b-f94b-4f415cf764cf"
      },
      "source": [
        "import matplotlib.pyplot as plt\n",
        "plt.plot(train_losses)"
      ],
      "execution_count": 49,
      "outputs": [
        {
          "output_type": "execute_result",
          "data": {
            "text/plain": [
              "[<matplotlib.lines.Line2D at 0x7f9f985c5358>]"
            ]
          },
          "metadata": {
            "tags": []
          },
          "execution_count": 49
        },
        {
          "output_type": "display_data",
          "data": {
            "image/png": "[encoded data removed]",
            "text/plain": [
              "<Figure size 432x288 with 1 Axes>"
            ]
          },
          "metadata": {
            "tags": [],
            "needs_background": "light"
          }
        }
      ]
    },
    {
      "cell_type": "code",
      "metadata": {
        "id": "KNN2BacpU0F6",
        "colab": {
          "base_uri": "https://localhost:8080/",
          "height": 282
        },
        "outputId": "aa2d5e67-6511-4a76-a633-06d2de224769"
      },
      "source": [
        "plt.plot(valid_losses)"
      ],
      "execution_count": 50,
      "outputs": [
        {
          "output_type": "execute_result",
          "data": {
            "text/plain": [
              "[<matplotlib.lines.Line2D at 0x7f9f98511748>]"
            ]
          },
          "metadata": {
            "tags": []
          },
          "execution_count": 50
        },
        {
          "output_type": "display_data",
          "data": {
            "image/png": "[encoded data removed]",
            "text/plain": [
              "<Figure size 432x288 with 1 Axes>"
            ]
          },
          "metadata": {
            "tags": [],
            "needs_background": "light"
          }
        }
      ]
    },
    {
      "cell_type": "code",
      "metadata": {
        "id": "RU5XxDFhEmaY",
        "colab": {
          "base_uri": "https://localhost:8080/"
        },
        "outputId": "14f0dd3e-24b4-4742-ec9a-beeb87438aff"
      },
      "source": [
        "path = 'saved_weights.pt'\n",
        "model.load_state_dict(torch.load(path))"
      ],
      "execution_count": 51,
      "outputs": [
        {
          "output_type": "execute_result",
          "data": {
            "text/plain": [
              "<All keys matched successfully>"
            ]
          },
          "metadata": {
            "tags": []
          },
          "execution_count": 51
        }
      ]
    },
    {
      "cell_type": "code",
      "metadata": {
        "id": "uYPX3J37EhXN"
      },
      "source": [
        "with torch.no_grad():\n",
        "  preds = model(val_seq.to(device), val_mask.to(device), torch.from_numpy(val_X).to(device))\n",
        "  preds = preds.detach().cpu().numpy()"
      ],
      "execution_count": 52,
      "outputs": []
    },
    {
      "cell_type": "code",
      "metadata": {
        "id": "w3A7upaCEn6v",
        "colab": {
          "base_uri": "https://localhost:8080/"
        },
        "outputId": "c06adb9f-58d2-46da-c597-31c84bd17a2d"
      },
      "source": [
        "preds = np.argmax(preds, axis = 1)\n",
        "print(classification_report(y_val_hate, preds))"
      ],
      "execution_count": 53,
      "outputs": [
        {
          "output_type": "stream",
          "text": [
            "              precision    recall  f1-score   support\n",
            "\n",
            "           0       0.77      0.78      0.78       269\n",
            "           1       0.45      0.43      0.44       110\n",
            "\n",
            "    accuracy                           0.68       379\n",
            "   macro avg       0.61      0.61      0.61       379\n",
            "weighted avg       0.68      0.68      0.68       379\n",
            "\n"
          ],
          "name": "stdout"
        }
      ]
    },
    {
      "cell_type": "code",
      "metadata": {
        "id": "r2urkeiRo-Gh"
      },
      "source": [
        "result_df = pd.DataFrame(preds, index = val_data_orig.index, columns=['hate'])\n",
        "result_df.index.name = 'Unique ID'\n",
        "result_df.to_csv('y_pred_val_hate.csv')"
      ],
      "execution_count": 54,
      "outputs": []
    }
  ]
}