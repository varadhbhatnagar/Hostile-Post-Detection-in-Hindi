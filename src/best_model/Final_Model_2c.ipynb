{
  "nbformat": 4,
  "nbformat_minor": 0,
  "metadata": {
    "accelerator": "GPU",
    "colab": {
      "name": "Hate_Model.ipynb",
      "provenance": [],
      "collapsed_sections": []
    },
    "kernelspec": {
      "display_name": "Python 3",
      "language": "python",
      "name": "python3"
    },
    "language_info": {
      "codemirror_mode": {
        "name": "ipython",
        "version": 3
      },
      "file_extension": ".py",
      "mimetype": "text/x-python",
      "name": "python",
      "nbconvert_exporter": "python",
      "pygments_lexer": "ipython3",
      "version": "3.8.5"
    },
    "widgets": {
      "application/vnd.jupyter.widget-state+json": {
        "903dc060f5b548e8a9697bc767b50df8": {
          "model_module": "@jupyter-widgets/controls",
          "model_name": "HBoxModel",
          "state": {
            "_view_name": "HBoxView",
            "_dom_classes": [],
            "_model_name": "HBoxModel",
            "_view_module": "@jupyter-widgets/controls",
            "_model_module_version": "1.5.0",
            "_view_count": null,
            "_view_module_version": "1.5.0",
            "box_style": "",
            "layout": "IPY_MODEL_7111675442b34a77a0decf9e9b62a56a",
            "_model_module": "@jupyter-widgets/controls",
            "children": [
              "IPY_MODEL_9f39de7df54e4f51876dab1ceb946b42",
              "IPY_MODEL_69c19a28178548d5bc31110e61d78327"
            ]
          }
        },
        "7111675442b34a77a0decf9e9b62a56a": {
          "model_module": "@jupyter-widgets/base",
          "model_name": "LayoutModel",
          "state": {
            "_view_name": "LayoutView",
            "grid_template_rows": null,
            "right": null,
            "justify_content": null,
            "_view_module": "@jupyter-widgets/base",
            "overflow": null,
            "_model_module_version": "1.2.0",
            "_view_count": null,
            "flex_flow": null,
            "width": null,
            "min_width": null,
            "border": null,
            "align_items": null,
            "bottom": null,
            "_model_module": "@jupyter-widgets/base",
            "top": null,
            "grid_column": null,
            "overflow_y": null,
            "overflow_x": null,
            "grid_auto_flow": null,
            "grid_area": null,
            "grid_template_columns": null,
            "flex": null,
            "_model_name": "LayoutModel",
            "justify_items": null,
            "grid_row": null,
            "max_height": null,
            "align_content": null,
            "visibility": null,
            "align_self": null,
            "height": null,
            "min_height": null,
            "padding": null,
            "grid_auto_rows": null,
            "grid_gap": null,
            "max_width": null,
            "order": null,
            "_view_module_version": "1.2.0",
            "grid_template_areas": null,
            "object_position": null,
            "object_fit": null,
            "grid_auto_columns": null,
            "margin": null,
            "display": null,
            "left": null
          }
        },
        "9f39de7df54e4f51876dab1ceb946b42": {
          "model_module": "@jupyter-widgets/controls",
          "model_name": "FloatProgressModel",
          "state": {
            "_view_name": "ProgressView",
            "style": "IPY_MODEL_9da3ee4c9a674332ac636b2258592f2f",
            "_dom_classes": [],
            "description": "Downloading: 100%",
            "_model_name": "FloatProgressModel",
            "bar_style": "success",
            "max": 507,
            "_view_module": "@jupyter-widgets/controls",
            "_model_module_version": "1.5.0",
            "value": 507,
            "_view_count": null,
            "_view_module_version": "1.5.0",
            "orientation": "horizontal",
            "min": 0,
            "description_tooltip": null,
            "_model_module": "@jupyter-widgets/controls",
            "layout": "IPY_MODEL_ae5f316f47104a51b89d38ab15fa11c9"
          }
        },
        "69c19a28178548d5bc31110e61d78327": {
          "model_module": "@jupyter-widgets/controls",
          "model_name": "HTMLModel",
          "state": {
            "_view_name": "HTMLView",
            "style": "IPY_MODEL_81c5568a42bb4e7e806affd5a929832e",
            "_dom_classes": [],
            "description": "",
            "_model_name": "HTMLModel",
            "placeholder": "​",
            "_view_module": "@jupyter-widgets/controls",
            "_model_module_version": "1.5.0",
            "value": " 507/507 [00:00&lt;00:00, 2.10kB/s]",
            "_view_count": null,
            "_view_module_version": "1.5.0",
            "description_tooltip": null,
            "_model_module": "@jupyter-widgets/controls",
            "layout": "IPY_MODEL_8709a040600148ba9e96824a9f3726a2"
          }
        },
        "9da3ee4c9a674332ac636b2258592f2f": {
          "model_module": "@jupyter-widgets/controls",
          "model_name": "ProgressStyleModel",
          "state": {
            "_view_name": "StyleView",
            "_model_name": "ProgressStyleModel",
            "description_width": "initial",
            "_view_module": "@jupyter-widgets/base",
            "_model_module_version": "1.5.0",
            "_view_count": null,
            "_view_module_version": "1.2.0",
            "bar_color": null,
            "_model_module": "@jupyter-widgets/controls"
          }
        },
        "ae5f316f47104a51b89d38ab15fa11c9": {
          "model_module": "@jupyter-widgets/base",
          "model_name": "LayoutModel",
          "state": {
            "_view_name": "LayoutView",
            "grid_template_rows": null,
            "right": null,
            "justify_content": null,
            "_view_module": "@jupyter-widgets/base",
            "overflow": null,
            "_model_module_version": "1.2.0",
            "_view_count": null,
            "flex_flow": null,
            "width": null,
            "min_width": null,
            "border": null,
            "align_items": null,
            "bottom": null,
            "_model_module": "@jupyter-widgets/base",
            "top": null,
            "grid_column": null,
            "overflow_y": null,
            "overflow_x": null,
            "grid_auto_flow": null,
            "grid_area": null,
            "grid_template_columns": null,
            "flex": null,
            "_model_name": "LayoutModel",
            "justify_items": null,
            "grid_row": null,
            "max_height": null,
            "align_content": null,
            "visibility": null,
            "align_self": null,
            "height": null,
            "min_height": null,
            "padding": null,
            "grid_auto_rows": null,
            "grid_gap": null,
            "max_width": null,
            "order": null,
            "_view_module_version": "1.2.0",
            "grid_template_areas": null,
            "object_position": null,
            "object_fit": null,
            "grid_auto_columns": null,
            "margin": null,
            "display": null,
            "left": null
          }
        },
        "81c5568a42bb4e7e806affd5a929832e": {
          "model_module": "@jupyter-widgets/controls",
          "model_name": "DescriptionStyleModel",
          "state": {
            "_view_name": "StyleView",
            "_model_name": "DescriptionStyleModel",
            "description_width": "",
            "_view_module": "@jupyter-widgets/base",
            "_model_module_version": "1.5.0",
            "_view_count": null,
            "_view_module_version": "1.2.0",
            "_model_module": "@jupyter-widgets/controls"
          }
        },
        "8709a040600148ba9e96824a9f3726a2": {
          "model_module": "@jupyter-widgets/base",
          "model_name": "LayoutModel",
          "state": {
            "_view_name": "LayoutView",
            "grid_template_rows": null,
            "right": null,
            "justify_content": null,
            "_view_module": "@jupyter-widgets/base",
            "overflow": null,
            "_model_module_version": "1.2.0",
            "_view_count": null,
            "flex_flow": null,
            "width": null,
            "min_width": null,
            "border": null,
            "align_items": null,
            "bottom": null,
            "_model_module": "@jupyter-widgets/base",
            "top": null,
            "grid_column": null,
            "overflow_y": null,
            "overflow_x": null,
            "grid_auto_flow": null,
            "grid_area": null,
            "grid_template_columns": null,
            "flex": null,
            "_model_name": "LayoutModel",
            "justify_items": null,
            "grid_row": null,
            "max_height": null,
            "align_content": null,
            "visibility": null,
            "align_self": null,
            "height": null,
            "min_height": null,
            "padding": null,
            "grid_auto_rows": null,
            "grid_gap": null,
            "max_width": null,
            "order": null,
            "_view_module_version": "1.2.0",
            "grid_template_areas": null,
            "object_position": null,
            "object_fit": null,
            "grid_auto_columns": null,
            "margin": null,
            "display": null,
            "left": null
          }
        },
        "ef0468470d3645bc9aa0ee8590968796": {
          "model_module": "@jupyter-widgets/controls",
          "model_name": "HBoxModel",
          "state": {
            "_view_name": "HBoxView",
            "_dom_classes": [],
            "_model_name": "HBoxModel",
            "_view_module": "@jupyter-widgets/controls",
            "_model_module_version": "1.5.0",
            "_view_count": null,
            "_view_module_version": "1.5.0",
            "box_style": "",
            "layout": "IPY_MODEL_839bcbdb78554998a19c3d34db73564e",
            "_model_module": "@jupyter-widgets/controls",
            "children": [
              "IPY_MODEL_9882751088bf4bd194d6bf4c3b5fcea7",
              "IPY_MODEL_f58a993e5a5040cb867ac899fc46bbc8"
            ]
          }
        },
        "839bcbdb78554998a19c3d34db73564e": {
          "model_module": "@jupyter-widgets/base",
          "model_name": "LayoutModel",
          "state": {
            "_view_name": "LayoutView",
            "grid_template_rows": null,
            "right": null,
            "justify_content": null,
            "_view_module": "@jupyter-widgets/base",
            "overflow": null,
            "_model_module_version": "1.2.0",
            "_view_count": null,
            "flex_flow": null,
            "width": null,
            "min_width": null,
            "border": null,
            "align_items": null,
            "bottom": null,
            "_model_module": "@jupyter-widgets/base",
            "top": null,
            "grid_column": null,
            "overflow_y": null,
            "overflow_x": null,
            "grid_auto_flow": null,
            "grid_area": null,
            "grid_template_columns": null,
            "flex": null,
            "_model_name": "LayoutModel",
            "justify_items": null,
            "grid_row": null,
            "max_height": null,
            "align_content": null,
            "visibility": null,
            "align_self": null,
            "height": null,
            "min_height": null,
            "padding": null,
            "grid_auto_rows": null,
            "grid_gap": null,
            "max_width": null,
            "order": null,
            "_view_module_version": "1.2.0",
            "grid_template_areas": null,
            "object_position": null,
            "object_fit": null,
            "grid_auto_columns": null,
            "margin": null,
            "display": null,
            "left": null
          }
        },
        "9882751088bf4bd194d6bf4c3b5fcea7": {
          "model_module": "@jupyter-widgets/controls",
          "model_name": "FloatProgressModel",
          "state": {
            "_view_name": "ProgressView",
            "style": "IPY_MODEL_224ba69d4a06417fb22128ee78427b96",
            "_dom_classes": [],
            "description": "Downloading: 100%",
            "_model_name": "FloatProgressModel",
            "bar_style": "success",
            "max": 134982446,
            "_view_module": "@jupyter-widgets/controls",
            "_model_module_version": "1.5.0",
            "value": 134982446,
            "_view_count": null,
            "_view_module_version": "1.5.0",
            "orientation": "horizontal",
            "min": 0,
            "description_tooltip": null,
            "_model_module": "@jupyter-widgets/controls",
            "layout": "IPY_MODEL_492ebb61ff4f4660bcc6da9b076ace92"
          }
        },
        "f58a993e5a5040cb867ac899fc46bbc8": {
          "model_module": "@jupyter-widgets/controls",
          "model_name": "HTMLModel",
          "state": {
            "_view_name": "HTMLView",
            "style": "IPY_MODEL_64e07055ec7a4d13b364ec16870623a3",
            "_dom_classes": [],
            "description": "",
            "_model_name": "HTMLModel",
            "placeholder": "​",
            "_view_module": "@jupyter-widgets/controls",
            "_model_module_version": "1.5.0",
            "value": " 135M/135M [00:02&lt;00:00, 55.6MB/s]",
            "_view_count": null,
            "_view_module_version": "1.5.0",
            "description_tooltip": null,
            "_model_module": "@jupyter-widgets/controls",
            "layout": "IPY_MODEL_2ae7842137854d3e94138ca42e67743f"
          }
        },
        "224ba69d4a06417fb22128ee78427b96": {
          "model_module": "@jupyter-widgets/controls",
          "model_name": "ProgressStyleModel",
          "state": {
            "_view_name": "StyleView",
            "_model_name": "ProgressStyleModel",
            "description_width": "initial",
            "_view_module": "@jupyter-widgets/base",
            "_model_module_version": "1.5.0",
            "_view_count": null,
            "_view_module_version": "1.2.0",
            "bar_color": null,
            "_model_module": "@jupyter-widgets/controls"
          }
        },
        "492ebb61ff4f4660bcc6da9b076ace92": {
          "model_module": "@jupyter-widgets/base",
          "model_name": "LayoutModel",
          "state": {
            "_view_name": "LayoutView",
            "grid_template_rows": null,
            "right": null,
            "justify_content": null,
            "_view_module": "@jupyter-widgets/base",
            "overflow": null,
            "_model_module_version": "1.2.0",
            "_view_count": null,
            "flex_flow": null,
            "width": null,
            "min_width": null,
            "border": null,
            "align_items": null,
            "bottom": null,
            "_model_module": "@jupyter-widgets/base",
            "top": null,
            "grid_column": null,
            "overflow_y": null,
            "overflow_x": null,
            "grid_auto_flow": null,
            "grid_area": null,
            "grid_template_columns": null,
            "flex": null,
            "_model_name": "LayoutModel",
            "justify_items": null,
            "grid_row": null,
            "max_height": null,
            "align_content": null,
            "visibility": null,
            "align_self": null,
            "height": null,
            "min_height": null,
            "padding": null,
            "grid_auto_rows": null,
            "grid_gap": null,
            "max_width": null,
            "order": null,
            "_view_module_version": "1.2.0",
            "grid_template_areas": null,
            "object_position": null,
            "object_fit": null,
            "grid_auto_columns": null,
            "margin": null,
            "display": null,
            "left": null
          }
        },
        "64e07055ec7a4d13b364ec16870623a3": {
          "model_module": "@jupyter-widgets/controls",
          "model_name": "DescriptionStyleModel",
          "state": {
            "_view_name": "StyleView",
            "_model_name": "DescriptionStyleModel",
            "description_width": "",
            "_view_module": "@jupyter-widgets/base",
            "_model_module_version": "1.5.0",
            "_view_count": null,
            "_view_module_version": "1.2.0",
            "_model_module": "@jupyter-widgets/controls"
          }
        },
        "2ae7842137854d3e94138ca42e67743f": {
          "model_module": "@jupyter-widgets/base",
          "model_name": "LayoutModel",
          "state": {
            "_view_name": "LayoutView",
            "grid_template_rows": null,
            "right": null,
            "justify_content": null,
            "_view_module": "@jupyter-widgets/base",
            "overflow": null,
            "_model_module_version": "1.2.0",
            "_view_count": null,
            "flex_flow": null,
            "width": null,
            "min_width": null,
            "border": null,
            "align_items": null,
            "bottom": null,
            "_model_module": "@jupyter-widgets/base",
            "top": null,
            "grid_column": null,
            "overflow_y": null,
            "overflow_x": null,
            "grid_auto_flow": null,
            "grid_area": null,
            "grid_template_columns": null,
            "flex": null,
            "_model_name": "LayoutModel",
            "justify_items": null,
            "grid_row": null,
            "max_height": null,
            "align_content": null,
            "visibility": null,
            "align_self": null,
            "height": null,
            "min_height": null,
            "padding": null,
            "grid_auto_rows": null,
            "grid_gap": null,
            "max_width": null,
            "order": null,
            "_view_module_version": "1.2.0",
            "grid_template_areas": null,
            "object_position": null,
            "object_fit": null,
            "grid_auto_columns": null,
            "margin": null,
            "display": null,
            "left": null
          }
        },
        "59c3a2742e6b42899f32ade38a4e0cc4": {
          "model_module": "@jupyter-widgets/controls",
          "model_name": "HBoxModel",
          "state": {
            "_view_name": "HBoxView",
            "_dom_classes": [],
            "_model_name": "HBoxModel",
            "_view_module": "@jupyter-widgets/controls",
            "_model_module_version": "1.5.0",
            "_view_count": null,
            "_view_module_version": "1.5.0",
            "box_style": "",
            "layout": "IPY_MODEL_d742ebc9e5144c729f57d157a6c6e27a",
            "_model_module": "@jupyter-widgets/controls",
            "children": [
              "IPY_MODEL_4480bccd09514ddcb21c26fba888c29b",
              "IPY_MODEL_e2e1a26a92f74fa48316415ef95eb2ea"
            ]
          }
        },
        "d742ebc9e5144c729f57d157a6c6e27a": {
          "model_module": "@jupyter-widgets/base",
          "model_name": "LayoutModel",
          "state": {
            "_view_name": "LayoutView",
            "grid_template_rows": null,
            "right": null,
            "justify_content": null,
            "_view_module": "@jupyter-widgets/base",
            "overflow": null,
            "_model_module_version": "1.2.0",
            "_view_count": null,
            "flex_flow": null,
            "width": null,
            "min_width": null,
            "border": null,
            "align_items": null,
            "bottom": null,
            "_model_module": "@jupyter-widgets/base",
            "top": null,
            "grid_column": null,
            "overflow_y": null,
            "overflow_x": null,
            "grid_auto_flow": null,
            "grid_area": null,
            "grid_template_columns": null,
            "flex": null,
            "_model_name": "LayoutModel",
            "justify_items": null,
            "grid_row": null,
            "max_height": null,
            "align_content": null,
            "visibility": null,
            "align_self": null,
            "height": null,
            "min_height": null,
            "padding": null,
            "grid_auto_rows": null,
            "grid_gap": null,
            "max_width": null,
            "order": null,
            "_view_module_version": "1.2.0",
            "grid_template_areas": null,
            "object_position": null,
            "object_fit": null,
            "grid_auto_columns": null,
            "margin": null,
            "display": null,
            "left": null
          }
        },
        "4480bccd09514ddcb21c26fba888c29b": {
          "model_module": "@jupyter-widgets/controls",
          "model_name": "FloatProgressModel",
          "state": {
            "_view_name": "ProgressView",
            "style": "IPY_MODEL_10ee0aff129d48b89ddb8f7df4fea042",
            "_dom_classes": [],
            "description": "Downloading: 100%",
            "_model_name": "FloatProgressModel",
            "bar_style": "success",
            "max": 5646064,
            "_view_module": "@jupyter-widgets/controls",
            "_model_module_version": "1.5.0",
            "value": 5646064,
            "_view_count": null,
            "_view_module_version": "1.5.0",
            "orientation": "horizontal",
            "min": 0,
            "description_tooltip": null,
            "_model_module": "@jupyter-widgets/controls",
            "layout": "IPY_MODEL_ff24569c87de456ea3935b415c97f5a0"
          }
        },
        "e2e1a26a92f74fa48316415ef95eb2ea": {
          "model_module": "@jupyter-widgets/controls",
          "model_name": "HTMLModel",
          "state": {
            "_view_name": "HTMLView",
            "style": "IPY_MODEL_20eeb3bb78a0451c9cef0ddf52b2ab30",
            "_dom_classes": [],
            "description": "",
            "_model_name": "HTMLModel",
            "placeholder": "​",
            "_view_module": "@jupyter-widgets/controls",
            "_model_module_version": "1.5.0",
            "value": " 5.65M/5.65M [00:01&lt;00:00, 2.83MB/s]",
            "_view_count": null,
            "_view_module_version": "1.5.0",
            "description_tooltip": null,
            "_model_module": "@jupyter-widgets/controls",
            "layout": "IPY_MODEL_186fa2c5eeb249dbbcf538ca9d10d145"
          }
        },
        "10ee0aff129d48b89ddb8f7df4fea042": {
          "model_module": "@jupyter-widgets/controls",
          "model_name": "ProgressStyleModel",
          "state": {
            "_view_name": "StyleView",
            "_model_name": "ProgressStyleModel",
            "description_width": "initial",
            "_view_module": "@jupyter-widgets/base",
            "_model_module_version": "1.5.0",
            "_view_count": null,
            "_view_module_version": "1.2.0",
            "bar_color": null,
            "_model_module": "@jupyter-widgets/controls"
          }
        },
        "ff24569c87de456ea3935b415c97f5a0": {
          "model_module": "@jupyter-widgets/base",
          "model_name": "LayoutModel",
          "state": {
            "_view_name": "LayoutView",
            "grid_template_rows": null,
            "right": null,
            "justify_content": null,
            "_view_module": "@jupyter-widgets/base",
            "overflow": null,
            "_model_module_version": "1.2.0",
            "_view_count": null,
            "flex_flow": null,
            "width": null,
            "min_width": null,
            "border": null,
            "align_items": null,
            "bottom": null,
            "_model_module": "@jupyter-widgets/base",
            "top": null,
            "grid_column": null,
            "overflow_y": null,
            "overflow_x": null,
            "grid_auto_flow": null,
            "grid_area": null,
            "grid_template_columns": null,
            "flex": null,
            "_model_name": "LayoutModel",
            "justify_items": null,
            "grid_row": null,
            "max_height": null,
            "align_content": null,
            "visibility": null,
            "align_self": null,
            "height": null,
            "min_height": null,
            "padding": null,
            "grid_auto_rows": null,
            "grid_gap": null,
            "max_width": null,
            "order": null,
            "_view_module_version": "1.2.0",
            "grid_template_areas": null,
            "object_position": null,
            "object_fit": null,
            "grid_auto_columns": null,
            "margin": null,
            "display": null,
            "left": null
          }
        },
        "20eeb3bb78a0451c9cef0ddf52b2ab30": {
          "model_module": "@jupyter-widgets/controls",
          "model_name": "DescriptionStyleModel",
          "state": {
            "_view_name": "StyleView",
            "_model_name": "DescriptionStyleModel",
            "description_width": "",
            "_view_module": "@jupyter-widgets/base",
            "_model_module_version": "1.5.0",
            "_view_count": null,
            "_view_module_version": "1.2.0",
            "_model_module": "@jupyter-widgets/controls"
          }
        },
        "186fa2c5eeb249dbbcf538ca9d10d145": {
          "model_module": "@jupyter-widgets/base",
          "model_name": "LayoutModel",
          "state": {
            "_view_name": "LayoutView",
            "grid_template_rows": null,
            "right": null,
            "justify_content": null,
            "_view_module": "@jupyter-widgets/base",
            "overflow": null,
            "_model_module_version": "1.2.0",
            "_view_count": null,
            "flex_flow": null,
            "width": null,
            "min_width": null,
            "border": null,
            "align_items": null,
            "bottom": null,
            "_model_module": "@jupyter-widgets/base",
            "top": null,
            "grid_column": null,
            "overflow_y": null,
            "overflow_x": null,
            "grid_auto_flow": null,
            "grid_area": null,
            "grid_template_columns": null,
            "flex": null,
            "_model_name": "LayoutModel",
            "justify_items": null,
            "grid_row": null,
            "max_height": null,
            "align_content": null,
            "visibility": null,
            "align_self": null,
            "height": null,
            "min_height": null,
            "padding": null,
            "grid_auto_rows": null,
            "grid_gap": null,
            "max_width": null,
            "order": null,
            "_view_module_version": "1.2.0",
            "grid_template_areas": null,
            "object_position": null,
            "object_fit": null,
            "grid_auto_columns": null,
            "margin": null,
            "display": null,
            "left": null
          }
        }
      }
    }
  },
  "cells": [
    {
      "cell_type": "markdown",
      "metadata": {
        "id": "xODPZCORkXAJ"
      },
      "source": [
        "**Installing Required Libraries**"
      ]
    },
    {
      "cell_type": "code",
      "metadata": {
        "colab": {
          "base_uri": "https://localhost:8080/"
        },
        "id": "14LVmt6V-Q9i",
        "outputId": "22c1e65b-f37c-486b-b532-9cb29c82eb1e"
      },
      "source": [
        "!pip install transformers\n",
        "!pip install sentencepiece"
      ],
      "execution_count": 1,
      "outputs": [
        {
          "output_type": "stream",
          "text": [
            "Collecting transformers\n",
            "\u001b[?25l  Downloading https://files.pythonhosted.org/packages/50/0c/7d5950fcd80b029be0a8891727ba21e0cd27692c407c51261c3c921f6da3/transformers-4.1.1-py3-none-any.whl (1.5MB)\n",
            "\r\u001b[K     |▏                               | 10kB 26.1MB/s eta 0:00:01\r\u001b[K     |▍                               | 20kB 15.5MB/s eta 0:00:01\r\u001b[K     |▋                               | 30kB 13.0MB/s eta 0:00:01\r\u001b[K     |▉                               | 40kB 11.7MB/s eta 0:00:01\r\u001b[K     |█                               | 51kB 7.9MB/s eta 0:00:01\r\u001b[K     |█▎                              | 61kB 7.5MB/s eta 0:00:01\r\u001b[K     |█▌                              | 71kB 8.5MB/s eta 0:00:01\r\u001b[K     |█▊                              | 81kB 9.4MB/s eta 0:00:01\r\u001b[K     |██                              | 92kB 9.8MB/s eta 0:00:01\r\u001b[K     |██▏                             | 102kB 7.7MB/s eta 0:00:01\r\u001b[K     |██▍                             | 112kB 7.7MB/s eta 0:00:01\r\u001b[K     |██▋                             | 122kB 7.7MB/s eta 0:00:01\r\u001b[K     |██▉                             | 133kB 7.7MB/s eta 0:00:01\r\u001b[K     |███                             | 143kB 7.7MB/s eta 0:00:01\r\u001b[K     |███▎                            | 153kB 7.7MB/s eta 0:00:01\r\u001b[K     |███▌                            | 163kB 7.7MB/s eta 0:00:01\r\u001b[K     |███▊                            | 174kB 7.7MB/s eta 0:00:01\r\u001b[K     |████                            | 184kB 7.7MB/s eta 0:00:01\r\u001b[K     |████▏                           | 194kB 7.7MB/s eta 0:00:01\r\u001b[K     |████▎                           | 204kB 7.7MB/s eta 0:00:01\r\u001b[K     |████▌                           | 215kB 7.7MB/s eta 0:00:01\r\u001b[K     |████▊                           | 225kB 7.7MB/s eta 0:00:01\r\u001b[K     |█████                           | 235kB 7.7MB/s eta 0:00:01\r\u001b[K     |█████▏                          | 245kB 7.7MB/s eta 0:00:01\r\u001b[K     |█████▍                          | 256kB 7.7MB/s eta 0:00:01\r\u001b[K     |█████▋                          | 266kB 7.7MB/s eta 0:00:01\r\u001b[K     |█████▉                          | 276kB 7.7MB/s eta 0:00:01\r\u001b[K     |██████                          | 286kB 7.7MB/s eta 0:00:01\r\u001b[K     |██████▎                         | 296kB 7.7MB/s eta 0:00:01\r\u001b[K     |██████▌                         | 307kB 7.7MB/s eta 0:00:01\r\u001b[K     |██████▊                         | 317kB 7.7MB/s eta 0:00:01\r\u001b[K     |███████                         | 327kB 7.7MB/s eta 0:00:01\r\u001b[K     |███████▏                        | 337kB 7.7MB/s eta 0:00:01\r\u001b[K     |███████▍                        | 348kB 7.7MB/s eta 0:00:01\r\u001b[K     |███████▋                        | 358kB 7.7MB/s eta 0:00:01\r\u001b[K     |███████▉                        | 368kB 7.7MB/s eta 0:00:01\r\u001b[K     |████████                        | 378kB 7.7MB/s eta 0:00:01\r\u001b[K     |████████▎                       | 389kB 7.7MB/s eta 0:00:01\r\u001b[K     |████████▌                       | 399kB 7.7MB/s eta 0:00:01\r\u001b[K     |████████▋                       | 409kB 7.7MB/s eta 0:00:01\r\u001b[K     |████████▉                       | 419kB 7.7MB/s eta 0:00:01\r\u001b[K     |█████████                       | 430kB 7.7MB/s eta 0:00:01\r\u001b[K     |█████████▎                      | 440kB 7.7MB/s eta 0:00:01\r\u001b[K     |█████████▌                      | 450kB 7.7MB/s eta 0:00:01\r\u001b[K     |█████████▊                      | 460kB 7.7MB/s eta 0:00:01\r\u001b[K     |██████████                      | 471kB 7.7MB/s eta 0:00:01\r\u001b[K     |██████████▏                     | 481kB 7.7MB/s eta 0:00:01\r\u001b[K     |██████████▍                     | 491kB 7.7MB/s eta 0:00:01\r\u001b[K     |██████████▋                     | 501kB 7.7MB/s eta 0:00:01\r\u001b[K     |██████████▉                     | 512kB 7.7MB/s eta 0:00:01\r\u001b[K     |███████████                     | 522kB 7.7MB/s eta 0:00:01\r\u001b[K     |███████████▎                    | 532kB 7.7MB/s eta 0:00:01\r\u001b[K     |███████████▌                    | 542kB 7.7MB/s eta 0:00:01\r\u001b[K     |███████████▊                    | 552kB 7.7MB/s eta 0:00:01\r\u001b[K     |████████████                    | 563kB 7.7MB/s eta 0:00:01\r\u001b[K     |████████████▏                   | 573kB 7.7MB/s eta 0:00:01\r\u001b[K     |████████████▍                   | 583kB 7.7MB/s eta 0:00:01\r\u001b[K     |████████████▋                   | 593kB 7.7MB/s eta 0:00:01\r\u001b[K     |████████████▉                   | 604kB 7.7MB/s eta 0:00:01\r\u001b[K     |█████████████                   | 614kB 7.7MB/s eta 0:00:01\r\u001b[K     |█████████████▏                  | 624kB 7.7MB/s eta 0:00:01\r\u001b[K     |█████████████▍                  | 634kB 7.7MB/s eta 0:00:01\r\u001b[K     |█████████████▋                  | 645kB 7.7MB/s eta 0:00:01\r\u001b[K     |█████████████▉                  | 655kB 7.7MB/s eta 0:00:01\r\u001b[K     |██████████████                  | 665kB 7.7MB/s eta 0:00:01\r\u001b[K     |██████████████▎                 | 675kB 7.7MB/s eta 0:00:01\r\u001b[K     |██████████████▌                 | 686kB 7.7MB/s eta 0:00:01\r\u001b[K     |██████████████▊                 | 696kB 7.7MB/s eta 0:00:01\r\u001b[K     |███████████████                 | 706kB 7.7MB/s eta 0:00:01\r\u001b[K     |███████████████▏                | 716kB 7.7MB/s eta 0:00:01\r\u001b[K     |███████████████▍                | 727kB 7.7MB/s eta 0:00:01\r\u001b[K     |███████████████▋                | 737kB 7.7MB/s eta 0:00:01\r\u001b[K     |███████████████▉                | 747kB 7.7MB/s eta 0:00:01\r\u001b[K     |████████████████                | 757kB 7.7MB/s eta 0:00:01\r\u001b[K     |████████████████▎               | 768kB 7.7MB/s eta 0:00:01\r\u001b[K     |████████████████▌               | 778kB 7.7MB/s eta 0:00:01\r\u001b[K     |████████████████▊               | 788kB 7.7MB/s eta 0:00:01\r\u001b[K     |█████████████████               | 798kB 7.7MB/s eta 0:00:01\r\u001b[K     |█████████████████               | 808kB 7.7MB/s eta 0:00:01\r\u001b[K     |█████████████████▎              | 819kB 7.7MB/s eta 0:00:01\r\u001b[K     |█████████████████▌              | 829kB 7.7MB/s eta 0:00:01\r\u001b[K     |█████████████████▊              | 839kB 7.7MB/s eta 0:00:01\r\u001b[K     |██████████████████              | 849kB 7.7MB/s eta 0:00:01\r\u001b[K     |██████████████████▏             | 860kB 7.7MB/s eta 0:00:01\r\u001b[K     |██████████████████▍             | 870kB 7.7MB/s eta 0:00:01\r\u001b[K     |██████████████████▋             | 880kB 7.7MB/s eta 0:00:01\r\u001b[K     |██████████████████▉             | 890kB 7.7MB/s eta 0:00:01\r\u001b[K     |███████████████████             | 901kB 7.7MB/s eta 0:00:01\r\u001b[K     |███████████████████▎            | 911kB 7.7MB/s eta 0:00:01\r\u001b[K     |███████████████████▌            | 921kB 7.7MB/s eta 0:00:01\r\u001b[K     |███████████████████▊            | 931kB 7.7MB/s eta 0:00:01\r\u001b[K     |████████████████████            | 942kB 7.7MB/s eta 0:00:01\r\u001b[K     |████████████████████▏           | 952kB 7.7MB/s eta 0:00:01\r\u001b[K     |████████████████████▍           | 962kB 7.7MB/s eta 0:00:01\r\u001b[K     |████████████████████▋           | 972kB 7.7MB/s eta 0:00:01\r\u001b[K     |████████████████████▉           | 983kB 7.7MB/s eta 0:00:01\r\u001b[K     |█████████████████████           | 993kB 7.7MB/s eta 0:00:01\r\u001b[K     |█████████████████████▎          | 1.0MB 7.7MB/s eta 0:00:01\r\u001b[K     |█████████████████████▍          | 1.0MB 7.7MB/s eta 0:00:01\r\u001b[K     |█████████████████████▋          | 1.0MB 7.7MB/s eta 0:00:01\r\u001b[K     |█████████████████████▉          | 1.0MB 7.7MB/s eta 0:00:01\r\u001b[K     |██████████████████████          | 1.0MB 7.7MB/s eta 0:00:01\r\u001b[K     |██████████████████████▎         | 1.1MB 7.7MB/s eta 0:00:01\r\u001b[K     |██████████████████████▌         | 1.1MB 7.7MB/s eta 0:00:01\r\u001b[K     |██████████████████████▊         | 1.1MB 7.7MB/s eta 0:00:01\r\u001b[K     |███████████████████████         | 1.1MB 7.7MB/s eta 0:00:01\r\u001b[K     |███████████████████████▏        | 1.1MB 7.7MB/s eta 0:00:01\r\u001b[K     |███████████████████████▍        | 1.1MB 7.7MB/s eta 0:00:01\r\u001b[K     |███████████████████████▋        | 1.1MB 7.7MB/s eta 0:00:01\r\u001b[K     |███████████████████████▉        | 1.1MB 7.7MB/s eta 0:00:01\r\u001b[K     |████████████████████████        | 1.1MB 7.7MB/s eta 0:00:01\r\u001b[K     |████████████████████████▎       | 1.1MB 7.7MB/s eta 0:00:01\r\u001b[K     |████████████████████████▌       | 1.2MB 7.7MB/s eta 0:00:01\r\u001b[K     |████████████████████████▊       | 1.2MB 7.7MB/s eta 0:00:01\r\u001b[K     |█████████████████████████       | 1.2MB 7.7MB/s eta 0:00:01\r\u001b[K     |█████████████████████████▏      | 1.2MB 7.7MB/s eta 0:00:01\r\u001b[K     |█████████████████████████▍      | 1.2MB 7.7MB/s eta 0:00:01\r\u001b[K     |█████████████████████████▋      | 1.2MB 7.7MB/s eta 0:00:01\r\u001b[K     |█████████████████████████▊      | 1.2MB 7.7MB/s eta 0:00:01\r\u001b[K     |██████████████████████████      | 1.2MB 7.7MB/s eta 0:00:01\r\u001b[K     |██████████████████████████▏     | 1.2MB 7.7MB/s eta 0:00:01\r\u001b[K     |██████████████████████████▍     | 1.2MB 7.7MB/s eta 0:00:01\r\u001b[K     |██████████████████████████▋     | 1.3MB 7.7MB/s eta 0:00:01\r\u001b[K     |██████████████████████████▉     | 1.3MB 7.7MB/s eta 0:00:01\r\u001b[K     |███████████████████████████     | 1.3MB 7.7MB/s eta 0:00:01\r\u001b[K     |███████████████████████████▎    | 1.3MB 7.7MB/s eta 0:00:01\r\u001b[K     |███████████████████████████▌    | 1.3MB 7.7MB/s eta 0:00:01\r\u001b[K     |███████████████████████████▊    | 1.3MB 7.7MB/s eta 0:00:01\r\u001b[K     |████████████████████████████    | 1.3MB 7.7MB/s eta 0:00:01\r\u001b[K     |████████████████████████████▏   | 1.3MB 7.7MB/s eta 0:00:01\r\u001b[K     |████████████████████████████▍   | 1.3MB 7.7MB/s eta 0:00:01\r\u001b[K     |████████████████████████████▋   | 1.4MB 7.7MB/s eta 0:00:01\r\u001b[K     |████████████████████████████▉   | 1.4MB 7.7MB/s eta 0:00:01\r\u001b[K     |█████████████████████████████   | 1.4MB 7.7MB/s eta 0:00:01\r\u001b[K     |█████████████████████████████▎  | 1.4MB 7.7MB/s eta 0:00:01\r\u001b[K     |█████████████████████████████▌  | 1.4MB 7.7MB/s eta 0:00:01\r\u001b[K     |█████████████████████████████▊  | 1.4MB 7.7MB/s eta 0:00:01\r\u001b[K     |█████████████████████████████▉  | 1.4MB 7.7MB/s eta 0:00:01\r\u001b[K     |██████████████████████████████  | 1.4MB 7.7MB/s eta 0:00:01\r\u001b[K     |██████████████████████████████▎ | 1.4MB 7.7MB/s eta 0:00:01\r\u001b[K     |██████████████████████████████▌ | 1.4MB 7.7MB/s eta 0:00:01\r\u001b[K     |██████████████████████████████▊ | 1.5MB 7.7MB/s eta 0:00:01\r\u001b[K     |███████████████████████████████ | 1.5MB 7.7MB/s eta 0:00:01\r\u001b[K     |███████████████████████████████▏| 1.5MB 7.7MB/s eta 0:00:01\r\u001b[K     |███████████████████████████████▍| 1.5MB 7.7MB/s eta 0:00:01\r\u001b[K     |███████████████████████████████▋| 1.5MB 7.7MB/s eta 0:00:01\r\u001b[K     |███████████████████████████████▉| 1.5MB 7.7MB/s eta 0:00:01\r\u001b[K     |████████████████████████████████| 1.5MB 7.7MB/s \n",
            "\u001b[?25hRequirement already satisfied: tqdm>=4.27 in /usr/local/lib/python3.6/dist-packages (from transformers) (4.41.1)\n",
            "Requirement already satisfied: packaging in /usr/local/lib/python3.6/dist-packages (from transformers) (20.8)\n",
            "Requirement already satisfied: requests in /usr/local/lib/python3.6/dist-packages (from transformers) (2.23.0)\n",
            "Requirement already satisfied: filelock in /usr/local/lib/python3.6/dist-packages (from transformers) (3.0.12)\n",
            "Requirement already satisfied: dataclasses; python_version < \"3.7\" in /usr/local/lib/python3.6/dist-packages (from transformers) (0.8)\n",
            "Collecting sacremoses\n",
            "\u001b[?25l  Downloading https://files.pythonhosted.org/packages/7d/34/09d19aff26edcc8eb2a01bed8e98f13a1537005d31e95233fd48216eed10/sacremoses-0.0.43.tar.gz (883kB)\n",
            "\u001b[K     |████████████████████████████████| 890kB 37.4MB/s \n",
            "\u001b[?25hRequirement already satisfied: numpy in /usr/local/lib/python3.6/dist-packages (from transformers) (1.19.4)\n",
            "Requirement already satisfied: regex!=2019.12.17 in /usr/local/lib/python3.6/dist-packages (from transformers) (2019.12.20)\n",
            "Collecting tokenizers==0.9.4\n",
            "\u001b[?25l  Downloading https://files.pythonhosted.org/packages/0f/1c/e789a8b12e28be5bc1ce2156cf87cb522b379be9cadc7ad8091a4cc107c4/tokenizers-0.9.4-cp36-cp36m-manylinux2010_x86_64.whl (2.9MB)\n",
            "\u001b[K     |████████████████████████████████| 2.9MB 39.9MB/s \n",
            "\u001b[?25hRequirement already satisfied: pyparsing>=2.0.2 in /usr/local/lib/python3.6/dist-packages (from packaging->transformers) (2.4.7)\n",
            "Requirement already satisfied: idna<3,>=2.5 in /usr/local/lib/python3.6/dist-packages (from requests->transformers) (2.10)\n",
            "Requirement already satisfied: urllib3!=1.25.0,!=1.25.1,<1.26,>=1.21.1 in /usr/local/lib/python3.6/dist-packages (from requests->transformers) (1.24.3)\n",
            "Requirement already satisfied: chardet<4,>=3.0.2 in /usr/local/lib/python3.6/dist-packages (from requests->transformers) (3.0.4)\n",
            "Requirement already satisfied: certifi>=2017.4.17 in /usr/local/lib/python3.6/dist-packages (from requests->transformers) (2020.12.5)\n",
            "Requirement already satisfied: six in /usr/local/lib/python3.6/dist-packages (from sacremoses->transformers) (1.15.0)\n",
            "Requirement already satisfied: click in /usr/local/lib/python3.6/dist-packages (from sacremoses->transformers) (7.1.2)\n",
            "Requirement already satisfied: joblib in /usr/local/lib/python3.6/dist-packages (from sacremoses->transformers) (1.0.0)\n",
            "Building wheels for collected packages: sacremoses\n",
            "  Building wheel for sacremoses (setup.py) ... \u001b[?25l\u001b[?25hdone\n",
            "  Created wheel for sacremoses: filename=sacremoses-0.0.43-cp36-none-any.whl size=893261 sha256=c3ee2b76eb91519f51a69138735e5fa763a6dd207b947a2fea0d479cc434c25e\n",
            "  Stored in directory: /root/.cache/pip/wheels/29/3c/fd/7ce5c3f0666dab31a50123635e6fb5e19ceb42ce38d4e58f45\n",
            "Successfully built sacremoses\n",
            "Installing collected packages: sacremoses, tokenizers, transformers\n",
            "Successfully installed sacremoses-0.0.43 tokenizers-0.9.4 transformers-4.1.1\n",
            "Collecting sentencepiece\n",
            "\u001b[?25l  Downloading https://files.pythonhosted.org/packages/e5/2d/6d4ca4bef9a67070fa1cac508606328329152b1df10bdf31fb6e4e727894/sentencepiece-0.1.94-cp36-cp36m-manylinux2014_x86_64.whl (1.1MB)\n",
            "\u001b[K     |████████████████████████████████| 1.1MB 8.1MB/s \n",
            "\u001b[?25hInstalling collected packages: sentencepiece\n",
            "Successfully installed sentencepiece-0.1.94\n"
          ],
          "name": "stdout"
        }
      ]
    },
    {
      "cell_type": "markdown",
      "metadata": {
        "id": "ON7m4p7jkXAS"
      },
      "source": [
        "**Importing Required files and setting up**"
      ]
    },
    {
      "cell_type": "code",
      "metadata": {
        "id": "hTUZIOen-gTp"
      },
      "source": [
        "import numpy as np\n",
        "import pandas as pd\n",
        "import torch\n",
        "import torch.nn as nn\n",
        "from sklearn.model_selection import train_test_split\n",
        "from sklearn.metrics import classification_report\n",
        "import transformers\n",
        "from transformers import AutoModel, AutoTokenizer\n",
        "\n",
        "# specify GPU\n",
        "device = torch.device(\"cuda\")"
      ],
      "execution_count": 2,
      "outputs": []
    },
    {
      "cell_type": "code",
      "metadata": {
        "colab": {
          "base_uri": "https://localhost:8080/"
        },
        "id": "CebjxQtwhrQ2",
        "outputId": "0ebad553-7b79-4dd8-9c93-8b19c202ce4c"
      },
      "source": [
        "!git clone https://github.com/anoopkunchukuttan/indic_nlp_resources.git\n",
        "!pip install indic-nlp-library\n",
        "import sys\n",
        "from indicnlp import common\n",
        "\n",
        "# The path to the local git repo for Indic NLP library\n",
        "INDIC_NLP_LIB_HOME=r\"indic_nlp_library\"\n",
        "\n",
        "# The path to the local git repo for Indic NLP Resources\n",
        "INDIC_NLP_RESOURCES=r\"indic_nlp_resources\"\n",
        "\n",
        "# Add library to Python path\n",
        "sys.path.append(r'{}\\src'.format(INDIC_NLP_LIB_HOME))\n",
        "\n",
        "# Set environment variable for resources folder\n",
        "common.set_resources_path(INDIC_NLP_RESOURCES)\n",
        "from indicnlp.tokenize import sentence_tokenize, indic_tokenize"
      ],
      "execution_count": 3,
      "outputs": [
        {
          "output_type": "stream",
          "text": [
            "Cloning into 'indic_nlp_resources'...\n",
            "remote: Enumerating objects: 7, done.\u001b[K\n",
            "remote: Counting objects: 100% (7/7), done.\u001b[K\n",
            "remote: Compressing objects: 100% (7/7), done.\u001b[K\n",
            "remote: Total 133 (delta 0), reused 2 (delta 0), pack-reused 126\u001b[K\n",
            "Receiving objects: 100% (133/133), 149.77 MiB | 40.17 MiB/s, done.\n",
            "Resolving deltas: 100% (51/51), done.\n",
            "Collecting indic-nlp-library\n",
            "  Downloading https://files.pythonhosted.org/packages/2f/51/f4e4542a226055b73a621ad442c16ae2c913d6b497283c99cae7a9661e6c/indic_nlp_library-0.71-py3-none-any.whl\n",
            "Requirement already satisfied: numpy in /usr/local/lib/python3.6/dist-packages (from indic-nlp-library) (1.19.4)\n",
            "Collecting morfessor\n",
            "  Downloading https://files.pythonhosted.org/packages/39/e6/7afea30be2ee4d29ce9de0fa53acbb033163615f849515c0b1956ad074ee/Morfessor-2.0.6-py3-none-any.whl\n",
            "Requirement already satisfied: pandas in /usr/local/lib/python3.6/dist-packages (from indic-nlp-library) (1.1.5)\n",
            "Requirement already satisfied: python-dateutil>=2.7.3 in /usr/local/lib/python3.6/dist-packages (from pandas->indic-nlp-library) (2.8.1)\n",
            "Requirement already satisfied: pytz>=2017.2 in /usr/local/lib/python3.6/dist-packages (from pandas->indic-nlp-library) (2018.9)\n",
            "Requirement already satisfied: six>=1.5 in /usr/local/lib/python3.6/dist-packages (from python-dateutil>=2.7.3->pandas->indic-nlp-library) (1.15.0)\n",
            "Installing collected packages: morfessor, indic-nlp-library\n",
            "Successfully installed indic-nlp-library-0.71 morfessor-2.0.6\n"
          ],
          "name": "stdout"
        }
      ]
    },
    {
      "cell_type": "markdown",
      "metadata": {
        "id": "NB4vtaVCkXAU"
      },
      "source": [
        "**Loading Files and Data Wrangling**"
      ]
    },
    {
      "cell_type": "code",
      "metadata": {
        "id": "_Pc3bz6l-jv1"
      },
      "source": [
        "train_file = 'train.csv'\n",
        "val_file = 'val.csv'\n",
        "test_file = 'test.csv'"
      ],
      "execution_count": 103,
      "outputs": []
    },
    {
      "cell_type": "code",
      "metadata": {
        "id": "D5E5dDBx-lIw"
      },
      "source": [
        "train_data = pd.read_csv(train_file, header=0, index_col=0)\n",
        "val_data = pd.read_csv(val_file, header=0, index_col=0)\n",
        "non_hostile_val_data = pd.read_csv('y_pred_val_non_hostile.csv', header=0, index_col=0)\n",
        "test_data = pd.read_csv(test_file, header=0, index_col=0)\n",
        "train_val_data = train_data.append(val_data, ignore_index=True)"
      ],
      "execution_count": 104,
      "outputs": []
    },
    {
      "cell_type": "code",
      "metadata": {
        "id": "idG38Zd8a_Km"
      },
      "source": [
        "non_hostile_test_data = pd.read_csv('y_pred_test_non_hostile.csv', header=0, index_col=0)\n",
        "val_data_orig = val_data\n",
        "test_data_orig = test_data"
      ],
      "execution_count": 106,
      "outputs": []
    },
    {
      "cell_type": "code",
      "metadata": {
        "id": "Sdrm8rQRbAgK"
      },
      "source": [
        "train_data.drop(train_data[train_data['Labels Set']=='non-hostile'].index, inplace = True)\n",
        "val_data.drop(non_hostile_val_data[non_hostile_val_data['non-hostile']==1].index, inplace=True)\n",
        "train_val_data.drop(train_val_data[train_val_data['Labels Set']=='non-hostile'].index, inplace = True)"
      ],
      "execution_count": 107,
      "outputs": []
    },
    {
      "cell_type": "code",
      "metadata": {
        "id": "og7F_5QybBnj"
      },
      "source": [
        "test_data.drop(non_hostile_test_data[non_hostile_test_data['non-hostile']==1].index, inplace=True)"
      ],
      "execution_count": 108,
      "outputs": []
    },
    {
      "cell_type": "code",
      "metadata": {
        "colab": {
          "base_uri": "https://localhost:8080/",
          "height": 501
        },
        "id": "9LgB18U3-uhY",
        "outputId": "66624d25-63dc-4fed-f7b1-d9e38e4e2c98"
      },
      "source": [
        "print(train_data.shape)\n",
        "train_data.head()"
      ],
      "execution_count": 10,
      "outputs": [
        {
          "output_type": "stream",
          "text": [
            "(2678, 13)\n"
          ],
          "name": "stdout"
        },
        {
          "output_type": "execute_result",
          "data": {
            "text/html": [
              "<div>\n",
              "<style scoped>\n",
              "    .dataframe tbody tr th:only-of-type {\n",
              "        vertical-align: middle;\n",
              "    }\n",
              "\n",
              "    .dataframe tbody tr th {\n",
              "        vertical-align: top;\n",
              "    }\n",
              "\n",
              "    .dataframe thead th {\n",
              "        text-align: right;\n",
              "    }\n",
              "</style>\n",
              "<table border=\"1\" class=\"dataframe\">\n",
              "  <thead>\n",
              "    <tr style=\"text-align: right;\">\n",
              "      <th></th>\n",
              "      <th>Post</th>\n",
              "      <th>Labels Set</th>\n",
              "      <th>emails</th>\n",
              "      <th>urls</th>\n",
              "      <th>mentions</th>\n",
              "      <th>hashtags</th>\n",
              "      <th>emojis</th>\n",
              "      <th>emoticons</th>\n",
              "      <th>reserved_words</th>\n",
              "      <th>Filtered_Post</th>\n",
              "      <th>Filtered_Post_Stopword_Removed</th>\n",
              "      <th>Unnamed: 12</th>\n",
              "      <th>Unnamed: 13</th>\n",
              "    </tr>\n",
              "    <tr>\n",
              "      <th>Unique ID</th>\n",
              "      <th></th>\n",
              "      <th></th>\n",
              "      <th></th>\n",
              "      <th></th>\n",
              "      <th></th>\n",
              "      <th></th>\n",
              "      <th></th>\n",
              "      <th></th>\n",
              "      <th></th>\n",
              "      <th></th>\n",
              "      <th></th>\n",
              "      <th></th>\n",
              "      <th></th>\n",
              "    </tr>\n",
              "  </thead>\n",
              "  <tbody>\n",
              "    <tr>\n",
              "      <th>1</th>\n",
              "      <td>मेरे देश के हिन्दु बहुत निराले है। कुछ तो पक्क...</td>\n",
              "      <td>hate,offensive</td>\n",
              "      <td>[]</td>\n",
              "      <td>[]</td>\n",
              "      <td>[]</td>\n",
              "      <td>[]</td>\n",
              "      <td>['🙏', '🙏']</td>\n",
              "      <td>[]</td>\n",
              "      <td>[]</td>\n",
              "      <td>मेरे देश के हिन्दु बहुत निराले है। कुछ तो पक्क...</td>\n",
              "      <td>मेरे देश हिन्दु निराले है। पक्के राम भक्त बाबर...</td>\n",
              "      <td>NaN</td>\n",
              "      <td>NaN</td>\n",
              "    </tr>\n",
              "    <tr>\n",
              "      <th>4</th>\n",
              "      <td>@prabhav218 साले जेएनयू छाप कमिने लोग हिन्दुओं...</td>\n",
              "      <td>defamation,offensive</td>\n",
              "      <td>[]</td>\n",
              "      <td>[]</td>\n",
              "      <td>['@prabhav218']</td>\n",
              "      <td>[]</td>\n",
              "      <td>[]</td>\n",
              "      <td>[]</td>\n",
              "      <td>[]</td>\n",
              "      <td>साले जेएनयू छाप कमिने लोग हिन्दुओं को यह कहते...</td>\n",
              "      <td>साले जेएनयू छाप कमिने लोग हिन्दुओं संविधान सबक...</td>\n",
              "      <td>NaN</td>\n",
              "      <td>NaN</td>\n",
              "    </tr>\n",
              "    <tr>\n",
              "      <th>6</th>\n",
              "      <td>चीन ने UN में तर्क दिया की भारत का विपक्ष ही अ...</td>\n",
              "      <td>fake</td>\n",
              "      <td>[]</td>\n",
              "      <td>[]</td>\n",
              "      <td>[]</td>\n",
              "      <td>[]</td>\n",
              "      <td>[]</td>\n",
              "      <td>[]</td>\n",
              "      <td>[]</td>\n",
              "      <td>चीन ने UN में तर्क दिया की भारत का विपक्ष ही अ...</td>\n",
              "      <td>चीन UN तर्क भारत विपक्ष अजर‌ मसुद आतंकी मानता ...</td>\n",
              "      <td>NaN</td>\n",
              "      <td>NaN</td>\n",
              "    </tr>\n",
              "    <tr>\n",
              "      <th>11</th>\n",
              "      <td>RT @_Pb_swain_: मोदीजी और जब सारा देश सेना के ...</td>\n",
              "      <td>hate</td>\n",
              "      <td>[]</td>\n",
              "      <td>[]</td>\n",
              "      <td>['@_Pb_swain_:']</td>\n",
              "      <td>[]</td>\n",
              "      <td>['🤔']</td>\n",
              "      <td>[]</td>\n",
              "      <td>['RT']</td>\n",
              "      <td>मोदीजी और जब सारा देश सेना के साथ खडी है,\\n\\...</td>\n",
              "      <td>मोदीजी देश सेना खडी है, सयाने विदेश पडे है? बो...</td>\n",
              "      <td>NaN</td>\n",
              "      <td>NaN</td>\n",
              "    </tr>\n",
              "    <tr>\n",
              "      <th>12</th>\n",
              "      <td>RT @ShilpiSinghINC: 48000 घरों को तोड़ने का आद...</td>\n",
              "      <td>offensive</td>\n",
              "      <td>[]</td>\n",
              "      <td>[]</td>\n",
              "      <td>['@ShilpiSinghINC:']</td>\n",
              "      <td>[]</td>\n",
              "      <td>[]</td>\n",
              "      <td>[]</td>\n",
              "      <td>['RT']</td>\n",
              "      <td>48000 घरों को तोड़ने का आदेश आया है, किसी को...</td>\n",
              "      <td>48000 घरों तोड़ने आदेश आया है, फर्क़ पड़ता! अम...</td>\n",
              "      <td>NaN</td>\n",
              "      <td>NaN</td>\n",
              "    </tr>\n",
              "  </tbody>\n",
              "</table>\n",
              "</div>"
            ],
            "text/plain": [
              "                                                        Post  ... Unnamed: 13\n",
              "Unique ID                                                     ...            \n",
              "1          मेरे देश के हिन्दु बहुत निराले है। कुछ तो पक्क...  ...         NaN\n",
              "4          @prabhav218 साले जेएनयू छाप कमिने लोग हिन्दुओं...  ...         NaN\n",
              "6          चीन ने UN में तर्क दिया की भारत का विपक्ष ही अ...  ...         NaN\n",
              "11         RT @_Pb_swain_: मोदीजी और जब सारा देश सेना के ...  ...         NaN\n",
              "12         RT @ShilpiSinghINC: 48000 घरों को तोड़ने का आद...  ...         NaN\n",
              "\n",
              "[5 rows x 13 columns]"
            ]
          },
          "metadata": {
            "tags": []
          },
          "execution_count": 10
        }
      ]
    },
    {
      "cell_type": "code",
      "metadata": {
        "colab": {
          "base_uri": "https://localhost:8080/",
          "height": 377
        },
        "id": "qc49eCWS-wlX",
        "outputId": "2366512d-0991-4864-ea6d-e2a55eceaac6"
      },
      "source": [
        "print(val_data.shape)\n",
        "val_data.head()"
      ],
      "execution_count": 11,
      "outputs": [
        {
          "output_type": "stream",
          "text": [
            "(380, 11)\n"
          ],
          "name": "stdout"
        },
        {
          "output_type": "execute_result",
          "data": {
            "text/html": [
              "<div>\n",
              "<style scoped>\n",
              "    .dataframe tbody tr th:only-of-type {\n",
              "        vertical-align: middle;\n",
              "    }\n",
              "\n",
              "    .dataframe tbody tr th {\n",
              "        vertical-align: top;\n",
              "    }\n",
              "\n",
              "    .dataframe thead th {\n",
              "        text-align: right;\n",
              "    }\n",
              "</style>\n",
              "<table border=\"1\" class=\"dataframe\">\n",
              "  <thead>\n",
              "    <tr style=\"text-align: right;\">\n",
              "      <th></th>\n",
              "      <th>Post</th>\n",
              "      <th>Labels Set</th>\n",
              "      <th>emails</th>\n",
              "      <th>urls</th>\n",
              "      <th>mentions</th>\n",
              "      <th>hashtags</th>\n",
              "      <th>emojis</th>\n",
              "      <th>emoticons</th>\n",
              "      <th>reserved_words</th>\n",
              "      <th>Filtered_Post</th>\n",
              "      <th>Filtered_Post_Stopword_Removed</th>\n",
              "    </tr>\n",
              "    <tr>\n",
              "      <th>Unique ID</th>\n",
              "      <th></th>\n",
              "      <th></th>\n",
              "      <th></th>\n",
              "      <th></th>\n",
              "      <th></th>\n",
              "      <th></th>\n",
              "      <th></th>\n",
              "      <th></th>\n",
              "      <th></th>\n",
              "      <th></th>\n",
              "      <th></th>\n",
              "    </tr>\n",
              "  </thead>\n",
              "  <tbody>\n",
              "    <tr>\n",
              "      <th>2</th>\n",
              "      <td>भारतीय जनता पार्टी rss वाले इतने गिरे हुए हैं ...</td>\n",
              "      <td>defamation</td>\n",
              "      <td>[]</td>\n",
              "      <td>[]</td>\n",
              "      <td>[]</td>\n",
              "      <td>[]</td>\n",
              "      <td>[]</td>\n",
              "      <td>[]</td>\n",
              "      <td>[]</td>\n",
              "      <td>भारतीय जनता पार्टी rss वाले इतने गिरे हुए हैं ...</td>\n",
              "      <td>भारतीय जनता पार्टी rss इतने गिरे हूं मेरी जासू...</td>\n",
              "    </tr>\n",
              "    <tr>\n",
              "      <th>8</th>\n",
              "      <td>अद्भुत - जो वामपंथी कहते है कि महाभारत का युद्...</td>\n",
              "      <td>fake</td>\n",
              "      <td>[]</td>\n",
              "      <td>[]</td>\n",
              "      <td>[]</td>\n",
              "      <td>[]</td>\n",
              "      <td>[]</td>\n",
              "      <td>[]</td>\n",
              "      <td>[]</td>\n",
              "      <td>अद्भुत - जो वामपंथी कहते है कि महाभारत का युद्...</td>\n",
              "      <td>अद्भुत - वामपंथी महाभारत युद्ध काल्पनिक है, सन...</td>\n",
              "    </tr>\n",
              "    <tr>\n",
              "      <th>13</th>\n",
              "      <td>भाई जाके हिन्दू भाइयों की मदद कर जिनकी नौकरी च...</td>\n",
              "      <td>offensive</td>\n",
              "      <td>[]</td>\n",
              "      <td>[]</td>\n",
              "      <td>[]</td>\n",
              "      <td>[]</td>\n",
              "      <td>[]</td>\n",
              "      <td>[]</td>\n",
              "      <td>[]</td>\n",
              "      <td>भाई जाके हिन्दू भाइयों की मदद कर जिनकी नौकरी च...</td>\n",
              "      <td>भाई जाके हिन्दू भाइयों मदद जिनकी नौकरी चली आत्...</td>\n",
              "    </tr>\n",
              "    <tr>\n",
              "      <th>14</th>\n",
              "      <td>यह दुर्घटना कन्नूर अंतर्राष्ट्रीय हवाई अड्डे म...</td>\n",
              "      <td>fake</td>\n",
              "      <td>[]</td>\n",
              "      <td>[]</td>\n",
              "      <td>[]</td>\n",
              "      <td>[]</td>\n",
              "      <td>[]</td>\n",
              "      <td>[]</td>\n",
              "      <td>[]</td>\n",
              "      <td>यह दुर्घटना कन्नूर अंतर्राष्ट्रीय हवाई अड्डे म...</td>\n",
              "      <td>दुर्घटना कन्नूर अंतर्राष्ट्रीय हवाई अड्डे हुई,...</td>\n",
              "    </tr>\n",
              "    <tr>\n",
              "      <th>15</th>\n",
              "      <td>सत्य कभी कमजोर नही होने देता। और “ज्ञान” कभी द...</td>\n",
              "      <td>non-hostile</td>\n",
              "      <td>[]</td>\n",
              "      <td>[]</td>\n",
              "      <td>[]</td>\n",
              "      <td>[]</td>\n",
              "      <td>[]</td>\n",
              "      <td>[]</td>\n",
              "      <td>[]</td>\n",
              "      <td>सत्य कभी कमजोर नही होने देता। और “ज्ञान” कभी द...</td>\n",
              "      <td>सत्य कमजोर नही देता। “ज्ञान” दुःखी भयभीत नही द...</td>\n",
              "    </tr>\n",
              "  </tbody>\n",
              "</table>\n",
              "</div>"
            ],
            "text/plain": [
              "                                                        Post  ...                     Filtered_Post_Stopword_Removed\n",
              "Unique ID                                                     ...                                                   \n",
              "2          भारतीय जनता पार्टी rss वाले इतने गिरे हुए हैं ...  ...  भारतीय जनता पार्टी rss इतने गिरे हूं मेरी जासू...\n",
              "8          अद्भुत - जो वामपंथी कहते है कि महाभारत का युद्...  ...  अद्भुत - वामपंथी महाभारत युद्ध काल्पनिक है, सन...\n",
              "13         भाई जाके हिन्दू भाइयों की मदद कर जिनकी नौकरी च...  ...  भाई जाके हिन्दू भाइयों मदद जिनकी नौकरी चली आत्...\n",
              "14         यह दुर्घटना कन्नूर अंतर्राष्ट्रीय हवाई अड्डे म...  ...  दुर्घटना कन्नूर अंतर्राष्ट्रीय हवाई अड्डे हुई,...\n",
              "15         सत्य कभी कमजोर नही होने देता। और “ज्ञान” कभी द...  ...  सत्य कमजोर नही देता। “ज्ञान” दुःखी भयभीत नही द...\n",
              "\n",
              "[5 rows x 11 columns]"
            ]
          },
          "metadata": {
            "tags": []
          },
          "execution_count": 11
        }
      ]
    },
    {
      "cell_type": "code",
      "metadata": {
        "id": "D3e0rQAq_4yz"
      },
      "source": [
        "labels_set = {'defamation',\n",
        " 'fake',\n",
        " 'hate',\n",
        " 'non-hostile',\n",
        " 'offensive'}\n",
        "\n",
        "labels_mapping = {'defamation':0,\n",
        " 'fake':1,\n",
        " 'hate':2,\n",
        " 'non-hostile':3,\n",
        " 'offensive':4}"
      ],
      "execution_count": 12,
      "outputs": []
    },
    {
      "cell_type": "markdown",
      "metadata": {
        "id": "vjBJIa-AkXAY"
      },
      "source": [
        "**Feature Engineering**"
      ]
    },
    {
      "cell_type": "code",
      "metadata": {
        "id": "VjoCZMoYHg1g"
      },
      "source": [
        "from collections import defaultdict\n",
        "import ast\n",
        "mentions_dict = defaultdict(int)\n",
        "\n",
        "for index, row in train_data.iterrows():\n",
        "  if 'hate' in row['Labels Set']:\n",
        "    mentions = ast.literal_eval(row['mentions']) \n",
        "    for m in mentions:\n",
        "      mentions_dict[m]+=1\n"
      ],
      "execution_count": 13,
      "outputs": []
    },
    {
      "cell_type": "code",
      "metadata": {
        "id": "XhxajPZzHkW8"
      },
      "source": [
        "filtered_mentions_list = []\n",
        "\n",
        "for key, value in mentions_dict.items():\n",
        "  if value > 1:\n",
        "    filtered_mentions_list.append(key)"
      ],
      "execution_count": 14,
      "outputs": []
    },
    {
      "cell_type": "code",
      "metadata": {
        "id": "4-j4hBv-Hly5"
      },
      "source": [
        "mention_len = len(filtered_mentions_list)"
      ],
      "execution_count": 15,
      "outputs": []
    },
    {
      "cell_type": "code",
      "metadata": {
        "colab": {
          "base_uri": "https://localhost:8080/"
        },
        "id": "Y-toVClUds-O",
        "outputId": "a673fc82-80fa-4b94-a1d1-c82de45b194f"
      },
      "source": [
        "mention_len"
      ],
      "execution_count": 16,
      "outputs": [
        {
          "output_type": "execute_result",
          "data": {
            "text/plain": [
              "60"
            ]
          },
          "metadata": {
            "tags": []
          },
          "execution_count": 16
        }
      ]
    },
    {
      "cell_type": "code",
      "metadata": {
        "id": "gf4yvw0uHnB3"
      },
      "source": [
        "hashtag_dict = defaultdict(int)\n",
        "\n",
        "for index, row in train_data.iterrows():\n",
        "  if 'hate' in row['Labels Set']:\n",
        "    mentions = ast.literal_eval(row['hashtags']) \n",
        "    for m in mentions:\n",
        "      hashtag_dict[m]+=1\n"
      ],
      "execution_count": 17,
      "outputs": []
    },
    {
      "cell_type": "code",
      "metadata": {
        "id": "ngZC5DRFHoWb"
      },
      "source": [
        "filtered_hashtag_list = []\n",
        "\n",
        "for key, value in hashtag_dict.items():\n",
        "  if value > 1:\n",
        "    filtered_hashtag_list.append(key)"
      ],
      "execution_count": 18,
      "outputs": []
    },
    {
      "cell_type": "code",
      "metadata": {
        "id": "iOLj5JrI22yu"
      },
      "source": [
        "hash_len = len(filtered_hashtag_list)"
      ],
      "execution_count": 19,
      "outputs": []
    },
    {
      "cell_type": "code",
      "metadata": {
        "colab": {
          "base_uri": "https://localhost:8080/"
        },
        "id": "JPop-mBXdsGo",
        "outputId": "5d178267-b3ba-4946-dc18-dd2dab18ba59"
      },
      "source": [
        "hash_len"
      ],
      "execution_count": 20,
      "outputs": [
        {
          "output_type": "execute_result",
          "data": {
            "text/plain": [
              "27"
            ]
          },
          "metadata": {
            "tags": []
          },
          "execution_count": 20
        }
      ]
    },
    {
      "cell_type": "code",
      "metadata": {
        "id": "xp0eUoo2Sv9V"
      },
      "source": [
        "emoji_dict = defaultdict(int)\n",
        "\n",
        "for index, row in train_data.iterrows():\n",
        "  if 'hate' in row['Labels Set']:\n",
        "    emojis = ast.literal_eval(row['emojis']) \n",
        "    for e in emojis:\n",
        "      emoji_dict[e]+=1\n"
      ],
      "execution_count": 21,
      "outputs": []
    },
    {
      "cell_type": "code",
      "metadata": {
        "id": "q3tfAm9sS4_O"
      },
      "source": [
        "filtered_emoji_list = []\n",
        "\n",
        "for key, value in emoji_dict.items():\n",
        "  if value > 3:\n",
        "    filtered_emoji_list.append(key)"
      ],
      "execution_count": 22,
      "outputs": []
    },
    {
      "cell_type": "code",
      "metadata": {
        "id": "WIvb9MsVUQRT"
      },
      "source": [
        "emoji_len = len(filtered_emoji_list)"
      ],
      "execution_count": 23,
      "outputs": []
    },
    {
      "cell_type": "code",
      "metadata": {
        "colab": {
          "base_uri": "https://localhost:8080/"
        },
        "id": "MyDfcQMXdqp9",
        "outputId": "6a1a916d-79a7-4b62-c2a6-1aaa231692dc"
      },
      "source": [
        "emoji_len"
      ],
      "execution_count": 24,
      "outputs": [
        {
          "output_type": "execute_result",
          "data": {
            "text/plain": [
              "25"
            ]
          },
          "metadata": {
            "tags": []
          },
          "execution_count": 24
        }
      ]
    },
    {
      "cell_type": "code",
      "metadata": {
        "id": "X_vbf1PUi8pr"
      },
      "source": [
        "df = pd.read_csv('hate_words.csv', header=None)\n",
        "# hate_dict = dict(zip(df[0],df[1]))\n",
        "hate_dict = list(df[0])"
      ],
      "execution_count": 25,
      "outputs": []
    },
    {
      "cell_type": "code",
      "metadata": {
        "colab": {
          "base_uri": "https://localhost:8080/"
        },
        "id": "bsgVi98Vc9v9",
        "outputId": "a69c57aa-3295-4331-f458-37955f938f69"
      },
      "source": [
        "hateness_len = len(hate_dict)\n",
        "print(hateness_len)"
      ],
      "execution_count": 26,
      "outputs": [
        {
          "output_type": "stream",
          "text": [
            "50\n"
          ],
          "name": "stdout"
        }
      ]
    },
    {
      "cell_type": "code",
      "metadata": {
        "id": "DaiptWpogk8D"
      },
      "source": [
        "offensive_words_list = ['कुत्ते','कुत्ते','कुतिया', 'कुते', 'कुत्ती', 'कुत्तों', 'कमीने', 'कमीना', 'कमीनी', 'साले', 'साला', 'साली', 'हरामी', 'हरामखोर', 'बहनचोद', 'बहिनचोद', 'भेंचो', 'मादरचोद', 'माचोद', 'चूतिये', 'चूतिया', 'चुत', 'चूत', 'लवड़ा', 'लंड', 'लन्ड', 'लँड', 'लण्ड', 'लौड़ा', 'लोडे', 'भड़वो', 'भड़ुआ', 'भड़ऊ', 'भड़वे', 'भड्वे', 'रन्डी', 'रांड', 'भोसड़ी', 'गांड', 'बेटीचोद', 'बेटिचोद', 'फट्टू', 'फुददू', 'फुद्दु', 'सुअर', 'झांट', 'ना󰀂ाय󰀂', 'टट्टी', 'ह󰀂󰀂󰀂डे', 'हुरो', 'गद्दार', 'सूअरों', 'हरामि', 'गाली', 'गॉड', 'रडुआ', 'लुच्चे', 'भड़वागिरी', 'बेवकूफ', 'कुत्तो', 'मूर्खों', 'बकवास', 'तब्लीघि', 'चोरी']"
      ],
      "execution_count": 27,
      "outputs": []
    },
    {
      "cell_type": "markdown",
      "metadata": {
        "id": "8W7tQUqnglwy"
      },
      "source": [
        "**Function to Generate Features for the dataframe**"
      ]
    },
    {
      "cell_type": "code",
      "metadata": {
        "id": "M4AQyniUHt0f"
      },
      "source": [
        "def generate_matrix(data):\n",
        "  X = np.empty((0,  1 + emoji_len+hash_len + mention_len+ hateness_len+len(offensive_words_list)))\n",
        "\n",
        "  for index, row in data.iterrows():\n",
        "    x = np.zeros((1, 1))\n",
        "    x[0, 0] = 1  # Bias Unit\n",
        "\n",
        "    hateness = np.zeros((1,hateness_len))\n",
        "    for word in indic_tokenize.trivial_tokenize(row['Filtered_Post_Stopword_Removed'], lang='hi'):\n",
        "      if word in hate_dict:\n",
        "        hateness[0, hate_dict.index(word)] =1\n",
        "\n",
        "    # Offensive Words\n",
        "    offensive_word_count_x = np.zeros((1, len(offensive_words_list)))\n",
        "    for word in row['Filtered_Post_Stopword_Removed'].split(' '):\n",
        "      if word in offensive_words_list:\n",
        "        offensive_word_count_x[0,offensive_words_list.index(word)]= 1\n",
        "\n",
        "    hash_x = np.zeros((1, hash_len))\n",
        "    # Hashtags\n",
        "    for h in ast.literal_eval(row['hashtags']):\n",
        "      if h in filtered_hashtag_list:\n",
        "        hash_x[0, filtered_hashtag_list.index(h)] = 1\n",
        "\n",
        "    \n",
        "    mention_x = np.zeros((1, mention_len))\n",
        "    # Mentions\n",
        "    for h in ast.literal_eval(row['mentions']):\n",
        "      if m in filtered_mentions_list:\n",
        "        mention_x[0, filtered_mentions_list.index(m)] = 1\n",
        "\n",
        "    emoji_x = np.zeros((1, emoji_len))\n",
        "    # Emojis\n",
        "    for h in ast.literal_eval(row['emojis']):\n",
        "      if h in filtered_emoji_list:\n",
        "        emoji_x[0, filtered_emoji_list.index(h)] = 1\n",
        "\n",
        "    x = np.hstack((x, hateness, hash_x, mention_x, emoji_x, offensive_word_count_x))\n",
        "    X = np.vstack((X, x))\n",
        "  return X\n"
      ],
      "execution_count": 28,
      "outputs": []
    },
    {
      "cell_type": "code",
      "metadata": {
        "id": "t3SkB4bhHzHA"
      },
      "source": [
        "train_X = generate_matrix(train_data)\n",
        "val_X = generate_matrix(val_data)"
      ],
      "execution_count": 29,
      "outputs": []
    },
    {
      "cell_type": "code",
      "metadata": {
        "id": "uvm96tTM-yCZ"
      },
      "source": [
        "train_y = np.empty((0, 5))\n",
        "for index, row in train_data.iterrows():\n",
        "  y = np.zeros((1, 5))\n",
        "  for label in row['Labels Set'].split(','):\n",
        "    y[0, labels_mapping[label]] = 1\n",
        "\n",
        "  train_y = np.vstack((train_y, y))\n",
        "\n",
        "\n",
        "val_y = np.empty((0, 5))\n",
        "for index, row in val_data.iterrows():\n",
        "  y = np.zeros((1, 5))\n",
        "  for label in row['Labels Set'].split(','):\n",
        "    y[0, labels_mapping[label]] = 1\n",
        "\n",
        "  val_y = np.vstack((val_y, y))\n"
      ],
      "execution_count": 30,
      "outputs": []
    },
    {
      "cell_type": "code",
      "metadata": {
        "id": "3k0zWzMn_L7k"
      },
      "source": [
        "y_train_hate = train_y[:,2].astype(int)\n",
        "y_val_hate = val_y[:,2].astype(int)\n",
        "\n",
        "train_sentences = train_data['Post'].values\n",
        "val_sentences = val_data['Post'].values"
      ],
      "execution_count": 31,
      "outputs": []
    },
    {
      "cell_type": "markdown",
      "metadata": {
        "id": "3dRFz5I__Y8-"
      },
      "source": [
        "**BERT**"
      ]
    },
    {
      "cell_type": "code",
      "metadata": {
        "colab": {
          "base_uri": "https://localhost:8080/",
          "height": 165,
          "referenced_widgets": [
            "903dc060f5b548e8a9697bc767b50df8",
            "7111675442b34a77a0decf9e9b62a56a",
            "9f39de7df54e4f51876dab1ceb946b42",
            "69c19a28178548d5bc31110e61d78327",
            "9da3ee4c9a674332ac636b2258592f2f",
            "ae5f316f47104a51b89d38ab15fa11c9",
            "81c5568a42bb4e7e806affd5a929832e",
            "8709a040600148ba9e96824a9f3726a2",
            "ef0468470d3645bc9aa0ee8590968796",
            "839bcbdb78554998a19c3d34db73564e",
            "9882751088bf4bd194d6bf4c3b5fcea7",
            "f58a993e5a5040cb867ac899fc46bbc8",
            "224ba69d4a06417fb22128ee78427b96",
            "492ebb61ff4f4660bcc6da9b076ace92",
            "64e07055ec7a4d13b364ec16870623a3",
            "2ae7842137854d3e94138ca42e67743f",
            "59c3a2742e6b42899f32ade38a4e0cc4",
            "d742ebc9e5144c729f57d157a6c6e27a",
            "4480bccd09514ddcb21c26fba888c29b",
            "e2e1a26a92f74fa48316415ef95eb2ea",
            "10ee0aff129d48b89ddb8f7df4fea042",
            "ff24569c87de456ea3935b415c97f5a0",
            "20eeb3bb78a0451c9cef0ddf52b2ab30",
            "186fa2c5eeb249dbbcf538ca9d10d145"
          ]
        },
        "id": "bz1iFMHH_QzU",
        "outputId": "7ce35ab2-b73d-4803-9ed2-2a9847295dd4"
      },
      "source": [
        "bert = AutoModel.from_pretrained('ai4bharat/indic-bert')\n",
        "tokenizer = AutoTokenizer.from_pretrained('ai4bharat/indic-bert')"
      ],
      "execution_count": 32,
      "outputs": [
        {
          "output_type": "display_data",
          "data": {
            "application/vnd.jupyter.widget-view+json": {
              "model_id": "903dc060f5b548e8a9697bc767b50df8",
              "version_minor": 0,
              "version_major": 2
            },
            "text/plain": [
              "HBox(children=(FloatProgress(value=0.0, description='Downloading', max=507.0, style=ProgressStyle(description_…"
            ]
          },
          "metadata": {
            "tags": []
          }
        },
        {
          "output_type": "stream",
          "text": [
            "\n"
          ],
          "name": "stdout"
        },
        {
          "output_type": "display_data",
          "data": {
            "application/vnd.jupyter.widget-view+json": {
              "model_id": "ef0468470d3645bc9aa0ee8590968796",
              "version_minor": 0,
              "version_major": 2
            },
            "text/plain": [
              "HBox(children=(FloatProgress(value=0.0, description='Downloading', max=134982446.0, style=ProgressStyle(descri…"
            ]
          },
          "metadata": {
            "tags": []
          }
        },
        {
          "output_type": "stream",
          "text": [
            "\n"
          ],
          "name": "stdout"
        },
        {
          "output_type": "display_data",
          "data": {
            "application/vnd.jupyter.widget-view+json": {
              "model_id": "59c3a2742e6b42899f32ade38a4e0cc4",
              "version_minor": 0,
              "version_major": 2
            },
            "text/plain": [
              "HBox(children=(FloatProgress(value=0.0, description='Downloading', max=5646064.0, style=ProgressStyle(descript…"
            ]
          },
          "metadata": {
            "tags": []
          }
        },
        {
          "output_type": "stream",
          "text": [
            "\n"
          ],
          "name": "stdout"
        }
      ]
    },
    {
      "cell_type": "code",
      "metadata": {
        "colab": {
          "base_uri": "https://localhost:8080/"
        },
        "id": "Gr0Vi497_l3a",
        "outputId": "b68dc1b0-6ea8-4943-fce6-91f5351d99d0"
      },
      "source": [
        "# sample data\n",
        "text = [\"जिसमें लिखा है, काश के कश्मीर के पत्थरबाज़ इन नवजवानों से कुछ सीखते। #भारतीयसेना ।\", \"सुशांत के परिवार पर अब किसका 'कीचड़'?\"]\n",
        "\n",
        "# encode text\n",
        "sent_id = tokenizer.batch_encode_plus(text, padding=True)\n",
        "\n",
        "# output\n",
        "print(sent_id)"
      ],
      "execution_count": 33,
      "outputs": [
        {
          "output_type": "stream",
          "text": [
            "{'input_ids': [[2, 18654, 670, 48660, 4384, 12, 128648, 1883, 128648, 26697, 1883, 43991, 42191, 1793, 1325, 464, 6151, 1325, 10759, 1301, 1883, 12286, 54111, 229, 15, 1078, 8297, 229, 1134, 8731, 7, 3], [2, 1301, 2700, 229, 1883, 37, 555, 37, 311, 9854, 507, 27, 507, 232, 1546, 398, 293, 3, 0, 0, 0, 0, 0, 0, 0, 0, 0, 0, 0, 0, 0, 0]], 'token_type_ids': [[0, 0, 0, 0, 0, 0, 0, 0, 0, 0, 0, 0, 0, 0, 0, 0, 0, 0, 0, 0, 0, 0, 0, 0, 0, 0, 0, 0, 0, 0, 0, 0], [0, 0, 0, 0, 0, 0, 0, 0, 0, 0, 0, 0, 0, 0, 0, 0, 0, 0, 0, 0, 0, 0, 0, 0, 0, 0, 0, 0, 0, 0, 0, 0]], 'attention_mask': [[1, 1, 1, 1, 1, 1, 1, 1, 1, 1, 1, 1, 1, 1, 1, 1, 1, 1, 1, 1, 1, 1, 1, 1, 1, 1, 1, 1, 1, 1, 1, 1], [1, 1, 1, 1, 1, 1, 1, 1, 1, 1, 1, 1, 1, 1, 1, 1, 1, 1, 0, 0, 0, 0, 0, 0, 0, 0, 0, 0, 0, 0, 0, 0]]}\n"
          ],
          "name": "stdout"
        }
      ]
    },
    {
      "cell_type": "code",
      "metadata": {
        "colab": {
          "base_uri": "https://localhost:8080/",
          "height": 282
        },
        "id": "p5-x0jdmAX4o",
        "outputId": "70252f6a-9daa-41e4-926c-1f5d86329937"
      },
      "source": [
        "seq_len = [len(i.split()) for i in train_sentences]\n",
        "\n",
        "pd.Series(seq_len).hist(bins = 30)"
      ],
      "execution_count": 34,
      "outputs": [
        {
          "output_type": "execute_result",
          "data": {
            "text/plain": [
              "<matplotlib.axes._subplots.AxesSubplot at 0x7f480bfec668>"
            ]
          },
          "metadata": {
            "tags": []
          },
          "execution_count": 34
        },
        {
          "output_type": "display_data",
          "data": {
            "image/png": "[encoded data removed]",
            "text/plain": [
              "<Figure size 432x288 with 1 Axes>"
            ]
          },
          "metadata": {
            "tags": [],
            "needs_background": "light"
          }
        }
      ]
    },
    {
      "cell_type": "code",
      "metadata": {
        "colab": {
          "base_uri": "https://localhost:8080/"
        },
        "id": "9ovjltvOA3_v",
        "outputId": "ad30be54-9307-4ae0-d0b7-48bd21ba1615"
      },
      "source": [
        "tokens_train = tokenizer.batch_encode_plus(\n",
        "    train_sentences.tolist(),\n",
        "    max_length = 100,\n",
        "    pad_to_max_length=True,\n",
        "    truncation=True\n",
        ")\n",
        "\n",
        "tokens_val = tokenizer.batch_encode_plus(\n",
        "    val_sentences.tolist(),\n",
        "    max_length = 100,\n",
        "    pad_to_max_length=True,\n",
        "    truncation=True\n",
        ")"
      ],
      "execution_count": 35,
      "outputs": [
        {
          "output_type": "stream",
          "text": [
            "/usr/local/lib/python3.6/dist-packages/transformers/tokenization_utils_base.py:2179: FutureWarning: The `pad_to_max_length` argument is deprecated and will be removed in a future version, use `padding=True` or `padding='longest'` to pad to the longest sequence in the batch, or use `padding='max_length'` to pad to a max length. In this case, you can give a specific length with `max_length` (e.g. `max_length=45`) or leave max_length to None to pad to the maximal input size of the model (e.g. 512 for Bert).\n",
            "  FutureWarning,\n"
          ],
          "name": "stderr"
        }
      ]
    },
    {
      "cell_type": "code",
      "metadata": {
        "id": "z5EPJYfYBOmM"
      },
      "source": [
        "train_seq = torch.tensor(tokens_train['input_ids'])\n",
        "train_mask = torch.tensor(tokens_train['attention_mask'])\n",
        "train_y = torch.tensor(y_train_hate.tolist())\n",
        "\n",
        "val_seq = torch.tensor(tokens_val['input_ids'])\n",
        "val_mask = torch.tensor(tokens_val['attention_mask'])\n",
        "val_y = torch.tensor(y_val_hate.tolist())\n",
        "\n"
      ],
      "execution_count": 36,
      "outputs": []
    },
    {
      "cell_type": "code",
      "metadata": {
        "id": "DKUUxaDQBkwb"
      },
      "source": [
        "from torch.utils.data import TensorDataset, DataLoader, RandomSampler, SequentialSampler\n",
        "\n",
        "#define a batch size\n",
        "batch_size = 4\n",
        "\n",
        "# wrap tensors\n",
        "train_data = TensorDataset(train_seq, train_mask, train_y)\n",
        "\n",
        "# sampler for sampling the data during training\n",
        "train_sampler = SequentialSampler(train_data)\n",
        "\n",
        "# dataLoader for train set\n",
        "train_dataloader = DataLoader(train_data, sampler=train_sampler, batch_size=batch_size)\n",
        "train_other_ft_dataloader = DataLoader(train_X, sampler=train_sampler, batch_size=batch_size)\n",
        "# wrap tensors\n",
        "val_data = TensorDataset(val_seq, val_mask, val_y)\n",
        "\n",
        "# sampler for sampling the data during training\n",
        "val_sampler = SequentialSampler(val_data)\n",
        "\n",
        "# dataLoader for validation set\n",
        "val_dataloader = DataLoader(val_data, sampler = val_sampler, batch_size=batch_size)\n",
        "val_other_ft_dataloader = DataLoader(val_X, sampler=val_sampler, batch_size=batch_size)"
      ],
      "execution_count": 37,
      "outputs": []
    },
    {
      "cell_type": "code",
      "metadata": {
        "id": "dbiWd8LfB0I3"
      },
      "source": [
        "for param in bert.parameters():\n",
        "    param.requires_grad = False"
      ],
      "execution_count": 38,
      "outputs": []
    },
    {
      "cell_type": "markdown",
      "metadata": {
        "id": "zssTdAfXkXAg"
      },
      "source": [
        "**Pytorch Model Definition**"
      ]
    },
    {
      "cell_type": "code",
      "metadata": {
        "id": "N-_45SydB3Ak"
      },
      "source": [
        "class BERT_Arch(nn.Module):\n",
        "\n",
        "    def __init__(self, bert):\n",
        "      \n",
        "      super(BERT_Arch, self).__init__()\n",
        "\n",
        "      self.bert = bert \n",
        "      \n",
        "      # dropout layer\n",
        "      self.dropout = nn.Dropout(0.1)\n",
        "      \n",
        "      # relu activation function\n",
        "      self.relu =  nn.ReLU()\n",
        "\n",
        "      # dense layer 1\n",
        "      self.fc1 = nn.Linear(768+1+ hateness_len+ mention_len+hash_len+emoji_len+len(offensive_words_list),512)\n",
        "      \n",
        "      # dense layer 2 (Output layer)\n",
        "      self.fc2 = nn.Linear(512,2)\n",
        "\n",
        "      #softmax activation function\n",
        "      self.softmax = nn.LogSoftmax(dim=1)\n",
        "\n",
        "    #define the forward pass\n",
        "    def forward(self, sent_id, mask, other_ft):\n",
        "      other_ft = other_ft.float()\n",
        "      #pass the inputs to the model\n",
        "      state= self.bert(sent_id, attention_mask=mask)\n",
        "      cls_hs = state.pooler_output\n",
        "      x = self.fc1(torch.hstack((cls_hs, other_ft)))\n",
        "      x = self.relu(x)\n",
        "\n",
        "      if self.train():\n",
        "        x = self.dropout(x)\n",
        "\n",
        "      # output layer\n",
        "      x = self.fc2(x)\n",
        "      \n",
        "      # apply softmax activation\n",
        "      x = self.softmax(x)\n",
        "\n",
        "      return x"
      ],
      "execution_count": 39,
      "outputs": []
    },
    {
      "cell_type": "code",
      "metadata": {
        "id": "K1je5ubFB7-G"
      },
      "source": [
        "# pass the pre-trained BERT to our define architecture\n",
        "model = BERT_Arch(bert)\n",
        "\n",
        "# push the model to GPU\n",
        "model = model.to(device)"
      ],
      "execution_count": 40,
      "outputs": []
    },
    {
      "cell_type": "code",
      "metadata": {
        "id": "31OjjIlhB9rF"
      },
      "source": [
        "from transformers import AdamW\n",
        "\n",
        "# define the optimizer\n",
        "optimizer = AdamW(model.parameters(),\n",
        "                  lr = 1e-3)          # learning rate"
      ],
      "execution_count": 41,
      "outputs": []
    },
    {
      "cell_type": "code",
      "metadata": {
        "colab": {
          "base_uri": "https://localhost:8080/"
        },
        "id": "btMFy0AOCCkT",
        "outputId": "cec979ad-d3ab-4e04-e79d-15be0061da17"
      },
      "source": [
        "from sklearn.utils.class_weight import compute_class_weight\n",
        "\n",
        "#compute the class weights\n",
        "class_weights = compute_class_weight('balanced', np.unique(y_train_hate), y_train_hate)\n",
        "\n",
        "print(\"Class Weights:\",class_weights)"
      ],
      "execution_count": 42,
      "outputs": [
        {
          "output_type": "stream",
          "text": [
            "Class Weights: [0.70996819 1.69065657]\n"
          ],
          "name": "stdout"
        }
      ]
    },
    {
      "cell_type": "code",
      "metadata": {
        "id": "3UludplUC6vt"
      },
      "source": [
        "# converting list of class weights to a tensor\n",
        "weights= torch.tensor(class_weights,dtype=torch.float)\n",
        "\n",
        "# push to GPU\n",
        "weights = weights.to(device)\n",
        "\n",
        "# define the loss function\n",
        "cross_entropy  = nn.CrossEntropyLoss(weight=weights) \n",
        "\n",
        "# number of training epochs\n",
        "epochs = 10"
      ],
      "execution_count": 43,
      "outputs": []
    },
    {
      "cell_type": "code",
      "metadata": {
        "id": "xj8RrYqMrOnu"
      },
      "source": [
        "import time\n",
        "import datetime\n",
        "\n",
        "def format_time(elapsed):\n",
        "    '''\n",
        "    Takes a time in seconds and returns a string hh:mm:ss\n",
        "    '''\n",
        "    # Round to the nearest second.\n",
        "    elapsed_rounded = int(round((elapsed)))\n",
        "    \n",
        "    # Format as hh:mm:ss\n",
        "    return str(datetime.timedelta(seconds=elapsed_rounded))"
      ],
      "execution_count": 44,
      "outputs": []
    },
    {
      "cell_type": "markdown",
      "metadata": {
        "id": "EUveiUhlkXAh"
      },
      "source": [
        "**Defining the training and evaluation functions**"
      ]
    },
    {
      "cell_type": "code",
      "metadata": {
        "id": "C8o95_htC-wO"
      },
      "source": [
        "# function to train the model\n",
        "def train():\n",
        "  \n",
        "  model.train()\n",
        "\n",
        "  total_loss, total_accuracy = 0, 0\n",
        "  \n",
        "  # empty list to save model predictions\n",
        "  total_preds=[]\n",
        "  \n",
        "  # iterate over batches\n",
        "  for first,second in zip(enumerate(train_dataloader), enumerate(train_other_ft_dataloader)):\n",
        "    step, batch = first\n",
        "    _, other_ft = second\n",
        "    # progress update after every 50 batches.\n",
        "    if step % 50 == 0 and not step == 0:\n",
        "      print('  Batch {:>5,}  of  {:>5,}.'.format(step, len(train_dataloader)))\n",
        "\n",
        "    # push the batch to gpu\n",
        "    batch = [r.to(device) for r in batch]\n",
        "    other_ft = other_ft.to(device)\n",
        "    sent_id, mask, labels = batch\n",
        "\n",
        "    # clear previously calculated gradients \n",
        "    model.zero_grad()        \n",
        "\n",
        "    # get model predictions for the current batch\n",
        "    preds = model(sent_id, mask, other_ft)\n",
        "\n",
        "    # compute the loss between actual and predicted values\n",
        "    loss = cross_entropy(preds, labels)\n",
        "\n",
        "    # add on to the total loss\n",
        "    total_loss = total_loss + loss.item()\n",
        "\n",
        "    # backward pass to calculate the gradients\n",
        "    loss.backward()\n",
        "\n",
        "    # clip the the gradients to 1.0. It helps in preventing the exploding gradient problem\n",
        "    torch.nn.utils.clip_grad_norm_(model.parameters(), 1.0)\n",
        "\n",
        "    # update parameters\n",
        "    optimizer.step()\n",
        "\n",
        "    # model predictions are stored on GPU. So, push it to CPU\n",
        "    preds=preds.detach().cpu().numpy()\n",
        "\n",
        "    # append the model predictions\n",
        "    total_preds.append(preds)\n",
        "\n",
        "  # compute the training loss of the epoch\n",
        "  avg_loss = total_loss / len(train_dataloader)\n",
        "  \n",
        "  # predictions are in the form of (no. of batches, size of batch, no. of classes).\n",
        "  # reshape the predictions in form of (number of samples, no. of classes)\n",
        "  total_preds  = np.concatenate(total_preds, axis=0)\n",
        "\n",
        "  #returns the loss and predictions\n",
        "  return avg_loss, total_preds"
      ],
      "execution_count": 45,
      "outputs": []
    },
    {
      "cell_type": "code",
      "metadata": {
        "id": "cSGBp1MbkxUN"
      },
      "source": [
        "# function to train the model\n",
        "def train_fn():\n",
        "  \n",
        "  model.train()\n",
        "\n",
        "  total_loss, total_accuracy = 0, 0\n",
        "  \n",
        "  # empty list to save model predictions\n",
        "  total_preds=[]\n",
        "  \n",
        "  # iterate over batches\n",
        "  for first,second in zip(enumerate(train_val_dataloader), enumerate(train_val_other_ft_dataloader)):\n",
        "    step, batch = first\n",
        "    _, other_ft = second\n",
        "    # progress update after every 50 batches.\n",
        "    if step % 50 == 0 and not step == 0:\n",
        "      print('  Batch {:>5,}  of  {:>5,}.'.format(step, len(train_val_dataloader)))\n",
        "\n",
        "    # push the batch to gpu\n",
        "    batch = [r.to(device) for r in batch]\n",
        "    other_ft = other_ft.to(device)\n",
        "    sent_id, mask, labels = batch\n",
        "\n",
        "    # clear previously calculated gradients \n",
        "    model.zero_grad()        \n",
        "\n",
        "    # get model predictions for the current batch\n",
        "    preds = model(sent_id, mask, other_ft)\n",
        "\n",
        "    # compute the loss between actual and predicted values\n",
        "    loss = cross_entropy(preds, labels)\n",
        "\n",
        "    # add on to the total loss\n",
        "    total_loss = total_loss + loss.item()\n",
        "\n",
        "    # backward pass to calculate the gradients\n",
        "    loss.backward()\n",
        "\n",
        "    # clip the the gradients to 1.0. It helps in preventing the exploding gradient problem\n",
        "    torch.nn.utils.clip_grad_norm_(model.parameters(), 1.0)\n",
        "\n",
        "    # update parameters\n",
        "    optimizer.step()\n",
        "\n",
        "    # model predictions are stored on GPU. So, push it to CPU\n",
        "    preds=preds.detach().cpu().numpy()\n",
        "\n",
        "    # append the model predictions\n",
        "    total_preds.append(preds)\n",
        "\n",
        "  # compute the training loss of the epoch\n",
        "  avg_loss = total_loss / len(train_val_dataloader)\n",
        "  \n",
        "  # predictions are in the form of (no. of batches, size of batch, no. of classes).\n",
        "  # reshape the predictions in form of (number of samples, no. of classes)\n",
        "  total_preds  = np.concatenate(total_preds, axis=0)\n",
        "\n",
        "  #returns the loss and predictions\n",
        "  return avg_loss, total_preds"
      ],
      "execution_count": 46,
      "outputs": []
    },
    {
      "cell_type": "code",
      "metadata": {
        "id": "z8TuboDrDH8U"
      },
      "source": [
        "# function for evaluating the model\n",
        "def evaluate():\n",
        "  \n",
        "  print(\"\\nEvaluating...\")\n",
        "  \n",
        "  # deactivate dropout layers\n",
        "  model.eval()\n",
        "\n",
        "  total_loss, total_accuracy = 0, 0\n",
        "  \n",
        "  # empty list to save the model predictions\n",
        "  total_preds = []\n",
        "\n",
        "  # iterate over batches\n",
        "  for first,second in zip(enumerate(val_dataloader), enumerate(val_other_ft_dataloader)):\n",
        "    step, batch = first\n",
        "    _, other_ft = second\n",
        "    other_ft = other_ft.to(device)\n",
        "    # Progress update every 50 batches.\n",
        "    if step % 50 == 0 and not step == 0:\n",
        "      \n",
        "      # # Calculate elapsed time in minutes.\n",
        "      # elapsed = format_time(time.time() - t0)\n",
        "            \n",
        "      # Report progress.\n",
        "      print('  Batch {:>5,}  of  {:>5,}.'.format(step, len(val_dataloader)))\n",
        "\n",
        "    # push the batch to gpu\n",
        "    batch = [t.to(device) for t in batch]\n",
        "\n",
        "    sent_id, mask, labels = batch\n",
        "\n",
        "    # deactivate autograd\n",
        "    with torch.no_grad():\n",
        "      \n",
        "      # model predictions\n",
        "      preds = model(sent_id, mask, other_ft)\n",
        "\n",
        "      # compute the validation loss between actual and predicted values\n",
        "      loss = cross_entropy(preds,labels)\n",
        "\n",
        "      total_loss = total_loss + loss.item()\n",
        "\n",
        "      preds = preds.detach().cpu().numpy()\n",
        "\n",
        "      total_preds.append(preds)\n",
        "\n",
        "  # compute the validation loss of the epoch\n",
        "  avg_loss = total_loss / len(val_dataloader) \n",
        "\n",
        "  # reshape the predictions in form of (number of samples, no. of classes)\n",
        "  total_preds  = np.concatenate(total_preds, axis=0)\n",
        "\n",
        "  return avg_loss, total_preds"
      ],
      "execution_count": 47,
      "outputs": []
    },
    {
      "cell_type": "code",
      "metadata": {
        "id": "giZKZpDQk9hQ"
      },
      "source": [
        "# function for evaluating the model\n",
        "def evaluate_fn():\n",
        "  \n",
        "  print(\"\\nEvaluating...\")\n",
        "  \n",
        "  # deactivate dropout layers\n",
        "  model.eval()\n",
        "\n",
        "  total_loss, total_accuracy = 0, 0\n",
        "  \n",
        "  # empty list to save the model predictions\n",
        "  total_preds = []\n",
        "\n",
        "  # iterate over batches\n",
        "  for first,second in zip(enumerate(test_dataloader), enumerate(test_other_ft_dataloader)):\n",
        "    step, batch = first\n",
        "    _, other_ft = second\n",
        "    other_ft = other_ft.to(device)\n",
        "    # Progress update every 50 batches.\n",
        "    if step % 50 == 0 and not step == 0:\n",
        "      \n",
        "      # # Calculate elapsed time in minutes.\n",
        "      # elapsed = format_time(time.time() - t0)\n",
        "            \n",
        "      # Report progress.\n",
        "      print('  Batch {:>5,}  of  {:>5,}.'.format(step, len(test_dataloader)))\n",
        "\n",
        "    # push the batch to gpu\n",
        "    batch = [t.to(device) for t in batch]\n",
        "\n",
        "    sent_id, mask = batch\n",
        "\n",
        "    # deactivate autograd\n",
        "    with torch.no_grad():\n",
        "      \n",
        "      # model predictions\n",
        "      preds = model(sent_id, mask, other_ft)\n",
        "\n",
        "      preds = preds.detach().cpu().numpy()\n",
        "\n",
        "      total_preds.append(preds)\n",
        "\n",
        "\n",
        "\n",
        "  # reshape the predictions in form of (number of samples, no. of classes)\n",
        "  total_preds  = np.concatenate(total_preds, axis=0)\n",
        "\n",
        "  return total_preds"
      ],
      "execution_count": 48,
      "outputs": []
    },
    {
      "cell_type": "markdown",
      "metadata": {
        "id": "cP2801wQkXAi"
      },
      "source": [
        "**Training Loop**"
      ]
    },
    {
      "cell_type": "code",
      "metadata": {
        "id": "p_ngomr8vH6k"
      },
      "source": [
        "epoch = 10\n",
        "optimizer = AdamW(model.parameters(),\n",
        "                  lr = 2e-5)   "
      ],
      "execution_count": 49,
      "outputs": []
    },
    {
      "cell_type": "code",
      "metadata": {
        "colab": {
          "base_uri": "https://localhost:8080/"
        },
        "id": "jyh9hwfaDMzV",
        "outputId": "fe96ca41-0b59-44ff-8c38-2f4d9518d33d"
      },
      "source": [
        "# set initial loss to infinite\n",
        "best_valid_loss = float('inf')\n",
        "\n",
        "# empty lists to store training and validation loss of each epoch\n",
        "train_losses=[]\n",
        "valid_losses=[]\n",
        "\n",
        "#for each epoch\n",
        "for epoch in range(epochs):\n",
        "     \n",
        "    print('\\n Epoch {:} / {:}'.format(epoch + 1, epochs))\n",
        "    \n",
        "    #train model\n",
        "    train_loss, _ = train()\n",
        "    \n",
        "    #evaluate model\n",
        "    valid_loss, _ = evaluate()\n",
        "    \n",
        "    #save the best model\n",
        "    if valid_loss < best_valid_loss:\n",
        "        best_valid_loss = valid_loss\n",
        "        torch.save(model.state_dict(), 'saved_weights.pt')\n",
        "    \n",
        "    # append training and validation loss\n",
        "    train_losses.append(train_loss)\n",
        "    valid_losses.append(valid_loss)\n",
        "    \n",
        "    print(f'\\nTraining Loss: {train_loss:.3f}')\n",
        "    print(f'Validation Loss: {valid_loss:.3f}')"
      ],
      "execution_count": 50,
      "outputs": [
        {
          "output_type": "stream",
          "text": [
            "\n",
            " Epoch 1 / 10\n",
            "  Batch    50  of    670.\n",
            "  Batch   100  of    670.\n",
            "  Batch   150  of    670.\n",
            "  Batch   200  of    670.\n",
            "  Batch   250  of    670.\n",
            "  Batch   300  of    670.\n",
            "  Batch   350  of    670.\n",
            "  Batch   400  of    670.\n",
            "  Batch   450  of    670.\n",
            "  Batch   500  of    670.\n",
            "  Batch   550  of    670.\n",
            "  Batch   600  of    670.\n",
            "  Batch   650  of    670.\n",
            "\n",
            "Evaluating...\n",
            "  Batch    50  of     95.\n",
            "\n",
            "Training Loss: 0.685\n",
            "Validation Loss: 0.681\n",
            "\n",
            " Epoch 2 / 10\n",
            "  Batch    50  of    670.\n",
            "  Batch   100  of    670.\n",
            "  Batch   150  of    670.\n",
            "  Batch   200  of    670.\n",
            "  Batch   250  of    670.\n",
            "  Batch   300  of    670.\n",
            "  Batch   350  of    670.\n",
            "  Batch   400  of    670.\n",
            "  Batch   450  of    670.\n",
            "  Batch   500  of    670.\n",
            "  Batch   550  of    670.\n",
            "  Batch   600  of    670.\n",
            "  Batch   650  of    670.\n",
            "\n",
            "Evaluating...\n",
            "  Batch    50  of     95.\n",
            "\n",
            "Training Loss: 0.679\n",
            "Validation Loss: 0.679\n",
            "\n",
            " Epoch 3 / 10\n",
            "  Batch    50  of    670.\n",
            "  Batch   100  of    670.\n",
            "  Batch   150  of    670.\n",
            "  Batch   200  of    670.\n",
            "  Batch   250  of    670.\n",
            "  Batch   300  of    670.\n",
            "  Batch   350  of    670.\n",
            "  Batch   400  of    670.\n",
            "  Batch   450  of    670.\n",
            "  Batch   500  of    670.\n",
            "  Batch   550  of    670.\n",
            "  Batch   600  of    670.\n",
            "  Batch   650  of    670.\n",
            "\n",
            "Evaluating...\n",
            "  Batch    50  of     95.\n",
            "\n",
            "Training Loss: 0.675\n",
            "Validation Loss: 0.677\n",
            "\n",
            " Epoch 4 / 10\n",
            "  Batch    50  of    670.\n",
            "  Batch   100  of    670.\n",
            "  Batch   150  of    670.\n",
            "  Batch   200  of    670.\n",
            "  Batch   250  of    670.\n",
            "  Batch   300  of    670.\n",
            "  Batch   350  of    670.\n",
            "  Batch   400  of    670.\n",
            "  Batch   450  of    670.\n",
            "  Batch   500  of    670.\n",
            "  Batch   550  of    670.\n",
            "  Batch   600  of    670.\n",
            "  Batch   650  of    670.\n",
            "\n",
            "Evaluating...\n",
            "  Batch    50  of     95.\n",
            "\n",
            "Training Loss: 0.670\n",
            "Validation Loss: 0.674\n",
            "\n",
            " Epoch 5 / 10\n",
            "  Batch    50  of    670.\n",
            "  Batch   100  of    670.\n",
            "  Batch   150  of    670.\n",
            "  Batch   200  of    670.\n",
            "  Batch   250  of    670.\n",
            "  Batch   300  of    670.\n",
            "  Batch   350  of    670.\n",
            "  Batch   400  of    670.\n",
            "  Batch   450  of    670.\n",
            "  Batch   500  of    670.\n",
            "  Batch   550  of    670.\n",
            "  Batch   600  of    670.\n",
            "  Batch   650  of    670.\n",
            "\n",
            "Evaluating...\n",
            "  Batch    50  of     95.\n",
            "\n",
            "Training Loss: 0.666\n",
            "Validation Loss: 0.672\n",
            "\n",
            " Epoch 6 / 10\n",
            "  Batch    50  of    670.\n",
            "  Batch   100  of    670.\n",
            "  Batch   150  of    670.\n",
            "  Batch   200  of    670.\n",
            "  Batch   250  of    670.\n",
            "  Batch   300  of    670.\n",
            "  Batch   350  of    670.\n",
            "  Batch   400  of    670.\n",
            "  Batch   450  of    670.\n",
            "  Batch   500  of    670.\n",
            "  Batch   550  of    670.\n",
            "  Batch   600  of    670.\n",
            "  Batch   650  of    670.\n",
            "\n",
            "Evaluating...\n",
            "  Batch    50  of     95.\n",
            "\n",
            "Training Loss: 0.661\n",
            "Validation Loss: 0.669\n",
            "\n",
            " Epoch 7 / 10\n",
            "  Batch    50  of    670.\n",
            "  Batch   100  of    670.\n",
            "  Batch   150  of    670.\n",
            "  Batch   200  of    670.\n",
            "  Batch   250  of    670.\n",
            "  Batch   300  of    670.\n",
            "  Batch   350  of    670.\n",
            "  Batch   400  of    670.\n",
            "  Batch   450  of    670.\n",
            "  Batch   500  of    670.\n",
            "  Batch   550  of    670.\n",
            "  Batch   600  of    670.\n",
            "  Batch   650  of    670.\n",
            "\n",
            "Evaluating...\n",
            "  Batch    50  of     95.\n",
            "\n",
            "Training Loss: 0.656\n",
            "Validation Loss: 0.666\n",
            "\n",
            " Epoch 8 / 10\n",
            "  Batch    50  of    670.\n",
            "  Batch   100  of    670.\n",
            "  Batch   150  of    670.\n",
            "  Batch   200  of    670.\n",
            "  Batch   250  of    670.\n",
            "  Batch   300  of    670.\n",
            "  Batch   350  of    670.\n",
            "  Batch   400  of    670.\n",
            "  Batch   450  of    670.\n",
            "  Batch   500  of    670.\n",
            "  Batch   550  of    670.\n",
            "  Batch   600  of    670.\n",
            "  Batch   650  of    670.\n",
            "\n",
            "Evaluating...\n",
            "  Batch    50  of     95.\n",
            "\n",
            "Training Loss: 0.651\n",
            "Validation Loss: 0.664\n",
            "\n",
            " Epoch 9 / 10\n",
            "  Batch    50  of    670.\n",
            "  Batch   100  of    670.\n",
            "  Batch   150  of    670.\n",
            "  Batch   200  of    670.\n",
            "  Batch   250  of    670.\n",
            "  Batch   300  of    670.\n",
            "  Batch   350  of    670.\n",
            "  Batch   400  of    670.\n",
            "  Batch   450  of    670.\n",
            "  Batch   500  of    670.\n",
            "  Batch   550  of    670.\n",
            "  Batch   600  of    670.\n",
            "  Batch   650  of    670.\n",
            "\n",
            "Evaluating...\n",
            "  Batch    50  of     95.\n",
            "\n",
            "Training Loss: 0.646\n",
            "Validation Loss: 0.661\n",
            "\n",
            " Epoch 10 / 10\n",
            "  Batch    50  of    670.\n",
            "  Batch   100  of    670.\n",
            "  Batch   150  of    670.\n",
            "  Batch   200  of    670.\n",
            "  Batch   250  of    670.\n",
            "  Batch   300  of    670.\n",
            "  Batch   350  of    670.\n",
            "  Batch   400  of    670.\n",
            "  Batch   450  of    670.\n",
            "  Batch   500  of    670.\n",
            "  Batch   550  of    670.\n",
            "  Batch   600  of    670.\n",
            "  Batch   650  of    670.\n",
            "\n",
            "Evaluating...\n",
            "  Batch    50  of     95.\n",
            "\n",
            "Training Loss: 0.641\n",
            "Validation Loss: 0.659\n"
          ],
          "name": "stdout"
        }
      ]
    },
    {
      "cell_type": "code",
      "metadata": {
        "colab": {
          "base_uri": "https://localhost:8080/",
          "height": 282
        },
        "id": "-kNiU2u-UzxB",
        "outputId": "08bdcfd0-b741-49a5-b6c8-42a906472f66"
      },
      "source": [
        "import matplotlib.pyplot as plt\n",
        "plt.plot(train_losses)"
      ],
      "execution_count": 51,
      "outputs": [
        {
          "output_type": "execute_result",
          "data": {
            "text/plain": [
              "[<matplotlib.lines.Line2D at 0x7f48088d8cc0>]"
            ]
          },
          "metadata": {
            "tags": []
          },
          "execution_count": 51
        },
        {
          "output_type": "display_data",
          "data": {
            "image/png": "[encoded data removed]",
            "text/plain": [
              "<Figure size 432x288 with 1 Axes>"
            ]
          },
          "metadata": {
            "tags": [],
            "needs_background": "light"
          }
        }
      ]
    },
    {
      "cell_type": "code",
      "metadata": {
        "colab": {
          "base_uri": "https://localhost:8080/",
          "height": 282
        },
        "id": "KNN2BacpU0F6",
        "outputId": "2a326ca8-5ce5-42e3-d15f-3bc7ab070056"
      },
      "source": [
        "plt.plot(valid_losses)"
      ],
      "execution_count": 52,
      "outputs": [
        {
          "output_type": "execute_result",
          "data": {
            "text/plain": [
              "[<matplotlib.lines.Line2D at 0x7f480882b438>]"
            ]
          },
          "metadata": {
            "tags": []
          },
          "execution_count": 52
        },
        {
          "output_type": "display_data",
          "data": {
            "image/png": "[encoded data removed]",
            "text/plain": [
              "<Figure size 432x288 with 1 Axes>"
            ]
          },
          "metadata": {
            "tags": [],
            "needs_background": "light"
          }
        }
      ]
    },
    {
      "cell_type": "code",
      "metadata": {
        "colab": {
          "base_uri": "https://localhost:8080/"
        },
        "id": "RU5XxDFhEmaY",
        "outputId": "271a0435-82aa-4c6c-fab3-b0d2990f8c91"
      },
      "source": [
        "path = 'saved_weights.pt'\n",
        "model.load_state_dict(torch.load(path))"
      ],
      "execution_count": 53,
      "outputs": [
        {
          "output_type": "execute_result",
          "data": {
            "text/plain": [
              "<All keys matched successfully>"
            ]
          },
          "metadata": {
            "tags": []
          },
          "execution_count": 53
        }
      ]
    },
    {
      "cell_type": "code",
      "metadata": {
        "id": "uYPX3J37EhXN"
      },
      "source": [
        "with torch.no_grad():\n",
        "  preds = model(val_seq.to(device), val_mask.to(device), torch.from_numpy(val_X).to(device))\n",
        "  preds = preds.detach().cpu().numpy()"
      ],
      "execution_count": 54,
      "outputs": []
    },
    {
      "cell_type": "code",
      "metadata": {
        "colab": {
          "base_uri": "https://localhost:8080/"
        },
        "id": "w3A7upaCEn6v",
        "outputId": "bfbcd2dd-863d-4e65-8f26-4d8c15045ce3"
      },
      "source": [
        "preds = np.argmax(preds, axis = 1)\n",
        "print(classification_report(y_val_hate, preds))"
      ],
      "execution_count": 55,
      "outputs": [
        {
          "output_type": "stream",
          "text": [
            "              precision    recall  f1-score   support\n",
            "\n",
            "           0       0.76      0.77      0.77       270\n",
            "           1       0.43      0.42      0.42       110\n",
            "\n",
            "    accuracy                           0.67       380\n",
            "   macro avg       0.60      0.59      0.59       380\n",
            "weighted avg       0.67      0.67      0.67       380\n",
            "\n"
          ],
          "name": "stdout"
        }
      ]
    },
    {
      "cell_type": "code",
      "metadata": {
        "id": "r2urkeiRo-Gh"
      },
      "source": [
        "result_df = pd.DataFrame(preds, index = val_data_orig.index, columns=['hate'])\n",
        "result_df.index.name = 'Unique ID'\n",
        "result_df.to_csv('y_pred_val_hate.csv')"
      ],
      "execution_count": 56,
      "outputs": []
    },
    {
      "cell_type": "code",
      "metadata": {
        "id": "W-waVphmkjxn"
      },
      "source": [
        ""
      ],
      "execution_count": 56,
      "outputs": []
    },
    {
      "cell_type": "markdown",
      "metadata": {
        "id": "rh2nqgBVn2ba"
      },
      "source": [
        "**Test Set Code**"
      ]
    },
    {
      "cell_type": "markdown",
      "metadata": {
        "id": "YPclp-dPmijT"
      },
      "source": [
        "**Feature Engineering**"
      ]
    },
    {
      "cell_type": "code",
      "metadata": {
        "id": "alytyEZDmijV"
      },
      "source": [
        "from collections import defaultdict\n",
        "import ast\n",
        "mentions_dict = defaultdict(int)\n",
        "\n",
        "for index, row in train_val_data.iterrows():\n",
        "  if 'hate' in row['Labels Set']:\n",
        "    mentions = ast.literal_eval(row['mentions']) \n",
        "    for m in mentions:\n",
        "      mentions_dict[m]+=1\n"
      ],
      "execution_count": 57,
      "outputs": []
    },
    {
      "cell_type": "code",
      "metadata": {
        "id": "9xjsuoKWmijX"
      },
      "source": [
        "filtered_mentions_list = []\n",
        "\n",
        "for key, value in mentions_dict.items():\n",
        "  if value > 1:\n",
        "    filtered_mentions_list.append(key)"
      ],
      "execution_count": 58,
      "outputs": []
    },
    {
      "cell_type": "code",
      "metadata": {
        "id": "OTyttcG7mijY"
      },
      "source": [
        "mention_len = len(filtered_mentions_list)"
      ],
      "execution_count": 59,
      "outputs": []
    },
    {
      "cell_type": "code",
      "metadata": {
        "colab": {
          "base_uri": "https://localhost:8080/"
        },
        "id": "v3nZQZVrmijY",
        "outputId": "f73773d3-d672-490c-8f45-2380f7b4fae8"
      },
      "source": [
        "mention_len"
      ],
      "execution_count": 60,
      "outputs": [
        {
          "output_type": "execute_result",
          "data": {
            "text/plain": [
              "74"
            ]
          },
          "metadata": {
            "tags": []
          },
          "execution_count": 60
        }
      ]
    },
    {
      "cell_type": "code",
      "metadata": {
        "id": "QpiARPPSmijZ"
      },
      "source": [
        "hashtag_dict = defaultdict(int)\n",
        "\n",
        "for index, row in train_val_data.iterrows():\n",
        "  if 'hate' in row['Labels Set']:\n",
        "    mentions = ast.literal_eval(row['hashtags']) \n",
        "    for m in mentions:\n",
        "      hashtag_dict[m]+=1\n"
      ],
      "execution_count": 61,
      "outputs": []
    },
    {
      "cell_type": "code",
      "metadata": {
        "id": "9p6RXA4LmijZ"
      },
      "source": [
        "filtered_hashtag_list = []\n",
        "\n",
        "for key, value in hashtag_dict.items():\n",
        "  if value > 1:\n",
        "    filtered_hashtag_list.append(key)"
      ],
      "execution_count": 62,
      "outputs": []
    },
    {
      "cell_type": "code",
      "metadata": {
        "id": "WWGV0Q5ZmijZ"
      },
      "source": [
        "hash_len = len(filtered_hashtag_list)"
      ],
      "execution_count": 63,
      "outputs": []
    },
    {
      "cell_type": "code",
      "metadata": {
        "colab": {
          "base_uri": "https://localhost:8080/"
        },
        "id": "nHgXdIxPmijZ",
        "outputId": "4bbce04c-a640-432e-e557-6503a07b6e34"
      },
      "source": [
        "hash_len"
      ],
      "execution_count": 64,
      "outputs": [
        {
          "output_type": "execute_result",
          "data": {
            "text/plain": [
              "31"
            ]
          },
          "metadata": {
            "tags": []
          },
          "execution_count": 64
        }
      ]
    },
    {
      "cell_type": "code",
      "metadata": {
        "id": "G5U09aOkmija"
      },
      "source": [
        "emoji_dict = defaultdict(int)\n",
        "\n",
        "for index, row in train_val_data.iterrows():\n",
        "  if 'hate' in row['Labels Set']:\n",
        "    emojis = ast.literal_eval(row['emojis']) \n",
        "    for e in emojis:\n",
        "      emoji_dict[e]+=1\n"
      ],
      "execution_count": 65,
      "outputs": []
    },
    {
      "cell_type": "code",
      "metadata": {
        "id": "UsuC2Jtgmijb"
      },
      "source": [
        "filtered_emoji_list = []\n",
        "\n",
        "for key, value in emoji_dict.items():\n",
        "  if value > 3:\n",
        "    filtered_emoji_list.append(key)"
      ],
      "execution_count": 66,
      "outputs": []
    },
    {
      "cell_type": "code",
      "metadata": {
        "id": "GNEAL1SFmijb"
      },
      "source": [
        "emoji_len = len(filtered_emoji_list)"
      ],
      "execution_count": 67,
      "outputs": []
    },
    {
      "cell_type": "code",
      "metadata": {
        "colab": {
          "base_uri": "https://localhost:8080/"
        },
        "id": "dDEQj-kKmije",
        "outputId": "35e20a96-296c-4dd4-97b6-071b56424eb5"
      },
      "source": [
        "emoji_len"
      ],
      "execution_count": 68,
      "outputs": [
        {
          "output_type": "execute_result",
          "data": {
            "text/plain": [
              "26"
            ]
          },
          "metadata": {
            "tags": []
          },
          "execution_count": 68
        }
      ]
    },
    {
      "cell_type": "code",
      "metadata": {
        "id": "ocXTf-PCmijf"
      },
      "source": [
        "df = pd.read_csv('hate_words.csv', header=None)\n",
        "# hate_dict = dict(zip(df[0],df[1]))\n",
        "hate_dict = list(df[0])"
      ],
      "execution_count": 69,
      "outputs": []
    },
    {
      "cell_type": "code",
      "metadata": {
        "colab": {
          "base_uri": "https://localhost:8080/"
        },
        "id": "msE_6UwKmijf",
        "outputId": "3b07fc8b-c32c-4f06-ecbe-94058a35a367"
      },
      "source": [
        "hateness_len = len(hate_dict)\n",
        "print(hateness_len)"
      ],
      "execution_count": 70,
      "outputs": [
        {
          "output_type": "stream",
          "text": [
            "50\n"
          ],
          "name": "stdout"
        }
      ]
    },
    {
      "cell_type": "code",
      "metadata": {
        "id": "wsLMQ6fxmijf"
      },
      "source": [
        "offensive_words_list = ['कुत्ते','कुत्ते','कुतिया', 'कुते', 'कुत्ती', 'कुत्तों', 'कमीने', 'कमीना', 'कमीनी', 'साले', 'साला', 'साली', 'हरामी', 'हरामखोर', 'बहनचोद', 'बहिनचोद', 'भेंचो', 'मादरचोद', 'माचोद', 'चूतिये', 'चूतिया', 'चुत', 'चूत', 'लवड़ा', 'लंड', 'लन्ड', 'लँड', 'लण्ड', 'लौड़ा', 'लोडे', 'भड़वो', 'भड़ुआ', 'भड़ऊ', 'भड़वे', 'भड्वे', 'रन्डी', 'रांड', 'भोसड़ी', 'गांड', 'बेटीचोद', 'बेटिचोद', 'फट्टू', 'फुददू', 'फुद्दु', 'सुअर', 'झांट', 'ना󰀂ाय󰀂', 'टट्टी', 'ह󰀂󰀂󰀂डे', 'हुरो', 'गद्दार', 'सूअरों', 'हरामि', 'गाली', 'गॉड', 'रडुआ', 'लुच्चे', 'भड़वागिरी', 'बेवकूफ', 'कुत्तो', 'मूर्खों', 'बकवास', 'तब्लीघि', 'चोरी']"
      ],
      "execution_count": 71,
      "outputs": []
    },
    {
      "cell_type": "markdown",
      "metadata": {
        "id": "ZDeJe3vlmijg"
      },
      "source": [
        "**Function to Generate Features for the dataframe**"
      ]
    },
    {
      "cell_type": "code",
      "metadata": {
        "id": "jiBxyl2zmijg"
      },
      "source": [
        "def generate_matrix(data):\n",
        "  X = np.empty((0,  1 + emoji_len+hash_len + mention_len+ hateness_len+len(offensive_words_list)))\n",
        "\n",
        "  for index, row in data.iterrows():\n",
        "    x = np.zeros((1, 1))\n",
        "    x[0, 0] = 1  # Bias Unit\n",
        "\n",
        "    hateness = np.zeros((1,hateness_len))\n",
        "    for word in indic_tokenize.trivial_tokenize(row['Filtered_Post_Stopword_Removed'], lang='hi'):\n",
        "      if word in hate_dict:\n",
        "        hateness[0, hate_dict.index(word)] =1\n",
        "\n",
        "    # Offensive Words\n",
        "    offensive_word_count_x = np.zeros((1, len(offensive_words_list)))\n",
        "    for word in row['Filtered_Post_Stopword_Removed'].split(' '):\n",
        "      if word in offensive_words_list:\n",
        "        offensive_word_count_x[0,offensive_words_list.index(word)]= 1\n",
        "\n",
        "    hash_x = np.zeros((1, hash_len))\n",
        "    # Hashtags\n",
        "    for h in ast.literal_eval(row['hashtags']):\n",
        "      if h in filtered_hashtag_list:\n",
        "        hash_x[0, filtered_hashtag_list.index(h)] = 1\n",
        "\n",
        "    \n",
        "    mention_x = np.zeros((1, mention_len))\n",
        "    # Mentions\n",
        "    for h in ast.literal_eval(row['mentions']):\n",
        "      if m in filtered_mentions_list:\n",
        "        mention_x[0, filtered_mentions_list.index(m)] = 1\n",
        "\n",
        "    emoji_x = np.zeros((1, emoji_len))\n",
        "    # Emojis\n",
        "    for h in ast.literal_eval(row['emojis']):\n",
        "      if h in filtered_emoji_list:\n",
        "        emoji_x[0, filtered_emoji_list.index(h)] = 1\n",
        "\n",
        "    x = np.hstack((x, hateness, hash_x, mention_x, emoji_x, offensive_word_count_x))\n",
        "    X = np.vstack((X, x))\n",
        "  return X\n"
      ],
      "execution_count": 72,
      "outputs": []
    },
    {
      "cell_type": "code",
      "metadata": {
        "id": "2zIEe838mijh"
      },
      "source": [
        "train_val_X = generate_matrix(train_val_data)\n",
        "test_X = generate_matrix(test_data)"
      ],
      "execution_count": 73,
      "outputs": []
    },
    {
      "cell_type": "code",
      "metadata": {
        "id": "78G4yGr6mijh"
      },
      "source": [
        "train_val_y = np.empty((0, 5))\n",
        "for index, row in train_val_data.iterrows():\n",
        "  y = np.zeros((1, 5))\n",
        "  for label in row['Labels Set'].split(','):\n",
        "    y[0, labels_mapping[label]] = 1\n",
        "\n",
        "  train_val_y = np.vstack((train_val_y, y))"
      ],
      "execution_count": 74,
      "outputs": []
    },
    {
      "cell_type": "code",
      "metadata": {
        "id": "Q1wg4-78mijh"
      },
      "source": [
        "y_train_val_hate = train_val_y[:,2].astype(int)\n",
        "\n",
        "train_val_sentences = train_val_data['Post'].values\n",
        "test_sentences = test_data['Post'].values"
      ],
      "execution_count": 75,
      "outputs": []
    },
    {
      "cell_type": "markdown",
      "metadata": {
        "id": "nskHBYwOmijh"
      },
      "source": [
        "**BERT**"
      ]
    },
    {
      "cell_type": "code",
      "metadata": {
        "id": "Dah0GrQWmiji"
      },
      "source": [
        "bert = AutoModel.from_pretrained('ai4bharat/indic-bert')\n",
        "tokenizer = AutoTokenizer.from_pretrained('ai4bharat/indic-bert')"
      ],
      "execution_count": 76,
      "outputs": []
    },
    {
      "cell_type": "code",
      "metadata": {
        "colab": {
          "base_uri": "https://localhost:8080/"
        },
        "id": "UAyET284mijj",
        "outputId": "fac889bc-c8fa-4784-e2c6-eb9cddbd939e"
      },
      "source": [
        "tokens_train_val = tokenizer.batch_encode_plus(\n",
        "    train_val_sentences.tolist(),\n",
        "    max_length = 100,\n",
        "    pad_to_max_length=True,\n",
        "    truncation=True\n",
        ")\n",
        "\n",
        "tokens_test = tokenizer.batch_encode_plus(\n",
        "    test_sentences.tolist(),\n",
        "    max_length = 100,\n",
        "    pad_to_max_length=True,\n",
        "    truncation=True\n",
        ")"
      ],
      "execution_count": 77,
      "outputs": [
        {
          "output_type": "stream",
          "text": [
            "/usr/local/lib/python3.6/dist-packages/transformers/tokenization_utils_base.py:2179: FutureWarning: The `pad_to_max_length` argument is deprecated and will be removed in a future version, use `padding=True` or `padding='longest'` to pad to the longest sequence in the batch, or use `padding='max_length'` to pad to a max length. In this case, you can give a specific length with `max_length` (e.g. `max_length=45`) or leave max_length to None to pad to the maximal input size of the model (e.g. 512 for Bert).\n",
            "  FutureWarning,\n"
          ],
          "name": "stderr"
        }
      ]
    },
    {
      "cell_type": "code",
      "metadata": {
        "id": "aShADSqdmijj"
      },
      "source": [
        "train_val_seq = torch.tensor(tokens_train_val['input_ids'])\n",
        "train_val_mask = torch.tensor(tokens_train_val['attention_mask'])\n",
        "train_val_y = torch.tensor(y_train_val_hate.tolist())\n",
        "\n",
        "test_seq = torch.tensor(tokens_test['input_ids'])\n",
        "test_mask = torch.tensor(tokens_test['attention_mask'])"
      ],
      "execution_count": 78,
      "outputs": []
    },
    {
      "cell_type": "code",
      "metadata": {
        "id": "mEu1_JMVmijj"
      },
      "source": [
        "from torch.utils.data import TensorDataset, DataLoader, RandomSampler, SequentialSampler\n",
        "\n",
        "#define a batch size\n",
        "batch_size = 4\n",
        "\n",
        "# wrap tensors\n",
        "train_val_data = TensorDataset(train_val_seq, train_val_mask, train_val_y)\n",
        "\n",
        "# sampler for sampling the data during training\n",
        "train_val_sampler = SequentialSampler(train_val_data)\n",
        "\n",
        "# dataLoader for train set\n",
        "train_val_dataloader = DataLoader(train_val_data, sampler=train_val_sampler, batch_size=batch_size)\n",
        "train_val_other_ft_dataloader = DataLoader(train_val_X, sampler=train_val_sampler, batch_size=batch_size)\n",
        "# wrap tensors\n",
        "test_data = TensorDataset(test_seq, test_mask)\n",
        "\n",
        "# sampler for sampling the data during training\n",
        "test_sampler = SequentialSampler(test_data)\n",
        "\n",
        "# dataLoader for test set\n",
        "test_dataloader = DataLoader(test_data, sampler = test_sampler, batch_size=batch_size)\n",
        "test_other_ft_dataloader = DataLoader(test_X, sampler=test_sampler, batch_size=batch_size)"
      ],
      "execution_count": 79,
      "outputs": []
    },
    {
      "cell_type": "code",
      "metadata": {
        "id": "sJop_4Gnmijj"
      },
      "source": [
        "for param in bert.parameters():\n",
        "    param.requires_grad = False"
      ],
      "execution_count": 80,
      "outputs": []
    },
    {
      "cell_type": "markdown",
      "metadata": {
        "id": "7v7WxseDmijj"
      },
      "source": [
        "**Pytorch Model Definition**"
      ]
    },
    {
      "cell_type": "code",
      "metadata": {
        "id": "jMBfnVi4mijj"
      },
      "source": [
        "class BERT_Arch(nn.Module):\n",
        "\n",
        "    def __init__(self, bert):\n",
        "      \n",
        "      super(BERT_Arch, self).__init__()\n",
        "\n",
        "      self.bert = bert \n",
        "      \n",
        "      # dropout layer\n",
        "      self.dropout = nn.Dropout(0.1)\n",
        "      \n",
        "      # relu activation function\n",
        "      self.relu =  nn.ReLU()\n",
        "\n",
        "      # dense layer 1\n",
        "      self.fc1 = nn.Linear(768+1+ hateness_len+ mention_len+hash_len+emoji_len+len(offensive_words_list),512)\n",
        "      \n",
        "      # dense layer 2 (Output layer)\n",
        "      self.fc2 = nn.Linear(512,2)\n",
        "\n",
        "      #softmax activation function\n",
        "      self.softmax = nn.LogSoftmax(dim=1)\n",
        "\n",
        "    #define the forward pass\n",
        "    def forward(self, sent_id, mask, other_ft):\n",
        "      other_ft = other_ft.float()\n",
        "      #pass the inputs to the model\n",
        "      state= self.bert(sent_id, attention_mask=mask)\n",
        "      cls_hs = state.pooler_output\n",
        "      x = self.fc1(torch.hstack((cls_hs, other_ft)))\n",
        "      x = self.relu(x)\n",
        "\n",
        "      if self.train():\n",
        "        x = self.dropout(x)\n",
        "\n",
        "      # output layer\n",
        "      x = self.fc2(x)\n",
        "      \n",
        "      # apply softmax activation\n",
        "      x = self.softmax(x)\n",
        "\n",
        "      return x"
      ],
      "execution_count": 81,
      "outputs": []
    },
    {
      "cell_type": "code",
      "metadata": {
        "id": "dWhIUqNpmijk"
      },
      "source": [
        "# pass the pre-trained BERT to our define architecture\n",
        "model = BERT_Arch(bert)\n",
        "\n",
        "# push the model to GPU\n",
        "model = model.to(device)"
      ],
      "execution_count": 82,
      "outputs": []
    },
    {
      "cell_type": "code",
      "metadata": {
        "id": "777bvWbfmijk"
      },
      "source": [
        "from transformers import AdamW\n",
        "\n",
        "# define the optimizer\n",
        "optimizer = AdamW(model.parameters(),\n",
        "                  lr = 1e-3)          # learning rate"
      ],
      "execution_count": 83,
      "outputs": []
    },
    {
      "cell_type": "code",
      "metadata": {
        "colab": {
          "base_uri": "https://localhost:8080/"
        },
        "id": "nDX0oY9hmijk",
        "outputId": "1625b84b-65e7-4e63-ef74-030fd3783a66"
      },
      "source": [
        "from sklearn.utils.class_weight import compute_class_weight\n",
        "\n",
        "#compute the class weights\n",
        "class_weights = compute_class_weight('balanced', np.unique(y_train_hate), y_train_hate)\n",
        "\n",
        "print(\"Class Weights:\",class_weights)"
      ],
      "execution_count": 84,
      "outputs": [
        {
          "output_type": "stream",
          "text": [
            "Class Weights: [0.70996819 1.69065657]\n"
          ],
          "name": "stdout"
        }
      ]
    },
    {
      "cell_type": "code",
      "metadata": {
        "id": "cfqoROhmmijk"
      },
      "source": [
        "# converting list of class weights to a tensor\n",
        "weights= torch.tensor(class_weights,dtype=torch.float)\n",
        "\n",
        "# push to GPU\n",
        "weights = weights.to(device)\n",
        "\n",
        "# define the loss function\n",
        "cross_entropy  = nn.CrossEntropyLoss(weight=weights) \n",
        "\n",
        "# number of training epochs\n",
        "epochs = 10"
      ],
      "execution_count": 85,
      "outputs": []
    },
    {
      "cell_type": "markdown",
      "metadata": {
        "id": "7vokT0sHlOyy"
      },
      "source": [
        "**Training Loop for test set**"
      ]
    },
    {
      "cell_type": "code",
      "metadata": {
        "id": "fKxWuXzOlOy0"
      },
      "source": [
        "epoch = 30\n",
        "optimizer = AdamW(model.parameters(),\n",
        "                  lr = 2e-5)   "
      ],
      "execution_count": 86,
      "outputs": []
    },
    {
      "cell_type": "code",
      "metadata": {
        "colab": {
          "base_uri": "https://localhost:8080/"
        },
        "id": "L3AX1v1nlOy1",
        "outputId": "8f8fffbf-2990-4937-da43-971bcc355ee3"
      },
      "source": [
        "# set initial loss to infinite\n",
        "best_valid_loss = float('inf')\n",
        "\n",
        "# empty lists to store training and validation loss of each epoch\n",
        "train_losses=[]\n",
        "valid_losses=[]\n",
        "\n",
        "#for each epoch\n",
        "for epoch in range(epochs):\n",
        "     \n",
        "    print('\\n Epoch {:} / {:}'.format(epoch + 1, epochs))\n",
        "    \n",
        "    #train model\n",
        "    train_loss, _ = train_fn()\n",
        "    \n",
        "\n",
        "    torch.save(model.state_dict(), 'saved_weights_test.pt')\n",
        "    \n",
        "    # append training and validation loss\n",
        "    train_losses.append(train_loss)\n",
        "    \n",
        "    print(f'\\nTraining Loss: {train_loss:.3f}')"
      ],
      "execution_count": 121,
      "outputs": [
        {
          "output_type": "stream",
          "text": [
            "\n",
            " Epoch 1 / 10\n",
            "  Batch    50  of    764.\n",
            "  Batch   100  of    764.\n",
            "  Batch   150  of    764.\n",
            "  Batch   200  of    764.\n",
            "  Batch   250  of    764.\n",
            "  Batch   300  of    764.\n",
            "  Batch   350  of    764.\n",
            "  Batch   400  of    764.\n",
            "  Batch   450  of    764.\n",
            "  Batch   500  of    764.\n",
            "  Batch   550  of    764.\n",
            "  Batch   600  of    764.\n",
            "  Batch   650  of    764.\n",
            "  Batch   700  of    764.\n",
            "  Batch   750  of    764.\n",
            "\n",
            "Training Loss: 0.606\n",
            "\n",
            " Epoch 2 / 10\n",
            "  Batch    50  of    764.\n",
            "  Batch   100  of    764.\n",
            "  Batch   150  of    764.\n",
            "  Batch   200  of    764.\n",
            "  Batch   250  of    764.\n",
            "  Batch   300  of    764.\n",
            "  Batch   350  of    764.\n",
            "  Batch   400  of    764.\n",
            "  Batch   450  of    764.\n",
            "  Batch   500  of    764.\n",
            "  Batch   550  of    764.\n",
            "  Batch   600  of    764.\n",
            "  Batch   650  of    764.\n",
            "  Batch   700  of    764.\n",
            "  Batch   750  of    764.\n",
            "\n",
            "Training Loss: 0.604\n",
            "\n",
            " Epoch 3 / 10\n",
            "  Batch    50  of    764.\n",
            "  Batch   100  of    764.\n",
            "  Batch   150  of    764.\n",
            "  Batch   200  of    764.\n",
            "  Batch   250  of    764.\n",
            "  Batch   300  of    764.\n",
            "  Batch   350  of    764.\n",
            "  Batch   400  of    764.\n",
            "  Batch   450  of    764.\n",
            "  Batch   500  of    764.\n",
            "  Batch   550  of    764.\n",
            "  Batch   600  of    764.\n",
            "  Batch   650  of    764.\n",
            "  Batch   700  of    764.\n",
            "  Batch   750  of    764.\n",
            "\n",
            "Training Loss: 0.602\n",
            "\n",
            " Epoch 4 / 10\n",
            "  Batch    50  of    764.\n",
            "  Batch   100  of    764.\n",
            "  Batch   150  of    764.\n",
            "  Batch   200  of    764.\n",
            "  Batch   250  of    764.\n",
            "  Batch   300  of    764.\n",
            "  Batch   350  of    764.\n",
            "  Batch   400  of    764.\n",
            "  Batch   450  of    764.\n",
            "  Batch   500  of    764.\n",
            "  Batch   550  of    764.\n",
            "  Batch   600  of    764.\n",
            "  Batch   650  of    764.\n",
            "  Batch   700  of    764.\n",
            "  Batch   750  of    764.\n",
            "\n",
            "Training Loss: 0.601\n",
            "\n",
            " Epoch 5 / 10\n",
            "  Batch    50  of    764.\n",
            "  Batch   100  of    764.\n",
            "  Batch   150  of    764.\n",
            "  Batch   200  of    764.\n",
            "  Batch   250  of    764.\n",
            "  Batch   300  of    764.\n",
            "  Batch   350  of    764.\n",
            "  Batch   400  of    764.\n",
            "  Batch   450  of    764.\n",
            "  Batch   500  of    764.\n",
            "  Batch   550  of    764.\n",
            "  Batch   600  of    764.\n",
            "  Batch   650  of    764.\n",
            "  Batch   700  of    764.\n",
            "  Batch   750  of    764.\n",
            "\n",
            "Training Loss: 0.600\n",
            "\n",
            " Epoch 6 / 10\n",
            "  Batch    50  of    764.\n",
            "  Batch   100  of    764.\n",
            "  Batch   150  of    764.\n",
            "  Batch   200  of    764.\n",
            "  Batch   250  of    764.\n",
            "  Batch   300  of    764.\n",
            "  Batch   350  of    764.\n",
            "  Batch   400  of    764.\n",
            "  Batch   450  of    764.\n",
            "  Batch   500  of    764.\n",
            "  Batch   550  of    764.\n",
            "  Batch   600  of    764.\n",
            "  Batch   650  of    764.\n",
            "  Batch   700  of    764.\n",
            "  Batch   750  of    764.\n",
            "\n",
            "Training Loss: 0.599\n",
            "\n",
            " Epoch 7 / 10\n",
            "  Batch    50  of    764.\n",
            "  Batch   100  of    764.\n",
            "  Batch   150  of    764.\n",
            "  Batch   200  of    764.\n",
            "  Batch   250  of    764.\n",
            "  Batch   300  of    764.\n",
            "  Batch   350  of    764.\n",
            "  Batch   400  of    764.\n",
            "  Batch   450  of    764.\n",
            "  Batch   500  of    764.\n",
            "  Batch   550  of    764.\n",
            "  Batch   600  of    764.\n",
            "  Batch   650  of    764.\n",
            "  Batch   700  of    764.\n",
            "  Batch   750  of    764.\n",
            "\n",
            "Training Loss: 0.598\n",
            "\n",
            " Epoch 8 / 10\n",
            "  Batch    50  of    764.\n",
            "  Batch   100  of    764.\n",
            "  Batch   150  of    764.\n",
            "  Batch   200  of    764.\n",
            "  Batch   250  of    764.\n",
            "  Batch   300  of    764.\n",
            "  Batch   350  of    764.\n",
            "  Batch   400  of    764.\n",
            "  Batch   450  of    764.\n",
            "  Batch   500  of    764.\n",
            "  Batch   550  of    764.\n",
            "  Batch   600  of    764.\n",
            "  Batch   650  of    764.\n",
            "  Batch   700  of    764.\n",
            "  Batch   750  of    764.\n",
            "\n",
            "Training Loss: 0.596\n",
            "\n",
            " Epoch 9 / 10\n",
            "  Batch    50  of    764.\n",
            "  Batch   100  of    764.\n",
            "  Batch   150  of    764.\n",
            "  Batch   200  of    764.\n",
            "  Batch   250  of    764.\n",
            "  Batch   300  of    764.\n",
            "  Batch   350  of    764.\n",
            "  Batch   400  of    764.\n",
            "  Batch   450  of    764.\n",
            "  Batch   500  of    764.\n",
            "  Batch   550  of    764.\n",
            "  Batch   600  of    764.\n",
            "  Batch   650  of    764.\n",
            "  Batch   700  of    764.\n",
            "  Batch   750  of    764.\n",
            "\n",
            "Training Loss: 0.595\n",
            "\n",
            " Epoch 10 / 10\n",
            "  Batch    50  of    764.\n",
            "  Batch   100  of    764.\n",
            "  Batch   150  of    764.\n",
            "  Batch   200  of    764.\n",
            "  Batch   250  of    764.\n",
            "  Batch   300  of    764.\n",
            "  Batch   350  of    764.\n",
            "  Batch   400  of    764.\n",
            "  Batch   450  of    764.\n",
            "  Batch   500  of    764.\n",
            "  Batch   550  of    764.\n",
            "  Batch   600  of    764.\n",
            "  Batch   650  of    764.\n",
            "  Batch   700  of    764.\n",
            "  Batch   750  of    764.\n",
            "\n",
            "Training Loss: 0.595\n"
          ],
          "name": "stdout"
        }
      ]
    },
    {
      "cell_type": "code",
      "metadata": {
        "colab": {
          "base_uri": "https://localhost:8080/",
          "height": 282
        },
        "id": "KOeee-NilOy3",
        "outputId": "57bd4c93-a29f-44ee-92e4-f1381846482d"
      },
      "source": [
        "import matplotlib.pyplot as plt\n",
        "plt.plot(train_losses)"
      ],
      "execution_count": 122,
      "outputs": [
        {
          "output_type": "execute_result",
          "data": {
            "text/plain": [
              "[<matplotlib.lines.Line2D at 0x7f48078697f0>]"
            ]
          },
          "metadata": {
            "tags": []
          },
          "execution_count": 122
        },
        {
          "output_type": "display_data",
          "data": {
            "image/png": "[encoded data removed]",
            "text/plain": [
              "<Figure size 432x288 with 1 Axes>"
            ]
          },
          "metadata": {
            "tags": [],
            "needs_background": "light"
          }
        }
      ]
    },
    {
      "cell_type": "code",
      "metadata": {
        "colab": {
          "base_uri": "https://localhost:8080/"
        },
        "id": "U2yKdVphlOy5",
        "outputId": "32b79410-d294-46c6-f5d3-ef50707480d4"
      },
      "source": [
        "path = 'saved_weights_test.pt'\n",
        "model.load_state_dict(torch.load(path))"
      ],
      "execution_count": 123,
      "outputs": [
        {
          "output_type": "execute_result",
          "data": {
            "text/plain": [
              "<All keys matched successfully>"
            ]
          },
          "metadata": {
            "tags": []
          },
          "execution_count": 123
        }
      ]
    },
    {
      "cell_type": "code",
      "metadata": {
        "id": "1SeS8_XMlOy6"
      },
      "source": [
        "with torch.no_grad():\n",
        "  preds = model(test_seq.to(device), test_mask.to(device), torch.from_numpy(test_X).to(device))\n",
        "  preds = preds.detach().cpu().numpy()"
      ],
      "execution_count": 124,
      "outputs": []
    },
    {
      "cell_type": "code",
      "metadata": {
        "id": "n5l2giphlOy6"
      },
      "source": [
        "preds = np.argmax(preds, axis = 1)"
      ],
      "execution_count": 125,
      "outputs": []
    },
    {
      "cell_type": "code",
      "metadata": {
        "id": "cVQUIQA5lOy7"
      },
      "source": [
        "result_df = pd.DataFrame(preds, index = test_data.index, columns=['hate'])\n",
        "result_df.index.name = 'Unique ID'\n",
        "result_df.to_csv('y_pred_test_hate.csv')"
      ],
      "execution_count": 126,
      "outputs": []
    },
    {
      "cell_type": "code",
      "metadata": {
        "id": "d9aZQ2FHq5QL"
      },
      "source": [
        ""
      ],
      "execution_count": 126,
      "outputs": []
    }
  ]
}